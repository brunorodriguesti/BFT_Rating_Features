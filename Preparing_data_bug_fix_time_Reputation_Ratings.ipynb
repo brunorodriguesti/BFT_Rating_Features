{
  "cells": [
    {
      "cell_type": "markdown",
      "metadata": {
        "id": "view-in-github",
        "colab_type": "text"
      },
      "source": [
        "<a href=\"https://colab.research.google.com/github/brunorodriguesti/BFT_Rating_Features/blob/main/Preparing_data_bug_fix_time_Reputation_Ratings.ipynb\" target=\"_parent\"><img src=\"https://colab.research.google.com/assets/colab-badge.svg\" alt=\"Open In Colab\"/></a>"
      ]
    },
    {
      "cell_type": "code",
      "execution_count": null,
      "metadata": {
        "colab": {
          "base_uri": "https://localhost:8080/"
        },
        "id": "2jYhOYH44MSG",
        "outputId": "c07e820a-3dbc-4acf-9535-e926ae6e0b8d"
      },
      "outputs": [
        {
          "output_type": "stream",
          "name": "stdout",
          "text": [
            "Mounted at /content/gdrive\n"
          ]
        }
      ],
      "source": [
        "from google.colab import drive\n",
        "drive.mount('/content/gdrive')"
      ]
    },
    {
      "cell_type": "code",
      "execution_count": null,
      "metadata": {
        "colab": {
          "base_uri": "https://localhost:8080/"
        },
        "id": "ctrnxQMl7RGG",
        "outputId": "8bbea170-fc34-4aad-a8e1-4f7926e5a044"
      },
      "outputs": [
        {
          "output_type": "stream",
          "name": "stdout",
          "text": [
            "/content/gdrive/My Drive\n"
          ]
        }
      ],
      "source": [
        "cd /content/gdrive/My Drive/"
      ]
    },
    {
      "cell_type": "code",
      "execution_count": null,
      "metadata": {
        "colab": {
          "base_uri": "https://localhost:8080/"
        },
        "id": "_k5ye4-Z7gax",
        "outputId": "0d7f0be4-e1fb-405f-fa61-4525fd475c4c"
      },
      "outputs": [
        {
          "output_type": "stream",
          "name": "stdout",
          "text": [
            "/content/gdrive/My Drive/Colab Notebooks\n"
          ]
        }
      ],
      "source": [
        "cd Colab\\ Notebooks"
      ]
    },
    {
      "cell_type": "code",
      "execution_count": null,
      "metadata": {
        "id": "_ss567U68J44"
      },
      "outputs": [],
      "source": [
        "import pandas as pd\n",
        "import numpy as np\n",
        "import matplotlib.pyplot as plt\n",
        "import datetime\n",
        "import nltk\n",
        "from sklearn.feature_selection import chi2"
      ]
    },
    {
      "cell_type": "code",
      "execution_count": null,
      "metadata": {
        "id": "y-ISK-E4v4H9"
      },
      "outputs": [],
      "source": [
        "dataset = 'N'\n",
        "#dataset = 'E'\n",
        "#Eclipse Product\n",
        "#Eclipse Plataform = cod 1\n",
        "#Eclipse JDT = cod 3\n",
        "#Eclipse birt = cod 24\n",
        "#Eclipse PDE = cod 2\n",
        "#product = 1\n"
      ]
    },
    {
      "cell_type": "code",
      "execution_count": null,
      "metadata": {
        "colab": {
          "base_uri": "https://localhost:8080/"
        },
        "id": "00CW7EHG8cax",
        "outputId": "ac8590fc-2226-4c92-d8f5-c1d31aeea1a3"
      },
      "outputs": [
        {
          "output_type": "stream",
          "name": "stdout",
          "text": [
            "Netbeans loaded\n"
          ]
        }
      ],
      "source": [
        "#Select the dataset\n",
        "nameDataset=\"\"\n",
        "if dataset == 'N':\n",
        "  data_bug = pd.read_csv('/content/gdrive/My Drive/Colab Notebooks/netbeans-dataset.csv', low_memory=False)\n",
        "  nameDataset='NetBeans'\n",
        "  print('Netbeans loaded')\n",
        "\n",
        "else:\n",
        "  data_bug = pd.read_csv('/content/gdrive/My Drive/Colab Notebooks/eclipse_dataset.csv', low_memory=False)\n",
        "  nameDataset='Eclipse'\n",
        "  print('Eclipse loaded')\n"
      ]
    },
    {
      "cell_type": "code",
      "execution_count": null,
      "metadata": {
        "id": "UNMZc7cJuAC6"
      },
      "outputs": [],
      "source": [
        "data_bug['year_creation'] = pd.to_numeric(pd.DatetimeIndex(data_bug['creation_ts']).year)\n",
        "data_bug['year_creation_n'] = pd.to_datetime(data_bug['creation_ts']).dt.to_period('Y')\n",
        "data_bug['month_creation'] = pd.DatetimeIndex(data_bug['creation_ts']).month\n",
        "data_bug['year_lastdiffed'] = pd.DatetimeIndex(data_bug['lastdiffed']).year\n",
        "data_bug['month_lastdiffed'] = pd.DatetimeIndex(data_bug['lastdiffed']).month\n",
        "bugfix = data_bug[(data_bug['resolution'] == 'FIXED') & (data_bug['lastdiffed'].notna())]"
      ]
    },
    {
      "cell_type": "code",
      "execution_count": null,
      "metadata": {
        "colab": {
          "base_uri": "https://localhost:8080/"
        },
        "id": "hKwCALlTEcv6",
        "outputId": "3bb059db-5633-470f-c2f5-60f31333d5dc"
      },
      "outputs": [
        {
          "output_type": "execute_result",
          "data": {
            "text/plain": [
              "['bug_id',\n",
              " 'assigned_to',\n",
              " 'bug_severity',\n",
              " 'priority',\n",
              " 'bug_status',\n",
              " 'creation_ts',\n",
              " 'delta_ts',\n",
              " 'short_desc',\n",
              " 'short_desc.1',\n",
              " 'comments',\n",
              " 'op_sys',\n",
              " 'rep_platform',\n",
              " 'reporter',\n",
              " 'version',\n",
              " 'resolution',\n",
              " 'lastdiffed',\n",
              " 'estimated_time',\n",
              " 'product_id',\n",
              " 'component_id',\n",
              " 'days',\n",
              " 'year_creation',\n",
              " 'year_creation_n',\n",
              " 'month_creation',\n",
              " 'year_lastdiffed',\n",
              " 'month_lastdiffed']"
            ]
          },
          "metadata": {},
          "execution_count": 9
        }
      ],
      "source": [
        "list(data_bug)"
      ]
    },
    {
      "cell_type": "code",
      "execution_count": null,
      "metadata": {
        "id": "fJsIAYoi_UoV"
      },
      "outputs": [],
      "source": [
        "data_bug['creation_s'] = pd.to_datetime(data_bug['creation_ts']).dt.date"
      ]
    },
    {
      "cell_type": "code",
      "source": [
        "data_bug['creation_s']"
      ],
      "metadata": {
        "colab": {
          "base_uri": "https://localhost:8080/"
        },
        "id": "hNCPW6ArkJcj",
        "outputId": "8940e275-4b78-415b-fe95-e577d2a021ec"
      },
      "execution_count": null,
      "outputs": [
        {
          "output_type": "execute_result",
          "data": {
            "text/plain": [
              "0        2009-11-07\n",
              "1        2009-11-08\n",
              "2        2009-11-08\n",
              "3        2009-11-08\n",
              "4        2009-11-08\n",
              "            ...    \n",
              "12086    2010-06-29\n",
              "12087    2010-06-29\n",
              "12088    2010-06-29\n",
              "12089    2010-06-29\n",
              "12090    2010-06-29\n",
              "Name: creation_s, Length: 12091, dtype: object"
            ]
          },
          "metadata": {},
          "execution_count": 9
        }
      ]
    },
    {
      "cell_type": "code",
      "execution_count": null,
      "metadata": {
        "colab": {
          "base_uri": "https://localhost:8080/"
        },
        "id": "RVfuv6CLxV1U",
        "outputId": "10d68414-ba4c-4667-8b45-e10cbacb1c87"
      },
      "outputs": [
        {
          "output_type": "stream",
          "name": "stdout",
          "text": [
            "Dataset selected NetBeans\n"
          ]
        }
      ],
      "source": [
        "#Eclipse\n",
        "if dataset == 'E':\n",
        "  if product == 1:\n",
        "    # Eclipse Plataform = cod 1\n",
        "    data_bug = data_bug[data_bug['product_id']==1]\n",
        "    nameDataset= 'Eclipse_Plataform'\n",
        "  elif product == 3:\n",
        "    #Eclipse JDT = cod 3\n",
        "    data_bug = data_bug[data_bug['product_id']==3]\n",
        "    nameDataset = 'Eclipse_JDT'\n",
        "  elif product == 24:\n",
        "    #Eclipse birt = cod 24\n",
        "    data_bug = data_bug[data_bug['product_id']==24]\n",
        "    nameDataset = 'Eclipse_Birt'\n",
        "  elif product == 2:\n",
        "    #Eclipse PDE = cod 2\n",
        "    data_bug = data_bug[data_bug['product_id']==2]\n",
        "    nameDataset = 'Eclipse_PDE'\n",
        "  else:\n",
        "    print('Select a product for Eclipse')\n",
        "print ('Dataset selected '+ nameDataset)\n",
        "treatOutlier = False\n"
      ]
    },
    {
      "cell_type": "code",
      "source": [
        "if dataset != 'N':\n",
        "  data_bug = data_bug.loc[data_bug['year_creation'].isin([2008, 2009, 2010])]"
      ],
      "metadata": {
        "id": "7BKtlriWwfSu"
      },
      "execution_count": null,
      "outputs": []
    },
    {
      "cell_type": "code",
      "source": [
        "data_bug['year_creation'].value_counts()"
      ],
      "metadata": {
        "colab": {
          "base_uri": "https://localhost:8080/"
        },
        "id": "FdLVNnUeGGL4",
        "outputId": "12595852-d3b4-4833-9ae2-32461eeec521"
      },
      "execution_count": null,
      "outputs": [
        {
          "output_type": "execute_result",
          "data": {
            "text/plain": [
              "2010    9042\n",
              "2009    3049\n",
              "Name: year_creation, dtype: int64"
            ]
          },
          "metadata": {},
          "execution_count": 12
        }
      ]
    },
    {
      "cell_type": "markdown",
      "metadata": {
        "id": "CHSk4Kamzp1Y"
      },
      "source": [
        "#Reputation"
      ]
    },
    {
      "cell_type": "code",
      "execution_count": null,
      "metadata": {
        "id": "du_YNfct1GZj"
      },
      "outputs": [],
      "source": [
        "lista_reputation_user = []\n",
        "def reputation_calculate(index, bug_id, user, resolution, reputacao):\n",
        "  added = 0\n",
        "  if len(lista_reputation_user ) == 0:\n",
        "    reputation_dic = {}\n",
        "    reputation_dic['index']=index\n",
        "    reputation_dic['user'] = user\n",
        "    reputation_dic['resolution'] = resolution\n",
        "    reputation_dic['opened'] = 1\n",
        "    if resolution == 'FIXED':\n",
        "      reputation_dic['fixed'] = 1\n",
        "    else:\n",
        "      reputation_dic['fixed'] = 0\n",
        "    reputation_dic['reputation']= 0\n",
        "    lista_reputation_user.append(reputation_dic.copy())\n",
        "    return reputation_dic['reputation']\n",
        "\n",
        "\n",
        "\n",
        "  for lista in lista_reputation_user :\n",
        "    if lista['user'] == user:\n",
        "      index_aux= lista['index']\n",
        "      opened = lista['opened']\n",
        "      fixed = lista['fixed']\n",
        "      lista_reputation_user[index_aux]['opened'] = lista['opened']+1\n",
        "\n",
        "\n",
        "      if resolution == 'FIXED':\n",
        "        lista_reputation_user[index_aux]['fixed']= lista['fixed']+1\n",
        "      else:\n",
        "        lista_reputation_user[index_aux]['fixed']= lista['fixed']\n",
        "\n",
        "\n",
        "      reputacao = fixed/ (opened+1)\n",
        "      lista_reputation_user[index_aux]['reputacao']=reputacao\n",
        "      return reputacao\n",
        "\n",
        "\n",
        "  for lista in lista_reputation_user :\n",
        "    reputation_dic = {}\n",
        "    reputation_dic['index']=index\n",
        "    reputation_dic['user'] = user\n",
        "    reputation_dic['resolution'] = resolution\n",
        "    reputation_dic['opened'] = 1\n",
        "    if resolution == 'FIXED':\n",
        "      reputation_dic['fixed'] = 1\n",
        "    else:\n",
        "      reputation_dic['fixed'] = 0\n",
        "    reputation_dic['reputation']= 0\n",
        "    lista_reputation_user.append(reputation_dic.copy())\n",
        "    return reputation_dic['reputation']\n"
      ]
    },
    {
      "cell_type": "code",
      "execution_count": null,
      "metadata": {
        "id": "mXn3Vbsu5Ahb"
      },
      "outputs": [],
      "source": [
        "data_bug['reporter_reputation_new']=0\n",
        "data_bug['developer_reputation']=0"
      ]
    },
    {
      "cell_type": "code",
      "execution_count": null,
      "metadata": {
        "colab": {
          "base_uri": "https://localhost:8080/"
        },
        "id": "MGIWhrMb3que",
        "outputId": "78ddab23-8bd4-4c82-a9a2-ac53173ee839"
      },
      "outputs": [
        {
          "output_type": "stream",
          "name": "stdout",
          "text": [
            "Start reporter reputation calculate number of bugs12091\n",
            "End reporter reputation calculate\n"
          ]
        }
      ],
      "source": [
        "#New reputation\n",
        "lista_reputation_user.clear\n",
        "i=0\n",
        "index=0\n",
        "print('Start reporter reputation calculate number of bugs' + str(data_bug.shape[0]))\n",
        "for indexz, bug in data_bug.iterrows() :\n",
        "   reputataion_var = reputation_calculate(index, bug['bug_id'], bug['reporter'], bug['resolution'], bug['reporter_reputation_new'])\n",
        "   index= len(lista_reputation_user)\n",
        "   data_bug.loc[indexz, 'reporter_reputation_new'] = reputataion_var\n",
        "   i=i+1\n",
        "\n",
        "print ('End reporter reputation calculate')\n",
        "\n"
      ]
    },
    {
      "cell_type": "code",
      "execution_count": null,
      "metadata": {
        "id": "kIO3gApV5NoL"
      },
      "outputs": [],
      "source": []
    },
    {
      "cell_type": "code",
      "execution_count": null,
      "metadata": {
        "colab": {
          "base_uri": "https://localhost:8080/"
        },
        "id": "qy-tmZlaXakw",
        "outputId": "b71fb978-7172-463a-fb43-7f2621f205b5"
      },
      "outputs": [
        {
          "output_type": "stream",
          "name": "stdout",
          "text": [
            "Start developer reputation calculate number of bugs12091\n",
            "End developer reputation calculate\n"
          ]
        }
      ],
      "source": [
        "lista_reputation_user.clear\n",
        "index=0\n",
        "i=0\n",
        "print('Start developer reputation calculate number of bugs' + str(data_bug.shape[0]))\n",
        "for indexz, bug in data_bug.iterrows() :\n",
        "   reputataion_var = reputation_calculate(index, bug['bug_id'], bug['assigned_to'], bug['resolution'], bug['developer_reputation'])\n",
        "   data_bug.loc[indexz, 'developer_reputation_new'] = reputataion_var\n",
        "   i=i+1\n",
        "\n",
        "print ('End developer reputation calculate')\n",
        "lista_reputation_user.clear\n",
        "index=0\n",
        "i=0\n"
      ]
    },
    {
      "cell_type": "code",
      "execution_count": null,
      "metadata": {
        "id": "YsjGRQn1F288",
        "colab": {
          "base_uri": "https://localhost:8080/",
          "height": 424
        },
        "outputId": "2b8b2dcc-4f08-4621-9e70-6f20326fd6bf"
      },
      "outputs": [
        {
          "output_type": "execute_result",
          "data": {
            "text/plain": [
              "       bug_id  resolution  assigned_to  developer_reputation  \\\n",
              "0      176097       FIXED        79117                     0   \n",
              "1      176098     INVALID          186                     0   \n",
              "2      176099         NaN          201                     0   \n",
              "3      176100         NaN          526                     0   \n",
              "4      176101  WORKSFORME          503                     0   \n",
              "...       ...         ...          ...                   ...   \n",
              "12086  188183         NaN           23                     0   \n",
              "12087  188184         NaN          164                     0   \n",
              "12088  188185         NaN          236                     0   \n",
              "12089  188186         NaN          172                     0   \n",
              "12090  188187         NaN          495                     0   \n",
              "\n",
              "       developer_reputation_new  reporter  reporter_reputation_new  \n",
              "0                      0.454545     79117                 0.000000  \n",
              "1                      0.664062       182                 0.000000  \n",
              "2                      0.565217       201                 0.000000  \n",
              "3                      0.000000     79117                 0.500000  \n",
              "4                      0.000000     88459                 0.000000  \n",
              "...                         ...       ...                      ...  \n",
              "12086                  0.527675        23                 0.493902  \n",
              "12087                  0.500000       524                 0.538889  \n",
              "12088                  0.000000     92280                 0.000000  \n",
              "12089                  0.000000     90793                 0.000000  \n",
              "12090                  0.000000       249                 0.608696  \n",
              "\n",
              "[12091 rows x 7 columns]"
            ],
            "text/html": [
              "\n",
              "  <div id=\"df-9e36c5e8-9995-4c5f-ad5a-ecdc751d8e3d\">\n",
              "    <div class=\"colab-df-container\">\n",
              "      <div>\n",
              "<style scoped>\n",
              "    .dataframe tbody tr th:only-of-type {\n",
              "        vertical-align: middle;\n",
              "    }\n",
              "\n",
              "    .dataframe tbody tr th {\n",
              "        vertical-align: top;\n",
              "    }\n",
              "\n",
              "    .dataframe thead th {\n",
              "        text-align: right;\n",
              "    }\n",
              "</style>\n",
              "<table border=\"1\" class=\"dataframe\">\n",
              "  <thead>\n",
              "    <tr style=\"text-align: right;\">\n",
              "      <th></th>\n",
              "      <th>bug_id</th>\n",
              "      <th>resolution</th>\n",
              "      <th>assigned_to</th>\n",
              "      <th>developer_reputation</th>\n",
              "      <th>developer_reputation_new</th>\n",
              "      <th>reporter</th>\n",
              "      <th>reporter_reputation_new</th>\n",
              "    </tr>\n",
              "  </thead>\n",
              "  <tbody>\n",
              "    <tr>\n",
              "      <th>0</th>\n",
              "      <td>176097</td>\n",
              "      <td>FIXED</td>\n",
              "      <td>79117</td>\n",
              "      <td>0</td>\n",
              "      <td>0.454545</td>\n",
              "      <td>79117</td>\n",
              "      <td>0.000000</td>\n",
              "    </tr>\n",
              "    <tr>\n",
              "      <th>1</th>\n",
              "      <td>176098</td>\n",
              "      <td>INVALID</td>\n",
              "      <td>186</td>\n",
              "      <td>0</td>\n",
              "      <td>0.664062</td>\n",
              "      <td>182</td>\n",
              "      <td>0.000000</td>\n",
              "    </tr>\n",
              "    <tr>\n",
              "      <th>2</th>\n",
              "      <td>176099</td>\n",
              "      <td>NaN</td>\n",
              "      <td>201</td>\n",
              "      <td>0</td>\n",
              "      <td>0.565217</td>\n",
              "      <td>201</td>\n",
              "      <td>0.000000</td>\n",
              "    </tr>\n",
              "    <tr>\n",
              "      <th>3</th>\n",
              "      <td>176100</td>\n",
              "      <td>NaN</td>\n",
              "      <td>526</td>\n",
              "      <td>0</td>\n",
              "      <td>0.000000</td>\n",
              "      <td>79117</td>\n",
              "      <td>0.500000</td>\n",
              "    </tr>\n",
              "    <tr>\n",
              "      <th>4</th>\n",
              "      <td>176101</td>\n",
              "      <td>WORKSFORME</td>\n",
              "      <td>503</td>\n",
              "      <td>0</td>\n",
              "      <td>0.000000</td>\n",
              "      <td>88459</td>\n",
              "      <td>0.000000</td>\n",
              "    </tr>\n",
              "    <tr>\n",
              "      <th>...</th>\n",
              "      <td>...</td>\n",
              "      <td>...</td>\n",
              "      <td>...</td>\n",
              "      <td>...</td>\n",
              "      <td>...</td>\n",
              "      <td>...</td>\n",
              "      <td>...</td>\n",
              "    </tr>\n",
              "    <tr>\n",
              "      <th>12086</th>\n",
              "      <td>188183</td>\n",
              "      <td>NaN</td>\n",
              "      <td>23</td>\n",
              "      <td>0</td>\n",
              "      <td>0.527675</td>\n",
              "      <td>23</td>\n",
              "      <td>0.493902</td>\n",
              "    </tr>\n",
              "    <tr>\n",
              "      <th>12087</th>\n",
              "      <td>188184</td>\n",
              "      <td>NaN</td>\n",
              "      <td>164</td>\n",
              "      <td>0</td>\n",
              "      <td>0.500000</td>\n",
              "      <td>524</td>\n",
              "      <td>0.538889</td>\n",
              "    </tr>\n",
              "    <tr>\n",
              "      <th>12088</th>\n",
              "      <td>188185</td>\n",
              "      <td>NaN</td>\n",
              "      <td>236</td>\n",
              "      <td>0</td>\n",
              "      <td>0.000000</td>\n",
              "      <td>92280</td>\n",
              "      <td>0.000000</td>\n",
              "    </tr>\n",
              "    <tr>\n",
              "      <th>12089</th>\n",
              "      <td>188186</td>\n",
              "      <td>NaN</td>\n",
              "      <td>172</td>\n",
              "      <td>0</td>\n",
              "      <td>0.000000</td>\n",
              "      <td>90793</td>\n",
              "      <td>0.000000</td>\n",
              "    </tr>\n",
              "    <tr>\n",
              "      <th>12090</th>\n",
              "      <td>188187</td>\n",
              "      <td>NaN</td>\n",
              "      <td>495</td>\n",
              "      <td>0</td>\n",
              "      <td>0.000000</td>\n",
              "      <td>249</td>\n",
              "      <td>0.608696</td>\n",
              "    </tr>\n",
              "  </tbody>\n",
              "</table>\n",
              "<p>12091 rows × 7 columns</p>\n",
              "</div>\n",
              "      <button class=\"colab-df-convert\" onclick=\"convertToInteractive('df-9e36c5e8-9995-4c5f-ad5a-ecdc751d8e3d')\"\n",
              "              title=\"Convert this dataframe to an interactive table.\"\n",
              "              style=\"display:none;\">\n",
              "        \n",
              "  <svg xmlns=\"http://www.w3.org/2000/svg\" height=\"24px\"viewBox=\"0 0 24 24\"\n",
              "       width=\"24px\">\n",
              "    <path d=\"M0 0h24v24H0V0z\" fill=\"none\"/>\n",
              "    <path d=\"M18.56 5.44l.94 2.06.94-2.06 2.06-.94-2.06-.94-.94-2.06-.94 2.06-2.06.94zm-11 1L8.5 8.5l.94-2.06 2.06-.94-2.06-.94L8.5 2.5l-.94 2.06-2.06.94zm10 10l.94 2.06.94-2.06 2.06-.94-2.06-.94-.94-2.06-.94 2.06-2.06.94z\"/><path d=\"M17.41 7.96l-1.37-1.37c-.4-.4-.92-.59-1.43-.59-.52 0-1.04.2-1.43.59L10.3 9.45l-7.72 7.72c-.78.78-.78 2.05 0 2.83L4 21.41c.39.39.9.59 1.41.59.51 0 1.02-.2 1.41-.59l7.78-7.78 2.81-2.81c.8-.78.8-2.07 0-2.86zM5.41 20L4 18.59l7.72-7.72 1.47 1.35L5.41 20z\"/>\n",
              "  </svg>\n",
              "      </button>\n",
              "      \n",
              "  <style>\n",
              "    .colab-df-container {\n",
              "      display:flex;\n",
              "      flex-wrap:wrap;\n",
              "      gap: 12px;\n",
              "    }\n",
              "\n",
              "    .colab-df-convert {\n",
              "      background-color: #E8F0FE;\n",
              "      border: none;\n",
              "      border-radius: 50%;\n",
              "      cursor: pointer;\n",
              "      display: none;\n",
              "      fill: #1967D2;\n",
              "      height: 32px;\n",
              "      padding: 0 0 0 0;\n",
              "      width: 32px;\n",
              "    }\n",
              "\n",
              "    .colab-df-convert:hover {\n",
              "      background-color: #E2EBFA;\n",
              "      box-shadow: 0px 1px 2px rgba(60, 64, 67, 0.3), 0px 1px 3px 1px rgba(60, 64, 67, 0.15);\n",
              "      fill: #174EA6;\n",
              "    }\n",
              "\n",
              "    [theme=dark] .colab-df-convert {\n",
              "      background-color: #3B4455;\n",
              "      fill: #D2E3FC;\n",
              "    }\n",
              "\n",
              "    [theme=dark] .colab-df-convert:hover {\n",
              "      background-color: #434B5C;\n",
              "      box-shadow: 0px 1px 3px 1px rgba(0, 0, 0, 0.15);\n",
              "      filter: drop-shadow(0px 1px 2px rgba(0, 0, 0, 0.3));\n",
              "      fill: #FFFFFF;\n",
              "    }\n",
              "  </style>\n",
              "\n",
              "      <script>\n",
              "        const buttonEl =\n",
              "          document.querySelector('#df-9e36c5e8-9995-4c5f-ad5a-ecdc751d8e3d button.colab-df-convert');\n",
              "        buttonEl.style.display =\n",
              "          google.colab.kernel.accessAllowed ? 'block' : 'none';\n",
              "\n",
              "        async function convertToInteractive(key) {\n",
              "          const element = document.querySelector('#df-9e36c5e8-9995-4c5f-ad5a-ecdc751d8e3d');\n",
              "          const dataTable =\n",
              "            await google.colab.kernel.invokeFunction('convertToInteractive',\n",
              "                                                     [key], {});\n",
              "          if (!dataTable) return;\n",
              "\n",
              "          const docLinkHtml = 'Like what you see? Visit the ' +\n",
              "            '<a target=\"_blank\" href=https://colab.research.google.com/notebooks/data_table.ipynb>data table notebook</a>'\n",
              "            + ' to learn more about interactive tables.';\n",
              "          element.innerHTML = '';\n",
              "          dataTable['output_type'] = 'display_data';\n",
              "          await google.colab.output.renderOutput(dataTable, element);\n",
              "          const docLink = document.createElement('div');\n",
              "          docLink.innerHTML = docLinkHtml;\n",
              "          element.appendChild(docLink);\n",
              "        }\n",
              "      </script>\n",
              "    </div>\n",
              "  </div>\n",
              "  "
            ]
          },
          "metadata": {},
          "execution_count": 17
        }
      ],
      "source": [
        "data_bug[['bug_id', 'resolution', 'assigned_to', 'developer_reputation', 'developer_reputation_new', 'reporter',  'reporter_reputation_new']]"
      ]
    },
    {
      "cell_type": "markdown",
      "metadata": {
        "id": "VwW6757K3ych"
      },
      "source": [
        "#Analyzing the dataset"
      ]
    },
    {
      "cell_type": "code",
      "execution_count": null,
      "metadata": {
        "colab": {
          "base_uri": "https://localhost:8080/",
          "height": 364
        },
        "id": "0NUFLnHp9gqY",
        "outputId": "e21a4c93-af41-4380-b38c-08e3c259839a"
      },
      "outputs": [
        {
          "output_type": "execute_result",
          "data": {
            "text/plain": [
              "              bug_id   assigned_to      reporter  estimated_time  \\\n",
              "count   12091.000000  12091.000000  12091.000000         12091.0   \n",
              "mean   182142.000000   5143.906707  38797.014474             0.0   \n",
              "std      3490.515387  17789.886422  38204.010396             0.0   \n",
              "min    176097.000000      2.000000      2.000000             0.0   \n",
              "25%    179119.500000    134.000000    216.000000             0.0   \n",
              "50%    182142.000000    253.000000  28332.000000             0.0   \n",
              "75%    185164.500000    495.000000  79931.000000             0.0   \n",
              "max    188187.000000  92146.000000  92280.000000             0.0   \n",
              "\n",
              "         product_id  component_id          days  year_creation  \\\n",
              "count  12091.000000  12091.000000  12091.000000   12091.000000   \n",
              "mean      17.606898    355.197502     24.686296    2009.747829   \n",
              "std       10.742388    228.556037     41.686640       0.434277   \n",
              "min        2.000000     42.000000      0.000000    2009.000000   \n",
              "25%        8.000000    178.000000      1.000000    2009.000000   \n",
              "50%       16.000000    316.000000      5.000000    2010.000000   \n",
              "75%       24.000000    440.000000     28.000000    2010.000000   \n",
              "max       40.000000   1089.000000    229.000000    2010.000000   \n",
              "\n",
              "       month_creation  year_lastdiffed  month_lastdiffed  \\\n",
              "count    12091.000000     12091.000000      12091.000000   \n",
              "mean         5.601191      2009.861881          5.053180   \n",
              "std          3.625716         0.345039          2.920717   \n",
              "min          1.000000      2009.000000          1.000000   \n",
              "25%          3.000000      2010.000000          3.000000   \n",
              "50%          4.000000      2010.000000          5.000000   \n",
              "75%         11.000000      2010.000000          6.000000   \n",
              "max         12.000000      2010.000000         12.000000   \n",
              "\n",
              "       reporter_reputation_new  developer_reputation  developer_reputation_new  \n",
              "count             12091.000000               12091.0              12091.000000  \n",
              "mean                  0.319553                   0.0                  0.412375  \n",
              "std                   0.269879                   0.0                  0.243565  \n",
              "min                   0.000000                   0.0                  0.000000  \n",
              "25%                   0.000000                   0.0                  0.236033  \n",
              "50%                   0.300000                   0.0                  0.483871  \n",
              "75%                   0.551724                   0.0                  0.589574  \n",
              "max                   0.969697                   0.0                  0.974359  "
            ],
            "text/html": [
              "\n",
              "  <div id=\"df-df45a024-55be-40ec-8e67-498851b24ded\">\n",
              "    <div class=\"colab-df-container\">\n",
              "      <div>\n",
              "<style scoped>\n",
              "    .dataframe tbody tr th:only-of-type {\n",
              "        vertical-align: middle;\n",
              "    }\n",
              "\n",
              "    .dataframe tbody tr th {\n",
              "        vertical-align: top;\n",
              "    }\n",
              "\n",
              "    .dataframe thead th {\n",
              "        text-align: right;\n",
              "    }\n",
              "</style>\n",
              "<table border=\"1\" class=\"dataframe\">\n",
              "  <thead>\n",
              "    <tr style=\"text-align: right;\">\n",
              "      <th></th>\n",
              "      <th>bug_id</th>\n",
              "      <th>assigned_to</th>\n",
              "      <th>reporter</th>\n",
              "      <th>estimated_time</th>\n",
              "      <th>product_id</th>\n",
              "      <th>component_id</th>\n",
              "      <th>days</th>\n",
              "      <th>year_creation</th>\n",
              "      <th>month_creation</th>\n",
              "      <th>year_lastdiffed</th>\n",
              "      <th>month_lastdiffed</th>\n",
              "      <th>reporter_reputation_new</th>\n",
              "      <th>developer_reputation</th>\n",
              "      <th>developer_reputation_new</th>\n",
              "    </tr>\n",
              "  </thead>\n",
              "  <tbody>\n",
              "    <tr>\n",
              "      <th>count</th>\n",
              "      <td>12091.000000</td>\n",
              "      <td>12091.000000</td>\n",
              "      <td>12091.000000</td>\n",
              "      <td>12091.0</td>\n",
              "      <td>12091.000000</td>\n",
              "      <td>12091.000000</td>\n",
              "      <td>12091.000000</td>\n",
              "      <td>12091.000000</td>\n",
              "      <td>12091.000000</td>\n",
              "      <td>12091.000000</td>\n",
              "      <td>12091.000000</td>\n",
              "      <td>12091.000000</td>\n",
              "      <td>12091.0</td>\n",
              "      <td>12091.000000</td>\n",
              "    </tr>\n",
              "    <tr>\n",
              "      <th>mean</th>\n",
              "      <td>182142.000000</td>\n",
              "      <td>5143.906707</td>\n",
              "      <td>38797.014474</td>\n",
              "      <td>0.0</td>\n",
              "      <td>17.606898</td>\n",
              "      <td>355.197502</td>\n",
              "      <td>24.686296</td>\n",
              "      <td>2009.747829</td>\n",
              "      <td>5.601191</td>\n",
              "      <td>2009.861881</td>\n",
              "      <td>5.053180</td>\n",
              "      <td>0.319553</td>\n",
              "      <td>0.0</td>\n",
              "      <td>0.412375</td>\n",
              "    </tr>\n",
              "    <tr>\n",
              "      <th>std</th>\n",
              "      <td>3490.515387</td>\n",
              "      <td>17789.886422</td>\n",
              "      <td>38204.010396</td>\n",
              "      <td>0.0</td>\n",
              "      <td>10.742388</td>\n",
              "      <td>228.556037</td>\n",
              "      <td>41.686640</td>\n",
              "      <td>0.434277</td>\n",
              "      <td>3.625716</td>\n",
              "      <td>0.345039</td>\n",
              "      <td>2.920717</td>\n",
              "      <td>0.269879</td>\n",
              "      <td>0.0</td>\n",
              "      <td>0.243565</td>\n",
              "    </tr>\n",
              "    <tr>\n",
              "      <th>min</th>\n",
              "      <td>176097.000000</td>\n",
              "      <td>2.000000</td>\n",
              "      <td>2.000000</td>\n",
              "      <td>0.0</td>\n",
              "      <td>2.000000</td>\n",
              "      <td>42.000000</td>\n",
              "      <td>0.000000</td>\n",
              "      <td>2009.000000</td>\n",
              "      <td>1.000000</td>\n",
              "      <td>2009.000000</td>\n",
              "      <td>1.000000</td>\n",
              "      <td>0.000000</td>\n",
              "      <td>0.0</td>\n",
              "      <td>0.000000</td>\n",
              "    </tr>\n",
              "    <tr>\n",
              "      <th>25%</th>\n",
              "      <td>179119.500000</td>\n",
              "      <td>134.000000</td>\n",
              "      <td>216.000000</td>\n",
              "      <td>0.0</td>\n",
              "      <td>8.000000</td>\n",
              "      <td>178.000000</td>\n",
              "      <td>1.000000</td>\n",
              "      <td>2009.000000</td>\n",
              "      <td>3.000000</td>\n",
              "      <td>2010.000000</td>\n",
              "      <td>3.000000</td>\n",
              "      <td>0.000000</td>\n",
              "      <td>0.0</td>\n",
              "      <td>0.236033</td>\n",
              "    </tr>\n",
              "    <tr>\n",
              "      <th>50%</th>\n",
              "      <td>182142.000000</td>\n",
              "      <td>253.000000</td>\n",
              "      <td>28332.000000</td>\n",
              "      <td>0.0</td>\n",
              "      <td>16.000000</td>\n",
              "      <td>316.000000</td>\n",
              "      <td>5.000000</td>\n",
              "      <td>2010.000000</td>\n",
              "      <td>4.000000</td>\n",
              "      <td>2010.000000</td>\n",
              "      <td>5.000000</td>\n",
              "      <td>0.300000</td>\n",
              "      <td>0.0</td>\n",
              "      <td>0.483871</td>\n",
              "    </tr>\n",
              "    <tr>\n",
              "      <th>75%</th>\n",
              "      <td>185164.500000</td>\n",
              "      <td>495.000000</td>\n",
              "      <td>79931.000000</td>\n",
              "      <td>0.0</td>\n",
              "      <td>24.000000</td>\n",
              "      <td>440.000000</td>\n",
              "      <td>28.000000</td>\n",
              "      <td>2010.000000</td>\n",
              "      <td>11.000000</td>\n",
              "      <td>2010.000000</td>\n",
              "      <td>6.000000</td>\n",
              "      <td>0.551724</td>\n",
              "      <td>0.0</td>\n",
              "      <td>0.589574</td>\n",
              "    </tr>\n",
              "    <tr>\n",
              "      <th>max</th>\n",
              "      <td>188187.000000</td>\n",
              "      <td>92146.000000</td>\n",
              "      <td>92280.000000</td>\n",
              "      <td>0.0</td>\n",
              "      <td>40.000000</td>\n",
              "      <td>1089.000000</td>\n",
              "      <td>229.000000</td>\n",
              "      <td>2010.000000</td>\n",
              "      <td>12.000000</td>\n",
              "      <td>2010.000000</td>\n",
              "      <td>12.000000</td>\n",
              "      <td>0.969697</td>\n",
              "      <td>0.0</td>\n",
              "      <td>0.974359</td>\n",
              "    </tr>\n",
              "  </tbody>\n",
              "</table>\n",
              "</div>\n",
              "      <button class=\"colab-df-convert\" onclick=\"convertToInteractive('df-df45a024-55be-40ec-8e67-498851b24ded')\"\n",
              "              title=\"Convert this dataframe to an interactive table.\"\n",
              "              style=\"display:none;\">\n",
              "        \n",
              "  <svg xmlns=\"http://www.w3.org/2000/svg\" height=\"24px\"viewBox=\"0 0 24 24\"\n",
              "       width=\"24px\">\n",
              "    <path d=\"M0 0h24v24H0V0z\" fill=\"none\"/>\n",
              "    <path d=\"M18.56 5.44l.94 2.06.94-2.06 2.06-.94-2.06-.94-.94-2.06-.94 2.06-2.06.94zm-11 1L8.5 8.5l.94-2.06 2.06-.94-2.06-.94L8.5 2.5l-.94 2.06-2.06.94zm10 10l.94 2.06.94-2.06 2.06-.94-2.06-.94-.94-2.06-.94 2.06-2.06.94z\"/><path d=\"M17.41 7.96l-1.37-1.37c-.4-.4-.92-.59-1.43-.59-.52 0-1.04.2-1.43.59L10.3 9.45l-7.72 7.72c-.78.78-.78 2.05 0 2.83L4 21.41c.39.39.9.59 1.41.59.51 0 1.02-.2 1.41-.59l7.78-7.78 2.81-2.81c.8-.78.8-2.07 0-2.86zM5.41 20L4 18.59l7.72-7.72 1.47 1.35L5.41 20z\"/>\n",
              "  </svg>\n",
              "      </button>\n",
              "      \n",
              "  <style>\n",
              "    .colab-df-container {\n",
              "      display:flex;\n",
              "      flex-wrap:wrap;\n",
              "      gap: 12px;\n",
              "    }\n",
              "\n",
              "    .colab-df-convert {\n",
              "      background-color: #E8F0FE;\n",
              "      border: none;\n",
              "      border-radius: 50%;\n",
              "      cursor: pointer;\n",
              "      display: none;\n",
              "      fill: #1967D2;\n",
              "      height: 32px;\n",
              "      padding: 0 0 0 0;\n",
              "      width: 32px;\n",
              "    }\n",
              "\n",
              "    .colab-df-convert:hover {\n",
              "      background-color: #E2EBFA;\n",
              "      box-shadow: 0px 1px 2px rgba(60, 64, 67, 0.3), 0px 1px 3px 1px rgba(60, 64, 67, 0.15);\n",
              "      fill: #174EA6;\n",
              "    }\n",
              "\n",
              "    [theme=dark] .colab-df-convert {\n",
              "      background-color: #3B4455;\n",
              "      fill: #D2E3FC;\n",
              "    }\n",
              "\n",
              "    [theme=dark] .colab-df-convert:hover {\n",
              "      background-color: #434B5C;\n",
              "      box-shadow: 0px 1px 3px 1px rgba(0, 0, 0, 0.15);\n",
              "      filter: drop-shadow(0px 1px 2px rgba(0, 0, 0, 0.3));\n",
              "      fill: #FFFFFF;\n",
              "    }\n",
              "  </style>\n",
              "\n",
              "      <script>\n",
              "        const buttonEl =\n",
              "          document.querySelector('#df-df45a024-55be-40ec-8e67-498851b24ded button.colab-df-convert');\n",
              "        buttonEl.style.display =\n",
              "          google.colab.kernel.accessAllowed ? 'block' : 'none';\n",
              "\n",
              "        async function convertToInteractive(key) {\n",
              "          const element = document.querySelector('#df-df45a024-55be-40ec-8e67-498851b24ded');\n",
              "          const dataTable =\n",
              "            await google.colab.kernel.invokeFunction('convertToInteractive',\n",
              "                                                     [key], {});\n",
              "          if (!dataTable) return;\n",
              "\n",
              "          const docLinkHtml = 'Like what you see? Visit the ' +\n",
              "            '<a target=\"_blank\" href=https://colab.research.google.com/notebooks/data_table.ipynb>data table notebook</a>'\n",
              "            + ' to learn more about interactive tables.';\n",
              "          element.innerHTML = '';\n",
              "          dataTable['output_type'] = 'display_data';\n",
              "          await google.colab.output.renderOutput(dataTable, element);\n",
              "          const docLink = document.createElement('div');\n",
              "          docLink.innerHTML = docLinkHtml;\n",
              "          element.appendChild(docLink);\n",
              "        }\n",
              "      </script>\n",
              "    </div>\n",
              "  </div>\n",
              "  "
            ]
          },
          "metadata": {},
          "execution_count": 18
        }
      ],
      "source": [
        "data_bug.describe()"
      ]
    },
    {
      "cell_type": "code",
      "execution_count": null,
      "metadata": {
        "colab": {
          "base_uri": "https://localhost:8080/"
        },
        "id": "lqySI-hTJAcL",
        "outputId": "84e36ae6-748f-40a0-9239-39cd0dcfa20b"
      },
      "outputs": [
        {
          "output_type": "execute_result",
          "data": {
            "text/plain": [
              "(12091, 29)"
            ]
          },
          "metadata": {},
          "execution_count": 19
        }
      ],
      "source": [
        "data_bug.shape"
      ]
    },
    {
      "cell_type": "code",
      "execution_count": null,
      "metadata": {
        "colab": {
          "base_uri": "https://localhost:8080/"
        },
        "id": "fpnx04MO-zyU",
        "outputId": "3984f7f3-dcad-4fbe-a619-d85095cd6e22"
      },
      "outputs": [
        {
          "output_type": "execute_result",
          "data": {
            "text/plain": [
              "2416"
            ]
          },
          "metadata": {},
          "execution_count": 20
        }
      ],
      "source": [
        " data_bug['reporter'].nunique()"
      ]
    },
    {
      "cell_type": "code",
      "execution_count": null,
      "metadata": {
        "colab": {
          "base_uri": "https://localhost:8080/"
        },
        "id": "QA1AUfXo0ARy",
        "outputId": "d0715ecd-c0a7-485d-f41a-a72851ff4b9d"
      },
      "outputs": [
        {
          "output_type": "execute_result",
          "data": {
            "text/plain": [
              "219"
            ]
          },
          "metadata": {},
          "execution_count": 21
        }
      ],
      "source": [
        "data_bug['assigned_to'].nunique()"
      ]
    },
    {
      "cell_type": "code",
      "execution_count": null,
      "metadata": {
        "colab": {
          "base_uri": "https://localhost:8080/"
        },
        "id": "g_Xj5HdhN-EB",
        "outputId": "d667c805-124f-4f8e-d6b8-f8569b94dcf5"
      },
      "outputs": [
        {
          "output_type": "execute_result",
          "data": {
            "text/plain": [
              "reporter\n",
              "2         53\n",
              "3        268\n",
              "5         52\n",
              "6         87\n",
              "9          6\n",
              "        ... \n",
              "92270      1\n",
              "92271      1\n",
              "92273      1\n",
              "92278      2\n",
              "92280      1\n",
              "Length: 2416, dtype: int64"
            ]
          },
          "metadata": {},
          "execution_count": 22
        }
      ],
      "source": [
        "data_bug.groupby('reporter').size()"
      ]
    },
    {
      "cell_type": "code",
      "execution_count": null,
      "metadata": {
        "colab": {
          "base_uri": "https://localhost:8080/"
        },
        "id": "a_p60aR5J-Jh",
        "outputId": "0e1659e2-e953-4163-b1e3-9b84ec6342ba"
      },
      "outputs": [
        {
          "output_type": "execute_result",
          "data": {
            "text/plain": [
              "['bug_id',\n",
              " 'assigned_to',\n",
              " 'bug_severity',\n",
              " 'priority',\n",
              " 'bug_status',\n",
              " 'creation_ts',\n",
              " 'delta_ts',\n",
              " 'short_desc',\n",
              " 'short_desc.1',\n",
              " 'comments',\n",
              " 'op_sys',\n",
              " 'rep_platform',\n",
              " 'reporter',\n",
              " 'version',\n",
              " 'resolution',\n",
              " 'lastdiffed',\n",
              " 'estimated_time',\n",
              " 'product_id',\n",
              " 'component_id',\n",
              " 'days',\n",
              " 'year_creation',\n",
              " 'year_creation_n',\n",
              " 'month_creation',\n",
              " 'year_lastdiffed',\n",
              " 'month_lastdiffed',\n",
              " 'creation_s',\n",
              " 'reporter_reputation_new',\n",
              " 'developer_reputation',\n",
              " 'developer_reputation_new']"
            ]
          },
          "metadata": {},
          "execution_count": 25
        }
      ],
      "source": [
        "list(data_bug)"
      ]
    },
    {
      "cell_type": "code",
      "execution_count": null,
      "metadata": {
        "colab": {
          "base_uri": "https://localhost:8080/"
        },
        "id": "ao8s4n00_QxG",
        "outputId": "5581f292-c813-4f56-f3a5-5392f048357d"
      },
      "outputs": [
        {
          "output_type": "execute_result",
          "data": {
            "text/plain": [
              "RESOLVED    6338\n",
              "NEW         3783\n",
              "VERIFIED    1467\n",
              "CLOSED       204\n",
              "REOPENED     187\n",
              "STARTED      112\n",
              "Name: bug_status, dtype: int64"
            ]
          },
          "metadata": {},
          "execution_count": 23
        }
      ],
      "source": [
        "data_bug['bug_status'].value_counts()"
      ]
    },
    {
      "cell_type": "code",
      "execution_count": null,
      "metadata": {
        "colab": {
          "base_uri": "https://localhost:8080/"
        },
        "id": "lWdoPgVYKV5E",
        "outputId": "c1382c37-0b3e-4b06-f499-1633f5bdd38b"
      },
      "outputs": [
        {
          "output_type": "execute_result",
          "data": {
            "text/plain": [
              "FIXED         4747\n",
              "DUPLICATE     1501\n",
              "WORKSFORME     576\n",
              "INVALID        410\n",
              "WONTFIX        406\n",
              "INCOMPLETE     369\n",
              "Name: resolution, dtype: int64"
            ]
          },
          "metadata": {},
          "execution_count": 24
        }
      ],
      "source": [
        " data_bug['resolution'].value_counts()"
      ]
    },
    {
      "cell_type": "code",
      "execution_count": null,
      "metadata": {
        "colab": {
          "base_uri": "https://localhost:8080/"
        },
        "id": "eF6m-qfOK6uw",
        "outputId": "58768b8a-7835-496f-a6cd-b92cc63e3ab6"
      },
      "outputs": [
        {
          "output_type": "execute_result",
          "data": {
            "text/plain": [
              "normal         12088\n",
              "enhancement        3\n",
              "Name: bug_severity, dtype: int64"
            ]
          },
          "metadata": {},
          "execution_count": 25
        }
      ],
      "source": [
        "data_bug['bug_severity'].value_counts()"
      ]
    },
    {
      "cell_type": "code",
      "execution_count": null,
      "metadata": {
        "colab": {
          "base_uri": "https://localhost:8080/"
        },
        "id": "-YObQ43ZLeu-",
        "outputId": "b81d132e-aad1-4785-9528-bbe910e9d663"
      },
      "outputs": [
        {
          "output_type": "execute_result",
          "data": {
            "text/plain": [
              "P3    9124\n",
              "P2    1785\n",
              "P1     655\n",
              "P4     527\n",
              "Name: priority, dtype: int64"
            ]
          },
          "metadata": {},
          "execution_count": 26
        }
      ],
      "source": [
        "data_bug['priority'].value_counts()"
      ]
    },
    {
      "cell_type": "code",
      "execution_count": null,
      "metadata": {
        "id": "KJcLfzWbmAUm"
      },
      "outputs": [],
      "source": [
        "bugfix = data_bug[(data_bug['resolution'] == 'FIXED') & (data_bug['lastdiffed'].notna())]\n",
        "bugdifzero = bugfix[bugfix['days'] != 0]"
      ]
    },
    {
      "cell_type": "code",
      "execution_count": null,
      "metadata": {
        "colab": {
          "base_uri": "https://localhost:8080/"
        },
        "id": "8hkarF6FeMM0",
        "outputId": "64b4e869-49d2-434f-a9fe-0661701539bd"
      },
      "outputs": [
        {
          "output_type": "execute_result",
          "data": {
            "text/plain": [
              "(4747, 29)"
            ]
          },
          "metadata": {},
          "execution_count": 28
        }
      ],
      "source": [
        "bugfix.shape"
      ]
    },
    {
      "cell_type": "code",
      "execution_count": null,
      "metadata": {
        "colab": {
          "base_uri": "https://localhost:8080/"
        },
        "id": "K0h882ZsYDof",
        "outputId": "01ad503d-a86d-4317-9764-190a081a6d7d"
      },
      "outputs": [
        {
          "output_type": "execute_result",
          "data": {
            "text/plain": [
              "count    4747.000000\n",
              "mean       27.358332\n",
              "std        40.299980\n",
              "min         0.000000\n",
              "25%         3.000000\n",
              "50%         9.000000\n",
              "75%        33.000000\n",
              "max       217.000000\n",
              "Name: days, dtype: float64"
            ]
          },
          "metadata": {},
          "execution_count": 29
        }
      ],
      "source": [
        "bugfix['days'].describe()"
      ]
    },
    {
      "cell_type": "code",
      "execution_count": null,
      "metadata": {
        "colab": {
          "base_uri": "https://localhost:8080/"
        },
        "id": "7kZZ07Tba6yF",
        "outputId": "eae2e887-8df5-41f0-bcff-749e6e670c27"
      },
      "outputs": [
        {
          "output_type": "execute_result",
          "data": {
            "text/plain": [
              "9.0"
            ]
          },
          "metadata": {},
          "execution_count": 30
        }
      ],
      "source": [
        "bugfix['days'].median()"
      ]
    },
    {
      "cell_type": "code",
      "execution_count": null,
      "metadata": {
        "colab": {
          "base_uri": "https://localhost:8080/"
        },
        "id": "eAUGx5IabTSo",
        "outputId": "df4797da-eb53-4c87-b670-b21c289fc2cb"
      },
      "outputs": [
        {
          "output_type": "execute_result",
          "data": {
            "text/plain": [
              "count    420.000000\n",
              "mean      20.802381\n",
              "std       34.926879\n",
              "min        0.000000\n",
              "25%        3.000000\n",
              "50%        7.000000\n",
              "75%       19.000000\n",
              "max      217.000000\n",
              "Name: days, dtype: float64"
            ]
          },
          "metadata": {},
          "execution_count": 31
        }
      ],
      "source": [
        "priority = bugfix[(bugfix['priority'] == 'P1')]\n",
        "\n",
        "priority['days'].describe()"
      ]
    },
    {
      "cell_type": "code",
      "execution_count": null,
      "metadata": {
        "colab": {
          "base_uri": "https://localhost:8080/"
        },
        "id": "W2Dt2oOQdH1h",
        "outputId": "deeb8863-f38e-488a-ca75-fe13d4fc7ab7"
      },
      "outputs": [
        {
          "output_type": "execute_result",
          "data": {
            "text/plain": [
              "7.0"
            ]
          },
          "metadata": {},
          "execution_count": 32
        }
      ],
      "source": [
        "priority['days'].median()"
      ]
    },
    {
      "cell_type": "code",
      "execution_count": null,
      "metadata": {
        "colab": {
          "base_uri": "https://localhost:8080/"
        },
        "id": "1_amVA4WdUxu",
        "outputId": "d87b5ba2-f0f3-4a61-9fdd-d8e829fa9e40"
      },
      "outputs": [
        {
          "output_type": "stream",
          "name": "stdout",
          "text": [
            "0    1\n",
            "dtype: int64\n"
          ]
        }
      ],
      "source": [
        "print(priority['days'].mode())"
      ]
    },
    {
      "cell_type": "code",
      "execution_count": null,
      "metadata": {
        "colab": {
          "base_uri": "https://localhost:8080/"
        },
        "id": "RpBnBWH2iRD_",
        "outputId": "9df836e0-2329-4a3f-b013-9bea03896cdb"
      },
      "outputs": [
        {
          "output_type": "execute_result",
          "data": {
            "text/plain": [
              "count    0.0\n",
              "mean     NaN\n",
              "std      NaN\n",
              "min      NaN\n",
              "25%      NaN\n",
              "50%      NaN\n",
              "75%      NaN\n",
              "max      NaN\n",
              "Name: days, dtype: float64"
            ]
          },
          "metadata": {},
          "execution_count": 34
        }
      ],
      "source": [
        "severity = bugfix[(bugfix['bug_severity'] == 'enhancement')]\n",
        "\n",
        "severity['days'].describe()"
      ]
    },
    {
      "cell_type": "code",
      "execution_count": null,
      "metadata": {
        "colab": {
          "base_uri": "https://localhost:8080/"
        },
        "id": "ifw6rzOyjmr0",
        "outputId": "991c6943-0270-4392-ade2-dcf0d49eb356"
      },
      "outputs": [
        {
          "output_type": "execute_result",
          "data": {
            "text/plain": [
              "Series([], dtype: int64)"
            ]
          },
          "metadata": {},
          "execution_count": 35
        }
      ],
      "source": [
        "severity['days'].mode()"
      ]
    },
    {
      "cell_type": "code",
      "execution_count": null,
      "metadata": {
        "colab": {
          "base_uri": "https://localhost:8080/"
        },
        "id": "1VW1mVvzjupD",
        "outputId": "69a6e32a-b9d7-4be3-aec2-b149ed055963"
      },
      "outputs": [
        {
          "output_type": "execute_result",
          "data": {
            "text/plain": [
              "nan"
            ]
          },
          "metadata": {},
          "execution_count": 36
        }
      ],
      "source": [
        "severity['days'].median()"
      ]
    },
    {
      "cell_type": "code",
      "execution_count": null,
      "metadata": {
        "colab": {
          "base_uri": "https://localhost:8080/",
          "height": 49
        },
        "id": "Z6G_EwKDpBbZ",
        "outputId": "d289c534-c2be-4648-eb9c-19e69d35688b"
      },
      "outputs": [
        {
          "output_type": "execute_result",
          "data": {
            "text/plain": [
              "Empty DataFrame\n",
              "Columns: [short_desc, comments]\n",
              "Index: []"
            ],
            "text/html": [
              "\n",
              "  <div id=\"df-4134d6ab-548b-448d-8d0c-121823349954\">\n",
              "    <div class=\"colab-df-container\">\n",
              "      <div>\n",
              "<style scoped>\n",
              "    .dataframe tbody tr th:only-of-type {\n",
              "        vertical-align: middle;\n",
              "    }\n",
              "\n",
              "    .dataframe tbody tr th {\n",
              "        vertical-align: top;\n",
              "    }\n",
              "\n",
              "    .dataframe thead th {\n",
              "        text-align: right;\n",
              "    }\n",
              "</style>\n",
              "<table border=\"1\" class=\"dataframe\">\n",
              "  <thead>\n",
              "    <tr style=\"text-align: right;\">\n",
              "      <th></th>\n",
              "      <th>short_desc</th>\n",
              "      <th>comments</th>\n",
              "    </tr>\n",
              "  </thead>\n",
              "  <tbody>\n",
              "  </tbody>\n",
              "</table>\n",
              "</div>\n",
              "      <button class=\"colab-df-convert\" onclick=\"convertToInteractive('df-4134d6ab-548b-448d-8d0c-121823349954')\"\n",
              "              title=\"Convert this dataframe to an interactive table.\"\n",
              "              style=\"display:none;\">\n",
              "        \n",
              "  <svg xmlns=\"http://www.w3.org/2000/svg\" height=\"24px\"viewBox=\"0 0 24 24\"\n",
              "       width=\"24px\">\n",
              "    <path d=\"M0 0h24v24H0V0z\" fill=\"none\"/>\n",
              "    <path d=\"M18.56 5.44l.94 2.06.94-2.06 2.06-.94-2.06-.94-.94-2.06-.94 2.06-2.06.94zm-11 1L8.5 8.5l.94-2.06 2.06-.94-2.06-.94L8.5 2.5l-.94 2.06-2.06.94zm10 10l.94 2.06.94-2.06 2.06-.94-2.06-.94-.94-2.06-.94 2.06-2.06.94z\"/><path d=\"M17.41 7.96l-1.37-1.37c-.4-.4-.92-.59-1.43-.59-.52 0-1.04.2-1.43.59L10.3 9.45l-7.72 7.72c-.78.78-.78 2.05 0 2.83L4 21.41c.39.39.9.59 1.41.59.51 0 1.02-.2 1.41-.59l7.78-7.78 2.81-2.81c.8-.78.8-2.07 0-2.86zM5.41 20L4 18.59l7.72-7.72 1.47 1.35L5.41 20z\"/>\n",
              "  </svg>\n",
              "      </button>\n",
              "      \n",
              "  <style>\n",
              "    .colab-df-container {\n",
              "      display:flex;\n",
              "      flex-wrap:wrap;\n",
              "      gap: 12px;\n",
              "    }\n",
              "\n",
              "    .colab-df-convert {\n",
              "      background-color: #E8F0FE;\n",
              "      border: none;\n",
              "      border-radius: 50%;\n",
              "      cursor: pointer;\n",
              "      display: none;\n",
              "      fill: #1967D2;\n",
              "      height: 32px;\n",
              "      padding: 0 0 0 0;\n",
              "      width: 32px;\n",
              "    }\n",
              "\n",
              "    .colab-df-convert:hover {\n",
              "      background-color: #E2EBFA;\n",
              "      box-shadow: 0px 1px 2px rgba(60, 64, 67, 0.3), 0px 1px 3px 1px rgba(60, 64, 67, 0.15);\n",
              "      fill: #174EA6;\n",
              "    }\n",
              "\n",
              "    [theme=dark] .colab-df-convert {\n",
              "      background-color: #3B4455;\n",
              "      fill: #D2E3FC;\n",
              "    }\n",
              "\n",
              "    [theme=dark] .colab-df-convert:hover {\n",
              "      background-color: #434B5C;\n",
              "      box-shadow: 0px 1px 3px 1px rgba(0, 0, 0, 0.15);\n",
              "      filter: drop-shadow(0px 1px 2px rgba(0, 0, 0, 0.3));\n",
              "      fill: #FFFFFF;\n",
              "    }\n",
              "  </style>\n",
              "\n",
              "      <script>\n",
              "        const buttonEl =\n",
              "          document.querySelector('#df-4134d6ab-548b-448d-8d0c-121823349954 button.colab-df-convert');\n",
              "        buttonEl.style.display =\n",
              "          google.colab.kernel.accessAllowed ? 'block' : 'none';\n",
              "\n",
              "        async function convertToInteractive(key) {\n",
              "          const element = document.querySelector('#df-4134d6ab-548b-448d-8d0c-121823349954');\n",
              "          const dataTable =\n",
              "            await google.colab.kernel.invokeFunction('convertToInteractive',\n",
              "                                                     [key], {});\n",
              "          if (!dataTable) return;\n",
              "\n",
              "          const docLinkHtml = 'Like what you see? Visit the ' +\n",
              "            '<a target=\"_blank\" href=https://colab.research.google.com/notebooks/data_table.ipynb>data table notebook</a>'\n",
              "            + ' to learn more about interactive tables.';\n",
              "          element.innerHTML = '';\n",
              "          dataTable['output_type'] = 'display_data';\n",
              "          await google.colab.output.renderOutput(dataTable, element);\n",
              "          const docLink = document.createElement('div');\n",
              "          docLink.innerHTML = docLinkHtml;\n",
              "          element.appendChild(docLink);\n",
              "        }\n",
              "      </script>\n",
              "    </div>\n",
              "  </div>\n",
              "  "
            ]
          },
          "metadata": {},
          "execution_count": 37
        }
      ],
      "source": [
        "severity[['short_desc', 'comments']]"
      ]
    },
    {
      "cell_type": "code",
      "execution_count": null,
      "metadata": {
        "colab": {
          "base_uri": "https://localhost:8080/"
        },
        "id": "9lxjQaf3w5p-",
        "outputId": "b5fa0561-f1fe-47cd-919d-bf885342d448"
      },
      "outputs": [
        {
          "output_type": "execute_result",
          "data": {
            "text/plain": [
              "3     589\n",
              "16    465\n",
              "13    336\n",
              "22    329\n",
              "15    302\n",
              "23    285\n",
              "4     283\n",
              "8     265\n",
              "36    169\n",
              "6     147\n",
              "25    146\n",
              "40    139\n",
              "2     136\n",
              "37    134\n",
              "29    104\n",
              "30     96\n",
              "11     92\n",
              "28     85\n",
              "38     76\n",
              "31     73\n",
              "14     72\n",
              "24     55\n",
              "7      54\n",
              "9      52\n",
              "35     46\n",
              "33     43\n",
              "12     39\n",
              "39     36\n",
              "5      32\n",
              "18     14\n",
              "34     14\n",
              "17      9\n",
              "21      8\n",
              "10      8\n",
              "19      7\n",
              "27      4\n",
              "26      3\n",
              "Name: product_id, dtype: int64"
            ]
          },
          "metadata": {},
          "execution_count": 39
        }
      ],
      "source": [
        "bugfix['product_id'].value_counts()"
      ]
    },
    {
      "cell_type": "code",
      "execution_count": null,
      "metadata": {
        "colab": {
          "base_uri": "https://localhost:8080/",
          "height": 424
        },
        "id": "Y8n5w1goyXZx",
        "outputId": "0973aa16-1d45-4ece-c0e2-cb0c98d3ef27"
      },
      "outputs": [
        {
          "output_type": "execute_result",
          "data": {
            "text/plain": [
              "       product_id  days\n",
              "0              27    23\n",
              "5              40    79\n",
              "8              15    26\n",
              "9              40    19\n",
              "10             40   198\n",
              "...           ...   ...\n",
              "12026          13     1\n",
              "12040          36     1\n",
              "12046          12     1\n",
              "12047          23     1\n",
              "12055           6     1\n",
              "\n",
              "[4747 rows x 2 columns]"
            ],
            "text/html": [
              "\n",
              "  <div id=\"df-0f2a28ab-d18c-4bf3-a446-1f2519cd7177\">\n",
              "    <div class=\"colab-df-container\">\n",
              "      <div>\n",
              "<style scoped>\n",
              "    .dataframe tbody tr th:only-of-type {\n",
              "        vertical-align: middle;\n",
              "    }\n",
              "\n",
              "    .dataframe tbody tr th {\n",
              "        vertical-align: top;\n",
              "    }\n",
              "\n",
              "    .dataframe thead th {\n",
              "        text-align: right;\n",
              "    }\n",
              "</style>\n",
              "<table border=\"1\" class=\"dataframe\">\n",
              "  <thead>\n",
              "    <tr style=\"text-align: right;\">\n",
              "      <th></th>\n",
              "      <th>product_id</th>\n",
              "      <th>days</th>\n",
              "    </tr>\n",
              "  </thead>\n",
              "  <tbody>\n",
              "    <tr>\n",
              "      <th>0</th>\n",
              "      <td>27</td>\n",
              "      <td>23</td>\n",
              "    </tr>\n",
              "    <tr>\n",
              "      <th>5</th>\n",
              "      <td>40</td>\n",
              "      <td>79</td>\n",
              "    </tr>\n",
              "    <tr>\n",
              "      <th>8</th>\n",
              "      <td>15</td>\n",
              "      <td>26</td>\n",
              "    </tr>\n",
              "    <tr>\n",
              "      <th>9</th>\n",
              "      <td>40</td>\n",
              "      <td>19</td>\n",
              "    </tr>\n",
              "    <tr>\n",
              "      <th>10</th>\n",
              "      <td>40</td>\n",
              "      <td>198</td>\n",
              "    </tr>\n",
              "    <tr>\n",
              "      <th>...</th>\n",
              "      <td>...</td>\n",
              "      <td>...</td>\n",
              "    </tr>\n",
              "    <tr>\n",
              "      <th>12026</th>\n",
              "      <td>13</td>\n",
              "      <td>1</td>\n",
              "    </tr>\n",
              "    <tr>\n",
              "      <th>12040</th>\n",
              "      <td>36</td>\n",
              "      <td>1</td>\n",
              "    </tr>\n",
              "    <tr>\n",
              "      <th>12046</th>\n",
              "      <td>12</td>\n",
              "      <td>1</td>\n",
              "    </tr>\n",
              "    <tr>\n",
              "      <th>12047</th>\n",
              "      <td>23</td>\n",
              "      <td>1</td>\n",
              "    </tr>\n",
              "    <tr>\n",
              "      <th>12055</th>\n",
              "      <td>6</td>\n",
              "      <td>1</td>\n",
              "    </tr>\n",
              "  </tbody>\n",
              "</table>\n",
              "<p>4747 rows × 2 columns</p>\n",
              "</div>\n",
              "      <button class=\"colab-df-convert\" onclick=\"convertToInteractive('df-0f2a28ab-d18c-4bf3-a446-1f2519cd7177')\"\n",
              "              title=\"Convert this dataframe to an interactive table.\"\n",
              "              style=\"display:none;\">\n",
              "        \n",
              "  <svg xmlns=\"http://www.w3.org/2000/svg\" height=\"24px\"viewBox=\"0 0 24 24\"\n",
              "       width=\"24px\">\n",
              "    <path d=\"M0 0h24v24H0V0z\" fill=\"none\"/>\n",
              "    <path d=\"M18.56 5.44l.94 2.06.94-2.06 2.06-.94-2.06-.94-.94-2.06-.94 2.06-2.06.94zm-11 1L8.5 8.5l.94-2.06 2.06-.94-2.06-.94L8.5 2.5l-.94 2.06-2.06.94zm10 10l.94 2.06.94-2.06 2.06-.94-2.06-.94-.94-2.06-.94 2.06-2.06.94z\"/><path d=\"M17.41 7.96l-1.37-1.37c-.4-.4-.92-.59-1.43-.59-.52 0-1.04.2-1.43.59L10.3 9.45l-7.72 7.72c-.78.78-.78 2.05 0 2.83L4 21.41c.39.39.9.59 1.41.59.51 0 1.02-.2 1.41-.59l7.78-7.78 2.81-2.81c.8-.78.8-2.07 0-2.86zM5.41 20L4 18.59l7.72-7.72 1.47 1.35L5.41 20z\"/>\n",
              "  </svg>\n",
              "      </button>\n",
              "      \n",
              "  <style>\n",
              "    .colab-df-container {\n",
              "      display:flex;\n",
              "      flex-wrap:wrap;\n",
              "      gap: 12px;\n",
              "    }\n",
              "\n",
              "    .colab-df-convert {\n",
              "      background-color: #E8F0FE;\n",
              "      border: none;\n",
              "      border-radius: 50%;\n",
              "      cursor: pointer;\n",
              "      display: none;\n",
              "      fill: #1967D2;\n",
              "      height: 32px;\n",
              "      padding: 0 0 0 0;\n",
              "      width: 32px;\n",
              "    }\n",
              "\n",
              "    .colab-df-convert:hover {\n",
              "      background-color: #E2EBFA;\n",
              "      box-shadow: 0px 1px 2px rgba(60, 64, 67, 0.3), 0px 1px 3px 1px rgba(60, 64, 67, 0.15);\n",
              "      fill: #174EA6;\n",
              "    }\n",
              "\n",
              "    [theme=dark] .colab-df-convert {\n",
              "      background-color: #3B4455;\n",
              "      fill: #D2E3FC;\n",
              "    }\n",
              "\n",
              "    [theme=dark] .colab-df-convert:hover {\n",
              "      background-color: #434B5C;\n",
              "      box-shadow: 0px 1px 3px 1px rgba(0, 0, 0, 0.15);\n",
              "      filter: drop-shadow(0px 1px 2px rgba(0, 0, 0, 0.3));\n",
              "      fill: #FFFFFF;\n",
              "    }\n",
              "  </style>\n",
              "\n",
              "      <script>\n",
              "        const buttonEl =\n",
              "          document.querySelector('#df-0f2a28ab-d18c-4bf3-a446-1f2519cd7177 button.colab-df-convert');\n",
              "        buttonEl.style.display =\n",
              "          google.colab.kernel.accessAllowed ? 'block' : 'none';\n",
              "\n",
              "        async function convertToInteractive(key) {\n",
              "          const element = document.querySelector('#df-0f2a28ab-d18c-4bf3-a446-1f2519cd7177');\n",
              "          const dataTable =\n",
              "            await google.colab.kernel.invokeFunction('convertToInteractive',\n",
              "                                                     [key], {});\n",
              "          if (!dataTable) return;\n",
              "\n",
              "          const docLinkHtml = 'Like what you see? Visit the ' +\n",
              "            '<a target=\"_blank\" href=https://colab.research.google.com/notebooks/data_table.ipynb>data table notebook</a>'\n",
              "            + ' to learn more about interactive tables.';\n",
              "          element.innerHTML = '';\n",
              "          dataTable['output_type'] = 'display_data';\n",
              "          await google.colab.output.renderOutput(dataTable, element);\n",
              "          const docLink = document.createElement('div');\n",
              "          docLink.innerHTML = docLinkHtml;\n",
              "          element.appendChild(docLink);\n",
              "        }\n",
              "      </script>\n",
              "    </div>\n",
              "  </div>\n",
              "  "
            ]
          },
          "metadata": {},
          "execution_count": 38
        }
      ],
      "source": [
        "bugfix[['product_id', 'days']]"
      ]
    },
    {
      "cell_type": "code",
      "execution_count": null,
      "metadata": {
        "colab": {
          "base_uri": "https://localhost:8080/"
        },
        "id": "Axra-e-t6SK5",
        "outputId": "27a54d1b-5fda-4a5b-d4da-8175a49f744e"
      },
      "outputs": [
        {
          "output_type": "execute_result",
          "data": {
            "text/plain": [
              "166"
            ]
          },
          "metadata": {},
          "execution_count": 40
        }
      ],
      "source": [
        "bugfix['assigned_to'].nunique()"
      ]
    },
    {
      "cell_type": "code",
      "execution_count": null,
      "metadata": {
        "colab": {
          "base_uri": "https://localhost:8080/"
        },
        "id": "8RLU0nmWi3_4",
        "outputId": "177b3e08-7736-4160-a1f8-05e03d03c90e"
      },
      "outputs": [
        {
          "output_type": "execute_result",
          "data": {
            "text/plain": [
              "Index(['bug_id', 'assigned_to', 'bug_severity', 'priority', 'bug_status',\n",
              "       'creation_ts', 'delta_ts', 'short_desc', 'op_sys', 'rep_platform',\n",
              "       'reporter', 'version', 'resolution', 'lastdiffed', 'estimated_time',\n",
              "       'product_id', 'component_id', 'short_desc.1', 'comments', 'days',\n",
              "       'year_creation', 'year_creation_n', 'month_creation', 'year_lastdiffed',\n",
              "       'month_lastdiffed', 'creation_s', 'reporter_reputation_new',\n",
              "       'developer_reputation', 'developer_reputation_new'],\n",
              "      dtype='object')"
            ]
          },
          "metadata": {},
          "execution_count": 41
        }
      ],
      "source": [
        "bugfix.columns"
      ]
    },
    {
      "cell_type": "code",
      "execution_count": null,
      "metadata": {
        "colab": {
          "base_uri": "https://localhost:8080/"
        },
        "id": "kXZmDCR4fXYt",
        "outputId": "79c6fcdf-44a3-4edc-b222-854d1e47fad5"
      },
      "outputs": [
        {
          "output_type": "stream",
          "name": "stdout",
          "text": [
            "year_lastdiffed\n",
            "2009     663\n",
            "2010    4084\n",
            "Name: assigned_to, dtype: int64\n"
          ]
        }
      ],
      "source": [
        "bugYear = bugfix.groupby('year_lastdiffed')\n",
        "print(bugYear['assigned_to'].agg(np.count_nonzero))"
      ]
    },
    {
      "cell_type": "code",
      "execution_count": null,
      "metadata": {
        "colab": {
          "base_uri": "https://localhost:8080/"
        },
        "id": "0Pz18JXYWc1U",
        "outputId": "24453543-b81f-4fac-ece1-d305b319b4fd"
      },
      "outputs": [
        {
          "output_type": "stream",
          "name": "stdout",
          "text": [
            "year_creation\n",
            "2009    1262\n",
            "2010    3485\n",
            "Name: reporter, dtype: int64\n"
          ]
        }
      ],
      "source": [
        "bugYear = bugfix.groupby('year_creation')\n",
        "print(bugYear['reporter'].agg(np.count_nonzero))"
      ]
    },
    {
      "cell_type": "markdown",
      "metadata": {
        "id": "Zt_R8DSuYIEr"
      },
      "source": [
        "Calcular a média de tempo de resolução de bugs por ano"
      ]
    },
    {
      "cell_type": "code",
      "execution_count": null,
      "metadata": {
        "colab": {
          "base_uri": "https://localhost:8080/"
        },
        "id": "6nyqZbvVYL-p",
        "outputId": "dec965bf-8e7a-45d5-b1f7-e3f389282264"
      },
      "outputs": [
        {
          "output_type": "stream",
          "name": "stdout",
          "text": [
            "year_lastdiffed\n",
            "2009     7.404223\n",
            "2010    30.597698\n",
            "Name: days, dtype: float64\n"
          ]
        }
      ],
      "source": [
        "bugYear = bugfix.groupby('year_lastdiffed')\n",
        "print(bugYear['days'].agg(np.mean))"
      ]
    },
    {
      "cell_type": "code",
      "execution_count": null,
      "metadata": {
        "colab": {
          "base_uri": "https://localhost:8080/"
        },
        "id": "SFqyZTe0vHaD",
        "outputId": "95e941eb-ca90-4b85-a34c-ff757faece60"
      },
      "outputs": [
        {
          "output_type": "stream",
          "name": "stdout",
          "text": [
            "year_lastdiffed\n",
            "2009     663\n",
            "2010    4084\n",
            "Name: product_id, dtype: int64\n"
          ]
        }
      ],
      "source": [
        "bugYear = bugfix.groupby('year_lastdiffed')\n",
        "print(bugYear['product_id'].agg(np.count_nonzero))"
      ]
    },
    {
      "cell_type": "markdown",
      "metadata": {
        "id": "21t_UKH5-7Mq"
      },
      "source": [
        "#Outliers\n"
      ]
    },
    {
      "cell_type": "code",
      "execution_count": null,
      "metadata": {
        "colab": {
          "base_uri": "https://localhost:8080/"
        },
        "id": "G91Vj0nkOQ1L",
        "outputId": "b758deff-8a1c-4afe-a47e-fe3414060fdb"
      },
      "outputs": [
        {
          "output_type": "execute_result",
          "data": {
            "text/plain": [
              "count    4747.000000\n",
              "mean       27.358332\n",
              "std        40.299980\n",
              "min         0.000000\n",
              "25%         3.000000\n",
              "50%         9.000000\n",
              "75%        33.000000\n",
              "max       217.000000\n",
              "Name: days, dtype: float64"
            ]
          },
          "metadata": {},
          "execution_count": 46
        }
      ],
      "source": [
        "bugfix['days'].describe()"
      ]
    },
    {
      "cell_type": "code",
      "execution_count": null,
      "metadata": {
        "colab": {
          "base_uri": "https://localhost:8080/",
          "height": 274
        },
        "id": "3zfdpQ6LL3ZN",
        "outputId": "adc884ab-6707-4f8f-f29a-276c9a50171d"
      },
      "outputs": [
        {
          "output_type": "display_data",
          "data": {
            "text/plain": [
              "<Figure size 432x288 with 1 Axes>"
            ],
            "image/png": "[encoded data removed]"
          },
          "metadata": {
            "needs_background": "light"
          }
        }
      ],
      "source": [
        "#Tentar usar o log\n",
        "bugfix.boxplot(column='days', fontsize=20)\n",
        "plt.show()"
      ]
    },
    {
      "cell_type": "code",
      "execution_count": null,
      "metadata": {
        "colab": {
          "base_uri": "https://localhost:8080/"
        },
        "id": "KxHSO7_wY-rQ",
        "outputId": "da185abb-e123-49c2-fd74-c8e678029452"
      },
      "outputs": [
        {
          "output_type": "execute_result",
          "data": {
            "text/plain": [
              "Index(['bug_id', 'assigned_to', 'bug_severity', 'priority', 'bug_status',\n",
              "       'creation_ts', 'delta_ts', 'short_desc', 'op_sys', 'rep_platform',\n",
              "       'reporter', 'version', 'resolution', 'lastdiffed', 'estimated_time',\n",
              "       'product_id', 'component_id', 'short_desc.1', 'comments', 'days',\n",
              "       'year_creation', 'year_creation_n', 'month_creation', 'year_lastdiffed',\n",
              "       'month_lastdiffed', 'creation_s', 'reporter_reputation_new',\n",
              "       'developer_reputation', 'developer_reputation_new'],\n",
              "      dtype='object')"
            ]
          },
          "metadata": {},
          "execution_count": 48
        }
      ],
      "source": [
        "bugfix.columns"
      ]
    },
    {
      "cell_type": "code",
      "execution_count": null,
      "metadata": {
        "colab": {
          "base_uri": "https://localhost:8080/"
        },
        "id": "dXXzidq6-6K0",
        "outputId": "79feda26-e15b-4898-d4c6-6b37080060fa"
      },
      "outputs": [
        {
          "output_type": "stream",
          "name": "stdout",
          "text": [
            "3.0\n",
            "33.0\n"
          ]
        }
      ],
      "source": [
        "quantirl1, quantirl3 = np.percentile(bugfix['days'], [25, 75])\n",
        "print(quantirl1)\n",
        "print(quantirl3)"
      ]
    },
    {
      "cell_type": "code",
      "execution_count": null,
      "metadata": {
        "colab": {
          "base_uri": "https://localhost:8080/"
        },
        "id": "6XQ1plCkNiFY",
        "outputId": "be6a6afa-6423-49e7-a50b-7dcb33ef8f50"
      },
      "outputs": [
        {
          "output_type": "execute_result",
          "data": {
            "text/plain": [
              "(4747, 29)"
            ]
          },
          "metadata": {},
          "execution_count": 50
        }
      ],
      "source": [
        "bugfix.shape"
      ]
    },
    {
      "cell_type": "code",
      "execution_count": null,
      "metadata": {
        "colab": {
          "base_uri": "https://localhost:8080/"
        },
        "id": "l4vd1k8bWulU",
        "outputId": "2325d97f-ff8e-468d-b9ed-cf5090c41cf2"
      },
      "outputs": [
        {
          "output_type": "stream",
          "name": "stdout",
          "text": [
            "maior que o quartil: 1167 zero :316\n"
          ]
        }
      ],
      "source": [
        "bug_q3 = bugfix[bugfix['days'] > quantirl3]\n",
        "bug_q0 = bugfix[bugfix['days'] == 0]\n",
        "\n",
        "\n",
        "print ('maior que o quartil: ' + str(bug_q3['days'].count()) + ' zero :' + str(bug_q0['days'].count()))"
      ]
    },
    {
      "cell_type": "code",
      "execution_count": null,
      "metadata": {
        "colab": {
          "base_uri": "https://localhost:8080/"
        },
        "id": "-euEmtjiT9uW",
        "outputId": "fdc4f8ff-3763-45ba-8ea0-8f62fe8cde0a"
      },
      "outputs": [
        {
          "output_type": "stream",
          "name": "stderr",
          "text": [
            "/usr/local/lib/python3.7/dist-packages/ipykernel_launcher.py:2: UserWarning: Boolean Series key will be reindexed to match DataFrame index.\n",
            "  \n"
          ]
        }
      ],
      "source": [
        "bugfix_filter1 = bugfix[bugfix['days'] < quantirl3]\n",
        "bugfix_filter2 = bugfix_filter1[bugfix['days'] > 0]"
      ]
    },
    {
      "cell_type": "code",
      "execution_count": null,
      "metadata": {
        "colab": {
          "base_uri": "https://localhost:8080/"
        },
        "id": "Byv4gwiQhkz-",
        "outputId": "043a01e4-9b88-475b-e230-f53ac5368646"
      },
      "outputs": [
        {
          "output_type": "execute_result",
          "data": {
            "text/plain": [
              "5.0"
            ]
          },
          "metadata": {},
          "execution_count": 53
        }
      ],
      "source": [
        "#bugfix_filter2['days'].median()\n",
        "bugfix_filter1['days'].median()"
      ]
    },
    {
      "cell_type": "code",
      "execution_count": null,
      "metadata": {
        "id": "v7qYzZ10VYmb",
        "colab": {
          "base_uri": "https://localhost:8080/",
          "height": 35
        },
        "outputId": "c0e08558-35fb-46e6-af2f-c0d3e75300b6"
      },
      "outputs": [
        {
          "output_type": "execute_result",
          "data": {
            "text/plain": [
              "'Counting with zero as outlier'"
            ],
            "application/vnd.google.colaboratory.intrinsic+json": {
              "type": "string"
            }
          },
          "metadata": {},
          "execution_count": 54
        }
      ],
      "source": [
        "median = bugfix_filter1['days'].median()\n",
        "bugfixclass = bugfix_filter1\n",
        "pd.options.mode.chained_assignment = None\n",
        "bugfixclass.loc[bugfixclass['days'] <=median, 'classification'] = 0\n",
        "bugfixclass.loc[bugfixclass['days'] >median, 'classification'] = 1\n",
        "\n",
        "\n",
        "'''Counting with zero as outlier'''\n",
        "#median = bugfix_filter2['days'].median()\n",
        "#bugfixclass = bugfix_filter2\n",
        "#pd.options.mode.chained_assignment = None\n",
        "#bugfixclass.loc[bugfixclass['days'] <=median, 'classification'] = 0\n",
        "#bugfixclass.loc[bugfixclass['days'] >median, 'classification'] = 1\n",
        "\n"
      ]
    },
    {
      "cell_type": "code",
      "execution_count": null,
      "metadata": {
        "colab": {
          "base_uri": "https://localhost:8080/"
        },
        "id": "m1vxImdtgvVU",
        "outputId": "afcefd1b-80ca-4a05-b5ac-8ae12e9f8947"
      },
      "outputs": [
        {
          "output_type": "execute_result",
          "data": {
            "text/plain": [
              "Index(['bug_id', 'assigned_to', 'bug_severity', 'priority', 'bug_status',\n",
              "       'creation_ts', 'delta_ts', 'short_desc', 'op_sys', 'rep_platform',\n",
              "       'reporter', 'version', 'resolution', 'lastdiffed', 'estimated_time',\n",
              "       'product_id', 'component_id', 'short_desc.1', 'comments', 'days',\n",
              "       'year_creation', 'year_creation_n', 'month_creation', 'year_lastdiffed',\n",
              "       'month_lastdiffed', 'creation_s', 'reporter_reputation_new',\n",
              "       'developer_reputation', 'developer_reputation_new', 'classification'],\n",
              "      dtype='object')"
            ]
          },
          "metadata": {},
          "execution_count": 55
        }
      ],
      "source": [
        "bugfixclass.columns"
      ]
    },
    {
      "cell_type": "code",
      "execution_count": null,
      "metadata": {
        "colab": {
          "base_uri": "https://localhost:8080/"
        },
        "id": "bTSNa30We0f1",
        "outputId": "d981613e-ccae-4f45-b9f4-cae1d3b864ce"
      },
      "outputs": [
        {
          "output_type": "execute_result",
          "data": {
            "text/plain": [
              "0.0    1842\n",
              "1.0    1707\n",
              "Name: classification, dtype: int64"
            ]
          },
          "metadata": {},
          "execution_count": 56
        }
      ],
      "source": [
        "bugfixclass['classification'].value_counts()"
      ]
    },
    {
      "cell_type": "code",
      "execution_count": null,
      "metadata": {
        "colab": {
          "base_uri": "https://localhost:8080/"
        },
        "id": "qiksiGadWRz5",
        "outputId": "3c35865f-17c1-4f22-a963-e2e6ddffddad"
      },
      "outputs": [
        {
          "output_type": "execute_result",
          "data": {
            "text/plain": [
              "(3549, 30)"
            ]
          },
          "metadata": {},
          "execution_count": 57
        }
      ],
      "source": [
        "bugfixclass.shape"
      ]
    },
    {
      "cell_type": "code",
      "execution_count": null,
      "metadata": {
        "id": "jtIghORev0pr"
      },
      "outputs": [],
      "source": [
        "#set the less value of each dataset\n",
        "if bugfixclass['classification'].value_counts()[1] < bugfixclass['classification'].value_counts()[0]:\n",
        "  excess = bugfixclass[bugfixclass['classification']==0][bugfixclass['classification'].value_counts()[1]:]\n",
        "else:\n",
        "  excess = bugfixclass[bugfixclass['classification']==0][bugfixclass['classification'].value_counts()[0]:]"
      ]
    },
    {
      "cell_type": "code",
      "execution_count": null,
      "metadata": {
        "id": "yiWFdRqhyheh"
      },
      "outputs": [],
      "source": [
        "bugfixclass = bugfixclass.drop(excess.index)"
      ]
    },
    {
      "cell_type": "code",
      "source": [
        "bugfixclass = bugfixclass.reset_index(drop = True)"
      ],
      "metadata": {
        "id": "6e2fgAvl3EEv"
      },
      "execution_count": null,
      "outputs": []
    },
    {
      "cell_type": "code",
      "execution_count": null,
      "metadata": {
        "colab": {
          "base_uri": "https://localhost:8080/"
        },
        "id": "DEbY-TThzV7l",
        "outputId": "ffff2443-e33e-4124-a721-3ff5401544b4"
      },
      "outputs": [
        {
          "output_type": "execute_result",
          "data": {
            "text/plain": [
              "1.0    1707\n",
              "0.0    1707\n",
              "Name: classification, dtype: int64"
            ]
          },
          "metadata": {},
          "execution_count": 61
        }
      ],
      "source": [
        "bugfixclass['classification'].value_counts()"
      ]
    },
    {
      "cell_type": "code",
      "execution_count": null,
      "metadata": {
        "colab": {
          "base_uri": "https://localhost:8080/"
        },
        "id": "Jg5wB37izg65",
        "outputId": "f64ca155-87f3-49cf-c566-59e35b5e1911"
      },
      "outputs": [
        {
          "output_type": "execute_result",
          "data": {
            "text/plain": [
              "3414"
            ]
          },
          "metadata": {},
          "execution_count": 62
        }
      ],
      "source": [
        "len(bugfixclass)"
      ]
    },
    {
      "cell_type": "code",
      "execution_count": null,
      "metadata": {
        "colab": {
          "base_uri": "https://localhost:8080/"
        },
        "id": "mep8z2g475KY",
        "outputId": "21b6106e-6131-477e-b8a7-6b1117204292"
      },
      "outputs": [
        {
          "output_type": "execute_result",
          "data": {
            "text/plain": [
              "1.0    1707\n",
              "0.0    1707\n",
              "Name: classification, dtype: int64"
            ]
          },
          "metadata": {},
          "execution_count": 63
        }
      ],
      "source": [
        "bugfixclass['classification'].value_counts()"
      ]
    },
    {
      "cell_type": "code",
      "execution_count": null,
      "metadata": {
        "colab": {
          "base_uri": "https://localhost:8080/"
        },
        "id": "QPK-vc5ffP7M",
        "outputId": "183b973e-2e4c-46da-881e-abe369f8fef9"
      },
      "outputs": [
        {
          "output_type": "execute_result",
          "data": {
            "text/plain": [
              "count    3414.000000\n",
              "mean        8.364968\n",
              "std         8.246695\n",
              "min         0.000000\n",
              "25%         2.000000\n",
              "50%         5.500000\n",
              "75%        13.000000\n",
              "max        32.000000\n",
              "Name: days, dtype: float64"
            ]
          },
          "metadata": {},
          "execution_count": 64
        }
      ],
      "source": [
        "bugfixclass['days'].describe()"
      ]
    },
    {
      "cell_type": "code",
      "execution_count": null,
      "metadata": {
        "colab": {
          "base_uri": "https://localhost:8080/"
        },
        "id": "6yz-mrw0C_fW",
        "outputId": "178952f9-6f47-4eac-e1a7-39c90d174c2f"
      },
      "outputs": [
        {
          "output_type": "execute_result",
          "data": {
            "text/plain": [
              "Index(['bug_id', 'assigned_to', 'bug_severity', 'priority', 'bug_status',\n",
              "       'creation_ts', 'delta_ts', 'short_desc', 'op_sys', 'rep_platform',\n",
              "       'reporter', 'version', 'resolution', 'lastdiffed', 'estimated_time',\n",
              "       'product_id', 'component_id', 'short_desc.1', 'comments', 'days',\n",
              "       'year_creation', 'year_creation_n', 'month_creation', 'year_lastdiffed',\n",
              "       'month_lastdiffed', 'creation_s', 'reporter_reputation_new',\n",
              "       'developer_reputation', 'developer_reputation_new', 'classification'],\n",
              "      dtype='object')"
            ]
          },
          "metadata": {},
          "execution_count": 65
        }
      ],
      "source": [
        "bugfixclass.columns"
      ]
    },
    {
      "cell_type": "markdown",
      "metadata": {
        "id": "N09KxOA0sN7H"
      },
      "source": [
        "#Ratings"
      ]
    },
    {
      "cell_type": "code",
      "execution_count": null,
      "metadata": {
        "id": "fpfQEEyK4kX_",
        "colab": {
          "base_uri": "https://localhost:8080/"
        },
        "outputId": "ee1387df-7405-4b65-e739-0ebcf963cc4d"
      },
      "outputs": [
        {
          "output_type": "execute_result",
          "data": {
            "text/plain": [
              "5.0"
            ]
          },
          "metadata": {},
          "execution_count": 66
        }
      ],
      "source": [
        "median"
      ]
    },
    {
      "cell_type": "code",
      "execution_count": null,
      "metadata": {
        "colab": {
          "base_uri": "https://localhost:8080/",
          "height": 53
        },
        "id": "5-UYFMGMGfeG",
        "outputId": "8a50f375-dd38-462c-e33d-bab30d3866ac"
      },
      "outputs": [
        {
          "output_type": "execute_result",
          "data": {
            "text/plain": [
              "\"\\nfirst = 1\\nsecond = np.percentile(bugfixclass['days'], [25])\\nthird = np.percentile(bugfixclass['days'], [50])\\nfourth = np.percentile(bugfixclass['days'], [75])\\nnp.percentile(bugfixclass['days'], [25, 50, 75])\\n\""
            ],
            "application/vnd.google.colaboratory.intrinsic+json": {
              "type": "string"
            }
          },
          "metadata": {},
          "execution_count": 67
        }
      ],
      "source": [
        "first = 1\n",
        "second = np.percentile(bugfixclass['days'], [25])\n",
        "third = np.percentile(bugfixclass['days'], [50])\n",
        "fourth = np.percentile(bugfixclass['days'], [75])\n",
        "np.percentile(bugfixclass['days'], [25, 50, 75])"
      ]
    },
    {
      "cell_type": "code",
      "execution_count": null,
      "metadata": {
        "colab": {
          "base_uri": "https://localhost:8080/",
          "height": 70
        },
        "id": "VppcHrKwGjCj",
        "outputId": "e7c90973-c93d-40b1-dcd9-c605118b67a8"
      },
      "outputs": [
        {
          "output_type": "execute_result",
          "data": {
            "text/plain": [
              "\"\\nbugfixclass.loc[(bugfixclass['days'] <= int(first)), 'ratings'] = 1\\nbugfixclass.loc[(bugfixclass['days'] > int(first)) & (bugfixclass['days'] <= int(second)) , 'ratings'] = 2\\nbugfixclass.loc[(bugfixclass['days'] > int(second)) & (bugfixclass['days'] <= int(third)), 'ratings'] = 3\\nbugfixclass.loc[(bugfixclass['days'] > int(third)) & (bugfixclass['days'] <= int(fourth)), 'ratings'] = 4\\nbugfixclass.loc[bugfixclass['days'] > int(fourth), 'ratings'] = 5\\n\""
            ],
            "application/vnd.google.colaboratory.intrinsic+json": {
              "type": "string"
            }
          },
          "metadata": {},
          "execution_count": 68
        }
      ],
      "source": [
        "bugfixclass.loc[(bugfixclass['days'] <= int(first)), 'ratings'] = 5\n",
        "bugfixclass.loc[(bugfixclass['days'] > int(first)) & (bugfixclass['days'] <= int(second)) , 'ratings'] = 4\n",
        "bugfixclass.loc[(bugfixclass['days'] > int(second)) & (bugfixclass['days'] <= int(third)), 'ratings'] = 3\n",
        "bugfixclass.loc[(bugfixclass['days'] > int(third)) & (bugfixclass['days'] <= int(fourth)), 'ratings'] = 2\n",
        "bugfixclass.loc[bugfixclass['days'] > int(fourth), 'ratings'] = 1"
      ]
    },
    {
      "cell_type": "code",
      "execution_count": null,
      "metadata": {
        "colab": {
          "base_uri": "https://localhost:8080/"
        },
        "id": "KyZBkHbmwbpo",
        "outputId": "052f21a6-de36-4d10-fbd7-08d664191136"
      },
      "outputs": [
        {
          "output_type": "execute_result",
          "data": {
            "text/plain": [
              "2.0    905\n",
              "1.0    802\n",
              "5.0    720\n",
              "3.0    660\n",
              "4.0    327\n",
              "Name: ratings, dtype: int64"
            ]
          },
          "metadata": {},
          "execution_count": 69
        }
      ],
      "source": [
        "bugfixclass['ratings'].value_counts()"
      ]
    },
    {
      "cell_type": "code",
      "execution_count": null,
      "metadata": {
        "id": "1xRXmb0ZsQ9K"
      },
      "outputs": [],
      "source": [
        "list_rating_user = []\n",
        "def rating_calculate(index, bug_id, user, resolution, time):\n",
        "  if len(list_rating_user) == 0:\n",
        "    #print('inicializando lista')\n",
        "    rating_dic = {}\n",
        "    rating_dic['index']=index\n",
        "    rating_dic['user'] = user\n",
        "    rating_dic['resolution'] = resolution\n",
        "    rating_dic['day'] = time\n",
        "    rating_dic['number_bug'] = 1\n",
        "    if time <= int(first):\n",
        "      rating_dic['rating'] = 1\n",
        "    elif time > int(first) and time <= int(second):\n",
        "      rating_dic['rating'] = 2\n",
        "    elif time > int(second) and time <= int(third):\n",
        "      rating_dic['rating'] = 3\n",
        "    elif time > int(third) and time <= int(fourth):\n",
        "      rating_dic['rating'] = 4\n",
        "    else:\n",
        "      rating_dic['rating'] = 5\n",
        "    list_rating_user.append(rating_dic.copy())\n",
        "    #print('inicializou ' + str(user) + ' rating ' + str(3))\n",
        "    return 3\n",
        "\n",
        "\n",
        "\n",
        "  for lista in list_rating_user :\n",
        "    if lista['user'] == user:\n",
        "      index_aux= lista['index']\n",
        "      prior_rating = lista['rating']\n",
        "      list_rating_user[index_aux]['number_bug'] = lista['number_bug']+1\n",
        "      new_rating = 0\n",
        "      if time <= int(first):\n",
        "        new_rating = 1\n",
        "      elif time > int(first) and time <= int(second):\n",
        "        new_rating = 2\n",
        "      elif time > int(second) and time <= int(third):\n",
        "        new_rating = 3\n",
        "      elif time > int(third) and time <= int(fourth):\n",
        "        new_rating = 4\n",
        "      else:\n",
        "        new_rating = 5\n",
        "\n",
        "      list_rating_user[index_aux]['rating']=new_rating\n",
        "      return prior_rating\n",
        "\n",
        "\n",
        "  for lista in list_rating_user :\n",
        "    rating_dic = {}\n",
        "    rating_dic['index']=index\n",
        "    rating_dic['user'] = user\n",
        "    rating_dic['resolution'] = resolution\n",
        "    rating_dic['day'] = time\n",
        "    rating_dic['number_bug'] = 1\n",
        "    if time <= int(first):\n",
        "      rating_dic['rating'] = 1\n",
        "    elif time > int(first) and time <= int(second):\n",
        "      rating_dic['rating'] = 2\n",
        "    elif time > int(second) and time <= int(third):\n",
        "      rating_dic['rating'] = 3\n",
        "    elif time > int(third) and time <= int(fourth):\n",
        "      rating_dic['rating'] = 4\n",
        "    else:\n",
        "      rating_dic['rating'] = 5\n",
        "    list_rating_user.append(rating_dic.copy())\n",
        "    return 3\n"
      ]
    },
    {
      "cell_type": "code",
      "execution_count": null,
      "metadata": {
        "id": "B-g8KfT19R8X"
      },
      "outputs": [],
      "source": [
        "#Average ratings\n",
        "list_rating_avarege_user = []\n",
        "def average_rating_calculate(index, bug_id, user, resolution, time):\n",
        "  if len(list_rating_avarege_user) == 0:\n",
        "    rating_dic = {}\n",
        "    rating_dic['index']=index\n",
        "    rating_dic['user'] = user\n",
        "    rating_dic['resolution'] = resolution\n",
        "    rating_dic['day'] = time\n",
        "    rating_dic['number_bug'] = 1\n",
        "    rating_dic['average'] = 3\n",
        "    if time <= int(first):\n",
        "      rating_dic['rating'] = 1\n",
        "    elif time > int(first) and time <= int(second):\n",
        "      rating_dic['rating'] = 2\n",
        "    elif time > int(second) and time <= int(third):\n",
        "      rating_dic['rating'] = 3\n",
        "    elif time > int(third) and time <= int(fourth):\n",
        "      rating_dic['rating'] = 4\n",
        "    else:\n",
        "      rating_dic['rating'] = 5\n",
        "    rating_dic['sum'] = rating_dic['rating']\n",
        "    list_rating_avarege_user.append(rating_dic.copy())\n",
        "    return rating_dic['average']\n",
        "\n",
        "\n",
        "\n",
        "  for lista in list_rating_avarege_user :\n",
        "    if lista['user'] == user:\n",
        "      index_aux= lista['index']\n",
        "      prior_rating = lista['rating']\n",
        "      list_rating_avarege_user[index_aux]['average'] = list_rating_avarege_user[index_aux]['sum']/list_rating_avarege_user[index_aux]['number_bug']\n",
        "\n",
        "      #computing the new values\n",
        "      new_rating = 0\n",
        "      if time <= int(first):\n",
        "        new_rating = 1\n",
        "      elif time > int(first) and time <= int(second):\n",
        "        new_rating = 2\n",
        "      elif time > int(second) and time <= int(third):\n",
        "        new_rating = 3\n",
        "      elif time > int(third) and time <= int(fourth):\n",
        "        new_rating = 4\n",
        "      else:\n",
        "        new_rating = 5\n",
        "\n",
        "      list_rating_avarege_user[index_aux]['number_bug'] = lista['number_bug']+1\n",
        "      list_rating_avarege_user[index_aux]['rating']=new_rating\n",
        "      list_rating_avarege_user[index_aux]['sum']=new_rating+list_rating_avarege_user[index_aux]['sum']\n",
        "      return list_rating_avarege_user[index_aux]['average']\n",
        "\n",
        "\n",
        "  for lista in list_rating_avarege_user :\n",
        "    rating_dic = {}\n",
        "    rating_dic['index']=index\n",
        "    rating_dic['user'] = user\n",
        "    rating_dic['resolution'] = resolution\n",
        "    rating_dic['day'] = time\n",
        "    rating_dic['number_bug'] = 1\n",
        "    rating_dic['average'] = 3\n",
        "    if time <= int(first):\n",
        "      rating_dic['rating'] = 1\n",
        "    elif time > int(first) and time <= int(second):\n",
        "      rating_dic['rating'] = 2\n",
        "    elif time > int(second) and time <= int(third):\n",
        "      rating_dic['rating'] = 3\n",
        "    elif time > int(third) and time <= int(fourth):\n",
        "      rating_dic['rating'] = 4\n",
        "    else:\n",
        "      rating_dic['rating'] = 5\n",
        "    rating_dic['sum'] = rating_dic['rating']\n",
        "    list_rating_avarege_user.append(rating_dic.copy())\n",
        "    return rating_dic['average']"
      ]
    },
    {
      "cell_type": "code",
      "execution_count": null,
      "metadata": {
        "colab": {
          "base_uri": "https://localhost:8080/"
        },
        "id": "yDEO3UKQ7dtg",
        "outputId": "5d68e31b-7c47-4940-dc1c-0db3004fcc97"
      },
      "outputs": [
        {
          "output_type": "execute_result",
          "data": {
            "text/plain": [
              "['bug_id',\n",
              " 'assigned_to',\n",
              " 'bug_severity',\n",
              " 'priority',\n",
              " 'bug_status',\n",
              " 'creation_ts',\n",
              " 'delta_ts',\n",
              " 'short_desc',\n",
              " 'op_sys',\n",
              " 'rep_platform',\n",
              " 'reporter',\n",
              " 'version',\n",
              " 'resolution',\n",
              " 'lastdiffed',\n",
              " 'estimated_time',\n",
              " 'product_id',\n",
              " 'component_id',\n",
              " 'short_desc.1',\n",
              " 'comments',\n",
              " 'days',\n",
              " 'year_creation',\n",
              " 'year_creation_n',\n",
              " 'month_creation',\n",
              " 'year_lastdiffed',\n",
              " 'month_lastdiffed',\n",
              " 'creation_s',\n",
              " 'reporter_reputation_new',\n",
              " 'developer_reputation',\n",
              " 'developer_reputation_new',\n",
              " 'classification',\n",
              " 'ratings']"
            ]
          },
          "metadata": {},
          "execution_count": 72
        }
      ],
      "source": [
        "list(bugfixclass.columns)\n"
      ]
    },
    {
      "cell_type": "code",
      "execution_count": null,
      "metadata": {
        "colab": {
          "base_uri": "https://localhost:8080/"
        },
        "id": "GXySS8BJvJl0",
        "outputId": "34701c8c-0c76-448f-ff0f-3c548bfe89c1"
      },
      "outputs": [
        {
          "output_type": "stream",
          "name": "stdout",
          "text": [
            "Start reporter rating calculate number of bugs3414\n",
            "End reporter rating  calculate\n"
          ]
        }
      ],
      "source": [
        "#Rating\n",
        "list_rating_user.clear\n",
        "i=0\n",
        "index=0\n",
        "print('Start reporter rating calculate number of bugs' + str(bugfixclass.shape[0]))\n",
        "for indexz, bug in bugfixclass.iterrows() :\n",
        "   rating_var = rating_calculate(index, bug['bug_id'], bug['reporter'], bug['resolution'], bug['days'])\n",
        "   index= len(list_rating_user)\n",
        "   bugfixclass.loc[indexz, 'rating_reporter'] = rating_var\n",
        "   i=i+1\n",
        "\n",
        "print ('End reporter rating  calculate')\n",
        "\n"
      ]
    },
    {
      "cell_type": "code",
      "execution_count": null,
      "metadata": {
        "colab": {
          "base_uri": "https://localhost:8080/"
        },
        "id": "wSRdFBDP9VD9",
        "outputId": "70e30ef9-9819-42c9-fe47-c2318d64a67b"
      },
      "outputs": [
        {
          "output_type": "stream",
          "name": "stdout",
          "text": [
            "Start reporter rating calculate number of bugs3414\n",
            "End reporter rating  calculate\n"
          ]
        }
      ],
      "source": [
        "#average\n",
        "list_rating_avarege_user.clear\n",
        "i=0\n",
        "index=0\n",
        "print('Start reporter rating calculate number of bugs' + str(bugfixclass.shape[0]))\n",
        "for indexz, bug in bugfixclass.iterrows() :\n",
        "   rating_var = average_rating_calculate(index, bug['bug_id'], bug['reporter'], bug['resolution'], bug['days'])\n",
        "   index= len(list_rating_avarege_user)\n",
        "   bugfixclass.loc[indexz, 'rating_avg_reporter'] = rating_var\n",
        "   i=i+1\n",
        "\n",
        "print ('End reporter rating  calculate')\n",
        "\n"
      ]
    },
    {
      "cell_type": "code",
      "execution_count": null,
      "metadata": {
        "colab": {
          "base_uri": "https://localhost:8080/"
        },
        "id": "oX0Eq7lT-8B-",
        "outputId": "0727ee49-c1a3-448b-fd98-b2ce3f954c24"
      },
      "outputs": [
        {
          "output_type": "stream",
          "name": "stdout",
          "text": [
            "Start developer rating calculate number of bugs3414\n",
            "End developer rating  calculate\n"
          ]
        }
      ],
      "source": [
        "#average assigned_to\n",
        "list_rating_avarege_user.clear\n",
        "i=0\n",
        "index=0\n",
        "print('Start developer rating calculate number of bugs' + str(bugfixclass.shape[0]))\n",
        "for indexz, bug in bugfixclass.iterrows() :\n",
        "   rating_var = average_rating_calculate(index, bug['bug_id'], bug['assigned_to'], bug['resolution'], bug['days'])\n",
        "   index= len(list_rating_avarege_user)\n",
        "   bugfixclass.loc[indexz, 'rating_avg_developer'] = rating_var\n",
        "   i=i+1\n",
        "\n",
        "print ('End developer rating  calculate')\n",
        "\n"
      ]
    },
    {
      "cell_type": "code",
      "execution_count": null,
      "metadata": {
        "colab": {
          "base_uri": "https://localhost:8080/"
        },
        "id": "djFxBJqG13Ar",
        "outputId": "49ebb7f6-ee89-4b1d-c2d1-1127ff7ea0bf"
      },
      "outputs": [
        {
          "output_type": "stream",
          "name": "stdout",
          "text": [
            "Start developer rating calculate number of bugs3414\n",
            "End developer rating  calculate\n"
          ]
        }
      ],
      "source": [
        "#Rating\n",
        "list_rating_user.clear\n",
        "i=0\n",
        "index=0\n",
        "print('Start developer rating calculate number of bugs' + str(bugfixclass.shape[0]))\n",
        "for indexz, bug in bugfixclass.iterrows() :\n",
        "   rating_var = rating_calculate(index, bug['bug_id'], bug['assigned_to'], bug['resolution'], bug['days'])\n",
        "   index= len(list_rating_user)\n",
        "   bugfixclass.loc[indexz, 'rating_developer'] = rating_var\n",
        "   i=i+1\n",
        "\n",
        "print ('End developer rating  calculate')\n",
        "\n"
      ]
    },
    {
      "cell_type": "markdown",
      "metadata": {
        "id": "_tgiYq6DO7l1"
      },
      "source": [
        "#Correlação - Spearman - before outliers\n"
      ]
    },
    {
      "cell_type": "code",
      "execution_count": null,
      "metadata": {
        "id": "3GYzn0D3O_HT"
      },
      "outputs": [],
      "source": [
        "import scipy.stats"
      ]
    },
    {
      "cell_type": "code",
      "execution_count": null,
      "metadata": {
        "colab": {
          "base_uri": "https://localhost:8080/"
        },
        "id": "6hiClK2TPAXl",
        "outputId": "5f92f5b2-7e58-41d8-ba32-c2b21b35ca88"
      },
      "outputs": [
        {
          "output_type": "stream",
          "name": "stdout",
          "text": [
            "reporter  SpearmanrResult(correlation=0.031363988150308296, pvalue=0.06689779152147)\n",
            "priority  SpearmanrResult(correlation=-0.04533805603165615, pvalue=0.008061819799253392)\n",
            "bug_severity  SpearmanrResult(correlation=nan, pvalue=nan)\n",
            "assigned_to  SpearmanrResult(correlation=0.025216546300487357, pvalue=0.14072853210552724)\n",
            "reporter reputation  SpearmanrResult(correlation=-0.013660800196185914, pvalue=0.4249065283756286)\n",
            "developer reputation  SpearmanrResult(correlation=-0.033653143788328566, pvalue=0.049278824846618954)\n",
            "rating reporter  SpearmanrResult(correlation=0.23067103436061248, pvalue=1.818057253365237e-42)\n",
            "rating developer  SpearmanrResult(correlation=0.23830471011877147, pvalue=2.746549530753681e-45)\n",
            "rating_avg_reporter  SpearmanrResult(correlation=0.20710795471990315, pvalue=2.1600707814301455e-34)\n",
            "rating_avg_developer  SpearmanrResult(correlation=0.2192694412884903, pvalue=1.9276255988083957e-38)\n"
          ]
        },
        {
          "output_type": "stream",
          "name": "stderr",
          "text": [
            "/usr/local/lib/python3.7/dist-packages/numpy/lib/function_base.py:2691: RuntimeWarning: invalid value encountered in true_divide\n",
            "  c /= stddev[:, None]\n",
            "/usr/local/lib/python3.7/dist-packages/numpy/lib/function_base.py:2692: RuntimeWarning: invalid value encountered in true_divide\n",
            "  c /= stddev[None, :]\n"
          ]
        }
      ],
      "source": [
        "v_reporter = scipy.stats.spearmanr(bugfixclass['reporter'].astype('category'), bugfixclass['days'])\n",
        "v_priority = scipy.stats.spearmanr(bugfixclass['priority'].astype('category'), bugfixclass['days'])\n",
        "v_bug_severity=scipy.stats.spearmanr(bugfixclass['bug_severity'].astype('category'), bugfixclass['days'])\n",
        "v_assigned_to=scipy.stats.spearmanr(bugfixclass['assigned_to'].astype('category'), bugfixclass['days'])\n",
        "v_reporter_reputation=scipy.stats.spearmanr(bugfixclass['reporter_reputation_new'].astype('category'), bugfixclass['days'])\n",
        "v_developer_reputation=scipy.stats.spearmanr(bugfixclass['developer_reputation_new'].astype('category'), bugfixclass['days'])\n",
        "v_rating_user=scipy.stats.spearmanr(bugfixclass['rating_reporter'].astype('category'), bugfixclass['days'])\n",
        "v_rating_developer=scipy.stats.spearmanr(bugfixclass['rating_developer'].astype('category'), bugfixclass['days'])\n",
        "v_rating_avg_reporter=scipy.stats.spearmanr(bugfixclass['rating_avg_reporter'].astype('category'), bugfixclass['days'])\n",
        "v_rating_avg_developer=scipy.stats.spearmanr(bugfixclass['rating_avg_developer'].astype('category'), bugfixclass['days'])\n",
        "\n",
        "print ('reporter ', v_reporter)\n",
        "print ('priority ', v_priority)\n",
        "print ('bug_severity ', v_bug_severity)\n",
        "print ('assigned_to ', v_assigned_to)\n",
        "print ('reporter reputation ', v_reporter_reputation)\n",
        "print ('developer reputation ', v_developer_reputation)\n",
        "print ('rating reporter ', v_rating_user)\n",
        "print ('rating developer ', v_rating_developer)\n",
        "print ('rating_avg_reporter ', v_rating_avg_reporter)\n",
        "print ('rating_avg_developer ', v_rating_avg_developer)\n"
      ]
    },
    {
      "cell_type": "code",
      "execution_count": null,
      "metadata": {
        "colab": {
          "base_uri": "https://localhost:8080/",
          "height": 885
        },
        "id": "KPyQ1fZi8YAi",
        "outputId": "1bbd36ca-5cab-491f-ef3b-83eef33332df"
      },
      "outputs": [
        {
          "output_type": "stream",
          "name": "stderr",
          "text": [
            "No handles with labels found to put in legend.\n"
          ]
        },
        {
          "output_type": "display_data",
          "data": {
            "text/plain": [
              "<Figure size 3600x2160 with 1 Axes>"
            ],
            "image/png": "[encoded data removed]"
          },
          "metadata": {
            "needs_background": "light"
          }
        }
      ],
      "source": [
        "import matplotlib.pyplot as plt\n",
        "%matplotlib inline\n",
        "\n",
        "\n",
        "plt.rcParams.update({'font.size': 32})\n",
        "\n",
        "\n",
        "features = ['Reporter', 'Priority', 'Severity', 'Developer', 'Reporter Reputation', 'Developer Reputation', 'Rating Reporter', 'Rating Developer', 'Rating AVG Reporter', 'Rating AVG Developer']\n",
        "values = [v_reporter.correlation, v_priority.correlation, v_bug_severity.correlation, v_assigned_to.correlation,  v_reporter_reputation.correlation, v_developer_reputation.correlation, v_rating_user.correlation, v_rating_developer.correlation,  v_rating_avg_reporter.correlation, v_rating_avg_developer.correlation]\n",
        "\n",
        "plt.figure(figsize=(50,30))\n",
        "\n",
        "# creating the bar plot\n",
        "plt.bar(features, values)\n",
        "\n",
        "plt.xlabel(\"Features\", fontsize = 50)\n",
        "plt.ylabel(\"values\", fontsize = 50)\n",
        "plt.title(\"correlation\", fontsize = 50)\n",
        "plt.xticks(rotation=45)\n",
        "plt.legend(fontsize = 100)\n",
        "\n",
        "plt.show()"
      ]
    },
    {
      "cell_type": "code",
      "execution_count": null,
      "metadata": {
        "id": "zZTmVNNIowwc"
      },
      "outputs": [],
      "source": []
    },
    {
      "cell_type": "markdown",
      "metadata": {
        "id": "Nm4Dq2LLwIj6"
      },
      "source": [
        "#Texts"
      ]
    },
    {
      "cell_type": "code",
      "execution_count": null,
      "metadata": {
        "colab": {
          "base_uri": "https://localhost:8080/"
        },
        "id": "xBoKRn8AyUya",
        "outputId": "5881d9db-d194-49d6-a0f2-0f270e13efcb"
      },
      "outputs": [
        {
          "output_type": "stream",
          "name": "stderr",
          "text": [
            "[nltk_data] Downloading package punkt to /root/nltk_data...\n",
            "[nltk_data]   Unzipping tokenizers/punkt.zip.\n",
            "[nltk_data] Downloading package averaged_perceptron_tagger to\n",
            "[nltk_data]     /root/nltk_data...\n",
            "[nltk_data]   Unzipping taggers/averaged_perceptron_tagger.zip.\n",
            "[nltk_data] Downloading package tagsets to /root/nltk_data...\n",
            "[nltk_data]   Unzipping help/tagsets.zip.\n",
            "[nltk_data] Downloading package stopwords to /root/nltk_data...\n",
            "[nltk_data]   Unzipping corpora/stopwords.zip.\n",
            "[nltk_data] Downloading package wordnet to /root/nltk_data...\n",
            "[nltk_data]   Unzipping corpora/wordnet.zip.\n"
          ]
        }
      ],
      "source": [
        "nltk.download('punkt')\n",
        "nltk.download('averaged_perceptron_tagger')\n",
        "nltk.download('tagsets')\n",
        "nltk.download(\"stopwords\")\n",
        "nltk.download('wordnet')\n",
        "from nltk.tokenize import RegexpTokenizer\n",
        "from nltk.stem import WordNetLemmatizer,PorterStemmer\n",
        "from nltk.corpus import stopwords\n",
        "import re\n",
        "lemmatizer = WordNetLemmatizer()\n",
        "stemmer = PorterStemmer()\n"
      ]
    },
    {
      "cell_type": "code",
      "execution_count": null,
      "metadata": {
        "id": "imEKU453xoIG"
      },
      "outputs": [],
      "source": [
        "def preprocess(sentence):\n",
        "    sentence=str(sentence)\n",
        "    sentence = sentence.lower()\n",
        "    sentence=sentence.replace('{html}',\"\")\n",
        "    cleanr = re.compile('<.*?>')\n",
        "    cleantext = re.sub(cleanr, '', sentence)\n",
        "    rem_url=re.sub(r'http\\S+', '',cleantext)\n",
        "    rem_num = re.sub('[0-9]+', '', rem_url)\n",
        "    tokenizer = RegexpTokenizer(r'\\w+')\n",
        "    tokens = tokenizer.tokenize(rem_num)\n",
        "    filtered_words = [w for w in tokens if len(w) > 2 if not w in stopwords.words('english')]\n",
        "    stem_words=[stemmer.stem(w) for w in filtered_words]\n",
        "    #lemma_words=[lemmatizer.lemmatize(w) for w in stem_words]\n",
        "    return \" \".join(stem_words)"
      ]
    },
    {
      "cell_type": "code",
      "execution_count": null,
      "metadata": {
        "id": "0UnrRluutVng"
      },
      "outputs": [],
      "source": [
        "def getchunks(iterable, chunk_size):\n",
        "    size = len(iterable)\n",
        "    if size < chunk_size:\n",
        "        yield iterable\n",
        "    chunks_nb = int(size / chunk_size)\n",
        "    iter_ints = range(0, chunks_nb)\n",
        "    for i in iter_ints:\n",
        "        j = i * chunk_size\n",
        "        if i+1 < chunks_nb:\n",
        "            k = j + chunk_size\n",
        "            yield iterable[j:k]\n",
        "        else:\n",
        "            yield iterable[j:]"
      ]
    },
    {
      "cell_type": "code",
      "execution_count": null,
      "metadata": {
        "id": "0342eRFdUcFZ"
      },
      "outputs": [],
      "source": [
        "bugfixclass['summary_plus_comment']= bugfixclass['short_desc']+\" \" +bugfixclass['comments']"
      ]
    },
    {
      "cell_type": "code",
      "execution_count": null,
      "metadata": {
        "id": "vU6KMOugxpyQ"
      },
      "outputs": [],
      "source": [
        "bugfixclass['summary_plus_comment_tok']= np.array(bugfixclass['summary_plus_comment'].map(lambda s:preprocess(s)))"
      ]
    },
    {
      "cell_type": "markdown",
      "metadata": {
        "id": "aacn1eVXsdwk"
      },
      "source": [
        "#TF-IDF"
      ]
    },
    {
      "cell_type": "code",
      "execution_count": null,
      "metadata": {
        "id": "Qt7-EuoustAt"
      },
      "outputs": [],
      "source": [
        "from sklearn.feature_extraction.text import TfidfVectorizer\n",
        "tfidf = TfidfVectorizer(max_features=1000, stop_words='english')"
      ]
    },
    {
      "cell_type": "code",
      "execution_count": null,
      "metadata": {
        "id": "L-elK5mvs0Y3"
      },
      "outputs": [],
      "source": [
        "dtm_chunked = []\n",
        "for chunk in getchunks(bugfixclass['summary_plus_comment_tok'], bugfixclass.shape[0]):\n",
        "    dtm_chunked.append(tfidf.fit_transform(chunk))"
      ]
    },
    {
      "cell_type": "code",
      "execution_count": null,
      "metadata": {
        "id": "dHwMRwPjs2dv"
      },
      "outputs": [],
      "source": [
        "# matrices concates\n",
        "from scipy import sparse\n",
        "dtm = sparse.vstack(dtm_chunked)"
      ]
    },
    {
      "cell_type": "code",
      "execution_count": null,
      "metadata": {
        "colab": {
          "base_uri": "https://localhost:8080/"
        },
        "id": "CcZaTzJ9s6xr",
        "outputId": "bba5fb83-f5a2-4688-9fce-841d21835db2"
      },
      "outputs": [
        {
          "output_type": "stream",
          "name": "stderr",
          "text": [
            "/usr/local/lib/python3.7/dist-packages/sklearn/utils/deprecation.py:87: FutureWarning: Function get_feature_names is deprecated; get_feature_names is deprecated in 1.0 and will be removed in 1.2. Please use get_feature_names_out instead.\n",
            "  warnings.warn(msg, category=FutureWarning)\n"
          ]
        }
      ],
      "source": [
        "X_text = pd.DataFrame(dtm.toarray(), columns=tfidf.get_feature_names())"
      ]
    },
    {
      "cell_type": "markdown",
      "metadata": {
        "id": "CRBo_yaqDBEY"
      },
      "source": [
        "# Cosine Similarity"
      ]
    },
    {
      "cell_type": "code",
      "execution_count": null,
      "metadata": {
        "id": "zMhhcaNOHz9v"
      },
      "outputs": [],
      "source": [
        "indices = pd.Series(bugfixclass.index, index=bugfixclass['bug_id']).drop_duplicates()"
      ]
    },
    {
      "cell_type": "code",
      "execution_count": null,
      "metadata": {
        "id": "xWj4Ig8FBxF9",
        "colab": {
          "base_uri": "https://localhost:8080/"
        },
        "outputId": "42a1ce6c-e37e-4a75-89a5-3b94ee91e524"
      },
      "outputs": [
        {
          "output_type": "execute_result",
          "data": {
            "text/plain": [
              "RangeIndex(start=0, stop=3414, step=1)"
            ]
          },
          "metadata": {},
          "execution_count": 90
        }
      ],
      "source": [
        "bugfixclass.index"
      ]
    },
    {
      "cell_type": "code",
      "execution_count": null,
      "metadata": {
        "id": "z2yf1JcwMaGY"
      },
      "outputs": [],
      "source": [
        "cosine_sim = 0"
      ]
    },
    {
      "cell_type": "code",
      "execution_count": null,
      "metadata": {
        "id": "6dS_YLsADES1"
      },
      "outputs": [],
      "source": [
        "from sklearn.metrics.pairwise import linear_kernel\n",
        "def calcule_similarity_text(matriz):\n",
        "  return linear_kernel(matriz, matriz)"
      ]
    },
    {
      "cell_type": "code",
      "execution_count": null,
      "metadata": {
        "id": "Fqv8m2bNDxn8"
      },
      "outputs": [],
      "source": [
        "def content_recommender(bug_id, cosine_sim=cosine_sim, df=bugfixclass, indices=indices):\n",
        "  idx = indices[bug_id]\n",
        "  sim_scores = list(enumerate(cosine_sim[idx]))\n",
        "  sim_scores = sorted(sim_scores, key=lambda x: x[1], reverse=True)\n",
        "\n",
        "  if len(sim_scores) > 5:\n",
        "    sim_scores = sim_scores[1:4]\n",
        "  else:\n",
        "    sim_scores = sim_scores[1:len(sim_scores)+1]\n",
        "  #bug_indices = [i[0] for i in sim_scores]\n",
        "\n",
        "  bug_indices = []\n",
        "  for i in sim_scores:\n",
        "    if i[1] > 0.1:\n",
        "      bug_indices.append(i[0])\n",
        "  rating = -1\n",
        "  media = -1\n",
        "  media_ratings = -1\n",
        "  if len(bug_indices) > 1:\n",
        "    media = np.average(bugfixclass['days'].iloc[bug_indices])\n",
        "    media_ratings = np.average(bugfixclass['ratings'].iloc[bug_indices])\n",
        "    rating = bugfixclass['ratings'].iloc[bug_indices[0]]\n",
        "  return media, rating, media_ratings"
      ]
    },
    {
      "cell_type": "markdown",
      "metadata": {
        "id": "2KLb1dHZUXwX"
      },
      "source": []
    },
    {
      "cell_type": "code",
      "execution_count": null,
      "metadata": {
        "id": "gxLxqUf3D4p_"
      },
      "outputs": [],
      "source": [
        "bugfixclass['similar_avg_day']= -1\n",
        "bugfixclass['similar_top_rating']= -1\n",
        "bugfixclass['similar_avg_ratings']= -1\n"
      ]
    },
    {
      "cell_type": "code",
      "execution_count": null,
      "metadata": {
        "id": "qT073gsBiCSA"
      },
      "outputs": [],
      "source": [
        "text_similarity =[]\n",
        "\n",
        "for indexz, bug in bugfixclass.iterrows() :\n",
        "  if indexz > 0:\n",
        "    indice = indexz+1\n",
        "    text_similarity = calcule_similarity_text(X_text[0:indice])\n",
        "    s= content_recommender(bug['bug_id'], text_similarity, bugfixclass, indices)\n",
        "    bugfixclass.loc[(bugfixclass['bug_id'] == bug['bug_id']), 'similar_avg_day'], bugfixclass.loc[(bugfixclass['bug_id'] == bug['bug_id']), 'similar_top_rating'], bugfixclass.loc[(bugfixclass['bug_id'] == bug['bug_id']), 'similar_avg_ratings']  = s\n"
      ]
    },
    {
      "cell_type": "markdown",
      "metadata": {
        "id": "DN4RpYBZUacd"
      },
      "source": [
        "#\n",
        "- criar um dataset mini para testar antes de colocar todos os bugs\n",
        "- Testar o mais similar (retornar o rating)\n",
        "- testar os k mais similares (testar com 3) média de dias ou media de ratings\n",
        "- Replicar o artigo do Ramarao 'Impact of Bug Reporter’s Reputation on Bug-fix Times'\n",
        "- Replicar artigo do Zhang\n",
        "- a diferença do modelo de Ramarao e o meu é que não uso a quantidade de bugs mas sim o tempo e o work load\n",
        "\n"
      ]
    },
    {
      "cell_type": "markdown",
      "metadata": {
        "id": "sIKIq8UnoxyE"
      },
      "source": [
        "# Verificar\n",
        "Chisquare, Gain Ratio and Information Gain"
      ]
    },
    {
      "cell_type": "markdown",
      "metadata": {
        "id": "K2CHtLvojR7M"
      },
      "source": [
        "#Features"
      ]
    },
    {
      "cell_type": "code",
      "execution_count": null,
      "metadata": {
        "id": "BX90IQhSjTfG"
      },
      "outputs": [],
      "source": [
        "from sklearn.model_selection import train_test_split\n",
        "from sklearn import metrics"
      ]
    },
    {
      "cell_type": "code",
      "execution_count": null,
      "metadata": {
        "id": "WazkkU-AjeHI"
      },
      "outputs": [],
      "source": [
        "from sklearn.preprocessing import OrdinalEncoder\n",
        "ordinal_encoder = OrdinalEncoder()"
      ]
    },
    {
      "cell_type": "code",
      "execution_count": null,
      "metadata": {
        "id": "j1CuSflBjnA0"
      },
      "outputs": [],
      "source": [
        "bugfixclass['priority_n']  = ordinal_encoder.fit_transform(bugfixclass['priority'].values.reshape(-1,1))"
      ]
    },
    {
      "cell_type": "code",
      "execution_count": null,
      "metadata": {
        "id": "8ESoG7mvjs-c",
        "colab": {
          "base_uri": "https://localhost:8080/"
        },
        "outputId": "b3edf0e8-7543-4aa2-e63f-756aeeab2efe"
      },
      "outputs": [
        {
          "output_type": "execute_result",
          "data": {
            "text/plain": [
              "0       0.0\n",
              "1       2.0\n",
              "2       0.0\n",
              "3       2.0\n",
              "4       2.0\n",
              "       ... \n",
              "3409    2.0\n",
              "3410    2.0\n",
              "3411    1.0\n",
              "3412    2.0\n",
              "3413    1.0\n",
              "Name: priority_n, Length: 3414, dtype: float64"
            ]
          },
          "metadata": {},
          "execution_count": 99
        }
      ],
      "source": [
        "bugfixclass['priority_n']"
      ]
    },
    {
      "cell_type": "code",
      "execution_count": null,
      "metadata": {
        "id": "cC4tpKSTsQkR",
        "colab": {
          "base_uri": "https://localhost:8080/"
        },
        "outputId": "88129237-70fb-4bcb-9adf-99b8442d97d2"
      },
      "outputs": [
        {
          "output_type": "stream",
          "name": "stderr",
          "text": [
            "/usr/local/lib/python3.7/dist-packages/sklearn/preprocessing/_label.py:115: DataConversionWarning: A column-vector y was passed when a 1d array was expected. Please change the shape of y to (n_samples, ), for example using ravel().\n",
            "  y = column_or_1d(y, warn=True)\n"
          ]
        }
      ],
      "source": [
        "from sklearn import preprocessing\n",
        "le = preprocessing.LabelEncoder()\n",
        "bugfixclass['op_sys_n'] = le.fit_transform(bugfixclass['op_sys'].values.reshape(-1,1))"
      ]
    },
    {
      "cell_type": "code",
      "execution_count": null,
      "metadata": {
        "id": "XqGvc4Ckjw4h"
      },
      "outputs": [],
      "source": [
        "bugfixclass['severity_n']  = ordinal_encoder.fit_transform(bugfixclass['bug_severity'].values.reshape(-1,1))"
      ]
    },
    {
      "cell_type": "code",
      "execution_count": null,
      "metadata": {
        "id": "C7UXumTGhp1x",
        "colab": {
          "base_uri": "https://localhost:8080/"
        },
        "outputId": "36365cd5-90af-4898-dff0-246e49fdda2b"
      },
      "outputs": [
        {
          "output_type": "execute_result",
          "data": {
            "text/plain": [
              "1.0    1707\n",
              "0.0    1707\n",
              "Name: classification, dtype: int64"
            ]
          },
          "metadata": {},
          "execution_count": 102
        }
      ],
      "source": [
        "bugfixclass['classification'].value_counts()"
      ]
    },
    {
      "cell_type": "code",
      "execution_count": null,
      "metadata": {
        "id": "s0r0x29Sh5We"
      },
      "outputs": [],
      "source": [
        "#Export to CSV\n",
        "bugfixclass.to_csv(nameDataset)\n",
        "if dataset == 'N':\n",
        "  bugfixclass.to_csv('netbeans_clean.csv')\n",
        "   bugfixclass.to_csv(nameDataset+'clean_new.csv')\n",
        "else:\n",
        "  bugfixclass.to_csv('eclipse_clean.csv')\n"
      ]
    }
  ],
  "metadata": {
    "colab": {
      "provenance": [],
      "include_colab_link": true
    },
    "kernelspec": {
      "display_name": "Python 3",
      "name": "python3"
    }
  },
  "nbformat": 4,
  "nbformat_minor": 0
}
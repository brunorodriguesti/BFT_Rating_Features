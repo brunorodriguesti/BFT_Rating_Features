{
  "nbformat": 4,
  "nbformat_minor": 0,
  "metadata": {
    "colab": {
      "provenance": [],
      "include_colab_link": true
    },
    "kernelspec": {
      "display_name": "Python 3",
      "name": "python3"
    }
  },
  "cells": [
    {
      "cell_type": "markdown",
      "metadata": {
        "id": "view-in-github",
        "colab_type": "text"
      },
      "source": [
        "<a href=\"https://colab.research.google.com/github/brunorodriguesti/BFT_Rating_Features/blob/main/Rantings_features_experiment.ipynb\" target=\"_parent\"><img src=\"https://colab.research.google.com/assets/colab-badge.svg\" alt=\"Open In Colab\"/></a>"
      ]
    },
    {
      "cell_type": "code",
      "metadata": {
        "colab": {
          "base_uri": "https://localhost:8080/"
        },
        "id": "2jYhOYH44MSG",
        "outputId": "6d0257a0-dc27-4e8a-f6e2-376f45f54c15"
      },
      "source": [
        "from google.colab import drive\n",
        "drive.mount('/content/gdrive')"
      ],
      "execution_count": null,
      "outputs": [
        {
          "output_type": "stream",
          "name": "stdout",
          "text": [
            "Mounted at /content/gdrive\n"
          ]
        }
      ]
    },
    {
      "cell_type": "code",
      "metadata": {
        "colab": {
          "base_uri": "https://localhost:8080/"
        },
        "id": "ctrnxQMl7RGG",
        "outputId": "0057b0b5-c432-4563-ff6a-c5da7d62b48e"
      },
      "source": [
        "cd /content/gdrive/My Drive/"
      ],
      "execution_count": null,
      "outputs": [
        {
          "output_type": "stream",
          "name": "stdout",
          "text": [
            "/content/gdrive/My Drive\n"
          ]
        }
      ]
    },
    {
      "cell_type": "code",
      "metadata": {
        "colab": {
          "base_uri": "https://localhost:8080/"
        },
        "id": "_k5ye4-Z7gax",
        "outputId": "1bcde3ab-8cc8-410f-bc3a-aa33470ab014"
      },
      "source": [
        "cd Colab\\ Notebooks"
      ],
      "execution_count": null,
      "outputs": [
        {
          "output_type": "stream",
          "name": "stdout",
          "text": [
            "/content/gdrive/My Drive/Colab Notebooks\n"
          ]
        }
      ]
    },
    {
      "cell_type": "code",
      "metadata": {
        "id": "_ss567U68J44"
      },
      "source": [
        "import pandas as pd\n",
        "import numpy as np\n",
        "import matplotlib.pyplot as plt\n",
        "import datetime\n",
        "import nltk\n",
        "import time\n",
        "from datetime import timedelta\n",
        "from sklearn.metrics.pairwise import pairwise_distances\n",
        "from sklearn.feature_selection import chi2"
      ],
      "execution_count": null,
      "outputs": []
    },
    {
      "cell_type": "code",
      "metadata": {
        "id": "UNMZc7cJuAC6"
      },
      "source": [
        "bugfixclass = pd.read_csv('/content/gdrive/My Drive/Colab Notebooks/NetBeansclean_new_colab3.csv', low_memory=False)\n",
        "#bugfixclass = pd.read_csv('/content/gdrive/My Drive/Colab Notebooks/Eclipse_Plataformclean_new.csv', low_memory=False)"
      ],
      "execution_count": null,
      "outputs": []
    },
    {
      "cell_type": "code",
      "metadata": {
        "colab": {
          "base_uri": "https://localhost:8080/"
        },
        "id": "1QWZbkIu8-nl",
        "outputId": "0918c241-5d18-40cb-c1ed-7b4b37dacb11"
      },
      "source": [
        "bugfixclass['classification'].value_counts()"
      ],
      "execution_count": null,
      "outputs": [
        {
          "output_type": "execute_result",
          "data": {
            "text/plain": [
              "1.0    1534\n",
              "0.0    1534\n",
              "Name: classification, dtype: int64"
            ]
          },
          "metadata": {},
          "execution_count": 6
        }
      ]
    },
    {
      "cell_type": "code",
      "source": [
        "bugfixclass['reporter_rating_ajusted'] = bugfixclass['rating_reporter'] - bugfixclass['rating_avg_reporter']"
      ],
      "metadata": {
        "id": "RHd8-BYiW_sl"
      },
      "execution_count": null,
      "outputs": []
    },
    {
      "cell_type": "code",
      "source": [
        "bugfixclass['developer_rating_ajusted'] = bugfixclass['rating_developer'] - bugfixclass['rating_avg_developer']"
      ],
      "metadata": {
        "id": "0pgvrOZcxwSA"
      },
      "execution_count": null,
      "outputs": []
    },
    {
      "cell_type": "code",
      "source": [
        "bugfixclass['reporter_rating_ajusted']"
      ],
      "metadata": {
        "colab": {
          "base_uri": "https://localhost:8080/"
        },
        "id": "_TUhUH4DXW9r",
        "outputId": "7cdd0420-67a6-4252-f885-4ddb260f5722"
      },
      "execution_count": null,
      "outputs": [
        {
          "output_type": "execute_result",
          "data": {
            "text/plain": [
              "0       0.000000\n",
              "1       0.000000\n",
              "2       0.000000\n",
              "3       0.000000\n",
              "4       0.000000\n",
              "          ...   \n",
              "3063    1.000000\n",
              "3064    0.523810\n",
              "3065    0.000000\n",
              "3066    0.581395\n",
              "3067    0.785714\n",
              "Name: reporter_rating_ajusted, Length: 3068, dtype: float64"
            ]
          },
          "metadata": {},
          "execution_count": 8
        }
      ]
    },
    {
      "cell_type": "code",
      "metadata": {
        "colab": {
          "base_uri": "https://localhost:8080/"
        },
        "id": "n-s6qHRdKp82",
        "outputId": "1cdadd43-2a1b-45da-ff86-cc145fc5ebcd"
      },
      "source": [
        "from sklearn import preprocessing\n",
        "le = preprocessing.LabelEncoder()\n",
        "bugfixclass['op_sys_n'] = le.fit_transform(bugfixclass['op_sys'].values.reshape(-1,1))"
      ],
      "execution_count": null,
      "outputs": [
        {
          "output_type": "stream",
          "name": "stderr",
          "text": [
            "/usr/local/lib/python3.7/dist-packages/sklearn/preprocessing/_label.py:115: DataConversionWarning: A column-vector y was passed when a 1d array was expected. Please change the shape of y to (n_samples, ), for example using ravel().\n",
            "  y = column_or_1d(y, warn=True)\n"
          ]
        }
      ]
    },
    {
      "cell_type": "code",
      "source": [
        "pd.set_option('display.max_rows', 500)"
      ],
      "metadata": {
        "id": "Dn-EtW4RZhyJ"
      },
      "execution_count": null,
      "outputs": []
    },
    {
      "cell_type": "code",
      "source": [
        "bugfixclass.columns"
      ],
      "metadata": {
        "colab": {
          "base_uri": "https://localhost:8080/"
        },
        "id": "2Jwq4XfwaAhw",
        "outputId": "312dbc8f-fef1-4522-a6b1-bbdc93f3ba62"
      },
      "execution_count": null,
      "outputs": [
        {
          "output_type": "execute_result",
          "data": {
            "text/plain": [
              "Index(['Unnamed: 0', 'Unnamed: 0.1', 'bug_id', 'assigned_to', 'bug_severity',\n",
              "       'priority', 'bug_status', 'creation_ts', 'delta_ts', 'short_desc',\n",
              "       'op_sys', 'rep_platform', 'reporter', 'version', 'resolution',\n",
              "       'lastdiffed', 'estimated_time', 'product_id', 'component_id',\n",
              "       'short_desc.1', 'comments', 'days', 'year_creation', 'year_creation_n',\n",
              "       'month_creation', 'year_lastdiffed', 'month_lastdiffed', 'number_cc',\n",
              "       'number_attachment', 'creation_s', 'reporter_reputation_new',\n",
              "       'developer_reputation', 'developer_reputation_new', 'classification',\n",
              "       'ratings', 'rating_reporter', 'rating_avg_reporter',\n",
              "       'rating_avg_developer', 'rating_developer', 'summary_plus_comment',\n",
              "       'summary_plus_comment_tok', 'similar_day', 'similar_top_rating',\n",
              "       'similar_media_ratings', 'priority_n', 'op_sys_n', 'severity_n'],\n",
              "      dtype='object')"
            ]
          },
          "metadata": {},
          "execution_count": 14
        }
      ]
    },
    {
      "cell_type": "code",
      "source": [
        "bugfixclass[['reporter','reporter_reputation_new', 'rating_reporter',  'rating_avg_reporter', 'similar_day', 'similar_top_rating', 'similar_media_ratings', 'classification',  'days']][:500]"
      ],
      "metadata": {
        "colab": {
          "base_uri": "https://localhost:8080/",
          "height": 1000
        },
        "id": "LDi5cXFuYRR_",
        "outputId": "913dfb99-6b0f-436f-da7a-54e813b43e6a"
      },
      "execution_count": null,
      "outputs": [
        {
          "output_type": "execute_result",
          "data": {
            "text/html": [
              "\n",
              "  <div id=\"df-3a263fb9-8dc2-47fb-bd60-bf189d7cd769\">\n",
              "    <div class=\"colab-df-container\">\n",
              "      <div>\n",
              "<style scoped>\n",
              "    .dataframe tbody tr th:only-of-type {\n",
              "        vertical-align: middle;\n",
              "    }\n",
              "\n",
              "    .dataframe tbody tr th {\n",
              "        vertical-align: top;\n",
              "    }\n",
              "\n",
              "    .dataframe thead th {\n",
              "        text-align: right;\n",
              "    }\n",
              "</style>\n",
              "<table border=\"1\" class=\"dataframe\">\n",
              "  <thead>\n",
              "    <tr style=\"text-align: right;\">\n",
              "      <th></th>\n",
              "      <th>reporter</th>\n",
              "      <th>reporter_reputation_new</th>\n",
              "      <th>rating_reporter</th>\n",
              "      <th>rating_avg_reporter</th>\n",
              "      <th>similar_day</th>\n",
              "      <th>similar_top_rating</th>\n",
              "      <th>similar_media_ratings</th>\n",
              "      <th>classification</th>\n",
              "      <th>days</th>\n",
              "    </tr>\n",
              "  </thead>\n",
              "  <tbody>\n",
              "    <tr>\n",
              "      <th>0</th>\n",
              "      <td>79117</td>\n",
              "      <td>0.000000</td>\n",
              "      <td>3.0</td>\n",
              "      <td>3.000000</td>\n",
              "      <td>-1.000000</td>\n",
              "      <td>-1.0</td>\n",
              "      <td>-1.000000</td>\n",
              "      <td>1.0</td>\n",
              "      <td>23</td>\n",
              "    </tr>\n",
              "    <tr>\n",
              "      <th>1</th>\n",
              "      <td>186</td>\n",
              "      <td>0.000000</td>\n",
              "      <td>3.0</td>\n",
              "      <td>3.000000</td>\n",
              "      <td>-1.000000</td>\n",
              "      <td>-1.0</td>\n",
              "      <td>-1.000000</td>\n",
              "      <td>1.0</td>\n",
              "      <td>26</td>\n",
              "    </tr>\n",
              "    <tr>\n",
              "      <th>2</th>\n",
              "      <td>79117</td>\n",
              "      <td>0.333333</td>\n",
              "      <td>5.0</td>\n",
              "      <td>5.000000</td>\n",
              "      <td>-1.000000</td>\n",
              "      <td>-1.0</td>\n",
              "      <td>-1.000000</td>\n",
              "      <td>1.0</td>\n",
              "      <td>19</td>\n",
              "    </tr>\n",
              "    <tr>\n",
              "      <th>3</th>\n",
              "      <td>55548</td>\n",
              "      <td>0.000000</td>\n",
              "      <td>3.0</td>\n",
              "      <td>3.000000</td>\n",
              "      <td>-1.000000</td>\n",
              "      <td>-1.0</td>\n",
              "      <td>-1.000000</td>\n",
              "      <td>0.0</td>\n",
              "      <td>1</td>\n",
              "    </tr>\n",
              "    <tr>\n",
              "      <th>4</th>\n",
              "      <td>60</td>\n",
              "      <td>0.000000</td>\n",
              "      <td>3.0</td>\n",
              "      <td>3.000000</td>\n",
              "      <td>-1.000000</td>\n",
              "      <td>-1.0</td>\n",
              "      <td>-1.000000</td>\n",
              "      <td>1.0</td>\n",
              "      <td>24</td>\n",
              "    </tr>\n",
              "    <tr>\n",
              "      <th>5</th>\n",
              "      <td>60</td>\n",
              "      <td>0.500000</td>\n",
              "      <td>5.0</td>\n",
              "      <td>5.000000</td>\n",
              "      <td>-1.000000</td>\n",
              "      <td>-1.0</td>\n",
              "      <td>-1.000000</td>\n",
              "      <td>0.0</td>\n",
              "      <td>1</td>\n",
              "    </tr>\n",
              "    <tr>\n",
              "      <th>6</th>\n",
              "      <td>25</td>\n",
              "      <td>0.000000</td>\n",
              "      <td>3.0</td>\n",
              "      <td>3.000000</td>\n",
              "      <td>-1.000000</td>\n",
              "      <td>-1.0</td>\n",
              "      <td>-1.000000</td>\n",
              "      <td>0.0</td>\n",
              "      <td>1</td>\n",
              "    </tr>\n",
              "    <tr>\n",
              "      <th>7</th>\n",
              "      <td>88494</td>\n",
              "      <td>0.000000</td>\n",
              "      <td>3.0</td>\n",
              "      <td>3.000000</td>\n",
              "      <td>10.000000</td>\n",
              "      <td>1.0</td>\n",
              "      <td>3.000000</td>\n",
              "      <td>1.0</td>\n",
              "      <td>25</td>\n",
              "    </tr>\n",
              "    <tr>\n",
              "      <th>8</th>\n",
              "      <td>163</td>\n",
              "      <td>0.000000</td>\n",
              "      <td>3.0</td>\n",
              "      <td>3.000000</td>\n",
              "      <td>-1.000000</td>\n",
              "      <td>-1.0</td>\n",
              "      <td>-1.000000</td>\n",
              "      <td>0.0</td>\n",
              "      <td>1</td>\n",
              "    </tr>\n",
              "    <tr>\n",
              "      <th>9</th>\n",
              "      <td>88501</td>\n",
              "      <td>0.000000</td>\n",
              "      <td>3.0</td>\n",
              "      <td>3.000000</td>\n",
              "      <td>-1.000000</td>\n",
              "      <td>-1.0</td>\n",
              "      <td>-1.000000</td>\n",
              "      <td>0.0</td>\n",
              "      <td>1</td>\n",
              "    </tr>\n",
              "    <tr>\n",
              "      <th>10</th>\n",
              "      <td>61920</td>\n",
              "      <td>0.000000</td>\n",
              "      <td>3.0</td>\n",
              "      <td>3.000000</td>\n",
              "      <td>-1.000000</td>\n",
              "      <td>-1.0</td>\n",
              "      <td>-1.000000</td>\n",
              "      <td>1.0</td>\n",
              "      <td>15</td>\n",
              "    </tr>\n",
              "    <tr>\n",
              "      <th>11</th>\n",
              "      <td>237</td>\n",
              "      <td>0.000000</td>\n",
              "      <td>3.0</td>\n",
              "      <td>3.000000</td>\n",
              "      <td>10.000000</td>\n",
              "      <td>1.0</td>\n",
              "      <td>3.000000</td>\n",
              "      <td>1.0</td>\n",
              "      <td>15</td>\n",
              "    </tr>\n",
              "    <tr>\n",
              "      <th>12</th>\n",
              "      <td>24808</td>\n",
              "      <td>0.000000</td>\n",
              "      <td>3.0</td>\n",
              "      <td>3.000000</td>\n",
              "      <td>-1.000000</td>\n",
              "      <td>-1.0</td>\n",
              "      <td>-1.000000</td>\n",
              "      <td>0.0</td>\n",
              "      <td>1</td>\n",
              "    </tr>\n",
              "    <tr>\n",
              "      <th>13</th>\n",
              "      <td>40458</td>\n",
              "      <td>0.000000</td>\n",
              "      <td>3.0</td>\n",
              "      <td>3.000000</td>\n",
              "      <td>-1.000000</td>\n",
              "      <td>-1.0</td>\n",
              "      <td>-1.000000</td>\n",
              "      <td>0.0</td>\n",
              "      <td>2</td>\n",
              "    </tr>\n",
              "    <tr>\n",
              "      <th>14</th>\n",
              "      <td>40458</td>\n",
              "      <td>0.500000</td>\n",
              "      <td>2.0</td>\n",
              "      <td>2.000000</td>\n",
              "      <td>1.333333</td>\n",
              "      <td>4.0</td>\n",
              "      <td>4.666667</td>\n",
              "      <td>0.0</td>\n",
              "      <td>1</td>\n",
              "    </tr>\n",
              "    <tr>\n",
              "      <th>15</th>\n",
              "      <td>2981</td>\n",
              "      <td>0.000000</td>\n",
              "      <td>3.0</td>\n",
              "      <td>3.000000</td>\n",
              "      <td>-1.000000</td>\n",
              "      <td>-1.0</td>\n",
              "      <td>-1.000000</td>\n",
              "      <td>0.0</td>\n",
              "      <td>2</td>\n",
              "    </tr>\n",
              "    <tr>\n",
              "      <th>16</th>\n",
              "      <td>216</td>\n",
              "      <td>0.000000</td>\n",
              "      <td>3.0</td>\n",
              "      <td>3.000000</td>\n",
              "      <td>-1.000000</td>\n",
              "      <td>-1.0</td>\n",
              "      <td>-1.000000</td>\n",
              "      <td>0.0</td>\n",
              "      <td>1</td>\n",
              "    </tr>\n",
              "    <tr>\n",
              "      <th>17</th>\n",
              "      <td>40458</td>\n",
              "      <td>0.666667</td>\n",
              "      <td>1.0</td>\n",
              "      <td>1.500000</td>\n",
              "      <td>1.333333</td>\n",
              "      <td>5.0</td>\n",
              "      <td>4.666667</td>\n",
              "      <td>0.0</td>\n",
              "      <td>3</td>\n",
              "    </tr>\n",
              "    <tr>\n",
              "      <th>18</th>\n",
              "      <td>55645</td>\n",
              "      <td>0.000000</td>\n",
              "      <td>3.0</td>\n",
              "      <td>3.000000</td>\n",
              "      <td>16.666667</td>\n",
              "      <td>4.0</td>\n",
              "      <td>2.000000</td>\n",
              "      <td>1.0</td>\n",
              "      <td>8</td>\n",
              "    </tr>\n",
              "    <tr>\n",
              "      <th>19</th>\n",
              "      <td>55645</td>\n",
              "      <td>0.500000</td>\n",
              "      <td>4.0</td>\n",
              "      <td>4.000000</td>\n",
              "      <td>11.000000</td>\n",
              "      <td>2.0</td>\n",
              "      <td>2.333333</td>\n",
              "      <td>1.0</td>\n",
              "      <td>8</td>\n",
              "    </tr>\n",
              "    <tr>\n",
              "      <th>20</th>\n",
              "      <td>581</td>\n",
              "      <td>0.000000</td>\n",
              "      <td>3.0</td>\n",
              "      <td>3.000000</td>\n",
              "      <td>-1.000000</td>\n",
              "      <td>-1.0</td>\n",
              "      <td>-1.000000</td>\n",
              "      <td>0.0</td>\n",
              "      <td>2</td>\n",
              "    </tr>\n",
              "    <tr>\n",
              "      <th>21</th>\n",
              "      <td>78015</td>\n",
              "      <td>0.000000</td>\n",
              "      <td>3.0</td>\n",
              "      <td>3.000000</td>\n",
              "      <td>10.333333</td>\n",
              "      <td>2.0</td>\n",
              "      <td>1.666667</td>\n",
              "      <td>0.0</td>\n",
              "      <td>3</td>\n",
              "    </tr>\n",
              "    <tr>\n",
              "      <th>22</th>\n",
              "      <td>55645</td>\n",
              "      <td>0.666667</td>\n",
              "      <td>4.0</td>\n",
              "      <td>4.000000</td>\n",
              "      <td>6.333333</td>\n",
              "      <td>4.0</td>\n",
              "      <td>2.666667</td>\n",
              "      <td>1.0</td>\n",
              "      <td>8</td>\n",
              "    </tr>\n",
              "    <tr>\n",
              "      <th>23</th>\n",
              "      <td>79117</td>\n",
              "      <td>0.285714</td>\n",
              "      <td>5.0</td>\n",
              "      <td>5.000000</td>\n",
              "      <td>-1.000000</td>\n",
              "      <td>-1.0</td>\n",
              "      <td>-1.000000</td>\n",
              "      <td>1.0</td>\n",
              "      <td>9</td>\n",
              "    </tr>\n",
              "    <tr>\n",
              "      <th>24</th>\n",
              "      <td>55645</td>\n",
              "      <td>0.750000</td>\n",
              "      <td>4.0</td>\n",
              "      <td>4.000000</td>\n",
              "      <td>8.000000</td>\n",
              "      <td>2.0</td>\n",
              "      <td>2.000000</td>\n",
              "      <td>1.0</td>\n",
              "      <td>8</td>\n",
              "    </tr>\n",
              "    <tr>\n",
              "      <th>25</th>\n",
              "      <td>338</td>\n",
              "      <td>0.000000</td>\n",
              "      <td>3.0</td>\n",
              "      <td>3.000000</td>\n",
              "      <td>14.666667</td>\n",
              "      <td>1.0</td>\n",
              "      <td>2.333333</td>\n",
              "      <td>1.0</td>\n",
              "      <td>29</td>\n",
              "    </tr>\n",
              "    <tr>\n",
              "      <th>26</th>\n",
              "      <td>55645</td>\n",
              "      <td>0.800000</td>\n",
              "      <td>4.0</td>\n",
              "      <td>4.000000</td>\n",
              "      <td>8.000000</td>\n",
              "      <td>2.0</td>\n",
              "      <td>2.000000</td>\n",
              "      <td>1.0</td>\n",
              "      <td>8</td>\n",
              "    </tr>\n",
              "    <tr>\n",
              "      <th>27</th>\n",
              "      <td>17</td>\n",
              "      <td>0.000000</td>\n",
              "      <td>3.0</td>\n",
              "      <td>3.000000</td>\n",
              "      <td>-1.000000</td>\n",
              "      <td>-1.0</td>\n",
              "      <td>-1.000000</td>\n",
              "      <td>0.0</td>\n",
              "      <td>3</td>\n",
              "    </tr>\n",
              "    <tr>\n",
              "      <th>28</th>\n",
              "      <td>79117</td>\n",
              "      <td>0.375000</td>\n",
              "      <td>4.0</td>\n",
              "      <td>4.666667</td>\n",
              "      <td>-1.000000</td>\n",
              "      <td>-1.0</td>\n",
              "      <td>-1.000000</td>\n",
              "      <td>1.0</td>\n",
              "      <td>17</td>\n",
              "    </tr>\n",
              "    <tr>\n",
              "      <th>29</th>\n",
              "      <td>24</td>\n",
              "      <td>0.000000</td>\n",
              "      <td>3.0</td>\n",
              "      <td>3.000000</td>\n",
              "      <td>-1.000000</td>\n",
              "      <td>-1.0</td>\n",
              "      <td>-1.000000</td>\n",
              "      <td>0.0</td>\n",
              "      <td>2</td>\n",
              "    </tr>\n",
              "    <tr>\n",
              "      <th>30</th>\n",
              "      <td>287</td>\n",
              "      <td>0.000000</td>\n",
              "      <td>3.0</td>\n",
              "      <td>3.000000</td>\n",
              "      <td>-1.000000</td>\n",
              "      <td>-1.0</td>\n",
              "      <td>-1.000000</td>\n",
              "      <td>0.0</td>\n",
              "      <td>3</td>\n",
              "    </tr>\n",
              "    <tr>\n",
              "      <th>31</th>\n",
              "      <td>287</td>\n",
              "      <td>0.500000</td>\n",
              "      <td>2.0</td>\n",
              "      <td>2.000000</td>\n",
              "      <td>-1.000000</td>\n",
              "      <td>-1.0</td>\n",
              "      <td>-1.000000</td>\n",
              "      <td>0.0</td>\n",
              "      <td>3</td>\n",
              "    </tr>\n",
              "    <tr>\n",
              "      <th>32</th>\n",
              "      <td>573</td>\n",
              "      <td>0.000000</td>\n",
              "      <td>3.0</td>\n",
              "      <td>3.000000</td>\n",
              "      <td>8.000000</td>\n",
              "      <td>2.0</td>\n",
              "      <td>2.000000</td>\n",
              "      <td>1.0</td>\n",
              "      <td>21</td>\n",
              "    </tr>\n",
              "    <tr>\n",
              "      <th>33</th>\n",
              "      <td>74400</td>\n",
              "      <td>0.000000</td>\n",
              "      <td>3.0</td>\n",
              "      <td>3.000000</td>\n",
              "      <td>9.000000</td>\n",
              "      <td>2.0</td>\n",
              "      <td>2.666667</td>\n",
              "      <td>1.0</td>\n",
              "      <td>17</td>\n",
              "    </tr>\n",
              "    <tr>\n",
              "      <th>34</th>\n",
              "      <td>525</td>\n",
              "      <td>0.000000</td>\n",
              "      <td>3.0</td>\n",
              "      <td>3.000000</td>\n",
              "      <td>-1.000000</td>\n",
              "      <td>-1.0</td>\n",
              "      <td>-1.000000</td>\n",
              "      <td>1.0</td>\n",
              "      <td>16</td>\n",
              "    </tr>\n",
              "    <tr>\n",
              "      <th>35</th>\n",
              "      <td>245</td>\n",
              "      <td>0.000000</td>\n",
              "      <td>3.0</td>\n",
              "      <td>3.000000</td>\n",
              "      <td>-1.000000</td>\n",
              "      <td>-1.0</td>\n",
              "      <td>-1.000000</td>\n",
              "      <td>1.0</td>\n",
              "      <td>17</td>\n",
              "    </tr>\n",
              "    <tr>\n",
              "      <th>36</th>\n",
              "      <td>23</td>\n",
              "      <td>0.000000</td>\n",
              "      <td>3.0</td>\n",
              "      <td>3.000000</td>\n",
              "      <td>14.333333</td>\n",
              "      <td>2.0</td>\n",
              "      <td>1.333333</td>\n",
              "      <td>1.0</td>\n",
              "      <td>17</td>\n",
              "    </tr>\n",
              "    <tr>\n",
              "      <th>37</th>\n",
              "      <td>88547</td>\n",
              "      <td>0.000000</td>\n",
              "      <td>3.0</td>\n",
              "      <td>3.000000</td>\n",
              "      <td>18.000000</td>\n",
              "      <td>1.0</td>\n",
              "      <td>1.000000</td>\n",
              "      <td>0.0</td>\n",
              "      <td>3</td>\n",
              "    </tr>\n",
              "    <tr>\n",
              "      <th>38</th>\n",
              "      <td>88558</td>\n",
              "      <td>0.000000</td>\n",
              "      <td>3.0</td>\n",
              "      <td>3.000000</td>\n",
              "      <td>-1.000000</td>\n",
              "      <td>-1.0</td>\n",
              "      <td>-1.000000</td>\n",
              "      <td>0.0</td>\n",
              "      <td>3</td>\n",
              "    </tr>\n",
              "    <tr>\n",
              "      <th>39</th>\n",
              "      <td>202</td>\n",
              "      <td>0.000000</td>\n",
              "      <td>3.0</td>\n",
              "      <td>3.000000</td>\n",
              "      <td>-1.000000</td>\n",
              "      <td>-1.0</td>\n",
              "      <td>-1.000000</td>\n",
              "      <td>1.0</td>\n",
              "      <td>10</td>\n",
              "    </tr>\n",
              "    <tr>\n",
              "      <th>40</th>\n",
              "      <td>50</td>\n",
              "      <td>0.500000</td>\n",
              "      <td>3.0</td>\n",
              "      <td>3.000000</td>\n",
              "      <td>-1.000000</td>\n",
              "      <td>-1.0</td>\n",
              "      <td>-1.000000</td>\n",
              "      <td>0.0</td>\n",
              "      <td>2</td>\n",
              "    </tr>\n",
              "    <tr>\n",
              "      <th>41</th>\n",
              "      <td>581</td>\n",
              "      <td>0.500000</td>\n",
              "      <td>2.0</td>\n",
              "      <td>2.000000</td>\n",
              "      <td>-1.000000</td>\n",
              "      <td>-1.0</td>\n",
              "      <td>-1.000000</td>\n",
              "      <td>0.0</td>\n",
              "      <td>3</td>\n",
              "    </tr>\n",
              "    <tr>\n",
              "      <th>42</th>\n",
              "      <td>42</td>\n",
              "      <td>0.500000</td>\n",
              "      <td>3.0</td>\n",
              "      <td>3.000000</td>\n",
              "      <td>24.000000</td>\n",
              "      <td>1.0</td>\n",
              "      <td>1.000000</td>\n",
              "      <td>0.0</td>\n",
              "      <td>2</td>\n",
              "    </tr>\n",
              "    <tr>\n",
              "      <th>43</th>\n",
              "      <td>42</td>\n",
              "      <td>0.666667</td>\n",
              "      <td>2.0</td>\n",
              "      <td>2.000000</td>\n",
              "      <td>10.500000</td>\n",
              "      <td>4.0</td>\n",
              "      <td>2.500000</td>\n",
              "      <td>1.0</td>\n",
              "      <td>15</td>\n",
              "    </tr>\n",
              "    <tr>\n",
              "      <th>44</th>\n",
              "      <td>3456</td>\n",
              "      <td>0.000000</td>\n",
              "      <td>3.0</td>\n",
              "      <td>3.000000</td>\n",
              "      <td>8.333333</td>\n",
              "      <td>4.0</td>\n",
              "      <td>3.000000</td>\n",
              "      <td>0.0</td>\n",
              "      <td>3</td>\n",
              "    </tr>\n",
              "    <tr>\n",
              "      <th>45</th>\n",
              "      <td>581</td>\n",
              "      <td>0.666667</td>\n",
              "      <td>2.0</td>\n",
              "      <td>2.000000</td>\n",
              "      <td>5.000000</td>\n",
              "      <td>2.0</td>\n",
              "      <td>3.000000</td>\n",
              "      <td>1.0</td>\n",
              "      <td>15</td>\n",
              "    </tr>\n",
              "    <tr>\n",
              "      <th>46</th>\n",
              "      <td>522</td>\n",
              "      <td>0.000000</td>\n",
              "      <td>3.0</td>\n",
              "      <td>3.000000</td>\n",
              "      <td>8.666667</td>\n",
              "      <td>4.0</td>\n",
              "      <td>2.333333</td>\n",
              "      <td>0.0</td>\n",
              "      <td>4</td>\n",
              "    </tr>\n",
              "    <tr>\n",
              "      <th>47</th>\n",
              "      <td>68857</td>\n",
              "      <td>0.000000</td>\n",
              "      <td>3.0</td>\n",
              "      <td>3.000000</td>\n",
              "      <td>-1.000000</td>\n",
              "      <td>-1.0</td>\n",
              "      <td>-1.000000</td>\n",
              "      <td>1.0</td>\n",
              "      <td>24</td>\n",
              "    </tr>\n",
              "    <tr>\n",
              "      <th>48</th>\n",
              "      <td>2785</td>\n",
              "      <td>0.000000</td>\n",
              "      <td>3.0</td>\n",
              "      <td>3.000000</td>\n",
              "      <td>-1.000000</td>\n",
              "      <td>-1.0</td>\n",
              "      <td>-1.000000</td>\n",
              "      <td>0.0</td>\n",
              "      <td>4</td>\n",
              "    </tr>\n",
              "    <tr>\n",
              "      <th>49</th>\n",
              "      <td>310</td>\n",
              "      <td>0.000000</td>\n",
              "      <td>3.0</td>\n",
              "      <td>3.000000</td>\n",
              "      <td>6.333333</td>\n",
              "      <td>2.0</td>\n",
              "      <td>2.666667</td>\n",
              "      <td>0.0</td>\n",
              "      <td>1</td>\n",
              "    </tr>\n",
              "    <tr>\n",
              "      <th>50</th>\n",
              "      <td>310</td>\n",
              "      <td>0.500000</td>\n",
              "      <td>1.0</td>\n",
              "      <td>1.000000</td>\n",
              "      <td>-1.000000</td>\n",
              "      <td>-1.0</td>\n",
              "      <td>-1.000000</td>\n",
              "      <td>0.0</td>\n",
              "      <td>1</td>\n",
              "    </tr>\n",
              "    <tr>\n",
              "      <th>51</th>\n",
              "      <td>3</td>\n",
              "      <td>0.000000</td>\n",
              "      <td>3.0</td>\n",
              "      <td>3.000000</td>\n",
              "      <td>7.666667</td>\n",
              "      <td>1.0</td>\n",
              "      <td>2.666667</td>\n",
              "      <td>1.0</td>\n",
              "      <td>17</td>\n",
              "    </tr>\n",
              "    <tr>\n",
              "      <th>52</th>\n",
              "      <td>523</td>\n",
              "      <td>0.000000</td>\n",
              "      <td>3.0</td>\n",
              "      <td>3.000000</td>\n",
              "      <td>17.000000</td>\n",
              "      <td>1.0</td>\n",
              "      <td>1.000000</td>\n",
              "      <td>0.0</td>\n",
              "      <td>3</td>\n",
              "    </tr>\n",
              "    <tr>\n",
              "      <th>53</th>\n",
              "      <td>83677</td>\n",
              "      <td>0.000000</td>\n",
              "      <td>3.0</td>\n",
              "      <td>3.000000</td>\n",
              "      <td>4.333333</td>\n",
              "      <td>4.0</td>\n",
              "      <td>3.333333</td>\n",
              "      <td>0.0</td>\n",
              "      <td>1</td>\n",
              "    </tr>\n",
              "    <tr>\n",
              "      <th>54</th>\n",
              "      <td>573</td>\n",
              "      <td>0.500000</td>\n",
              "      <td>5.0</td>\n",
              "      <td>5.000000</td>\n",
              "      <td>12.000000</td>\n",
              "      <td>1.0</td>\n",
              "      <td>2.500000</td>\n",
              "      <td>1.0</td>\n",
              "      <td>31</td>\n",
              "    </tr>\n",
              "    <tr>\n",
              "      <th>55</th>\n",
              "      <td>3</td>\n",
              "      <td>0.200000</td>\n",
              "      <td>5.0</td>\n",
              "      <td>5.000000</td>\n",
              "      <td>-1.000000</td>\n",
              "      <td>-1.0</td>\n",
              "      <td>-1.000000</td>\n",
              "      <td>1.0</td>\n",
              "      <td>14</td>\n",
              "    </tr>\n",
              "    <tr>\n",
              "      <th>56</th>\n",
              "      <td>123</td>\n",
              "      <td>0.000000</td>\n",
              "      <td>3.0</td>\n",
              "      <td>3.000000</td>\n",
              "      <td>21.666667</td>\n",
              "      <td>1.0</td>\n",
              "      <td>1.000000</td>\n",
              "      <td>1.0</td>\n",
              "      <td>17</td>\n",
              "    </tr>\n",
              "    <tr>\n",
              "      <th>57</th>\n",
              "      <td>573</td>\n",
              "      <td>0.666667</td>\n",
              "      <td>5.0</td>\n",
              "      <td>5.000000</td>\n",
              "      <td>26.000000</td>\n",
              "      <td>1.0</td>\n",
              "      <td>1.000000</td>\n",
              "      <td>1.0</td>\n",
              "      <td>29</td>\n",
              "    </tr>\n",
              "    <tr>\n",
              "      <th>58</th>\n",
              "      <td>68857</td>\n",
              "      <td>0.111111</td>\n",
              "      <td>5.0</td>\n",
              "      <td>5.000000</td>\n",
              "      <td>-1.000000</td>\n",
              "      <td>-1.0</td>\n",
              "      <td>-1.000000</td>\n",
              "      <td>1.0</td>\n",
              "      <td>25</td>\n",
              "    </tr>\n",
              "    <tr>\n",
              "      <th>59</th>\n",
              "      <td>55498</td>\n",
              "      <td>0.500000</td>\n",
              "      <td>3.0</td>\n",
              "      <td>3.000000</td>\n",
              "      <td>-1.000000</td>\n",
              "      <td>-1.0</td>\n",
              "      <td>-1.000000</td>\n",
              "      <td>1.0</td>\n",
              "      <td>28</td>\n",
              "    </tr>\n",
              "    <tr>\n",
              "      <th>60</th>\n",
              "      <td>55498</td>\n",
              "      <td>0.666667</td>\n",
              "      <td>5.0</td>\n",
              "      <td>5.000000</td>\n",
              "      <td>14.666667</td>\n",
              "      <td>1.0</td>\n",
              "      <td>1.666667</td>\n",
              "      <td>1.0</td>\n",
              "      <td>28</td>\n",
              "    </tr>\n",
              "    <tr>\n",
              "      <th>61</th>\n",
              "      <td>68857</td>\n",
              "      <td>0.200000</td>\n",
              "      <td>5.0</td>\n",
              "      <td>5.000000</td>\n",
              "      <td>4.000000</td>\n",
              "      <td>3.0</td>\n",
              "      <td>3.000000</td>\n",
              "      <td>1.0</td>\n",
              "      <td>25</td>\n",
              "    </tr>\n",
              "    <tr>\n",
              "      <th>62</th>\n",
              "      <td>23957</td>\n",
              "      <td>0.000000</td>\n",
              "      <td>3.0</td>\n",
              "      <td>3.000000</td>\n",
              "      <td>2.000000</td>\n",
              "      <td>4.0</td>\n",
              "      <td>4.500000</td>\n",
              "      <td>0.0</td>\n",
              "      <td>3</td>\n",
              "    </tr>\n",
              "    <tr>\n",
              "      <th>63</th>\n",
              "      <td>504</td>\n",
              "      <td>0.000000</td>\n",
              "      <td>3.0</td>\n",
              "      <td>3.000000</td>\n",
              "      <td>-1.000000</td>\n",
              "      <td>-1.0</td>\n",
              "      <td>-1.000000</td>\n",
              "      <td>1.0</td>\n",
              "      <td>20</td>\n",
              "    </tr>\n",
              "    <tr>\n",
              "      <th>64</th>\n",
              "      <td>10</td>\n",
              "      <td>0.000000</td>\n",
              "      <td>3.0</td>\n",
              "      <td>3.000000</td>\n",
              "      <td>-1.000000</td>\n",
              "      <td>-1.0</td>\n",
              "      <td>-1.000000</td>\n",
              "      <td>0.0</td>\n",
              "      <td>2</td>\n",
              "    </tr>\n",
              "    <tr>\n",
              "      <th>65</th>\n",
              "      <td>338</td>\n",
              "      <td>0.500000</td>\n",
              "      <td>5.0</td>\n",
              "      <td>5.000000</td>\n",
              "      <td>16.333333</td>\n",
              "      <td>1.0</td>\n",
              "      <td>2.333333</td>\n",
              "      <td>1.0</td>\n",
              "      <td>25</td>\n",
              "    </tr>\n",
              "    <tr>\n",
              "      <th>66</th>\n",
              "      <td>77052</td>\n",
              "      <td>0.000000</td>\n",
              "      <td>3.0</td>\n",
              "      <td>3.000000</td>\n",
              "      <td>8.000000</td>\n",
              "      <td>2.0</td>\n",
              "      <td>2.000000</td>\n",
              "      <td>1.0</td>\n",
              "      <td>28</td>\n",
              "    </tr>\n",
              "    <tr>\n",
              "      <th>67</th>\n",
              "      <td>77052</td>\n",
              "      <td>0.500000</td>\n",
              "      <td>5.0</td>\n",
              "      <td>5.000000</td>\n",
              "      <td>14.666667</td>\n",
              "      <td>1.0</td>\n",
              "      <td>1.666667</td>\n",
              "      <td>1.0</td>\n",
              "      <td>28</td>\n",
              "    </tr>\n",
              "    <tr>\n",
              "      <th>68</th>\n",
              "      <td>72139</td>\n",
              "      <td>0.000000</td>\n",
              "      <td>3.0</td>\n",
              "      <td>3.000000</td>\n",
              "      <td>6.333333</td>\n",
              "      <td>2.0</td>\n",
              "      <td>2.666667</td>\n",
              "      <td>1.0</td>\n",
              "      <td>16</td>\n",
              "    </tr>\n",
              "    <tr>\n",
              "      <th>69</th>\n",
              "      <td>72139</td>\n",
              "      <td>0.500000</td>\n",
              "      <td>5.0</td>\n",
              "      <td>5.000000</td>\n",
              "      <td>9.000000</td>\n",
              "      <td>1.0</td>\n",
              "      <td>2.333333</td>\n",
              "      <td>0.0</td>\n",
              "      <td>2</td>\n",
              "    </tr>\n",
              "    <tr>\n",
              "      <th>70</th>\n",
              "      <td>72139</td>\n",
              "      <td>0.666667</td>\n",
              "      <td>2.0</td>\n",
              "      <td>3.500000</td>\n",
              "      <td>6.666667</td>\n",
              "      <td>4.0</td>\n",
              "      <td>3.000000</td>\n",
              "      <td>0.0</td>\n",
              "      <td>2</td>\n",
              "    </tr>\n",
              "    <tr>\n",
              "      <th>71</th>\n",
              "      <td>77052</td>\n",
              "      <td>0.666667</td>\n",
              "      <td>5.0</td>\n",
              "      <td>5.000000</td>\n",
              "      <td>8.000000</td>\n",
              "      <td>2.0</td>\n",
              "      <td>2.000000</td>\n",
              "      <td>1.0</td>\n",
              "      <td>27</td>\n",
              "    </tr>\n",
              "    <tr>\n",
              "      <th>72</th>\n",
              "      <td>100</td>\n",
              "      <td>0.000000</td>\n",
              "      <td>3.0</td>\n",
              "      <td>3.000000</td>\n",
              "      <td>7.000000</td>\n",
              "      <td>4.0</td>\n",
              "      <td>3.333333</td>\n",
              "      <td>1.0</td>\n",
              "      <td>16</td>\n",
              "    </tr>\n",
              "    <tr>\n",
              "      <th>73</th>\n",
              "      <td>83617</td>\n",
              "      <td>0.000000</td>\n",
              "      <td>3.0</td>\n",
              "      <td>3.000000</td>\n",
              "      <td>-1.000000</td>\n",
              "      <td>-1.0</td>\n",
              "      <td>-1.000000</td>\n",
              "      <td>0.0</td>\n",
              "      <td>1</td>\n",
              "    </tr>\n",
              "    <tr>\n",
              "      <th>74</th>\n",
              "      <td>466</td>\n",
              "      <td>0.000000</td>\n",
              "      <td>3.0</td>\n",
              "      <td>3.000000</td>\n",
              "      <td>-1.000000</td>\n",
              "      <td>-1.0</td>\n",
              "      <td>-1.000000</td>\n",
              "      <td>0.0</td>\n",
              "      <td>3</td>\n",
              "    </tr>\n",
              "    <tr>\n",
              "      <th>75</th>\n",
              "      <td>83617</td>\n",
              "      <td>0.200000</td>\n",
              "      <td>1.0</td>\n",
              "      <td>1.000000</td>\n",
              "      <td>8.666667</td>\n",
              "      <td>2.0</td>\n",
              "      <td>2.333333</td>\n",
              "      <td>0.0</td>\n",
              "      <td>3</td>\n",
              "    </tr>\n",
              "    <tr>\n",
              "      <th>76</th>\n",
              "      <td>83617</td>\n",
              "      <td>0.285714</td>\n",
              "      <td>2.0</td>\n",
              "      <td>1.500000</td>\n",
              "      <td>8.666667</td>\n",
              "      <td>4.0</td>\n",
              "      <td>2.333333</td>\n",
              "      <td>0.0</td>\n",
              "      <td>6</td>\n",
              "    </tr>\n",
              "    <tr>\n",
              "      <th>77</th>\n",
              "      <td>57</td>\n",
              "      <td>0.000000</td>\n",
              "      <td>3.0</td>\n",
              "      <td>3.000000</td>\n",
              "      <td>7.000000</td>\n",
              "      <td>4.0</td>\n",
              "      <td>2.666667</td>\n",
              "      <td>0.0</td>\n",
              "      <td>1</td>\n",
              "    </tr>\n",
              "    <tr>\n",
              "      <th>78</th>\n",
              "      <td>83617</td>\n",
              "      <td>0.333333</td>\n",
              "      <td>3.0</td>\n",
              "      <td>2.000000</td>\n",
              "      <td>-1.000000</td>\n",
              "      <td>-1.0</td>\n",
              "      <td>-1.000000</td>\n",
              "      <td>0.0</td>\n",
              "      <td>6</td>\n",
              "    </tr>\n",
              "    <tr>\n",
              "      <th>79</th>\n",
              "      <td>83617</td>\n",
              "      <td>0.384615</td>\n",
              "      <td>3.0</td>\n",
              "      <td>2.250000</td>\n",
              "      <td>8.666667</td>\n",
              "      <td>4.0</td>\n",
              "      <td>2.333333</td>\n",
              "      <td>0.0</td>\n",
              "      <td>2</td>\n",
              "    </tr>\n",
              "    <tr>\n",
              "      <th>80</th>\n",
              "      <td>53515</td>\n",
              "      <td>0.000000</td>\n",
              "      <td>3.0</td>\n",
              "      <td>3.000000</td>\n",
              "      <td>19.333333</td>\n",
              "      <td>1.0</td>\n",
              "      <td>1.333333</td>\n",
              "      <td>0.0</td>\n",
              "      <td>3</td>\n",
              "    </tr>\n",
              "    <tr>\n",
              "      <th>81</th>\n",
              "      <td>77052</td>\n",
              "      <td>0.750000</td>\n",
              "      <td>5.0</td>\n",
              "      <td>5.000000</td>\n",
              "      <td>21.333333</td>\n",
              "      <td>1.0</td>\n",
              "      <td>1.333333</td>\n",
              "      <td>1.0</td>\n",
              "      <td>27</td>\n",
              "    </tr>\n",
              "    <tr>\n",
              "      <th>82</th>\n",
              "      <td>310</td>\n",
              "      <td>0.666667</td>\n",
              "      <td>1.0</td>\n",
              "      <td>1.000000</td>\n",
              "      <td>10.333333</td>\n",
              "      <td>2.0</td>\n",
              "      <td>2.333333</td>\n",
              "      <td>0.0</td>\n",
              "      <td>3</td>\n",
              "    </tr>\n",
              "    <tr>\n",
              "      <th>83</th>\n",
              "      <td>202</td>\n",
              "      <td>0.333333</td>\n",
              "      <td>4.0</td>\n",
              "      <td>4.000000</td>\n",
              "      <td>-1.000000</td>\n",
              "      <td>-1.0</td>\n",
              "      <td>-1.000000</td>\n",
              "      <td>1.0</td>\n",
              "      <td>9</td>\n",
              "    </tr>\n",
              "    <tr>\n",
              "      <th>84</th>\n",
              "      <td>123</td>\n",
              "      <td>0.333333</td>\n",
              "      <td>5.0</td>\n",
              "      <td>5.000000</td>\n",
              "      <td>27.000000</td>\n",
              "      <td>1.0</td>\n",
              "      <td>1.000000</td>\n",
              "      <td>1.0</td>\n",
              "      <td>24</td>\n",
              "    </tr>\n",
              "    <tr>\n",
              "      <th>85</th>\n",
              "      <td>202</td>\n",
              "      <td>0.400000</td>\n",
              "      <td>4.0</td>\n",
              "      <td>4.000000</td>\n",
              "      <td>5.000000</td>\n",
              "      <td>2.0</td>\n",
              "      <td>3.500000</td>\n",
              "      <td>1.0</td>\n",
              "      <td>9</td>\n",
              "    </tr>\n",
              "    <tr>\n",
              "      <th>86</th>\n",
              "      <td>202</td>\n",
              "      <td>0.500000</td>\n",
              "      <td>4.0</td>\n",
              "      <td>4.000000</td>\n",
              "      <td>15.333333</td>\n",
              "      <td>2.0</td>\n",
              "      <td>1.666667</td>\n",
              "      <td>1.0</td>\n",
              "      <td>31</td>\n",
              "    </tr>\n",
              "    <tr>\n",
              "      <th>87</th>\n",
              "      <td>202</td>\n",
              "      <td>0.571429</td>\n",
              "      <td>5.0</td>\n",
              "      <td>4.250000</td>\n",
              "      <td>16.333333</td>\n",
              "      <td>2.0</td>\n",
              "      <td>1.666667</td>\n",
              "      <td>1.0</td>\n",
              "      <td>9</td>\n",
              "    </tr>\n",
              "    <tr>\n",
              "      <th>88</th>\n",
              "      <td>41343</td>\n",
              "      <td>0.000000</td>\n",
              "      <td>3.0</td>\n",
              "      <td>3.000000</td>\n",
              "      <td>-1.000000</td>\n",
              "      <td>-1.0</td>\n",
              "      <td>-1.000000</td>\n",
              "      <td>1.0</td>\n",
              "      <td>9</td>\n",
              "    </tr>\n",
              "    <tr>\n",
              "      <th>89</th>\n",
              "      <td>35</td>\n",
              "      <td>0.500000</td>\n",
              "      <td>3.0</td>\n",
              "      <td>3.000000</td>\n",
              "      <td>17.000000</td>\n",
              "      <td>1.0</td>\n",
              "      <td>1.333333</td>\n",
              "      <td>1.0</td>\n",
              "      <td>7</td>\n",
              "    </tr>\n",
              "    <tr>\n",
              "      <th>90</th>\n",
              "      <td>186</td>\n",
              "      <td>0.500000</td>\n",
              "      <td>5.0</td>\n",
              "      <td>5.000000</td>\n",
              "      <td>2.333333</td>\n",
              "      <td>4.0</td>\n",
              "      <td>4.333333</td>\n",
              "      <td>1.0</td>\n",
              "      <td>24</td>\n",
              "    </tr>\n",
              "    <tr>\n",
              "      <th>91</th>\n",
              "      <td>253</td>\n",
              "      <td>0.000000</td>\n",
              "      <td>3.0</td>\n",
              "      <td>3.000000</td>\n",
              "      <td>1.666667</td>\n",
              "      <td>5.0</td>\n",
              "      <td>4.666667</td>\n",
              "      <td>0.0</td>\n",
              "      <td>2</td>\n",
              "    </tr>\n",
              "    <tr>\n",
              "      <th>92</th>\n",
              "      <td>581</td>\n",
              "      <td>0.800000</td>\n",
              "      <td>5.0</td>\n",
              "      <td>3.000000</td>\n",
              "      <td>-1.000000</td>\n",
              "      <td>-1.0</td>\n",
              "      <td>-1.000000</td>\n",
              "      <td>1.0</td>\n",
              "      <td>14</td>\n",
              "    </tr>\n",
              "    <tr>\n",
              "      <th>93</th>\n",
              "      <td>186</td>\n",
              "      <td>0.666667</td>\n",
              "      <td>5.0</td>\n",
              "      <td>5.000000</td>\n",
              "      <td>-1.000000</td>\n",
              "      <td>-1.0</td>\n",
              "      <td>-1.000000</td>\n",
              "      <td>1.0</td>\n",
              "      <td>24</td>\n",
              "    </tr>\n",
              "    <tr>\n",
              "      <th>94</th>\n",
              "      <td>25</td>\n",
              "      <td>0.666667</td>\n",
              "      <td>1.0</td>\n",
              "      <td>1.000000</td>\n",
              "      <td>22.000000</td>\n",
              "      <td>1.0</td>\n",
              "      <td>1.000000</td>\n",
              "      <td>0.0</td>\n",
              "      <td>2</td>\n",
              "    </tr>\n",
              "    <tr>\n",
              "      <th>95</th>\n",
              "      <td>38443</td>\n",
              "      <td>0.333333</td>\n",
              "      <td>3.0</td>\n",
              "      <td>3.000000</td>\n",
              "      <td>1.333333</td>\n",
              "      <td>4.0</td>\n",
              "      <td>4.666667</td>\n",
              "      <td>0.0</td>\n",
              "      <td>1</td>\n",
              "    </tr>\n",
              "    <tr>\n",
              "      <th>96</th>\n",
              "      <td>186</td>\n",
              "      <td>0.714286</td>\n",
              "      <td>5.0</td>\n",
              "      <td>5.000000</td>\n",
              "      <td>9.333333</td>\n",
              "      <td>5.0</td>\n",
              "      <td>3.333333</td>\n",
              "      <td>1.0</td>\n",
              "      <td>24</td>\n",
              "    </tr>\n",
              "    <tr>\n",
              "      <th>97</th>\n",
              "      <td>581</td>\n",
              "      <td>0.833333</td>\n",
              "      <td>4.0</td>\n",
              "      <td>3.250000</td>\n",
              "      <td>18.000000</td>\n",
              "      <td>1.0</td>\n",
              "      <td>1.333333</td>\n",
              "      <td>0.0</td>\n",
              "      <td>1</td>\n",
              "    </tr>\n",
              "    <tr>\n",
              "      <th>98</th>\n",
              "      <td>324</td>\n",
              "      <td>0.000000</td>\n",
              "      <td>3.0</td>\n",
              "      <td>3.000000</td>\n",
              "      <td>-1.000000</td>\n",
              "      <td>-1.0</td>\n",
              "      <td>-1.000000</td>\n",
              "      <td>1.0</td>\n",
              "      <td>10</td>\n",
              "    </tr>\n",
              "    <tr>\n",
              "      <th>99</th>\n",
              "      <td>80880</td>\n",
              "      <td>0.000000</td>\n",
              "      <td>3.0</td>\n",
              "      <td>3.000000</td>\n",
              "      <td>25.000000</td>\n",
              "      <td>1.0</td>\n",
              "      <td>1.000000</td>\n",
              "      <td>1.0</td>\n",
              "      <td>7</td>\n",
              "    </tr>\n",
              "    <tr>\n",
              "      <th>100</th>\n",
              "      <td>2</td>\n",
              "      <td>0.666667</td>\n",
              "      <td>3.0</td>\n",
              "      <td>3.000000</td>\n",
              "      <td>12.000000</td>\n",
              "      <td>4.0</td>\n",
              "      <td>2.000000</td>\n",
              "      <td>1.0</td>\n",
              "      <td>16</td>\n",
              "    </tr>\n",
              "    <tr>\n",
              "      <th>101</th>\n",
              "      <td>28307</td>\n",
              "      <td>0.000000</td>\n",
              "      <td>3.0</td>\n",
              "      <td>3.000000</td>\n",
              "      <td>1.333333</td>\n",
              "      <td>5.0</td>\n",
              "      <td>4.666667</td>\n",
              "      <td>0.0</td>\n",
              "      <td>2</td>\n",
              "    </tr>\n",
              "    <tr>\n",
              "      <th>102</th>\n",
              "      <td>356</td>\n",
              "      <td>0.333333</td>\n",
              "      <td>3.0</td>\n",
              "      <td>3.000000</td>\n",
              "      <td>7.000000</td>\n",
              "      <td>4.0</td>\n",
              "      <td>3.333333</td>\n",
              "      <td>0.0</td>\n",
              "      <td>2</td>\n",
              "    </tr>\n",
              "    <tr>\n",
              "      <th>103</th>\n",
              "      <td>24</td>\n",
              "      <td>0.800000</td>\n",
              "      <td>2.0</td>\n",
              "      <td>2.000000</td>\n",
              "      <td>8.500000</td>\n",
              "      <td>5.0</td>\n",
              "      <td>3.000000</td>\n",
              "      <td>0.0</td>\n",
              "      <td>1</td>\n",
              "    </tr>\n",
              "    <tr>\n",
              "      <th>104</th>\n",
              "      <td>55548</td>\n",
              "      <td>0.333333</td>\n",
              "      <td>1.0</td>\n",
              "      <td>1.000000</td>\n",
              "      <td>12.333333</td>\n",
              "      <td>1.0</td>\n",
              "      <td>2.333333</td>\n",
              "      <td>1.0</td>\n",
              "      <td>17</td>\n",
              "    </tr>\n",
              "    <tr>\n",
              "      <th>105</th>\n",
              "      <td>72759</td>\n",
              "      <td>0.500000</td>\n",
              "      <td>3.0</td>\n",
              "      <td>3.000000</td>\n",
              "      <td>-1.000000</td>\n",
              "      <td>-1.0</td>\n",
              "      <td>-1.000000</td>\n",
              "      <td>0.0</td>\n",
              "      <td>1</td>\n",
              "    </tr>\n",
              "    <tr>\n",
              "      <th>106</th>\n",
              "      <td>259</td>\n",
              "      <td>0.000000</td>\n",
              "      <td>3.0</td>\n",
              "      <td>3.000000</td>\n",
              "      <td>10.000000</td>\n",
              "      <td>1.0</td>\n",
              "      <td>2.000000</td>\n",
              "      <td>0.0</td>\n",
              "      <td>6</td>\n",
              "    </tr>\n",
              "    <tr>\n",
              "      <th>107</th>\n",
              "      <td>83260</td>\n",
              "      <td>0.000000</td>\n",
              "      <td>3.0</td>\n",
              "      <td>3.000000</td>\n",
              "      <td>14.333333</td>\n",
              "      <td>2.0</td>\n",
              "      <td>1.666667</td>\n",
              "      <td>1.0</td>\n",
              "      <td>21</td>\n",
              "    </tr>\n",
              "    <tr>\n",
              "      <th>108</th>\n",
              "      <td>259</td>\n",
              "      <td>0.500000</td>\n",
              "      <td>3.0</td>\n",
              "      <td>3.000000</td>\n",
              "      <td>-1.000000</td>\n",
              "      <td>-1.0</td>\n",
              "      <td>-1.000000</td>\n",
              "      <td>0.0</td>\n",
              "      <td>1</td>\n",
              "    </tr>\n",
              "    <tr>\n",
              "      <th>109</th>\n",
              "      <td>4954</td>\n",
              "      <td>0.000000</td>\n",
              "      <td>3.0</td>\n",
              "      <td>3.000000</td>\n",
              "      <td>-1.000000</td>\n",
              "      <td>-1.0</td>\n",
              "      <td>-1.000000</td>\n",
              "      <td>1.0</td>\n",
              "      <td>28</td>\n",
              "    </tr>\n",
              "    <tr>\n",
              "      <th>110</th>\n",
              "      <td>38</td>\n",
              "      <td>0.500000</td>\n",
              "      <td>3.0</td>\n",
              "      <td>3.000000</td>\n",
              "      <td>-1.000000</td>\n",
              "      <td>-1.0</td>\n",
              "      <td>-1.000000</td>\n",
              "      <td>0.0</td>\n",
              "      <td>2</td>\n",
              "    </tr>\n",
              "    <tr>\n",
              "      <th>111</th>\n",
              "      <td>524</td>\n",
              "      <td>0.333333</td>\n",
              "      <td>3.0</td>\n",
              "      <td>3.000000</td>\n",
              "      <td>-1.000000</td>\n",
              "      <td>-1.0</td>\n",
              "      <td>-1.000000</td>\n",
              "      <td>1.0</td>\n",
              "      <td>13</td>\n",
              "    </tr>\n",
              "    <tr>\n",
              "      <th>112</th>\n",
              "      <td>88350</td>\n",
              "      <td>0.000000</td>\n",
              "      <td>3.0</td>\n",
              "      <td>3.000000</td>\n",
              "      <td>7.333333</td>\n",
              "      <td>4.0</td>\n",
              "      <td>2.666667</td>\n",
              "      <td>0.0</td>\n",
              "      <td>1</td>\n",
              "    </tr>\n",
              "    <tr>\n",
              "      <th>113</th>\n",
              "      <td>82963</td>\n",
              "      <td>0.000000</td>\n",
              "      <td>3.0</td>\n",
              "      <td>3.000000</td>\n",
              "      <td>10.666667</td>\n",
              "      <td>2.0</td>\n",
              "      <td>1.666667</td>\n",
              "      <td>0.0</td>\n",
              "      <td>2</td>\n",
              "    </tr>\n",
              "    <tr>\n",
              "      <th>114</th>\n",
              "      <td>72870</td>\n",
              "      <td>0.000000</td>\n",
              "      <td>3.0</td>\n",
              "      <td>3.000000</td>\n",
              "      <td>8.000000</td>\n",
              "      <td>2.0</td>\n",
              "      <td>2.000000</td>\n",
              "      <td>0.0</td>\n",
              "      <td>2</td>\n",
              "    </tr>\n",
              "    <tr>\n",
              "      <th>115</th>\n",
              "      <td>50</td>\n",
              "      <td>0.666667</td>\n",
              "      <td>2.0</td>\n",
              "      <td>2.000000</td>\n",
              "      <td>14.333333</td>\n",
              "      <td>1.0</td>\n",
              "      <td>2.000000</td>\n",
              "      <td>0.0</td>\n",
              "      <td>2</td>\n",
              "    </tr>\n",
              "    <tr>\n",
              "      <th>116</th>\n",
              "      <td>55498</td>\n",
              "      <td>0.750000</td>\n",
              "      <td>5.0</td>\n",
              "      <td>5.000000</td>\n",
              "      <td>19.666667</td>\n",
              "      <td>1.0</td>\n",
              "      <td>2.000000</td>\n",
              "      <td>1.0</td>\n",
              "      <td>27</td>\n",
              "    </tr>\n",
              "    <tr>\n",
              "      <th>117</th>\n",
              "      <td>88622</td>\n",
              "      <td>0.000000</td>\n",
              "      <td>3.0</td>\n",
              "      <td>3.000000</td>\n",
              "      <td>15.000000</td>\n",
              "      <td>1.0</td>\n",
              "      <td>2.333333</td>\n",
              "      <td>0.0</td>\n",
              "      <td>1</td>\n",
              "    </tr>\n",
              "    <tr>\n",
              "      <th>118</th>\n",
              "      <td>88350</td>\n",
              "      <td>0.500000</td>\n",
              "      <td>1.0</td>\n",
              "      <td>1.000000</td>\n",
              "      <td>12.000000</td>\n",
              "      <td>5.0</td>\n",
              "      <td>3.000000</td>\n",
              "      <td>0.0</td>\n",
              "      <td>6</td>\n",
              "    </tr>\n",
              "    <tr>\n",
              "      <th>119</th>\n",
              "      <td>83260</td>\n",
              "      <td>0.500000</td>\n",
              "      <td>5.0</td>\n",
              "      <td>5.000000</td>\n",
              "      <td>25.000000</td>\n",
              "      <td>1.0</td>\n",
              "      <td>1.000000</td>\n",
              "      <td>1.0</td>\n",
              "      <td>21</td>\n",
              "    </tr>\n",
              "    <tr>\n",
              "      <th>120</th>\n",
              "      <td>10</td>\n",
              "      <td>0.500000</td>\n",
              "      <td>2.0</td>\n",
              "      <td>2.000000</td>\n",
              "      <td>2.500000</td>\n",
              "      <td>4.0</td>\n",
              "      <td>4.000000</td>\n",
              "      <td>0.0</td>\n",
              "      <td>1</td>\n",
              "    </tr>\n",
              "    <tr>\n",
              "      <th>121</th>\n",
              "      <td>78878</td>\n",
              "      <td>0.000000</td>\n",
              "      <td>3.0</td>\n",
              "      <td>3.000000</td>\n",
              "      <td>8.500000</td>\n",
              "      <td>4.0</td>\n",
              "      <td>2.500000</td>\n",
              "      <td>1.0</td>\n",
              "      <td>8</td>\n",
              "    </tr>\n",
              "    <tr>\n",
              "      <th>122</th>\n",
              "      <td>146</td>\n",
              "      <td>0.000000</td>\n",
              "      <td>3.0</td>\n",
              "      <td>3.000000</td>\n",
              "      <td>8.000000</td>\n",
              "      <td>1.0</td>\n",
              "      <td>3.000000</td>\n",
              "      <td>0.0</td>\n",
              "      <td>1</td>\n",
              "    </tr>\n",
              "    <tr>\n",
              "      <th>123</th>\n",
              "      <td>202</td>\n",
              "      <td>0.625000</td>\n",
              "      <td>4.0</td>\n",
              "      <td>4.200000</td>\n",
              "      <td>13.666667</td>\n",
              "      <td>5.0</td>\n",
              "      <td>2.666667</td>\n",
              "      <td>1.0</td>\n",
              "      <td>16</td>\n",
              "    </tr>\n",
              "    <tr>\n",
              "      <th>124</th>\n",
              "      <td>202</td>\n",
              "      <td>0.666667</td>\n",
              "      <td>5.0</td>\n",
              "      <td>4.333333</td>\n",
              "      <td>11.333333</td>\n",
              "      <td>2.0</td>\n",
              "      <td>1.666667</td>\n",
              "      <td>1.0</td>\n",
              "      <td>8</td>\n",
              "    </tr>\n",
              "    <tr>\n",
              "      <th>125</th>\n",
              "      <td>100</td>\n",
              "      <td>0.500000</td>\n",
              "      <td>5.0</td>\n",
              "      <td>5.000000</td>\n",
              "      <td>-1.000000</td>\n",
              "      <td>-1.0</td>\n",
              "      <td>-1.000000</td>\n",
              "      <td>1.0</td>\n",
              "      <td>16</td>\n",
              "    </tr>\n",
              "    <tr>\n",
              "      <th>126</th>\n",
              "      <td>697</td>\n",
              "      <td>0.000000</td>\n",
              "      <td>3.0</td>\n",
              "      <td>3.000000</td>\n",
              "      <td>11.000000</td>\n",
              "      <td>2.0</td>\n",
              "      <td>2.666667</td>\n",
              "      <td>0.0</td>\n",
              "      <td>1</td>\n",
              "    </tr>\n",
              "    <tr>\n",
              "      <th>127</th>\n",
              "      <td>186</td>\n",
              "      <td>0.666667</td>\n",
              "      <td>5.0</td>\n",
              "      <td>5.000000</td>\n",
              "      <td>20.000000</td>\n",
              "      <td>1.0</td>\n",
              "      <td>1.333333</td>\n",
              "      <td>1.0</td>\n",
              "      <td>13</td>\n",
              "    </tr>\n",
              "    <tr>\n",
              "      <th>128</th>\n",
              "      <td>100</td>\n",
              "      <td>0.666667</td>\n",
              "      <td>5.0</td>\n",
              "      <td>5.000000</td>\n",
              "      <td>8.000000</td>\n",
              "      <td>2.0</td>\n",
              "      <td>3.000000</td>\n",
              "      <td>0.0</td>\n",
              "      <td>1</td>\n",
              "    </tr>\n",
              "    <tr>\n",
              "      <th>129</th>\n",
              "      <td>522</td>\n",
              "      <td>0.333333</td>\n",
              "      <td>3.0</td>\n",
              "      <td>3.000000</td>\n",
              "      <td>-1.000000</td>\n",
              "      <td>-1.0</td>\n",
              "      <td>-1.000000</td>\n",
              "      <td>0.0</td>\n",
              "      <td>2</td>\n",
              "    </tr>\n",
              "    <tr>\n",
              "      <th>130</th>\n",
              "      <td>88</td>\n",
              "      <td>0.000000</td>\n",
              "      <td>3.0</td>\n",
              "      <td>3.000000</td>\n",
              "      <td>5.500000</td>\n",
              "      <td>2.0</td>\n",
              "      <td>3.500000</td>\n",
              "      <td>0.0</td>\n",
              "      <td>5</td>\n",
              "    </tr>\n",
              "    <tr>\n",
              "      <th>131</th>\n",
              "      <td>18</td>\n",
              "      <td>0.000000</td>\n",
              "      <td>3.0</td>\n",
              "      <td>3.000000</td>\n",
              "      <td>11.666667</td>\n",
              "      <td>1.0</td>\n",
              "      <td>2.333333</td>\n",
              "      <td>0.0</td>\n",
              "      <td>1</td>\n",
              "    </tr>\n",
              "    <tr>\n",
              "      <th>132</th>\n",
              "      <td>202</td>\n",
              "      <td>0.636364</td>\n",
              "      <td>4.0</td>\n",
              "      <td>4.285714</td>\n",
              "      <td>16.333333</td>\n",
              "      <td>2.0</td>\n",
              "      <td>1.666667</td>\n",
              "      <td>1.0</td>\n",
              "      <td>8</td>\n",
              "    </tr>\n",
              "    <tr>\n",
              "      <th>133</th>\n",
              "      <td>525</td>\n",
              "      <td>0.333333</td>\n",
              "      <td>5.0</td>\n",
              "      <td>5.000000</td>\n",
              "      <td>-1.000000</td>\n",
              "      <td>-1.0</td>\n",
              "      <td>-1.000000</td>\n",
              "      <td>0.0</td>\n",
              "      <td>5</td>\n",
              "    </tr>\n",
              "    <tr>\n",
              "      <th>134</th>\n",
              "      <td>38443</td>\n",
              "      <td>0.500000</td>\n",
              "      <td>1.0</td>\n",
              "      <td>1.000000</td>\n",
              "      <td>2.000000</td>\n",
              "      <td>4.0</td>\n",
              "      <td>4.000000</td>\n",
              "      <td>0.0</td>\n",
              "      <td>5</td>\n",
              "    </tr>\n",
              "    <tr>\n",
              "      <th>135</th>\n",
              "      <td>324</td>\n",
              "      <td>0.250000</td>\n",
              "      <td>4.0</td>\n",
              "      <td>4.000000</td>\n",
              "      <td>11.000000</td>\n",
              "      <td>1.0</td>\n",
              "      <td>1.666667</td>\n",
              "      <td>1.0</td>\n",
              "      <td>8</td>\n",
              "    </tr>\n",
              "    <tr>\n",
              "      <th>136</th>\n",
              "      <td>70544</td>\n",
              "      <td>0.000000</td>\n",
              "      <td>3.0</td>\n",
              "      <td>3.000000</td>\n",
              "      <td>-1.000000</td>\n",
              "      <td>-1.0</td>\n",
              "      <td>-1.000000</td>\n",
              "      <td>0.0</td>\n",
              "      <td>1</td>\n",
              "    </tr>\n",
              "    <tr>\n",
              "      <th>137</th>\n",
              "      <td>256</td>\n",
              "      <td>0.250000</td>\n",
              "      <td>3.0</td>\n",
              "      <td>3.000000</td>\n",
              "      <td>-1.000000</td>\n",
              "      <td>-1.0</td>\n",
              "      <td>-1.000000</td>\n",
              "      <td>0.0</td>\n",
              "      <td>5</td>\n",
              "    </tr>\n",
              "    <tr>\n",
              "      <th>138</th>\n",
              "      <td>88638</td>\n",
              "      <td>0.000000</td>\n",
              "      <td>3.0</td>\n",
              "      <td>3.000000</td>\n",
              "      <td>15.000000</td>\n",
              "      <td>2.0</td>\n",
              "      <td>1.500000</td>\n",
              "      <td>0.0</td>\n",
              "      <td>1</td>\n",
              "    </tr>\n",
              "    <tr>\n",
              "      <th>139</th>\n",
              "      <td>82713</td>\n",
              "      <td>0.000000</td>\n",
              "      <td>3.0</td>\n",
              "      <td>3.000000</td>\n",
              "      <td>11.000000</td>\n",
              "      <td>5.0</td>\n",
              "      <td>3.666667</td>\n",
              "      <td>0.0</td>\n",
              "      <td>1</td>\n",
              "    </tr>\n",
              "    <tr>\n",
              "      <th>140</th>\n",
              "      <td>190</td>\n",
              "      <td>0.000000</td>\n",
              "      <td>3.0</td>\n",
              "      <td>3.000000</td>\n",
              "      <td>-1.000000</td>\n",
              "      <td>-1.0</td>\n",
              "      <td>-1.000000</td>\n",
              "      <td>0.0</td>\n",
              "      <td>1</td>\n",
              "    </tr>\n",
              "    <tr>\n",
              "      <th>141</th>\n",
              "      <td>581</td>\n",
              "      <td>0.750000</td>\n",
              "      <td>1.0</td>\n",
              "      <td>2.800000</td>\n",
              "      <td>4.666667</td>\n",
              "      <td>4.0</td>\n",
              "      <td>3.333333</td>\n",
              "      <td>0.0</td>\n",
              "      <td>1</td>\n",
              "    </tr>\n",
              "    <tr>\n",
              "      <th>142</th>\n",
              "      <td>581</td>\n",
              "      <td>0.777778</td>\n",
              "      <td>1.0</td>\n",
              "      <td>2.500000</td>\n",
              "      <td>3.000000</td>\n",
              "      <td>5.0</td>\n",
              "      <td>4.000000</td>\n",
              "      <td>0.0</td>\n",
              "      <td>2</td>\n",
              "    </tr>\n",
              "    <tr>\n",
              "      <th>143</th>\n",
              "      <td>581</td>\n",
              "      <td>0.800000</td>\n",
              "      <td>2.0</td>\n",
              "      <td>2.428571</td>\n",
              "      <td>6.000000</td>\n",
              "      <td>5.0</td>\n",
              "      <td>3.333333</td>\n",
              "      <td>0.0</td>\n",
              "      <td>1</td>\n",
              "    </tr>\n",
              "    <tr>\n",
              "      <th>144</th>\n",
              "      <td>622</td>\n",
              "      <td>0.000000</td>\n",
              "      <td>3.0</td>\n",
              "      <td>3.000000</td>\n",
              "      <td>6.333333</td>\n",
              "      <td>5.0</td>\n",
              "      <td>3.333333</td>\n",
              "      <td>0.0</td>\n",
              "      <td>5</td>\n",
              "    </tr>\n",
              "    <tr>\n",
              "      <th>145</th>\n",
              "      <td>573</td>\n",
              "      <td>0.750000</td>\n",
              "      <td>5.0</td>\n",
              "      <td>5.000000</td>\n",
              "      <td>27.000000</td>\n",
              "      <td>1.0</td>\n",
              "      <td>1.000000</td>\n",
              "      <td>1.0</td>\n",
              "      <td>32</td>\n",
              "    </tr>\n",
              "    <tr>\n",
              "      <th>146</th>\n",
              "      <td>622</td>\n",
              "      <td>0.333333</td>\n",
              "      <td>3.0</td>\n",
              "      <td>3.000000</td>\n",
              "      <td>9.000000</td>\n",
              "      <td>2.0</td>\n",
              "      <td>2.333333</td>\n",
              "      <td>1.0</td>\n",
              "      <td>12</td>\n",
              "    </tr>\n",
              "    <tr>\n",
              "      <th>147</th>\n",
              "      <td>180</td>\n",
              "      <td>0.500000</td>\n",
              "      <td>3.0</td>\n",
              "      <td>3.000000</td>\n",
              "      <td>2.000000</td>\n",
              "      <td>5.0</td>\n",
              "      <td>4.500000</td>\n",
              "      <td>0.0</td>\n",
              "      <td>1</td>\n",
              "    </tr>\n",
              "    <tr>\n",
              "      <th>148</th>\n",
              "      <td>38443</td>\n",
              "      <td>0.600000</td>\n",
              "      <td>3.0</td>\n",
              "      <td>2.000000</td>\n",
              "      <td>5.666667</td>\n",
              "      <td>2.0</td>\n",
              "      <td>3.666667</td>\n",
              "      <td>0.0</td>\n",
              "      <td>5</td>\n",
              "    </tr>\n",
              "    <tr>\n",
              "      <th>149</th>\n",
              "      <td>76673</td>\n",
              "      <td>0.000000</td>\n",
              "      <td>3.0</td>\n",
              "      <td>3.000000</td>\n",
              "      <td>10.000000</td>\n",
              "      <td>1.0</td>\n",
              "      <td>3.000000</td>\n",
              "      <td>0.0</td>\n",
              "      <td>5</td>\n",
              "    </tr>\n",
              "    <tr>\n",
              "      <th>150</th>\n",
              "      <td>70458</td>\n",
              "      <td>0.142857</td>\n",
              "      <td>3.0</td>\n",
              "      <td>3.000000</td>\n",
              "      <td>7.500000</td>\n",
              "      <td>2.0</td>\n",
              "      <td>2.000000</td>\n",
              "      <td>1.0</td>\n",
              "      <td>13</td>\n",
              "    </tr>\n",
              "    <tr>\n",
              "      <th>151</th>\n",
              "      <td>83260</td>\n",
              "      <td>0.500000</td>\n",
              "      <td>5.0</td>\n",
              "      <td>5.000000</td>\n",
              "      <td>23.000000</td>\n",
              "      <td>1.0</td>\n",
              "      <td>1.000000</td>\n",
              "      <td>1.0</td>\n",
              "      <td>19</td>\n",
              "    </tr>\n",
              "    <tr>\n",
              "      <th>152</th>\n",
              "      <td>88345</td>\n",
              "      <td>0.500000</td>\n",
              "      <td>3.0</td>\n",
              "      <td>3.000000</td>\n",
              "      <td>-1.000000</td>\n",
              "      <td>-1.0</td>\n",
              "      <td>-1.000000</td>\n",
              "      <td>1.0</td>\n",
              "      <td>20</td>\n",
              "    </tr>\n",
              "    <tr>\n",
              "      <th>153</th>\n",
              "      <td>182</td>\n",
              "      <td>0.428571</td>\n",
              "      <td>3.0</td>\n",
              "      <td>3.000000</td>\n",
              "      <td>9.000000</td>\n",
              "      <td>4.0</td>\n",
              "      <td>3.333333</td>\n",
              "      <td>0.0</td>\n",
              "      <td>6</td>\n",
              "    </tr>\n",
              "    <tr>\n",
              "      <th>154</th>\n",
              "      <td>279</td>\n",
              "      <td>0.000000</td>\n",
              "      <td>3.0</td>\n",
              "      <td>3.000000</td>\n",
              "      <td>7.666667</td>\n",
              "      <td>4.0</td>\n",
              "      <td>2.666667</td>\n",
              "      <td>1.0</td>\n",
              "      <td>19</td>\n",
              "    </tr>\n",
              "    <tr>\n",
              "      <th>155</th>\n",
              "      <td>5403</td>\n",
              "      <td>0.000000</td>\n",
              "      <td>3.0</td>\n",
              "      <td>3.000000</td>\n",
              "      <td>-1.000000</td>\n",
              "      <td>-1.0</td>\n",
              "      <td>-1.000000</td>\n",
              "      <td>0.0</td>\n",
              "      <td>4</td>\n",
              "    </tr>\n",
              "    <tr>\n",
              "      <th>156</th>\n",
              "      <td>73605</td>\n",
              "      <td>0.666667</td>\n",
              "      <td>3.0</td>\n",
              "      <td>3.000000</td>\n",
              "      <td>6.000000</td>\n",
              "      <td>4.0</td>\n",
              "      <td>3.333333</td>\n",
              "      <td>1.0</td>\n",
              "      <td>7</td>\n",
              "    </tr>\n",
              "    <tr>\n",
              "      <th>157</th>\n",
              "      <td>88528</td>\n",
              "      <td>0.000000</td>\n",
              "      <td>3.0</td>\n",
              "      <td>3.000000</td>\n",
              "      <td>2.333333</td>\n",
              "      <td>4.0</td>\n",
              "      <td>4.000000</td>\n",
              "      <td>1.0</td>\n",
              "      <td>20</td>\n",
              "    </tr>\n",
              "    <tr>\n",
              "      <th>158</th>\n",
              "      <td>324</td>\n",
              "      <td>0.333333</td>\n",
              "      <td>4.0</td>\n",
              "      <td>4.000000</td>\n",
              "      <td>11.666667</td>\n",
              "      <td>1.0</td>\n",
              "      <td>2.666667</td>\n",
              "      <td>1.0</td>\n",
              "      <td>7</td>\n",
              "    </tr>\n",
              "    <tr>\n",
              "      <th>159</th>\n",
              "      <td>247</td>\n",
              "      <td>0.000000</td>\n",
              "      <td>3.0</td>\n",
              "      <td>3.000000</td>\n",
              "      <td>2.000000</td>\n",
              "      <td>4.0</td>\n",
              "      <td>4.500000</td>\n",
              "      <td>0.0</td>\n",
              "      <td>4</td>\n",
              "    </tr>\n",
              "    <tr>\n",
              "      <th>160</th>\n",
              "      <td>202</td>\n",
              "      <td>0.615385</td>\n",
              "      <td>4.0</td>\n",
              "      <td>4.250000</td>\n",
              "      <td>16.333333</td>\n",
              "      <td>2.0</td>\n",
              "      <td>1.666667</td>\n",
              "      <td>1.0</td>\n",
              "      <td>7</td>\n",
              "    </tr>\n",
              "    <tr>\n",
              "      <th>161</th>\n",
              "      <td>296</td>\n",
              "      <td>0.000000</td>\n",
              "      <td>3.0</td>\n",
              "      <td>3.000000</td>\n",
              "      <td>9.333333</td>\n",
              "      <td>5.0</td>\n",
              "      <td>3.333333</td>\n",
              "      <td>0.0</td>\n",
              "      <td>6</td>\n",
              "    </tr>\n",
              "    <tr>\n",
              "      <th>162</th>\n",
              "      <td>202</td>\n",
              "      <td>0.642857</td>\n",
              "      <td>4.0</td>\n",
              "      <td>4.222222</td>\n",
              "      <td>15.333333</td>\n",
              "      <td>2.0</td>\n",
              "      <td>1.666667</td>\n",
              "      <td>0.0</td>\n",
              "      <td>4</td>\n",
              "    </tr>\n",
              "    <tr>\n",
              "      <th>163</th>\n",
              "      <td>202</td>\n",
              "      <td>0.666667</td>\n",
              "      <td>3.0</td>\n",
              "      <td>4.100000</td>\n",
              "      <td>14.666667</td>\n",
              "      <td>3.0</td>\n",
              "      <td>2.000000</td>\n",
              "      <td>0.0</td>\n",
              "      <td>4</td>\n",
              "    </tr>\n",
              "    <tr>\n",
              "      <th>164</th>\n",
              "      <td>166</td>\n",
              "      <td>0.000000</td>\n",
              "      <td>3.0</td>\n",
              "      <td>3.000000</td>\n",
              "      <td>-1.000000</td>\n",
              "      <td>-1.0</td>\n",
              "      <td>-1.000000</td>\n",
              "      <td>1.0</td>\n",
              "      <td>14</td>\n",
              "    </tr>\n",
              "    <tr>\n",
              "      <th>165</th>\n",
              "      <td>74383</td>\n",
              "      <td>0.000000</td>\n",
              "      <td>3.0</td>\n",
              "      <td>3.000000</td>\n",
              "      <td>12.333333</td>\n",
              "      <td>5.0</td>\n",
              "      <td>2.333333</td>\n",
              "      <td>1.0</td>\n",
              "      <td>20</td>\n",
              "    </tr>\n",
              "    <tr>\n",
              "      <th>166</th>\n",
              "      <td>524</td>\n",
              "      <td>0.250000</td>\n",
              "      <td>4.0</td>\n",
              "      <td>4.000000</td>\n",
              "      <td>2.500000</td>\n",
              "      <td>3.0</td>\n",
              "      <td>4.000000</td>\n",
              "      <td>1.0</td>\n",
              "      <td>13</td>\n",
              "    </tr>\n",
              "    <tr>\n",
              "      <th>167</th>\n",
              "      <td>27755</td>\n",
              "      <td>0.000000</td>\n",
              "      <td>3.0</td>\n",
              "      <td>3.000000</td>\n",
              "      <td>3.666667</td>\n",
              "      <td>5.0</td>\n",
              "      <td>3.666667</td>\n",
              "      <td>0.0</td>\n",
              "      <td>1</td>\n",
              "    </tr>\n",
              "    <tr>\n",
              "      <th>168</th>\n",
              "      <td>522</td>\n",
              "      <td>0.500000</td>\n",
              "      <td>2.0</td>\n",
              "      <td>2.500000</td>\n",
              "      <td>8.666667</td>\n",
              "      <td>3.0</td>\n",
              "      <td>2.666667</td>\n",
              "      <td>0.0</td>\n",
              "      <td>4</td>\n",
              "    </tr>\n",
              "    <tr>\n",
              "      <th>169</th>\n",
              "      <td>24</td>\n",
              "      <td>0.857143</td>\n",
              "      <td>1.0</td>\n",
              "      <td>1.500000</td>\n",
              "      <td>8.500000</td>\n",
              "      <td>4.0</td>\n",
              "      <td>2.500000</td>\n",
              "      <td>0.0</td>\n",
              "      <td>5</td>\n",
              "    </tr>\n",
              "    <tr>\n",
              "      <th>170</th>\n",
              "      <td>522</td>\n",
              "      <td>0.538462</td>\n",
              "      <td>3.0</td>\n",
              "      <td>2.666667</td>\n",
              "      <td>10.666667</td>\n",
              "      <td>4.0</td>\n",
              "      <td>2.666667</td>\n",
              "      <td>1.0</td>\n",
              "      <td>8</td>\n",
              "    </tr>\n",
              "    <tr>\n",
              "      <th>171</th>\n",
              "      <td>527</td>\n",
              "      <td>0.000000</td>\n",
              "      <td>3.0</td>\n",
              "      <td>3.000000</td>\n",
              "      <td>11.333333</td>\n",
              "      <td>2.0</td>\n",
              "      <td>1.666667</td>\n",
              "      <td>0.0</td>\n",
              "      <td>4</td>\n",
              "    </tr>\n",
              "    <tr>\n",
              "      <th>172</th>\n",
              "      <td>78878</td>\n",
              "      <td>0.500000</td>\n",
              "      <td>4.0</td>\n",
              "      <td>4.000000</td>\n",
              "      <td>2.500000</td>\n",
              "      <td>4.0</td>\n",
              "      <td>4.000000</td>\n",
              "      <td>1.0</td>\n",
              "      <td>22</td>\n",
              "    </tr>\n",
              "    <tr>\n",
              "      <th>173</th>\n",
              "      <td>347</td>\n",
              "      <td>0.000000</td>\n",
              "      <td>3.0</td>\n",
              "      <td>3.000000</td>\n",
              "      <td>4.500000</td>\n",
              "      <td>5.0</td>\n",
              "      <td>3.500000</td>\n",
              "      <td>1.0</td>\n",
              "      <td>12</td>\n",
              "    </tr>\n",
              "    <tr>\n",
              "      <th>174</th>\n",
              "      <td>41</td>\n",
              "      <td>0.000000</td>\n",
              "      <td>3.0</td>\n",
              "      <td>3.000000</td>\n",
              "      <td>18.666667</td>\n",
              "      <td>1.0</td>\n",
              "      <td>1.000000</td>\n",
              "      <td>1.0</td>\n",
              "      <td>15</td>\n",
              "    </tr>\n",
              "    <tr>\n",
              "      <th>175</th>\n",
              "      <td>36</td>\n",
              "      <td>0.428571</td>\n",
              "      <td>3.0</td>\n",
              "      <td>3.000000</td>\n",
              "      <td>14.000000</td>\n",
              "      <td>1.0</td>\n",
              "      <td>2.000000</td>\n",
              "      <td>0.0</td>\n",
              "      <td>1</td>\n",
              "    </tr>\n",
              "    <tr>\n",
              "      <th>176</th>\n",
              "      <td>581</td>\n",
              "      <td>0.714286</td>\n",
              "      <td>1.0</td>\n",
              "      <td>2.250000</td>\n",
              "      <td>2.000000</td>\n",
              "      <td>4.0</td>\n",
              "      <td>4.333333</td>\n",
              "      <td>0.0</td>\n",
              "      <td>4</td>\n",
              "    </tr>\n",
              "    <tr>\n",
              "      <th>177</th>\n",
              "      <td>83617</td>\n",
              "      <td>0.315789</td>\n",
              "      <td>2.0</td>\n",
              "      <td>2.200000</td>\n",
              "      <td>7.666667</td>\n",
              "      <td>1.0</td>\n",
              "      <td>3.000000</td>\n",
              "      <td>0.0</td>\n",
              "      <td>1</td>\n",
              "    </tr>\n",
              "    <tr>\n",
              "      <th>178</th>\n",
              "      <td>190</td>\n",
              "      <td>0.500000</td>\n",
              "      <td>1.0</td>\n",
              "      <td>1.000000</td>\n",
              "      <td>-1.000000</td>\n",
              "      <td>-1.0</td>\n",
              "      <td>-1.000000</td>\n",
              "      <td>1.0</td>\n",
              "      <td>20</td>\n",
              "    </tr>\n",
              "    <tr>\n",
              "      <th>179</th>\n",
              "      <td>38918</td>\n",
              "      <td>0.250000</td>\n",
              "      <td>3.0</td>\n",
              "      <td>3.000000</td>\n",
              "      <td>7.666667</td>\n",
              "      <td>1.0</td>\n",
              "      <td>3.333333</td>\n",
              "      <td>0.0</td>\n",
              "      <td>4</td>\n",
              "    </tr>\n",
              "    <tr>\n",
              "      <th>180</th>\n",
              "      <td>307</td>\n",
              "      <td>0.000000</td>\n",
              "      <td>3.0</td>\n",
              "      <td>3.000000</td>\n",
              "      <td>-1.000000</td>\n",
              "      <td>-1.0</td>\n",
              "      <td>-1.000000</td>\n",
              "      <td>0.0</td>\n",
              "      <td>1</td>\n",
              "    </tr>\n",
              "    <tr>\n",
              "      <th>181</th>\n",
              "      <td>3</td>\n",
              "      <td>0.222222</td>\n",
              "      <td>4.0</td>\n",
              "      <td>4.500000</td>\n",
              "      <td>2.666667</td>\n",
              "      <td>4.0</td>\n",
              "      <td>4.000000</td>\n",
              "      <td>0.0</td>\n",
              "      <td>4</td>\n",
              "    </tr>\n",
              "    <tr>\n",
              "      <th>182</th>\n",
              "      <td>10</td>\n",
              "      <td>0.750000</td>\n",
              "      <td>1.0</td>\n",
              "      <td>1.500000</td>\n",
              "      <td>3.000000</td>\n",
              "      <td>4.0</td>\n",
              "      <td>3.666667</td>\n",
              "      <td>1.0</td>\n",
              "      <td>21</td>\n",
              "    </tr>\n",
              "    <tr>\n",
              "      <th>183</th>\n",
              "      <td>88345</td>\n",
              "      <td>0.333333</td>\n",
              "      <td>5.0</td>\n",
              "      <td>5.000000</td>\n",
              "      <td>9.000000</td>\n",
              "      <td>4.0</td>\n",
              "      <td>3.000000</td>\n",
              "      <td>1.0</td>\n",
              "      <td>19</td>\n",
              "    </tr>\n",
              "    <tr>\n",
              "      <th>184</th>\n",
              "      <td>83260</td>\n",
              "      <td>0.600000</td>\n",
              "      <td>5.0</td>\n",
              "      <td>5.000000</td>\n",
              "      <td>20.333333</td>\n",
              "      <td>1.0</td>\n",
              "      <td>1.000000</td>\n",
              "      <td>1.0</td>\n",
              "      <td>18</td>\n",
              "    </tr>\n",
              "    <tr>\n",
              "      <th>185</th>\n",
              "      <td>27722</td>\n",
              "      <td>0.000000</td>\n",
              "      <td>3.0</td>\n",
              "      <td>3.000000</td>\n",
              "      <td>6.333333</td>\n",
              "      <td>3.0</td>\n",
              "      <td>3.000000</td>\n",
              "      <td>0.0</td>\n",
              "      <td>1</td>\n",
              "    </tr>\n",
              "    <tr>\n",
              "      <th>186</th>\n",
              "      <td>83260</td>\n",
              "      <td>0.666667</td>\n",
              "      <td>5.0</td>\n",
              "      <td>5.000000</td>\n",
              "      <td>19.333333</td>\n",
              "      <td>1.0</td>\n",
              "      <td>1.000000</td>\n",
              "      <td>1.0</td>\n",
              "      <td>25</td>\n",
              "    </tr>\n",
              "    <tr>\n",
              "      <th>187</th>\n",
              "      <td>504</td>\n",
              "      <td>0.500000</td>\n",
              "      <td>5.0</td>\n",
              "      <td>5.000000</td>\n",
              "      <td>15.000000</td>\n",
              "      <td>1.0</td>\n",
              "      <td>2.333333</td>\n",
              "      <td>0.0</td>\n",
              "      <td>6</td>\n",
              "    </tr>\n",
              "    <tr>\n",
              "      <th>188</th>\n",
              "      <td>10</td>\n",
              "      <td>0.800000</td>\n",
              "      <td>5.0</td>\n",
              "      <td>2.666667</td>\n",
              "      <td>-1.000000</td>\n",
              "      <td>-1.0</td>\n",
              "      <td>-1.000000</td>\n",
              "      <td>0.0</td>\n",
              "      <td>1</td>\n",
              "    </tr>\n",
              "    <tr>\n",
              "      <th>189</th>\n",
              "      <td>163</td>\n",
              "      <td>0.250000</td>\n",
              "      <td>1.0</td>\n",
              "      <td>1.000000</td>\n",
              "      <td>14.333333</td>\n",
              "      <td>5.0</td>\n",
              "      <td>2.333333</td>\n",
              "      <td>0.0</td>\n",
              "      <td>1</td>\n",
              "    </tr>\n",
              "    <tr>\n",
              "      <th>190</th>\n",
              "      <td>77052</td>\n",
              "      <td>0.800000</td>\n",
              "      <td>5.0</td>\n",
              "      <td>5.000000</td>\n",
              "      <td>17.666667</td>\n",
              "      <td>1.0</td>\n",
              "      <td>2.000000</td>\n",
              "      <td>1.0</td>\n",
              "      <td>25</td>\n",
              "    </tr>\n",
              "    <tr>\n",
              "      <th>191</th>\n",
              "      <td>238</td>\n",
              "      <td>0.000000</td>\n",
              "      <td>3.0</td>\n",
              "      <td>3.000000</td>\n",
              "      <td>30.666667</td>\n",
              "      <td>1.0</td>\n",
              "      <td>1.000000</td>\n",
              "      <td>1.0</td>\n",
              "      <td>26</td>\n",
              "    </tr>\n",
              "    <tr>\n",
              "      <th>192</th>\n",
              "      <td>572</td>\n",
              "      <td>0.500000</td>\n",
              "      <td>3.0</td>\n",
              "      <td>3.000000</td>\n",
              "      <td>20.000000</td>\n",
              "      <td>1.0</td>\n",
              "      <td>1.500000</td>\n",
              "      <td>0.0</td>\n",
              "      <td>5</td>\n",
              "    </tr>\n",
              "    <tr>\n",
              "      <th>193</th>\n",
              "      <td>88666</td>\n",
              "      <td>0.000000</td>\n",
              "      <td>3.0</td>\n",
              "      <td>3.000000</td>\n",
              "      <td>7.000000</td>\n",
              "      <td>4.0</td>\n",
              "      <td>2.666667</td>\n",
              "      <td>0.0</td>\n",
              "      <td>3</td>\n",
              "    </tr>\n",
              "    <tr>\n",
              "      <th>194</th>\n",
              "      <td>190</td>\n",
              "      <td>0.666667</td>\n",
              "      <td>5.0</td>\n",
              "      <td>3.000000</td>\n",
              "      <td>10.500000</td>\n",
              "      <td>5.0</td>\n",
              "      <td>3.000000</td>\n",
              "      <td>1.0</td>\n",
              "      <td>7</td>\n",
              "    </tr>\n",
              "    <tr>\n",
              "      <th>195</th>\n",
              "      <td>69109</td>\n",
              "      <td>0.000000</td>\n",
              "      <td>3.0</td>\n",
              "      <td>3.000000</td>\n",
              "      <td>14.333333</td>\n",
              "      <td>1.0</td>\n",
              "      <td>2.000000</td>\n",
              "      <td>0.0</td>\n",
              "      <td>3</td>\n",
              "    </tr>\n",
              "    <tr>\n",
              "      <th>196</th>\n",
              "      <td>86189</td>\n",
              "      <td>0.500000</td>\n",
              "      <td>3.0</td>\n",
              "      <td>3.000000</td>\n",
              "      <td>-1.000000</td>\n",
              "      <td>-1.0</td>\n",
              "      <td>-1.000000</td>\n",
              "      <td>0.0</td>\n",
              "      <td>3</td>\n",
              "    </tr>\n",
              "    <tr>\n",
              "      <th>197</th>\n",
              "      <td>310</td>\n",
              "      <td>0.857143</td>\n",
              "      <td>2.0</td>\n",
              "      <td>1.333333</td>\n",
              "      <td>10.666667</td>\n",
              "      <td>1.0</td>\n",
              "      <td>2.666667</td>\n",
              "      <td>0.0</td>\n",
              "      <td>3</td>\n",
              "    </tr>\n",
              "    <tr>\n",
              "      <th>198</th>\n",
              "      <td>38443</td>\n",
              "      <td>0.625000</td>\n",
              "      <td>3.0</td>\n",
              "      <td>2.333333</td>\n",
              "      <td>7.333333</td>\n",
              "      <td>1.0</td>\n",
              "      <td>3.000000</td>\n",
              "      <td>1.0</td>\n",
              "      <td>20</td>\n",
              "    </tr>\n",
              "    <tr>\n",
              "      <th>199</th>\n",
              "      <td>525</td>\n",
              "      <td>0.272727</td>\n",
              "      <td>3.0</td>\n",
              "      <td>4.000000</td>\n",
              "      <td>15.000000</td>\n",
              "      <td>1.0</td>\n",
              "      <td>1.666667</td>\n",
              "      <td>0.0</td>\n",
              "      <td>3</td>\n",
              "    </tr>\n",
              "    <tr>\n",
              "      <th>200</th>\n",
              "      <td>70823</td>\n",
              "      <td>0.375000</td>\n",
              "      <td>3.0</td>\n",
              "      <td>3.000000</td>\n",
              "      <td>18.000000</td>\n",
              "      <td>1.0</td>\n",
              "      <td>1.000000</td>\n",
              "      <td>0.0</td>\n",
              "      <td>5</td>\n",
              "    </tr>\n",
              "    <tr>\n",
              "      <th>201</th>\n",
              "      <td>581</td>\n",
              "      <td>0.733333</td>\n",
              "      <td>3.0</td>\n",
              "      <td>2.333333</td>\n",
              "      <td>1.666667</td>\n",
              "      <td>4.0</td>\n",
              "      <td>4.666667</td>\n",
              "      <td>0.0</td>\n",
              "      <td>6</td>\n",
              "    </tr>\n",
              "    <tr>\n",
              "      <th>202</th>\n",
              "      <td>22</td>\n",
              "      <td>0.000000</td>\n",
              "      <td>3.0</td>\n",
              "      <td>3.000000</td>\n",
              "      <td>9.500000</td>\n",
              "      <td>2.0</td>\n",
              "      <td>2.500000</td>\n",
              "      <td>0.0</td>\n",
              "      <td>3</td>\n",
              "    </tr>\n",
              "    <tr>\n",
              "      <th>203</th>\n",
              "      <td>22</td>\n",
              "      <td>0.200000</td>\n",
              "      <td>2.0</td>\n",
              "      <td>2.000000</td>\n",
              "      <td>-1.000000</td>\n",
              "      <td>-1.0</td>\n",
              "      <td>-1.000000</td>\n",
              "      <td>1.0</td>\n",
              "      <td>11</td>\n",
              "    </tr>\n",
              "    <tr>\n",
              "      <th>204</th>\n",
              "      <td>310</td>\n",
              "      <td>0.875000</td>\n",
              "      <td>2.0</td>\n",
              "      <td>1.500000</td>\n",
              "      <td>12.000000</td>\n",
              "      <td>3.0</td>\n",
              "      <td>2.333333</td>\n",
              "      <td>0.0</td>\n",
              "      <td>3</td>\n",
              "    </tr>\n",
              "    <tr>\n",
              "      <th>205</th>\n",
              "      <td>166</td>\n",
              "      <td>0.500000</td>\n",
              "      <td>4.0</td>\n",
              "      <td>4.000000</td>\n",
              "      <td>5.666667</td>\n",
              "      <td>4.0</td>\n",
              "      <td>3.666667</td>\n",
              "      <td>0.0</td>\n",
              "      <td>3</td>\n",
              "    </tr>\n",
              "    <tr>\n",
              "      <th>206</th>\n",
              "      <td>13547</td>\n",
              "      <td>0.000000</td>\n",
              "      <td>3.0</td>\n",
              "      <td>3.000000</td>\n",
              "      <td>7.333333</td>\n",
              "      <td>4.0</td>\n",
              "      <td>2.666667</td>\n",
              "      <td>1.0</td>\n",
              "      <td>14</td>\n",
              "    </tr>\n",
              "    <tr>\n",
              "      <th>207</th>\n",
              "      <td>581</td>\n",
              "      <td>0.750000</td>\n",
              "      <td>3.0</td>\n",
              "      <td>2.400000</td>\n",
              "      <td>1.666667</td>\n",
              "      <td>4.0</td>\n",
              "      <td>4.333333</td>\n",
              "      <td>0.0</td>\n",
              "      <td>3</td>\n",
              "    </tr>\n",
              "    <tr>\n",
              "      <th>208</th>\n",
              "      <td>310</td>\n",
              "      <td>0.888889</td>\n",
              "      <td>2.0</td>\n",
              "      <td>1.600000</td>\n",
              "      <td>4.000000</td>\n",
              "      <td>4.0</td>\n",
              "      <td>3.333333</td>\n",
              "      <td>0.0</td>\n",
              "      <td>3</td>\n",
              "    </tr>\n",
              "    <tr>\n",
              "      <th>209</th>\n",
              "      <td>22</td>\n",
              "      <td>0.285714</td>\n",
              "      <td>4.0</td>\n",
              "      <td>3.000000</td>\n",
              "      <td>7.333333</td>\n",
              "      <td>2.0</td>\n",
              "      <td>3.000000</td>\n",
              "      <td>0.0</td>\n",
              "      <td>3</td>\n",
              "    </tr>\n",
              "    <tr>\n",
              "      <th>210</th>\n",
              "      <td>581</td>\n",
              "      <td>0.764706</td>\n",
              "      <td>2.0</td>\n",
              "      <td>2.363636</td>\n",
              "      <td>2.666667</td>\n",
              "      <td>4.0</td>\n",
              "      <td>4.000000</td>\n",
              "      <td>0.0</td>\n",
              "      <td>6</td>\n",
              "    </tr>\n",
              "    <tr>\n",
              "      <th>211</th>\n",
              "      <td>3</td>\n",
              "      <td>0.272727</td>\n",
              "      <td>3.0</td>\n",
              "      <td>4.000000</td>\n",
              "      <td>1.000000</td>\n",
              "      <td>5.0</td>\n",
              "      <td>5.000000</td>\n",
              "      <td>1.0</td>\n",
              "      <td>12</td>\n",
              "    </tr>\n",
              "    <tr>\n",
              "      <th>212</th>\n",
              "      <td>22</td>\n",
              "      <td>0.375000</td>\n",
              "      <td>2.0</td>\n",
              "      <td>2.666667</td>\n",
              "      <td>3.666667</td>\n",
              "      <td>4.0</td>\n",
              "      <td>3.666667</td>\n",
              "      <td>0.0</td>\n",
              "      <td>3</td>\n",
              "    </tr>\n",
              "    <tr>\n",
              "      <th>213</th>\n",
              "      <td>522</td>\n",
              "      <td>0.500000</td>\n",
              "      <td>4.0</td>\n",
              "      <td>3.000000</td>\n",
              "      <td>9.666667</td>\n",
              "      <td>3.0</td>\n",
              "      <td>2.333333</td>\n",
              "      <td>1.0</td>\n",
              "      <td>11</td>\n",
              "    </tr>\n",
              "    <tr>\n",
              "      <th>214</th>\n",
              "      <td>88625</td>\n",
              "      <td>0.000000</td>\n",
              "      <td>3.0</td>\n",
              "      <td>3.000000</td>\n",
              "      <td>8.666667</td>\n",
              "      <td>5.0</td>\n",
              "      <td>3.333333</td>\n",
              "      <td>0.0</td>\n",
              "      <td>6</td>\n",
              "    </tr>\n",
              "    <tr>\n",
              "      <th>215</th>\n",
              "      <td>38443</td>\n",
              "      <td>0.600000</td>\n",
              "      <td>5.0</td>\n",
              "      <td>3.000000</td>\n",
              "      <td>3.000000</td>\n",
              "      <td>3.0</td>\n",
              "      <td>4.000000</td>\n",
              "      <td>0.0</td>\n",
              "      <td>5</td>\n",
              "    </tr>\n",
              "    <tr>\n",
              "      <th>216</th>\n",
              "      <td>38443</td>\n",
              "      <td>0.636364</td>\n",
              "      <td>3.0</td>\n",
              "      <td>3.000000</td>\n",
              "      <td>3.333333</td>\n",
              "      <td>4.0</td>\n",
              "      <td>3.666667</td>\n",
              "      <td>0.0</td>\n",
              "      <td>2</td>\n",
              "    </tr>\n",
              "    <tr>\n",
              "      <th>217</th>\n",
              "      <td>25</td>\n",
              "      <td>0.833333</td>\n",
              "      <td>2.0</td>\n",
              "      <td>1.500000</td>\n",
              "      <td>2.000000</td>\n",
              "      <td>4.0</td>\n",
              "      <td>4.333333</td>\n",
              "      <td>0.0</td>\n",
              "      <td>3</td>\n",
              "    </tr>\n",
              "    <tr>\n",
              "      <th>218</th>\n",
              "      <td>88125</td>\n",
              "      <td>0.000000</td>\n",
              "      <td>3.0</td>\n",
              "      <td>3.000000</td>\n",
              "      <td>-1.000000</td>\n",
              "      <td>-1.0</td>\n",
              "      <td>-1.000000</td>\n",
              "      <td>0.0</td>\n",
              "      <td>3</td>\n",
              "    </tr>\n",
              "    <tr>\n",
              "      <th>219</th>\n",
              "      <td>88693</td>\n",
              "      <td>0.000000</td>\n",
              "      <td>3.0</td>\n",
              "      <td>3.000000</td>\n",
              "      <td>9.000000</td>\n",
              "      <td>1.0</td>\n",
              "      <td>2.333333</td>\n",
              "      <td>1.0</td>\n",
              "      <td>16</td>\n",
              "    </tr>\n",
              "    <tr>\n",
              "      <th>220</th>\n",
              "      <td>31131</td>\n",
              "      <td>0.000000</td>\n",
              "      <td>3.0</td>\n",
              "      <td>3.000000</td>\n",
              "      <td>14.666667</td>\n",
              "      <td>1.0</td>\n",
              "      <td>2.000000</td>\n",
              "      <td>0.0</td>\n",
              "      <td>5</td>\n",
              "    </tr>\n",
              "    <tr>\n",
              "      <th>221</th>\n",
              "      <td>7345</td>\n",
              "      <td>0.000000</td>\n",
              "      <td>3.0</td>\n",
              "      <td>3.000000</td>\n",
              "      <td>18.333333</td>\n",
              "      <td>1.0</td>\n",
              "      <td>1.333333</td>\n",
              "      <td>1.0</td>\n",
              "      <td>19</td>\n",
              "    </tr>\n",
              "    <tr>\n",
              "      <th>222</th>\n",
              "      <td>38399</td>\n",
              "      <td>0.000000</td>\n",
              "      <td>3.0</td>\n",
              "      <td>3.000000</td>\n",
              "      <td>21.500000</td>\n",
              "      <td>1.0</td>\n",
              "      <td>1.000000</td>\n",
              "      <td>1.0</td>\n",
              "      <td>10</td>\n",
              "    </tr>\n",
              "    <tr>\n",
              "      <th>223</th>\n",
              "      <td>186</td>\n",
              "      <td>0.666667</td>\n",
              "      <td>4.0</td>\n",
              "      <td>4.800000</td>\n",
              "      <td>3.000000</td>\n",
              "      <td>4.0</td>\n",
              "      <td>4.000000</td>\n",
              "      <td>0.0</td>\n",
              "      <td>2</td>\n",
              "    </tr>\n",
              "    <tr>\n",
              "      <th>224</th>\n",
              "      <td>202</td>\n",
              "      <td>0.611111</td>\n",
              "      <td>3.0</td>\n",
              "      <td>4.000000</td>\n",
              "      <td>10.666667</td>\n",
              "      <td>1.0</td>\n",
              "      <td>1.666667</td>\n",
              "      <td>1.0</td>\n",
              "      <td>25</td>\n",
              "    </tr>\n",
              "    <tr>\n",
              "      <th>225</th>\n",
              "      <td>347</td>\n",
              "      <td>0.500000</td>\n",
              "      <td>4.0</td>\n",
              "      <td>4.000000</td>\n",
              "      <td>3.500000</td>\n",
              "      <td>3.0</td>\n",
              "      <td>3.500000</td>\n",
              "      <td>1.0</td>\n",
              "      <td>7</td>\n",
              "    </tr>\n",
              "    <tr>\n",
              "      <th>226</th>\n",
              "      <td>83617</td>\n",
              "      <td>0.318182</td>\n",
              "      <td>1.0</td>\n",
              "      <td>2.000000</td>\n",
              "      <td>16.666667</td>\n",
              "      <td>5.0</td>\n",
              "      <td>2.333333</td>\n",
              "      <td>1.0</td>\n",
              "      <td>24</td>\n",
              "    </tr>\n",
              "    <tr>\n",
              "      <th>227</th>\n",
              "      <td>36</td>\n",
              "      <td>0.555556</td>\n",
              "      <td>1.0</td>\n",
              "      <td>1.000000</td>\n",
              "      <td>2.333333</td>\n",
              "      <td>4.0</td>\n",
              "      <td>4.000000</td>\n",
              "      <td>1.0</td>\n",
              "      <td>8</td>\n",
              "    </tr>\n",
              "    <tr>\n",
              "      <th>228</th>\n",
              "      <td>21636</td>\n",
              "      <td>0.500000</td>\n",
              "      <td>3.0</td>\n",
              "      <td>3.000000</td>\n",
              "      <td>17.000000</td>\n",
              "      <td>4.0</td>\n",
              "      <td>2.000000</td>\n",
              "      <td>1.0</td>\n",
              "      <td>9</td>\n",
              "    </tr>\n",
              "    <tr>\n",
              "      <th>229</th>\n",
              "      <td>38443</td>\n",
              "      <td>0.666667</td>\n",
              "      <td>2.0</td>\n",
              "      <td>2.833333</td>\n",
              "      <td>9.666667</td>\n",
              "      <td>4.0</td>\n",
              "      <td>3.333333</td>\n",
              "      <td>0.0</td>\n",
              "      <td>3</td>\n",
              "    </tr>\n",
              "    <tr>\n",
              "      <th>230</th>\n",
              "      <td>186</td>\n",
              "      <td>0.714286</td>\n",
              "      <td>2.0</td>\n",
              "      <td>4.333333</td>\n",
              "      <td>10.666667</td>\n",
              "      <td>1.0</td>\n",
              "      <td>2.666667</td>\n",
              "      <td>0.0</td>\n",
              "      <td>2</td>\n",
              "    </tr>\n",
              "    <tr>\n",
              "      <th>231</th>\n",
              "      <td>315</td>\n",
              "      <td>0.000000</td>\n",
              "      <td>3.0</td>\n",
              "      <td>3.000000</td>\n",
              "      <td>10.000000</td>\n",
              "      <td>4.0</td>\n",
              "      <td>3.000000</td>\n",
              "      <td>0.0</td>\n",
              "      <td>3</td>\n",
              "    </tr>\n",
              "    <tr>\n",
              "      <th>232</th>\n",
              "      <td>259</td>\n",
              "      <td>0.600000</td>\n",
              "      <td>1.0</td>\n",
              "      <td>2.000000</td>\n",
              "      <td>9.000000</td>\n",
              "      <td>4.0</td>\n",
              "      <td>2.333333</td>\n",
              "      <td>1.0</td>\n",
              "      <td>29</td>\n",
              "    </tr>\n",
              "    <tr>\n",
              "      <th>233</th>\n",
              "      <td>253</td>\n",
              "      <td>0.333333</td>\n",
              "      <td>2.0</td>\n",
              "      <td>2.000000</td>\n",
              "      <td>19.333333</td>\n",
              "      <td>1.0</td>\n",
              "      <td>2.000000</td>\n",
              "      <td>1.0</td>\n",
              "      <td>7</td>\n",
              "    </tr>\n",
              "    <tr>\n",
              "      <th>234</th>\n",
              "      <td>622</td>\n",
              "      <td>0.333333</td>\n",
              "      <td>4.0</td>\n",
              "      <td>3.500000</td>\n",
              "      <td>14.333333</td>\n",
              "      <td>1.0</td>\n",
              "      <td>2.000000</td>\n",
              "      <td>0.0</td>\n",
              "      <td>3</td>\n",
              "    </tr>\n",
              "    <tr>\n",
              "      <th>235</th>\n",
              "      <td>202</td>\n",
              "      <td>0.681818</td>\n",
              "      <td>5.0</td>\n",
              "      <td>4.083333</td>\n",
              "      <td>9.666667</td>\n",
              "      <td>3.0</td>\n",
              "      <td>2.000000</td>\n",
              "      <td>0.0</td>\n",
              "      <td>4</td>\n",
              "    </tr>\n",
              "    <tr>\n",
              "      <th>236</th>\n",
              "      <td>202</td>\n",
              "      <td>0.695652</td>\n",
              "      <td>3.0</td>\n",
              "      <td>4.000000</td>\n",
              "      <td>9.000000</td>\n",
              "      <td>1.0</td>\n",
              "      <td>3.000000</td>\n",
              "      <td>0.0</td>\n",
              "      <td>4</td>\n",
              "    </tr>\n",
              "    <tr>\n",
              "      <th>237</th>\n",
              "      <td>82179</td>\n",
              "      <td>0.666667</td>\n",
              "      <td>3.0</td>\n",
              "      <td>3.000000</td>\n",
              "      <td>12.666667</td>\n",
              "      <td>1.0</td>\n",
              "      <td>2.666667</td>\n",
              "      <td>0.0</td>\n",
              "      <td>5</td>\n",
              "    </tr>\n",
              "    <tr>\n",
              "      <th>238</th>\n",
              "      <td>24</td>\n",
              "      <td>0.777778</td>\n",
              "      <td>3.0</td>\n",
              "      <td>2.000000</td>\n",
              "      <td>2.333333</td>\n",
              "      <td>4.0</td>\n",
              "      <td>4.000000</td>\n",
              "      <td>0.0</td>\n",
              "      <td>3</td>\n",
              "    </tr>\n",
              "    <tr>\n",
              "      <th>239</th>\n",
              "      <td>258</td>\n",
              "      <td>0.000000</td>\n",
              "      <td>3.0</td>\n",
              "      <td>3.000000</td>\n",
              "      <td>10.000000</td>\n",
              "      <td>1.0</td>\n",
              "      <td>3.000000</td>\n",
              "      <td>1.0</td>\n",
              "      <td>18</td>\n",
              "    </tr>\n",
              "    <tr>\n",
              "      <th>240</th>\n",
              "      <td>258</td>\n",
              "      <td>0.333333</td>\n",
              "      <td>5.0</td>\n",
              "      <td>5.000000</td>\n",
              "      <td>-1.000000</td>\n",
              "      <td>-1.0</td>\n",
              "      <td>-1.000000</td>\n",
              "      <td>1.0</td>\n",
              "      <td>11</td>\n",
              "    </tr>\n",
              "    <tr>\n",
              "      <th>241</th>\n",
              "      <td>166</td>\n",
              "      <td>0.666667</td>\n",
              "      <td>2.0</td>\n",
              "      <td>3.000000</td>\n",
              "      <td>3.666667</td>\n",
              "      <td>5.0</td>\n",
              "      <td>3.666667</td>\n",
              "      <td>1.0</td>\n",
              "      <td>8</td>\n",
              "    </tr>\n",
              "    <tr>\n",
              "      <th>242</th>\n",
              "      <td>258</td>\n",
              "      <td>0.600000</td>\n",
              "      <td>4.0</td>\n",
              "      <td>4.500000</td>\n",
              "      <td>1.333333</td>\n",
              "      <td>4.0</td>\n",
              "      <td>4.666667</td>\n",
              "      <td>1.0</td>\n",
              "      <td>25</td>\n",
              "    </tr>\n",
              "    <tr>\n",
              "      <th>243</th>\n",
              "      <td>522</td>\n",
              "      <td>0.480000</td>\n",
              "      <td>4.0</td>\n",
              "      <td>3.200000</td>\n",
              "      <td>5.000000</td>\n",
              "      <td>3.0</td>\n",
              "      <td>3.000000</td>\n",
              "      <td>1.0</td>\n",
              "      <td>28</td>\n",
              "    </tr>\n",
              "    <tr>\n",
              "      <th>244</th>\n",
              "      <td>32</td>\n",
              "      <td>0.000000</td>\n",
              "      <td>3.0</td>\n",
              "      <td>3.000000</td>\n",
              "      <td>11.000000</td>\n",
              "      <td>1.0</td>\n",
              "      <td>2.333333</td>\n",
              "      <td>1.0</td>\n",
              "      <td>7</td>\n",
              "    </tr>\n",
              "    <tr>\n",
              "      <th>245</th>\n",
              "      <td>64429</td>\n",
              "      <td>0.500000</td>\n",
              "      <td>3.0</td>\n",
              "      <td>3.000000</td>\n",
              "      <td>-1.000000</td>\n",
              "      <td>-1.0</td>\n",
              "      <td>-1.000000</td>\n",
              "      <td>1.0</td>\n",
              "      <td>28</td>\n",
              "    </tr>\n",
              "    <tr>\n",
              "      <th>246</th>\n",
              "      <td>88345</td>\n",
              "      <td>0.428571</td>\n",
              "      <td>5.0</td>\n",
              "      <td>5.000000</td>\n",
              "      <td>8.000000</td>\n",
              "      <td>4.0</td>\n",
              "      <td>3.000000</td>\n",
              "      <td>1.0</td>\n",
              "      <td>10</td>\n",
              "    </tr>\n",
              "    <tr>\n",
              "      <th>247</th>\n",
              "      <td>88345</td>\n",
              "      <td>0.500000</td>\n",
              "      <td>4.0</td>\n",
              "      <td>4.666667</td>\n",
              "      <td>-1.000000</td>\n",
              "      <td>-1.0</td>\n",
              "      <td>-1.000000</td>\n",
              "      <td>1.0</td>\n",
              "      <td>28</td>\n",
              "    </tr>\n",
              "    <tr>\n",
              "      <th>248</th>\n",
              "      <td>17</td>\n",
              "      <td>0.500000</td>\n",
              "      <td>2.0</td>\n",
              "      <td>2.000000</td>\n",
              "      <td>4.000000</td>\n",
              "      <td>5.0</td>\n",
              "      <td>3.666667</td>\n",
              "      <td>1.0</td>\n",
              "      <td>16</td>\n",
              "    </tr>\n",
              "    <tr>\n",
              "      <th>249</th>\n",
              "      <td>64228</td>\n",
              "      <td>0.000000</td>\n",
              "      <td>3.0</td>\n",
              "      <td>3.000000</td>\n",
              "      <td>-1.000000</td>\n",
              "      <td>-1.0</td>\n",
              "      <td>-1.000000</td>\n",
              "      <td>1.0</td>\n",
              "      <td>15</td>\n",
              "    </tr>\n",
              "    <tr>\n",
              "      <th>250</th>\n",
              "      <td>88725</td>\n",
              "      <td>0.000000</td>\n",
              "      <td>3.0</td>\n",
              "      <td>3.000000</td>\n",
              "      <td>12.000000</td>\n",
              "      <td>2.0</td>\n",
              "      <td>2.000000</td>\n",
              "      <td>1.0</td>\n",
              "      <td>30</td>\n",
              "    </tr>\n",
              "    <tr>\n",
              "      <th>251</th>\n",
              "      <td>22</td>\n",
              "      <td>0.500000</td>\n",
              "      <td>2.0</td>\n",
              "      <td>2.500000</td>\n",
              "      <td>18.666667</td>\n",
              "      <td>1.0</td>\n",
              "      <td>1.666667</td>\n",
              "      <td>0.0</td>\n",
              "      <td>3</td>\n",
              "    </tr>\n",
              "    <tr>\n",
              "      <th>252</th>\n",
              "      <td>202</td>\n",
              "      <td>0.708333</td>\n",
              "      <td>3.0</td>\n",
              "      <td>3.928571</td>\n",
              "      <td>12.666667</td>\n",
              "      <td>4.0</td>\n",
              "      <td>2.333333</td>\n",
              "      <td>0.0</td>\n",
              "      <td>2</td>\n",
              "    </tr>\n",
              "    <tr>\n",
              "      <th>253</th>\n",
              "      <td>38443</td>\n",
              "      <td>0.687500</td>\n",
              "      <td>2.0</td>\n",
              "      <td>2.714286</td>\n",
              "      <td>3.666667</td>\n",
              "      <td>3.0</td>\n",
              "      <td>3.666667</td>\n",
              "      <td>1.0</td>\n",
              "      <td>16</td>\n",
              "    </tr>\n",
              "    <tr>\n",
              "      <th>254</th>\n",
              "      <td>310</td>\n",
              "      <td>0.769231</td>\n",
              "      <td>2.0</td>\n",
              "      <td>1.666667</td>\n",
              "      <td>2.666667</td>\n",
              "      <td>4.0</td>\n",
              "      <td>4.000000</td>\n",
              "      <td>1.0</td>\n",
              "      <td>7</td>\n",
              "    </tr>\n",
              "    <tr>\n",
              "      <th>255</th>\n",
              "      <td>622</td>\n",
              "      <td>0.375000</td>\n",
              "      <td>2.0</td>\n",
              "      <td>3.000000</td>\n",
              "      <td>8.333333</td>\n",
              "      <td>3.0</td>\n",
              "      <td>2.333333</td>\n",
              "      <td>0.0</td>\n",
              "      <td>3</td>\n",
              "    </tr>\n",
              "    <tr>\n",
              "      <th>256</th>\n",
              "      <td>38918</td>\n",
              "      <td>0.333333</td>\n",
              "      <td>3.0</td>\n",
              "      <td>3.000000</td>\n",
              "      <td>12.333333</td>\n",
              "      <td>1.0</td>\n",
              "      <td>2.000000</td>\n",
              "      <td>0.0</td>\n",
              "      <td>2</td>\n",
              "    </tr>\n",
              "    <tr>\n",
              "      <th>257</th>\n",
              "      <td>24808</td>\n",
              "      <td>0.250000</td>\n",
              "      <td>1.0</td>\n",
              "      <td>1.000000</td>\n",
              "      <td>2.000000</td>\n",
              "      <td>4.0</td>\n",
              "      <td>4.500000</td>\n",
              "      <td>1.0</td>\n",
              "      <td>10</td>\n",
              "    </tr>\n",
              "    <tr>\n",
              "      <th>258</th>\n",
              "      <td>202</td>\n",
              "      <td>0.720000</td>\n",
              "      <td>2.0</td>\n",
              "      <td>3.800000</td>\n",
              "      <td>14.666667</td>\n",
              "      <td>1.0</td>\n",
              "      <td>2.000000</td>\n",
              "      <td>1.0</td>\n",
              "      <td>7</td>\n",
              "    </tr>\n",
              "    <tr>\n",
              "      <th>259</th>\n",
              "      <td>581</td>\n",
              "      <td>0.777778</td>\n",
              "      <td>3.0</td>\n",
              "      <td>2.416667</td>\n",
              "      <td>10.666667</td>\n",
              "      <td>2.0</td>\n",
              "      <td>2.333333</td>\n",
              "      <td>0.0</td>\n",
              "      <td>3</td>\n",
              "    </tr>\n",
              "    <tr>\n",
              "      <th>260</th>\n",
              "      <td>88729</td>\n",
              "      <td>0.000000</td>\n",
              "      <td>3.0</td>\n",
              "      <td>3.000000</td>\n",
              "      <td>10.000000</td>\n",
              "      <td>1.0</td>\n",
              "      <td>2.666667</td>\n",
              "      <td>0.0</td>\n",
              "      <td>1</td>\n",
              "    </tr>\n",
              "    <tr>\n",
              "      <th>261</th>\n",
              "      <td>17</td>\n",
              "      <td>0.600000</td>\n",
              "      <td>5.0</td>\n",
              "      <td>3.500000</td>\n",
              "      <td>7.666667</td>\n",
              "      <td>4.0</td>\n",
              "      <td>3.333333</td>\n",
              "      <td>1.0</td>\n",
              "      <td>9</td>\n",
              "    </tr>\n",
              "    <tr>\n",
              "      <th>262</th>\n",
              "      <td>2645</td>\n",
              "      <td>0.000000</td>\n",
              "      <td>3.0</td>\n",
              "      <td>3.000000</td>\n",
              "      <td>11.000000</td>\n",
              "      <td>4.0</td>\n",
              "      <td>2.333333</td>\n",
              "      <td>1.0</td>\n",
              "      <td>8</td>\n",
              "    </tr>\n",
              "    <tr>\n",
              "      <th>263</th>\n",
              "      <td>54062</td>\n",
              "      <td>0.000000</td>\n",
              "      <td>3.0</td>\n",
              "      <td>3.000000</td>\n",
              "      <td>2.666667</td>\n",
              "      <td>5.0</td>\n",
              "      <td>4.000000</td>\n",
              "      <td>0.0</td>\n",
              "      <td>1</td>\n",
              "    </tr>\n",
              "    <tr>\n",
              "      <th>264</th>\n",
              "      <td>88345</td>\n",
              "      <td>0.555556</td>\n",
              "      <td>5.0</td>\n",
              "      <td>4.750000</td>\n",
              "      <td>24.333333</td>\n",
              "      <td>1.0</td>\n",
              "      <td>1.000000</td>\n",
              "      <td>1.0</td>\n",
              "      <td>14</td>\n",
              "    </tr>\n",
              "    <tr>\n",
              "      <th>265</th>\n",
              "      <td>28307</td>\n",
              "      <td>0.071429</td>\n",
              "      <td>2.0</td>\n",
              "      <td>2.000000</td>\n",
              "      <td>-1.000000</td>\n",
              "      <td>-1.0</td>\n",
              "      <td>-1.000000</td>\n",
              "      <td>1.0</td>\n",
              "      <td>7</td>\n",
              "    </tr>\n",
              "    <tr>\n",
              "      <th>266</th>\n",
              "      <td>28307</td>\n",
              "      <td>0.133333</td>\n",
              "      <td>4.0</td>\n",
              "      <td>3.000000</td>\n",
              "      <td>6.000000</td>\n",
              "      <td>4.0</td>\n",
              "      <td>3.333333</td>\n",
              "      <td>1.0</td>\n",
              "      <td>10</td>\n",
              "    </tr>\n",
              "    <tr>\n",
              "      <th>267</th>\n",
              "      <td>55753</td>\n",
              "      <td>0.000000</td>\n",
              "      <td>3.0</td>\n",
              "      <td>3.000000</td>\n",
              "      <td>9.666667</td>\n",
              "      <td>1.0</td>\n",
              "      <td>2.333333</td>\n",
              "      <td>1.0</td>\n",
              "      <td>16</td>\n",
              "    </tr>\n",
              "    <tr>\n",
              "      <th>268</th>\n",
              "      <td>70458</td>\n",
              "      <td>0.214286</td>\n",
              "      <td>4.0</td>\n",
              "      <td>4.000000</td>\n",
              "      <td>10.000000</td>\n",
              "      <td>2.0</td>\n",
              "      <td>2.000000</td>\n",
              "      <td>0.0</td>\n",
              "      <td>5</td>\n",
              "    </tr>\n",
              "    <tr>\n",
              "      <th>269</th>\n",
              "      <td>100</td>\n",
              "      <td>0.500000</td>\n",
              "      <td>1.0</td>\n",
              "      <td>3.666667</td>\n",
              "      <td>8.666667</td>\n",
              "      <td>2.0</td>\n",
              "      <td>2.333333</td>\n",
              "      <td>1.0</td>\n",
              "      <td>16</td>\n",
              "    </tr>\n",
              "    <tr>\n",
              "      <th>270</th>\n",
              "      <td>36</td>\n",
              "      <td>0.545455</td>\n",
              "      <td>4.0</td>\n",
              "      <td>2.500000</td>\n",
              "      <td>4.333333</td>\n",
              "      <td>2.0</td>\n",
              "      <td>3.333333</td>\n",
              "      <td>0.0</td>\n",
              "      <td>5</td>\n",
              "    </tr>\n",
              "    <tr>\n",
              "      <th>271</th>\n",
              "      <td>202</td>\n",
              "      <td>0.714286</td>\n",
              "      <td>4.0</td>\n",
              "      <td>3.812500</td>\n",
              "      <td>14.666667</td>\n",
              "      <td>2.0</td>\n",
              "      <td>2.333333</td>\n",
              "      <td>0.0</td>\n",
              "      <td>1</td>\n",
              "    </tr>\n",
              "    <tr>\n",
              "      <th>272</th>\n",
              "      <td>24</td>\n",
              "      <td>0.785714</td>\n",
              "      <td>2.0</td>\n",
              "      <td>2.000000</td>\n",
              "      <td>10.333333</td>\n",
              "      <td>4.0</td>\n",
              "      <td>2.333333</td>\n",
              "      <td>0.0</td>\n",
              "      <td>6</td>\n",
              "    </tr>\n",
              "    <tr>\n",
              "      <th>273</th>\n",
              "      <td>190</td>\n",
              "      <td>0.750000</td>\n",
              "      <td>4.0</td>\n",
              "      <td>3.333333</td>\n",
              "      <td>9.000000</td>\n",
              "      <td>2.0</td>\n",
              "      <td>2.666667</td>\n",
              "      <td>1.0</td>\n",
              "      <td>14</td>\n",
              "    </tr>\n",
              "    <tr>\n",
              "      <th>274</th>\n",
              "      <td>84414</td>\n",
              "      <td>0.000000</td>\n",
              "      <td>3.0</td>\n",
              "      <td>3.000000</td>\n",
              "      <td>6.333333</td>\n",
              "      <td>5.0</td>\n",
              "      <td>3.666667</td>\n",
              "      <td>1.0</td>\n",
              "      <td>7</td>\n",
              "    </tr>\n",
              "    <tr>\n",
              "      <th>275</th>\n",
              "      <td>186</td>\n",
              "      <td>0.687500</td>\n",
              "      <td>2.0</td>\n",
              "      <td>4.000000</td>\n",
              "      <td>26.333333</td>\n",
              "      <td>1.0</td>\n",
              "      <td>1.000000</td>\n",
              "      <td>1.0</td>\n",
              "      <td>7</td>\n",
              "    </tr>\n",
              "    <tr>\n",
              "      <th>276</th>\n",
              "      <td>202</td>\n",
              "      <td>0.724138</td>\n",
              "      <td>1.0</td>\n",
              "      <td>3.647059</td>\n",
              "      <td>8.666667</td>\n",
              "      <td>2.0</td>\n",
              "      <td>2.000000</td>\n",
              "      <td>1.0</td>\n",
              "      <td>8</td>\n",
              "    </tr>\n",
              "    <tr>\n",
              "      <th>277</th>\n",
              "      <td>324</td>\n",
              "      <td>0.375000</td>\n",
              "      <td>4.0</td>\n",
              "      <td>4.000000</td>\n",
              "      <td>3.666667</td>\n",
              "      <td>4.0</td>\n",
              "      <td>3.333333</td>\n",
              "      <td>0.0</td>\n",
              "      <td>2</td>\n",
              "    </tr>\n",
              "    <tr>\n",
              "      <th>278</th>\n",
              "      <td>78998</td>\n",
              "      <td>0.000000</td>\n",
              "      <td>3.0</td>\n",
              "      <td>3.000000</td>\n",
              "      <td>14.333333</td>\n",
              "      <td>2.0</td>\n",
              "      <td>2.333333</td>\n",
              "      <td>1.0</td>\n",
              "      <td>7</td>\n",
              "    </tr>\n",
              "    <tr>\n",
              "      <th>279</th>\n",
              "      <td>38443</td>\n",
              "      <td>0.705882</td>\n",
              "      <td>5.0</td>\n",
              "      <td>3.000000</td>\n",
              "      <td>1.666667</td>\n",
              "      <td>5.0</td>\n",
              "      <td>4.666667</td>\n",
              "      <td>1.0</td>\n",
              "      <td>7</td>\n",
              "    </tr>\n",
              "    <tr>\n",
              "      <th>280</th>\n",
              "      <td>3456</td>\n",
              "      <td>0.250000</td>\n",
              "      <td>2.0</td>\n",
              "      <td>2.000000</td>\n",
              "      <td>3.333333</td>\n",
              "      <td>4.0</td>\n",
              "      <td>3.666667</td>\n",
              "      <td>1.0</td>\n",
              "      <td>7</td>\n",
              "    </tr>\n",
              "    <tr>\n",
              "      <th>281</th>\n",
              "      <td>522</td>\n",
              "      <td>0.518519</td>\n",
              "      <td>5.0</td>\n",
              "      <td>3.500000</td>\n",
              "      <td>5.000000</td>\n",
              "      <td>2.0</td>\n",
              "      <td>3.500000</td>\n",
              "      <td>1.0</td>\n",
              "      <td>29</td>\n",
              "    </tr>\n",
              "    <tr>\n",
              "      <th>282</th>\n",
              "      <td>202</td>\n",
              "      <td>0.771429</td>\n",
              "      <td>4.0</td>\n",
              "      <td>3.666667</td>\n",
              "      <td>7.333333</td>\n",
              "      <td>2.0</td>\n",
              "      <td>2.333333</td>\n",
              "      <td>1.0</td>\n",
              "      <td>23</td>\n",
              "    </tr>\n",
              "    <tr>\n",
              "      <th>283</th>\n",
              "      <td>522</td>\n",
              "      <td>0.517241</td>\n",
              "      <td>5.0</td>\n",
              "      <td>3.714286</td>\n",
              "      <td>8.333333</td>\n",
              "      <td>3.0</td>\n",
              "      <td>2.666667</td>\n",
              "      <td>1.0</td>\n",
              "      <td>28</td>\n",
              "    </tr>\n",
              "    <tr>\n",
              "      <th>284</th>\n",
              "      <td>182</td>\n",
              "      <td>0.500000</td>\n",
              "      <td>3.0</td>\n",
              "      <td>3.000000</td>\n",
              "      <td>-1.000000</td>\n",
              "      <td>-1.0</td>\n",
              "      <td>-1.000000</td>\n",
              "      <td>0.0</td>\n",
              "      <td>1</td>\n",
              "    </tr>\n",
              "    <tr>\n",
              "      <th>285</th>\n",
              "      <td>522</td>\n",
              "      <td>0.533333</td>\n",
              "      <td>5.0</td>\n",
              "      <td>3.875000</td>\n",
              "      <td>5.000000</td>\n",
              "      <td>2.0</td>\n",
              "      <td>3.000000</td>\n",
              "      <td>0.0</td>\n",
              "      <td>2</td>\n",
              "    </tr>\n",
              "    <tr>\n",
              "      <th>286</th>\n",
              "      <td>245</td>\n",
              "      <td>0.416667</td>\n",
              "      <td>5.0</td>\n",
              "      <td>5.000000</td>\n",
              "      <td>1.500000</td>\n",
              "      <td>4.0</td>\n",
              "      <td>4.500000</td>\n",
              "      <td>1.0</td>\n",
              "      <td>15</td>\n",
              "    </tr>\n",
              "    <tr>\n",
              "      <th>287</th>\n",
              "      <td>3</td>\n",
              "      <td>0.307692</td>\n",
              "      <td>4.0</td>\n",
              "      <td>4.000000</td>\n",
              "      <td>11.500000</td>\n",
              "      <td>2.0</td>\n",
              "      <td>1.500000</td>\n",
              "      <td>0.0</td>\n",
              "      <td>1</td>\n",
              "    </tr>\n",
              "    <tr>\n",
              "      <th>288</th>\n",
              "      <td>3</td>\n",
              "      <td>0.400000</td>\n",
              "      <td>1.0</td>\n",
              "      <td>3.400000</td>\n",
              "      <td>12.000000</td>\n",
              "      <td>5.0</td>\n",
              "      <td>2.666667</td>\n",
              "      <td>0.0</td>\n",
              "      <td>4</td>\n",
              "    </tr>\n",
              "    <tr>\n",
              "      <th>289</th>\n",
              "      <td>88748</td>\n",
              "      <td>0.000000</td>\n",
              "      <td>3.0</td>\n",
              "      <td>3.000000</td>\n",
              "      <td>-1.000000</td>\n",
              "      <td>-1.0</td>\n",
              "      <td>-1.000000</td>\n",
              "      <td>0.0</td>\n",
              "      <td>1</td>\n",
              "    </tr>\n",
              "    <tr>\n",
              "      <th>290</th>\n",
              "      <td>17</td>\n",
              "      <td>0.666667</td>\n",
              "      <td>4.0</td>\n",
              "      <td>3.666667</td>\n",
              "      <td>4.666667</td>\n",
              "      <td>4.0</td>\n",
              "      <td>3.333333</td>\n",
              "      <td>0.0</td>\n",
              "      <td>2</td>\n",
              "    </tr>\n",
              "    <tr>\n",
              "      <th>291</th>\n",
              "      <td>21636</td>\n",
              "      <td>0.375000</td>\n",
              "      <td>4.0</td>\n",
              "      <td>4.000000</td>\n",
              "      <td>19.666667</td>\n",
              "      <td>1.0</td>\n",
              "      <td>1.333333</td>\n",
              "      <td>1.0</td>\n",
              "      <td>22</td>\n",
              "    </tr>\n",
              "    <tr>\n",
              "      <th>292</th>\n",
              "      <td>2</td>\n",
              "      <td>0.750000</td>\n",
              "      <td>5.0</td>\n",
              "      <td>5.000000</td>\n",
              "      <td>4.666667</td>\n",
              "      <td>2.0</td>\n",
              "      <td>3.000000</td>\n",
              "      <td>1.0</td>\n",
              "      <td>16</td>\n",
              "    </tr>\n",
              "    <tr>\n",
              "      <th>293</th>\n",
              "      <td>10</td>\n",
              "      <td>0.600000</td>\n",
              "      <td>1.0</td>\n",
              "      <td>2.250000</td>\n",
              "      <td>2.666667</td>\n",
              "      <td>4.0</td>\n",
              "      <td>4.000000</td>\n",
              "      <td>0.0</td>\n",
              "      <td>1</td>\n",
              "    </tr>\n",
              "    <tr>\n",
              "      <th>294</th>\n",
              "      <td>4213</td>\n",
              "      <td>0.222222</td>\n",
              "      <td>3.0</td>\n",
              "      <td>3.000000</td>\n",
              "      <td>22.000000</td>\n",
              "      <td>1.0</td>\n",
              "      <td>1.666667</td>\n",
              "      <td>1.0</td>\n",
              "      <td>14</td>\n",
              "    </tr>\n",
              "    <tr>\n",
              "      <th>295</th>\n",
              "      <td>466</td>\n",
              "      <td>0.333333</td>\n",
              "      <td>2.0</td>\n",
              "      <td>2.000000</td>\n",
              "      <td>8.666667</td>\n",
              "      <td>2.0</td>\n",
              "      <td>2.333333</td>\n",
              "      <td>1.0</td>\n",
              "      <td>15</td>\n",
              "    </tr>\n",
              "    <tr>\n",
              "      <th>296</th>\n",
              "      <td>260</td>\n",
              "      <td>0.000000</td>\n",
              "      <td>3.0</td>\n",
              "      <td>3.000000</td>\n",
              "      <td>13.000000</td>\n",
              "      <td>1.0</td>\n",
              "      <td>1.333333</td>\n",
              "      <td>1.0</td>\n",
              "      <td>15</td>\n",
              "    </tr>\n",
              "    <tr>\n",
              "      <th>297</th>\n",
              "      <td>202</td>\n",
              "      <td>0.775000</td>\n",
              "      <td>5.0</td>\n",
              "      <td>3.736842</td>\n",
              "      <td>5.000000</td>\n",
              "      <td>3.0</td>\n",
              "      <td>2.666667</td>\n",
              "      <td>1.0</td>\n",
              "      <td>22</td>\n",
              "    </tr>\n",
              "    <tr>\n",
              "      <th>298</th>\n",
              "      <td>287</td>\n",
              "      <td>0.666667</td>\n",
              "      <td>2.0</td>\n",
              "      <td>2.000000</td>\n",
              "      <td>3.333333</td>\n",
              "      <td>5.0</td>\n",
              "      <td>4.000000</td>\n",
              "      <td>1.0</td>\n",
              "      <td>13</td>\n",
              "    </tr>\n",
              "    <tr>\n",
              "      <th>299</th>\n",
              "      <td>59969</td>\n",
              "      <td>0.000000</td>\n",
              "      <td>3.0</td>\n",
              "      <td>3.000000</td>\n",
              "      <td>-1.000000</td>\n",
              "      <td>-1.0</td>\n",
              "      <td>-1.000000</td>\n",
              "      <td>0.0</td>\n",
              "      <td>5</td>\n",
              "    </tr>\n",
              "    <tr>\n",
              "      <th>300</th>\n",
              "      <td>6</td>\n",
              "      <td>0.000000</td>\n",
              "      <td>3.0</td>\n",
              "      <td>3.000000</td>\n",
              "      <td>5.000000</td>\n",
              "      <td>2.0</td>\n",
              "      <td>3.333333</td>\n",
              "      <td>0.0</td>\n",
              "      <td>2</td>\n",
              "    </tr>\n",
              "    <tr>\n",
              "      <th>301</th>\n",
              "      <td>36</td>\n",
              "      <td>0.500000</td>\n",
              "      <td>3.0</td>\n",
              "      <td>2.666667</td>\n",
              "      <td>5.000000</td>\n",
              "      <td>3.0</td>\n",
              "      <td>3.000000</td>\n",
              "      <td>0.0</td>\n",
              "      <td>4</td>\n",
              "    </tr>\n",
              "    <tr>\n",
              "      <th>302</th>\n",
              "      <td>24</td>\n",
              "      <td>0.800000</td>\n",
              "      <td>3.0</td>\n",
              "      <td>2.200000</td>\n",
              "      <td>15.500000</td>\n",
              "      <td>3.0</td>\n",
              "      <td>2.000000</td>\n",
              "      <td>0.0</td>\n",
              "      <td>5</td>\n",
              "    </tr>\n",
              "    <tr>\n",
              "      <th>303</th>\n",
              "      <td>581</td>\n",
              "      <td>0.789474</td>\n",
              "      <td>2.0</td>\n",
              "      <td>2.384615</td>\n",
              "      <td>8.000000</td>\n",
              "      <td>2.0</td>\n",
              "      <td>2.666667</td>\n",
              "      <td>1.0</td>\n",
              "      <td>32</td>\n",
              "    </tr>\n",
              "    <tr>\n",
              "      <th>304</th>\n",
              "      <td>166</td>\n",
              "      <td>0.750000</td>\n",
              "      <td>4.0</td>\n",
              "      <td>3.333333</td>\n",
              "      <td>13.333333</td>\n",
              "      <td>2.0</td>\n",
              "      <td>2.333333</td>\n",
              "      <td>1.0</td>\n",
              "      <td>14</td>\n",
              "    </tr>\n",
              "    <tr>\n",
              "      <th>305</th>\n",
              "      <td>190</td>\n",
              "      <td>0.800000</td>\n",
              "      <td>4.0</td>\n",
              "      <td>3.500000</td>\n",
              "      <td>8.333333</td>\n",
              "      <td>2.0</td>\n",
              "      <td>2.000000</td>\n",
              "      <td>1.0</td>\n",
              "      <td>13</td>\n",
              "    </tr>\n",
              "    <tr>\n",
              "      <th>306</th>\n",
              "      <td>416</td>\n",
              "      <td>0.000000</td>\n",
              "      <td>3.0</td>\n",
              "      <td>3.000000</td>\n",
              "      <td>10.666667</td>\n",
              "      <td>2.0</td>\n",
              "      <td>1.666667</td>\n",
              "      <td>1.0</td>\n",
              "      <td>7</td>\n",
              "    </tr>\n",
              "    <tr>\n",
              "      <th>307</th>\n",
              "      <td>22</td>\n",
              "      <td>0.500000</td>\n",
              "      <td>2.0</td>\n",
              "      <td>2.400000</td>\n",
              "      <td>10.333333</td>\n",
              "      <td>2.0</td>\n",
              "      <td>2.000000</td>\n",
              "      <td>1.0</td>\n",
              "      <td>7</td>\n",
              "    </tr>\n",
              "    <tr>\n",
              "      <th>308</th>\n",
              "      <td>180</td>\n",
              "      <td>0.500000</td>\n",
              "      <td>1.0</td>\n",
              "      <td>1.000000</td>\n",
              "      <td>10.000000</td>\n",
              "      <td>2.0</td>\n",
              "      <td>2.333333</td>\n",
              "      <td>1.0</td>\n",
              "      <td>7</td>\n",
              "    </tr>\n",
              "    <tr>\n",
              "      <th>309</th>\n",
              "      <td>566</td>\n",
              "      <td>0.000000</td>\n",
              "      <td>3.0</td>\n",
              "      <td>3.000000</td>\n",
              "      <td>16.000000</td>\n",
              "      <td>3.0</td>\n",
              "      <td>2.000000</td>\n",
              "      <td>1.0</td>\n",
              "      <td>21</td>\n",
              "    </tr>\n",
              "    <tr>\n",
              "      <th>310</th>\n",
              "      <td>88345</td>\n",
              "      <td>0.636364</td>\n",
              "      <td>4.0</td>\n",
              "      <td>4.600000</td>\n",
              "      <td>16.333333</td>\n",
              "      <td>1.0</td>\n",
              "      <td>1.333333</td>\n",
              "      <td>1.0</td>\n",
              "      <td>12</td>\n",
              "    </tr>\n",
              "    <tr>\n",
              "      <th>311</th>\n",
              "      <td>88345</td>\n",
              "      <td>0.615385</td>\n",
              "      <td>4.0</td>\n",
              "      <td>4.500000</td>\n",
              "      <td>10.666667</td>\n",
              "      <td>2.0</td>\n",
              "      <td>2.333333</td>\n",
              "      <td>1.0</td>\n",
              "      <td>12</td>\n",
              "    </tr>\n",
              "    <tr>\n",
              "      <th>312</th>\n",
              "      <td>59911</td>\n",
              "      <td>0.000000</td>\n",
              "      <td>3.0</td>\n",
              "      <td>3.000000</td>\n",
              "      <td>15.666667</td>\n",
              "      <td>2.0</td>\n",
              "      <td>2.666667</td>\n",
              "      <td>1.0</td>\n",
              "      <td>13</td>\n",
              "    </tr>\n",
              "    <tr>\n",
              "      <th>313</th>\n",
              "      <td>59911</td>\n",
              "      <td>0.142857</td>\n",
              "      <td>4.0</td>\n",
              "      <td>4.000000</td>\n",
              "      <td>6.333333</td>\n",
              "      <td>2.0</td>\n",
              "      <td>3.333333</td>\n",
              "      <td>1.0</td>\n",
              "      <td>13</td>\n",
              "    </tr>\n",
              "    <tr>\n",
              "      <th>314</th>\n",
              "      <td>82713</td>\n",
              "      <td>0.500000</td>\n",
              "      <td>1.0</td>\n",
              "      <td>1.000000</td>\n",
              "      <td>29.000000</td>\n",
              "      <td>1.0</td>\n",
              "      <td>1.000000</td>\n",
              "      <td>1.0</td>\n",
              "      <td>21</td>\n",
              "    </tr>\n",
              "    <tr>\n",
              "      <th>315</th>\n",
              "      <td>504</td>\n",
              "      <td>0.666667</td>\n",
              "      <td>3.0</td>\n",
              "      <td>4.000000</td>\n",
              "      <td>17.000000</td>\n",
              "      <td>1.0</td>\n",
              "      <td>1.000000</td>\n",
              "      <td>1.0</td>\n",
              "      <td>13</td>\n",
              "    </tr>\n",
              "    <tr>\n",
              "      <th>316</th>\n",
              "      <td>24</td>\n",
              "      <td>0.736842</td>\n",
              "      <td>3.0</td>\n",
              "      <td>2.333333</td>\n",
              "      <td>6.000000</td>\n",
              "      <td>1.0</td>\n",
              "      <td>3.666667</td>\n",
              "      <td>0.0</td>\n",
              "      <td>4</td>\n",
              "    </tr>\n",
              "    <tr>\n",
              "      <th>317</th>\n",
              "      <td>24</td>\n",
              "      <td>0.750000</td>\n",
              "      <td>3.0</td>\n",
              "      <td>2.428571</td>\n",
              "      <td>16.333333</td>\n",
              "      <td>4.0</td>\n",
              "      <td>2.000000</td>\n",
              "      <td>1.0</td>\n",
              "      <td>7</td>\n",
              "    </tr>\n",
              "    <tr>\n",
              "      <th>318</th>\n",
              "      <td>522</td>\n",
              "      <td>0.500000</td>\n",
              "      <td>2.0</td>\n",
              "      <td>3.666667</td>\n",
              "      <td>1.333333</td>\n",
              "      <td>4.0</td>\n",
              "      <td>4.666667</td>\n",
              "      <td>0.0</td>\n",
              "      <td>6</td>\n",
              "    </tr>\n",
              "    <tr>\n",
              "      <th>319</th>\n",
              "      <td>581</td>\n",
              "      <td>0.739130</td>\n",
              "      <td>5.0</td>\n",
              "      <td>2.571429</td>\n",
              "      <td>3.333333</td>\n",
              "      <td>3.0</td>\n",
              "      <td>4.000000</td>\n",
              "      <td>0.0</td>\n",
              "      <td>6</td>\n",
              "    </tr>\n",
              "    <tr>\n",
              "      <th>320</th>\n",
              "      <td>522</td>\n",
              "      <td>0.527778</td>\n",
              "      <td>3.0</td>\n",
              "      <td>3.600000</td>\n",
              "      <td>15.000000</td>\n",
              "      <td>4.0</td>\n",
              "      <td>2.500000</td>\n",
              "      <td>1.0</td>\n",
              "      <td>13</td>\n",
              "    </tr>\n",
              "    <tr>\n",
              "      <th>321</th>\n",
              "      <td>522</td>\n",
              "      <td>0.540541</td>\n",
              "      <td>4.0</td>\n",
              "      <td>3.636364</td>\n",
              "      <td>-1.000000</td>\n",
              "      <td>-1.0</td>\n",
              "      <td>-1.000000</td>\n",
              "      <td>1.0</td>\n",
              "      <td>24</td>\n",
              "    </tr>\n",
              "    <tr>\n",
              "      <th>322</th>\n",
              "      <td>202</td>\n",
              "      <td>0.755556</td>\n",
              "      <td>5.0</td>\n",
              "      <td>3.800000</td>\n",
              "      <td>19.000000</td>\n",
              "      <td>1.0</td>\n",
              "      <td>1.666667</td>\n",
              "      <td>1.0</td>\n",
              "      <td>27</td>\n",
              "    </tr>\n",
              "    <tr>\n",
              "      <th>323</th>\n",
              "      <td>251</td>\n",
              "      <td>0.000000</td>\n",
              "      <td>3.0</td>\n",
              "      <td>3.000000</td>\n",
              "      <td>3.666667</td>\n",
              "      <td>5.0</td>\n",
              "      <td>4.000000</td>\n",
              "      <td>1.0</td>\n",
              "      <td>21</td>\n",
              "    </tr>\n",
              "    <tr>\n",
              "      <th>324</th>\n",
              "      <td>2</td>\n",
              "      <td>0.800000</td>\n",
              "      <td>5.0</td>\n",
              "      <td>5.000000</td>\n",
              "      <td>3.000000</td>\n",
              "      <td>5.0</td>\n",
              "      <td>4.000000</td>\n",
              "      <td>1.0</td>\n",
              "      <td>7</td>\n",
              "    </tr>\n",
              "    <tr>\n",
              "      <th>325</th>\n",
              "      <td>202</td>\n",
              "      <td>0.760870</td>\n",
              "      <td>5.0</td>\n",
              "      <td>3.857143</td>\n",
              "      <td>13.666667</td>\n",
              "      <td>1.0</td>\n",
              "      <td>1.666667</td>\n",
              "      <td>1.0</td>\n",
              "      <td>28</td>\n",
              "    </tr>\n",
              "    <tr>\n",
              "      <th>326</th>\n",
              "      <td>202</td>\n",
              "      <td>0.765957</td>\n",
              "      <td>5.0</td>\n",
              "      <td>3.909091</td>\n",
              "      <td>12.000000</td>\n",
              "      <td>2.0</td>\n",
              "      <td>2.000000</td>\n",
              "      <td>0.0</td>\n",
              "      <td>6</td>\n",
              "    </tr>\n",
              "    <tr>\n",
              "      <th>327</th>\n",
              "      <td>50</td>\n",
              "      <td>0.800000</td>\n",
              "      <td>2.0</td>\n",
              "      <td>2.000000</td>\n",
              "      <td>17.333333</td>\n",
              "      <td>1.0</td>\n",
              "      <td>2.000000</td>\n",
              "      <td>0.0</td>\n",
              "      <td>6</td>\n",
              "    </tr>\n",
              "    <tr>\n",
              "      <th>328</th>\n",
              "      <td>72453</td>\n",
              "      <td>0.375000</td>\n",
              "      <td>3.0</td>\n",
              "      <td>3.000000</td>\n",
              "      <td>8.333333</td>\n",
              "      <td>2.0</td>\n",
              "      <td>2.666667</td>\n",
              "      <td>1.0</td>\n",
              "      <td>13</td>\n",
              "    </tr>\n",
              "    <tr>\n",
              "      <th>329</th>\n",
              "      <td>28332</td>\n",
              "      <td>0.153846</td>\n",
              "      <td>3.0</td>\n",
              "      <td>3.000000</td>\n",
              "      <td>11.666667</td>\n",
              "      <td>2.0</td>\n",
              "      <td>1.666667</td>\n",
              "      <td>0.0</td>\n",
              "      <td>3</td>\n",
              "    </tr>\n",
              "    <tr>\n",
              "      <th>330</th>\n",
              "      <td>88345</td>\n",
              "      <td>0.666667</td>\n",
              "      <td>4.0</td>\n",
              "      <td>4.428571</td>\n",
              "      <td>10.666667</td>\n",
              "      <td>2.0</td>\n",
              "      <td>2.000000</td>\n",
              "      <td>1.0</td>\n",
              "      <td>11</td>\n",
              "    </tr>\n",
              "    <tr>\n",
              "      <th>331</th>\n",
              "      <td>249</td>\n",
              "      <td>0.000000</td>\n",
              "      <td>3.0</td>\n",
              "      <td>3.000000</td>\n",
              "      <td>6.000000</td>\n",
              "      <td>1.0</td>\n",
              "      <td>3.666667</td>\n",
              "      <td>1.0</td>\n",
              "      <td>28</td>\n",
              "    </tr>\n",
              "    <tr>\n",
              "      <th>332</th>\n",
              "      <td>50</td>\n",
              "      <td>0.714286</td>\n",
              "      <td>3.0</td>\n",
              "      <td>2.333333</td>\n",
              "      <td>8.000000</td>\n",
              "      <td>1.0</td>\n",
              "      <td>3.000000</td>\n",
              "      <td>0.0</td>\n",
              "      <td>6</td>\n",
              "    </tr>\n",
              "    <tr>\n",
              "      <th>333</th>\n",
              "      <td>18531</td>\n",
              "      <td>0.000000</td>\n",
              "      <td>3.0</td>\n",
              "      <td>3.000000</td>\n",
              "      <td>19.000000</td>\n",
              "      <td>1.0</td>\n",
              "      <td>1.333333</td>\n",
              "      <td>0.0</td>\n",
              "      <td>2</td>\n",
              "    </tr>\n",
              "    <tr>\n",
              "      <th>334</th>\n",
              "      <td>59911</td>\n",
              "      <td>0.200000</td>\n",
              "      <td>4.0</td>\n",
              "      <td>4.000000</td>\n",
              "      <td>10.333333</td>\n",
              "      <td>4.0</td>\n",
              "      <td>2.333333</td>\n",
              "      <td>1.0</td>\n",
              "      <td>27</td>\n",
              "    </tr>\n",
              "    <tr>\n",
              "      <th>335</th>\n",
              "      <td>245</td>\n",
              "      <td>0.466667</td>\n",
              "      <td>5.0</td>\n",
              "      <td>5.000000</td>\n",
              "      <td>5.000000</td>\n",
              "      <td>2.0</td>\n",
              "      <td>4.000000</td>\n",
              "      <td>0.0</td>\n",
              "      <td>4</td>\n",
              "    </tr>\n",
              "    <tr>\n",
              "      <th>336</th>\n",
              "      <td>249</td>\n",
              "      <td>0.500000</td>\n",
              "      <td>5.0</td>\n",
              "      <td>5.000000</td>\n",
              "      <td>2.000000</td>\n",
              "      <td>3.0</td>\n",
              "      <td>4.333333</td>\n",
              "      <td>1.0</td>\n",
              "      <td>9</td>\n",
              "    </tr>\n",
              "    <tr>\n",
              "      <th>337</th>\n",
              "      <td>75</td>\n",
              "      <td>0.000000</td>\n",
              "      <td>3.0</td>\n",
              "      <td>3.000000</td>\n",
              "      <td>-1.000000</td>\n",
              "      <td>-1.0</td>\n",
              "      <td>-1.000000</td>\n",
              "      <td>0.0</td>\n",
              "      <td>3</td>\n",
              "    </tr>\n",
              "    <tr>\n",
              "      <th>338</th>\n",
              "      <td>18</td>\n",
              "      <td>0.500000</td>\n",
              "      <td>1.0</td>\n",
              "      <td>1.000000</td>\n",
              "      <td>10.000000</td>\n",
              "      <td>2.0</td>\n",
              "      <td>2.333333</td>\n",
              "      <td>0.0</td>\n",
              "      <td>1</td>\n",
              "    </tr>\n",
              "    <tr>\n",
              "      <th>339</th>\n",
              "      <td>74144</td>\n",
              "      <td>0.000000</td>\n",
              "      <td>3.0</td>\n",
              "      <td>3.000000</td>\n",
              "      <td>5.000000</td>\n",
              "      <td>2.0</td>\n",
              "      <td>3.000000</td>\n",
              "      <td>1.0</td>\n",
              "      <td>7</td>\n",
              "    </tr>\n",
              "    <tr>\n",
              "      <th>340</th>\n",
              "      <td>375</td>\n",
              "      <td>0.000000</td>\n",
              "      <td>3.0</td>\n",
              "      <td>3.000000</td>\n",
              "      <td>9.666667</td>\n",
              "      <td>4.0</td>\n",
              "      <td>3.000000</td>\n",
              "      <td>0.0</td>\n",
              "      <td>3</td>\n",
              "    </tr>\n",
              "    <tr>\n",
              "      <th>341</th>\n",
              "      <td>6</td>\n",
              "      <td>0.333333</td>\n",
              "      <td>2.0</td>\n",
              "      <td>2.000000</td>\n",
              "      <td>10.666667</td>\n",
              "      <td>2.0</td>\n",
              "      <td>2.333333</td>\n",
              "      <td>0.0</td>\n",
              "      <td>1</td>\n",
              "    </tr>\n",
              "    <tr>\n",
              "      <th>342</th>\n",
              "      <td>202</td>\n",
              "      <td>0.770833</td>\n",
              "      <td>3.0</td>\n",
              "      <td>3.869565</td>\n",
              "      <td>20.000000</td>\n",
              "      <td>1.0</td>\n",
              "      <td>1.333333</td>\n",
              "      <td>0.0</td>\n",
              "      <td>3</td>\n",
              "    </tr>\n",
              "    <tr>\n",
              "      <th>343</th>\n",
              "      <td>245</td>\n",
              "      <td>0.500000</td>\n",
              "      <td>3.0</td>\n",
              "      <td>4.333333</td>\n",
              "      <td>7.666667</td>\n",
              "      <td>2.0</td>\n",
              "      <td>2.666667</td>\n",
              "      <td>1.0</td>\n",
              "      <td>7</td>\n",
              "    </tr>\n",
              "    <tr>\n",
              "      <th>344</th>\n",
              "      <td>22</td>\n",
              "      <td>0.538462</td>\n",
              "      <td>4.0</td>\n",
              "      <td>2.666667</td>\n",
              "      <td>14.333333</td>\n",
              "      <td>2.0</td>\n",
              "      <td>2.000000</td>\n",
              "      <td>0.0</td>\n",
              "      <td>1</td>\n",
              "    </tr>\n",
              "    <tr>\n",
              "      <th>345</th>\n",
              "      <td>190</td>\n",
              "      <td>0.833333</td>\n",
              "      <td>4.0</td>\n",
              "      <td>3.600000</td>\n",
              "      <td>14.000000</td>\n",
              "      <td>1.0</td>\n",
              "      <td>2.000000</td>\n",
              "      <td>0.0</td>\n",
              "      <td>4</td>\n",
              "    </tr>\n",
              "    <tr>\n",
              "      <th>346</th>\n",
              "      <td>41609</td>\n",
              "      <td>0.000000</td>\n",
              "      <td>3.0</td>\n",
              "      <td>3.000000</td>\n",
              "      <td>7.000000</td>\n",
              "      <td>2.0</td>\n",
              "      <td>3.000000</td>\n",
              "      <td>0.0</td>\n",
              "      <td>1</td>\n",
              "    </tr>\n",
              "    <tr>\n",
              "      <th>347</th>\n",
              "      <td>180</td>\n",
              "      <td>0.400000</td>\n",
              "      <td>4.0</td>\n",
              "      <td>2.500000</td>\n",
              "      <td>6.666667</td>\n",
              "      <td>1.0</td>\n",
              "      <td>3.000000</td>\n",
              "      <td>1.0</td>\n",
              "      <td>10</td>\n",
              "    </tr>\n",
              "    <tr>\n",
              "      <th>348</th>\n",
              "      <td>36</td>\n",
              "      <td>0.529412</td>\n",
              "      <td>3.0</td>\n",
              "      <td>2.750000</td>\n",
              "      <td>5.000000</td>\n",
              "      <td>3.0</td>\n",
              "      <td>3.000000</td>\n",
              "      <td>0.0</td>\n",
              "      <td>3</td>\n",
              "    </tr>\n",
              "    <tr>\n",
              "      <th>349</th>\n",
              "      <td>581</td>\n",
              "      <td>0.750000</td>\n",
              "      <td>3.0</td>\n",
              "      <td>2.600000</td>\n",
              "      <td>10.333333</td>\n",
              "      <td>2.0</td>\n",
              "      <td>2.333333</td>\n",
              "      <td>0.0</td>\n",
              "      <td>3</td>\n",
              "    </tr>\n",
              "    <tr>\n",
              "      <th>350</th>\n",
              "      <td>72199</td>\n",
              "      <td>0.000000</td>\n",
              "      <td>3.0</td>\n",
              "      <td>3.000000</td>\n",
              "      <td>6.333333</td>\n",
              "      <td>4.0</td>\n",
              "      <td>3.333333</td>\n",
              "      <td>0.0</td>\n",
              "      <td>4</td>\n",
              "    </tr>\n",
              "    <tr>\n",
              "      <th>351</th>\n",
              "      <td>38443</td>\n",
              "      <td>0.714286</td>\n",
              "      <td>4.0</td>\n",
              "      <td>3.111111</td>\n",
              "      <td>1.666667</td>\n",
              "      <td>5.0</td>\n",
              "      <td>4.333333</td>\n",
              "      <td>0.0</td>\n",
              "      <td>2</td>\n",
              "    </tr>\n",
              "    <tr>\n",
              "      <th>352</th>\n",
              "      <td>180</td>\n",
              "      <td>0.454545</td>\n",
              "      <td>4.0</td>\n",
              "      <td>3.000000</td>\n",
              "      <td>12.666667</td>\n",
              "      <td>1.0</td>\n",
              "      <td>1.333333</td>\n",
              "      <td>1.0</td>\n",
              "      <td>9</td>\n",
              "    </tr>\n",
              "    <tr>\n",
              "      <th>353</th>\n",
              "      <td>253</td>\n",
              "      <td>0.714286</td>\n",
              "      <td>4.0</td>\n",
              "      <td>3.000000</td>\n",
              "      <td>10.666667</td>\n",
              "      <td>3.0</td>\n",
              "      <td>2.000000</td>\n",
              "      <td>1.0</td>\n",
              "      <td>9</td>\n",
              "    </tr>\n",
              "    <tr>\n",
              "      <th>354</th>\n",
              "      <td>253</td>\n",
              "      <td>0.750000</td>\n",
              "      <td>4.0</td>\n",
              "      <td>3.333333</td>\n",
              "      <td>5.333333</td>\n",
              "      <td>3.0</td>\n",
              "      <td>3.000000</td>\n",
              "      <td>1.0</td>\n",
              "      <td>9</td>\n",
              "    </tr>\n",
              "    <tr>\n",
              "      <th>355</th>\n",
              "      <td>88841</td>\n",
              "      <td>0.000000</td>\n",
              "      <td>3.0</td>\n",
              "      <td>3.000000</td>\n",
              "      <td>6.333333</td>\n",
              "      <td>5.0</td>\n",
              "      <td>3.333333</td>\n",
              "      <td>0.0</td>\n",
              "      <td>3</td>\n",
              "    </tr>\n",
              "    <tr>\n",
              "      <th>356</th>\n",
              "      <td>8877</td>\n",
              "      <td>0.000000</td>\n",
              "      <td>3.0</td>\n",
              "      <td>3.000000</td>\n",
              "      <td>-1.000000</td>\n",
              "      <td>-1.0</td>\n",
              "      <td>-1.000000</td>\n",
              "      <td>0.0</td>\n",
              "      <td>1</td>\n",
              "    </tr>\n",
              "    <tr>\n",
              "      <th>357</th>\n",
              "      <td>36</td>\n",
              "      <td>0.526316</td>\n",
              "      <td>2.0</td>\n",
              "      <td>2.600000</td>\n",
              "      <td>4.333333</td>\n",
              "      <td>2.0</td>\n",
              "      <td>3.333333</td>\n",
              "      <td>0.0</td>\n",
              "      <td>1</td>\n",
              "    </tr>\n",
              "    <tr>\n",
              "      <th>358</th>\n",
              "      <td>186</td>\n",
              "      <td>0.650000</td>\n",
              "      <td>4.0</td>\n",
              "      <td>4.000000</td>\n",
              "      <td>2.666667</td>\n",
              "      <td>5.0</td>\n",
              "      <td>4.333333</td>\n",
              "      <td>0.0</td>\n",
              "      <td>1</td>\n",
              "    </tr>\n",
              "    <tr>\n",
              "      <th>359</th>\n",
              "      <td>88588</td>\n",
              "      <td>0.111111</td>\n",
              "      <td>3.0</td>\n",
              "      <td>3.000000</td>\n",
              "      <td>5.666667</td>\n",
              "      <td>4.0</td>\n",
              "      <td>3.000000</td>\n",
              "      <td>1.0</td>\n",
              "      <td>7</td>\n",
              "    </tr>\n",
              "    <tr>\n",
              "      <th>360</th>\n",
              "      <td>259</td>\n",
              "      <td>0.714286</td>\n",
              "      <td>5.0</td>\n",
              "      <td>3.000000</td>\n",
              "      <td>13.333333</td>\n",
              "      <td>1.0</td>\n",
              "      <td>2.333333</td>\n",
              "      <td>0.0</td>\n",
              "      <td>2</td>\n",
              "    </tr>\n",
              "    <tr>\n",
              "      <th>361</th>\n",
              "      <td>40</td>\n",
              "      <td>0.000000</td>\n",
              "      <td>3.0</td>\n",
              "      <td>3.000000</td>\n",
              "      <td>16.666667</td>\n",
              "      <td>2.0</td>\n",
              "      <td>1.666667</td>\n",
              "      <td>1.0</td>\n",
              "      <td>24</td>\n",
              "    </tr>\n",
              "    <tr>\n",
              "      <th>362</th>\n",
              "      <td>162</td>\n",
              "      <td>0.000000</td>\n",
              "      <td>3.0</td>\n",
              "      <td>3.000000</td>\n",
              "      <td>8.666667</td>\n",
              "      <td>1.0</td>\n",
              "      <td>3.000000</td>\n",
              "      <td>0.0</td>\n",
              "      <td>1</td>\n",
              "    </tr>\n",
              "    <tr>\n",
              "      <th>363</th>\n",
              "      <td>78</td>\n",
              "      <td>0.000000</td>\n",
              "      <td>3.0</td>\n",
              "      <td>3.000000</td>\n",
              "      <td>11.333333</td>\n",
              "      <td>1.0</td>\n",
              "      <td>1.666667</td>\n",
              "      <td>1.0</td>\n",
              "      <td>22</td>\n",
              "    </tr>\n",
              "    <tr>\n",
              "      <th>364</th>\n",
              "      <td>78</td>\n",
              "      <td>0.250000</td>\n",
              "      <td>5.0</td>\n",
              "      <td>5.000000</td>\n",
              "      <td>16.666667</td>\n",
              "      <td>2.0</td>\n",
              "      <td>1.333333</td>\n",
              "      <td>1.0</td>\n",
              "      <td>22</td>\n",
              "    </tr>\n",
              "    <tr>\n",
              "      <th>365</th>\n",
              "      <td>6</td>\n",
              "      <td>0.500000</td>\n",
              "      <td>1.0</td>\n",
              "      <td>1.500000</td>\n",
              "      <td>3.000000</td>\n",
              "      <td>5.0</td>\n",
              "      <td>4.000000</td>\n",
              "      <td>0.0</td>\n",
              "      <td>2</td>\n",
              "    </tr>\n",
              "    <tr>\n",
              "      <th>366</th>\n",
              "      <td>38443</td>\n",
              "      <td>0.727273</td>\n",
              "      <td>2.0</td>\n",
              "      <td>3.000000</td>\n",
              "      <td>3.000000</td>\n",
              "      <td>4.0</td>\n",
              "      <td>4.000000</td>\n",
              "      <td>1.0</td>\n",
              "      <td>28</td>\n",
              "    </tr>\n",
              "    <tr>\n",
              "      <th>367</th>\n",
              "      <td>76348</td>\n",
              "      <td>0.000000</td>\n",
              "      <td>3.0</td>\n",
              "      <td>3.000000</td>\n",
              "      <td>13.000000</td>\n",
              "      <td>1.0</td>\n",
              "      <td>1.666667</td>\n",
              "      <td>1.0</td>\n",
              "      <td>13</td>\n",
              "    </tr>\n",
              "    <tr>\n",
              "      <th>368</th>\n",
              "      <td>70377</td>\n",
              "      <td>0.000000</td>\n",
              "      <td>3.0</td>\n",
              "      <td>3.000000</td>\n",
              "      <td>20.000000</td>\n",
              "      <td>1.0</td>\n",
              "      <td>1.333333</td>\n",
              "      <td>0.0</td>\n",
              "      <td>1</td>\n",
              "    </tr>\n",
              "    <tr>\n",
              "      <th>369</th>\n",
              "      <td>3375</td>\n",
              "      <td>0.000000</td>\n",
              "      <td>3.0</td>\n",
              "      <td>3.000000</td>\n",
              "      <td>1.666667</td>\n",
              "      <td>5.0</td>\n",
              "      <td>4.666667</td>\n",
              "      <td>1.0</td>\n",
              "      <td>7</td>\n",
              "    </tr>\n",
              "    <tr>\n",
              "      <th>370</th>\n",
              "      <td>55753</td>\n",
              "      <td>0.500000</td>\n",
              "      <td>5.0</td>\n",
              "      <td>5.000000</td>\n",
              "      <td>9.333333</td>\n",
              "      <td>4.0</td>\n",
              "      <td>3.000000</td>\n",
              "      <td>1.0</td>\n",
              "      <td>8</td>\n",
              "    </tr>\n",
              "    <tr>\n",
              "      <th>371</th>\n",
              "      <td>6</td>\n",
              "      <td>0.714286</td>\n",
              "      <td>2.0</td>\n",
              "      <td>1.666667</td>\n",
              "      <td>-1.000000</td>\n",
              "      <td>-1.0</td>\n",
              "      <td>-1.000000</td>\n",
              "      <td>0.0</td>\n",
              "      <td>1</td>\n",
              "    </tr>\n",
              "    <tr>\n",
              "      <th>372</th>\n",
              "      <td>202</td>\n",
              "      <td>0.784314</td>\n",
              "      <td>2.0</td>\n",
              "      <td>3.791667</td>\n",
              "      <td>15.666667</td>\n",
              "      <td>1.0</td>\n",
              "      <td>2.000000</td>\n",
              "      <td>0.0</td>\n",
              "      <td>1</td>\n",
              "    </tr>\n",
              "    <tr>\n",
              "      <th>373</th>\n",
              "      <td>24</td>\n",
              "      <td>0.772727</td>\n",
              "      <td>4.0</td>\n",
              "      <td>2.625000</td>\n",
              "      <td>5.000000</td>\n",
              "      <td>2.0</td>\n",
              "      <td>3.000000</td>\n",
              "      <td>1.0</td>\n",
              "      <td>7</td>\n",
              "    </tr>\n",
              "    <tr>\n",
              "      <th>374</th>\n",
              "      <td>216</td>\n",
              "      <td>0.555556</td>\n",
              "      <td>1.0</td>\n",
              "      <td>1.000000</td>\n",
              "      <td>-1.000000</td>\n",
              "      <td>-1.0</td>\n",
              "      <td>-1.000000</td>\n",
              "      <td>0.0</td>\n",
              "      <td>1</td>\n",
              "    </tr>\n",
              "    <tr>\n",
              "      <th>375</th>\n",
              "      <td>190</td>\n",
              "      <td>0.857143</td>\n",
              "      <td>3.0</td>\n",
              "      <td>3.500000</td>\n",
              "      <td>8.666667</td>\n",
              "      <td>3.0</td>\n",
              "      <td>2.333333</td>\n",
              "      <td>0.0</td>\n",
              "      <td>2</td>\n",
              "    </tr>\n",
              "    <tr>\n",
              "      <th>376</th>\n",
              "      <td>88865</td>\n",
              "      <td>0.000000</td>\n",
              "      <td>3.0</td>\n",
              "      <td>3.000000</td>\n",
              "      <td>10.333333</td>\n",
              "      <td>2.0</td>\n",
              "      <td>2.666667</td>\n",
              "      <td>0.0</td>\n",
              "      <td>5</td>\n",
              "    </tr>\n",
              "    <tr>\n",
              "      <th>377</th>\n",
              "      <td>287</td>\n",
              "      <td>0.800000</td>\n",
              "      <td>4.0</td>\n",
              "      <td>2.666667</td>\n",
              "      <td>18.333333</td>\n",
              "      <td>1.0</td>\n",
              "      <td>1.333333</td>\n",
              "      <td>0.0</td>\n",
              "      <td>2</td>\n",
              "    </tr>\n",
              "    <tr>\n",
              "      <th>378</th>\n",
              "      <td>25</td>\n",
              "      <td>0.750000</td>\n",
              "      <td>2.0</td>\n",
              "      <td>1.666667</td>\n",
              "      <td>6.333333</td>\n",
              "      <td>2.0</td>\n",
              "      <td>2.666667</td>\n",
              "      <td>1.0</td>\n",
              "      <td>8</td>\n",
              "    </tr>\n",
              "    <tr>\n",
              "      <th>379</th>\n",
              "      <td>501</td>\n",
              "      <td>0.500000</td>\n",
              "      <td>3.0</td>\n",
              "      <td>3.000000</td>\n",
              "      <td>14.333333</td>\n",
              "      <td>1.0</td>\n",
              "      <td>1.666667</td>\n",
              "      <td>0.0</td>\n",
              "      <td>2</td>\n",
              "    </tr>\n",
              "    <tr>\n",
              "      <th>380</th>\n",
              "      <td>216</td>\n",
              "      <td>0.545455</td>\n",
              "      <td>1.0</td>\n",
              "      <td>1.000000</td>\n",
              "      <td>7.666667</td>\n",
              "      <td>5.0</td>\n",
              "      <td>3.000000</td>\n",
              "      <td>0.0</td>\n",
              "      <td>2</td>\n",
              "    </tr>\n",
              "    <tr>\n",
              "      <th>381</th>\n",
              "      <td>25</td>\n",
              "      <td>0.777778</td>\n",
              "      <td>4.0</td>\n",
              "      <td>2.250000</td>\n",
              "      <td>8.000000</td>\n",
              "      <td>1.0</td>\n",
              "      <td>2.333333</td>\n",
              "      <td>0.0</td>\n",
              "      <td>1</td>\n",
              "    </tr>\n",
              "    <tr>\n",
              "      <th>382</th>\n",
              "      <td>146</td>\n",
              "      <td>0.285714</td>\n",
              "      <td>1.0</td>\n",
              "      <td>1.000000</td>\n",
              "      <td>3.666667</td>\n",
              "      <td>3.0</td>\n",
              "      <td>3.666667</td>\n",
              "      <td>0.0</td>\n",
              "      <td>5</td>\n",
              "    </tr>\n",
              "    <tr>\n",
              "      <th>383</th>\n",
              "      <td>15400</td>\n",
              "      <td>0.000000</td>\n",
              "      <td>3.0</td>\n",
              "      <td>3.000000</td>\n",
              "      <td>22.333333</td>\n",
              "      <td>1.0</td>\n",
              "      <td>1.000000</td>\n",
              "      <td>1.0</td>\n",
              "      <td>12</td>\n",
              "    </tr>\n",
              "    <tr>\n",
              "      <th>384</th>\n",
              "      <td>615</td>\n",
              "      <td>0.500000</td>\n",
              "      <td>3.0</td>\n",
              "      <td>3.000000</td>\n",
              "      <td>13.666667</td>\n",
              "      <td>2.0</td>\n",
              "      <td>2.333333</td>\n",
              "      <td>1.0</td>\n",
              "      <td>16</td>\n",
              "    </tr>\n",
              "    <tr>\n",
              "      <th>385</th>\n",
              "      <td>269</td>\n",
              "      <td>0.000000</td>\n",
              "      <td>3.0</td>\n",
              "      <td>3.000000</td>\n",
              "      <td>6.666667</td>\n",
              "      <td>3.0</td>\n",
              "      <td>3.000000</td>\n",
              "      <td>0.0</td>\n",
              "      <td>1</td>\n",
              "    </tr>\n",
              "    <tr>\n",
              "      <th>386</th>\n",
              "      <td>41595</td>\n",
              "      <td>0.000000</td>\n",
              "      <td>3.0</td>\n",
              "      <td>3.000000</td>\n",
              "      <td>4.666667</td>\n",
              "      <td>2.0</td>\n",
              "      <td>3.333333</td>\n",
              "      <td>1.0</td>\n",
              "      <td>19</td>\n",
              "    </tr>\n",
              "    <tr>\n",
              "      <th>387</th>\n",
              "      <td>571</td>\n",
              "      <td>0.000000</td>\n",
              "      <td>3.0</td>\n",
              "      <td>3.000000</td>\n",
              "      <td>9.666667</td>\n",
              "      <td>5.0</td>\n",
              "      <td>3.000000</td>\n",
              "      <td>1.0</td>\n",
              "      <td>11</td>\n",
              "    </tr>\n",
              "    <tr>\n",
              "      <th>388</th>\n",
              "      <td>5</td>\n",
              "      <td>0.000000</td>\n",
              "      <td>3.0</td>\n",
              "      <td>3.000000</td>\n",
              "      <td>13.000000</td>\n",
              "      <td>3.0</td>\n",
              "      <td>2.333333</td>\n",
              "      <td>1.0</td>\n",
              "      <td>7</td>\n",
              "    </tr>\n",
              "    <tr>\n",
              "      <th>389</th>\n",
              "      <td>38443</td>\n",
              "      <td>0.739130</td>\n",
              "      <td>5.0</td>\n",
              "      <td>3.181818</td>\n",
              "      <td>4.333333</td>\n",
              "      <td>3.0</td>\n",
              "      <td>3.333333</td>\n",
              "      <td>1.0</td>\n",
              "      <td>7</td>\n",
              "    </tr>\n",
              "    <tr>\n",
              "      <th>390</th>\n",
              "      <td>2</td>\n",
              "      <td>0.833333</td>\n",
              "      <td>4.0</td>\n",
              "      <td>4.666667</td>\n",
              "      <td>10.000000</td>\n",
              "      <td>2.0</td>\n",
              "      <td>2.000000</td>\n",
              "      <td>0.0</td>\n",
              "      <td>1</td>\n",
              "    </tr>\n",
              "    <tr>\n",
              "      <th>391</th>\n",
              "      <td>287</td>\n",
              "      <td>0.857143</td>\n",
              "      <td>2.0</td>\n",
              "      <td>2.500000</td>\n",
              "      <td>4.000000</td>\n",
              "      <td>3.0</td>\n",
              "      <td>3.333333</td>\n",
              "      <td>0.0</td>\n",
              "      <td>1</td>\n",
              "    </tr>\n",
              "    <tr>\n",
              "      <th>392</th>\n",
              "      <td>88726</td>\n",
              "      <td>0.000000</td>\n",
              "      <td>3.0</td>\n",
              "      <td>3.000000</td>\n",
              "      <td>8.333333</td>\n",
              "      <td>2.0</td>\n",
              "      <td>2.666667</td>\n",
              "      <td>0.0</td>\n",
              "      <td>6</td>\n",
              "    </tr>\n",
              "    <tr>\n",
              "      <th>393</th>\n",
              "      <td>88726</td>\n",
              "      <td>0.250000</td>\n",
              "      <td>3.0</td>\n",
              "      <td>3.000000</td>\n",
              "      <td>9.333333</td>\n",
              "      <td>3.0</td>\n",
              "      <td>2.333333</td>\n",
              "      <td>0.0</td>\n",
              "      <td>6</td>\n",
              "    </tr>\n",
              "    <tr>\n",
              "      <th>394</th>\n",
              "      <td>88726</td>\n",
              "      <td>0.400000</td>\n",
              "      <td>3.0</td>\n",
              "      <td>3.000000</td>\n",
              "      <td>15.000000</td>\n",
              "      <td>1.0</td>\n",
              "      <td>1.666667</td>\n",
              "      <td>0.0</td>\n",
              "      <td>6</td>\n",
              "    </tr>\n",
              "    <tr>\n",
              "      <th>395</th>\n",
              "      <td>324</td>\n",
              "      <td>0.352941</td>\n",
              "      <td>2.0</td>\n",
              "      <td>3.500000</td>\n",
              "      <td>6.666667</td>\n",
              "      <td>1.0</td>\n",
              "      <td>3.333333</td>\n",
              "      <td>0.0</td>\n",
              "      <td>5</td>\n",
              "    </tr>\n",
              "    <tr>\n",
              "      <th>396</th>\n",
              "      <td>259</td>\n",
              "      <td>0.684211</td>\n",
              "      <td>2.0</td>\n",
              "      <td>2.750000</td>\n",
              "      <td>6.000000</td>\n",
              "      <td>2.0</td>\n",
              "      <td>2.666667</td>\n",
              "      <td>0.0</td>\n",
              "      <td>4</td>\n",
              "    </tr>\n",
              "    <tr>\n",
              "      <th>397</th>\n",
              "      <td>5</td>\n",
              "      <td>0.200000</td>\n",
              "      <td>4.0</td>\n",
              "      <td>4.000000</td>\n",
              "      <td>14.000000</td>\n",
              "      <td>1.0</td>\n",
              "      <td>2.000000</td>\n",
              "      <td>1.0</td>\n",
              "      <td>8</td>\n",
              "    </tr>\n",
              "    <tr>\n",
              "      <th>398</th>\n",
              "      <td>5</td>\n",
              "      <td>0.333333</td>\n",
              "      <td>4.0</td>\n",
              "      <td>4.000000</td>\n",
              "      <td>6.333333</td>\n",
              "      <td>2.0</td>\n",
              "      <td>2.333333</td>\n",
              "      <td>1.0</td>\n",
              "      <td>7</td>\n",
              "    </tr>\n",
              "    <tr>\n",
              "      <th>399</th>\n",
              "      <td>3375</td>\n",
              "      <td>0.125000</td>\n",
              "      <td>4.0</td>\n",
              "      <td>4.000000</td>\n",
              "      <td>7.333333</td>\n",
              "      <td>5.0</td>\n",
              "      <td>3.000000</td>\n",
              "      <td>0.0</td>\n",
              "      <td>6</td>\n",
              "    </tr>\n",
              "    <tr>\n",
              "      <th>400</th>\n",
              "      <td>38443</td>\n",
              "      <td>0.750000</td>\n",
              "      <td>4.0</td>\n",
              "      <td>3.250000</td>\n",
              "      <td>15.000000</td>\n",
              "      <td>1.0</td>\n",
              "      <td>2.000000</td>\n",
              "      <td>1.0</td>\n",
              "      <td>8</td>\n",
              "    </tr>\n",
              "    <tr>\n",
              "      <th>401</th>\n",
              "      <td>216</td>\n",
              "      <td>0.615385</td>\n",
              "      <td>2.0</td>\n",
              "      <td>1.333333</td>\n",
              "      <td>-1.000000</td>\n",
              "      <td>-1.0</td>\n",
              "      <td>-1.000000</td>\n",
              "      <td>1.0</td>\n",
              "      <td>15</td>\n",
              "    </tr>\n",
              "    <tr>\n",
              "      <th>402</th>\n",
              "      <td>249</td>\n",
              "      <td>0.500000</td>\n",
              "      <td>4.0</td>\n",
              "      <td>4.500000</td>\n",
              "      <td>10.000000</td>\n",
              "      <td>2.0</td>\n",
              "      <td>2.333333</td>\n",
              "      <td>0.0</td>\n",
              "      <td>4</td>\n",
              "    </tr>\n",
              "    <tr>\n",
              "      <th>403</th>\n",
              "      <td>180</td>\n",
              "      <td>0.400000</td>\n",
              "      <td>4.0</td>\n",
              "      <td>3.250000</td>\n",
              "      <td>-1.000000</td>\n",
              "      <td>-1.0</td>\n",
              "      <td>-1.000000</td>\n",
              "      <td>0.0</td>\n",
              "      <td>3</td>\n",
              "    </tr>\n",
              "    <tr>\n",
              "      <th>404</th>\n",
              "      <td>166</td>\n",
              "      <td>0.800000</td>\n",
              "      <td>4.0</td>\n",
              "      <td>3.500000</td>\n",
              "      <td>8.333333</td>\n",
              "      <td>2.0</td>\n",
              "      <td>2.666667</td>\n",
              "      <td>0.0</td>\n",
              "      <td>4</td>\n",
              "    </tr>\n",
              "    <tr>\n",
              "      <th>405</th>\n",
              "      <td>180</td>\n",
              "      <td>0.437500</td>\n",
              "      <td>2.0</td>\n",
              "      <td>3.000000</td>\n",
              "      <td>11.666667</td>\n",
              "      <td>4.0</td>\n",
              "      <td>2.333333</td>\n",
              "      <td>1.0</td>\n",
              "      <td>13</td>\n",
              "    </tr>\n",
              "    <tr>\n",
              "      <th>406</th>\n",
              "      <td>329</td>\n",
              "      <td>0.666667</td>\n",
              "      <td>3.0</td>\n",
              "      <td>3.000000</td>\n",
              "      <td>9.000000</td>\n",
              "      <td>5.0</td>\n",
              "      <td>3.333333</td>\n",
              "      <td>1.0</td>\n",
              "      <td>21</td>\n",
              "    </tr>\n",
              "    <tr>\n",
              "      <th>407</th>\n",
              "      <td>88726</td>\n",
              "      <td>0.500000</td>\n",
              "      <td>3.0</td>\n",
              "      <td>3.000000</td>\n",
              "      <td>12.333333</td>\n",
              "      <td>3.0</td>\n",
              "      <td>2.000000</td>\n",
              "      <td>1.0</td>\n",
              "      <td>7</td>\n",
              "    </tr>\n",
              "    <tr>\n",
              "      <th>408</th>\n",
              "      <td>287</td>\n",
              "      <td>0.875000</td>\n",
              "      <td>1.0</td>\n",
              "      <td>2.200000</td>\n",
              "      <td>15.333333</td>\n",
              "      <td>1.0</td>\n",
              "      <td>1.333333</td>\n",
              "      <td>0.0</td>\n",
              "      <td>5</td>\n",
              "    </tr>\n",
              "    <tr>\n",
              "      <th>409</th>\n",
              "      <td>38918</td>\n",
              "      <td>0.375000</td>\n",
              "      <td>2.0</td>\n",
              "      <td>2.500000</td>\n",
              "      <td>13.000000</td>\n",
              "      <td>1.0</td>\n",
              "      <td>2.000000</td>\n",
              "      <td>0.0</td>\n",
              "      <td>5</td>\n",
              "    </tr>\n",
              "    <tr>\n",
              "      <th>410</th>\n",
              "      <td>88726</td>\n",
              "      <td>0.571429</td>\n",
              "      <td>4.0</td>\n",
              "      <td>3.250000</td>\n",
              "      <td>13.333333</td>\n",
              "      <td>3.0</td>\n",
              "      <td>2.000000</td>\n",
              "      <td>0.0</td>\n",
              "      <td>5</td>\n",
              "    </tr>\n",
              "    <tr>\n",
              "      <th>411</th>\n",
              "      <td>88726</td>\n",
              "      <td>0.625000</td>\n",
              "      <td>3.0</td>\n",
              "      <td>3.200000</td>\n",
              "      <td>10.333333</td>\n",
              "      <td>3.0</td>\n",
              "      <td>2.333333</td>\n",
              "      <td>0.0</td>\n",
              "      <td>5</td>\n",
              "    </tr>\n",
              "    <tr>\n",
              "      <th>412</th>\n",
              "      <td>88726</td>\n",
              "      <td>0.600000</td>\n",
              "      <td>3.0</td>\n",
              "      <td>3.166667</td>\n",
              "      <td>7.333333</td>\n",
              "      <td>3.0</td>\n",
              "      <td>2.666667</td>\n",
              "      <td>1.0</td>\n",
              "      <td>10</td>\n",
              "    </tr>\n",
              "    <tr>\n",
              "      <th>413</th>\n",
              "      <td>88726</td>\n",
              "      <td>0.636364</td>\n",
              "      <td>4.0</td>\n",
              "      <td>3.285714</td>\n",
              "      <td>10.333333</td>\n",
              "      <td>3.0</td>\n",
              "      <td>2.333333</td>\n",
              "      <td>0.0</td>\n",
              "      <td>5</td>\n",
              "    </tr>\n",
              "    <tr>\n",
              "      <th>414</th>\n",
              "      <td>88726</td>\n",
              "      <td>0.666667</td>\n",
              "      <td>3.0</td>\n",
              "      <td>3.250000</td>\n",
              "      <td>10.000000</td>\n",
              "      <td>3.0</td>\n",
              "      <td>2.333333</td>\n",
              "      <td>0.0</td>\n",
              "      <td>5</td>\n",
              "    </tr>\n",
              "    <tr>\n",
              "      <th>415</th>\n",
              "      <td>88726</td>\n",
              "      <td>0.692308</td>\n",
              "      <td>3.0</td>\n",
              "      <td>3.222222</td>\n",
              "      <td>9.666667</td>\n",
              "      <td>4.0</td>\n",
              "      <td>2.666667</td>\n",
              "      <td>0.0</td>\n",
              "      <td>5</td>\n",
              "    </tr>\n",
              "    <tr>\n",
              "      <th>416</th>\n",
              "      <td>571</td>\n",
              "      <td>0.200000</td>\n",
              "      <td>4.0</td>\n",
              "      <td>4.000000</td>\n",
              "      <td>27.000000</td>\n",
              "      <td>1.0</td>\n",
              "      <td>1.000000</td>\n",
              "      <td>1.0</td>\n",
              "      <td>13</td>\n",
              "    </tr>\n",
              "    <tr>\n",
              "      <th>417</th>\n",
              "      <td>73605</td>\n",
              "      <td>0.600000</td>\n",
              "      <td>4.0</td>\n",
              "      <td>4.000000</td>\n",
              "      <td>4.500000</td>\n",
              "      <td>3.0</td>\n",
              "      <td>3.500000</td>\n",
              "      <td>1.0</td>\n",
              "      <td>8</td>\n",
              "    </tr>\n",
              "    <tr>\n",
              "      <th>418</th>\n",
              "      <td>59731</td>\n",
              "      <td>0.000000</td>\n",
              "      <td>3.0</td>\n",
              "      <td>3.000000</td>\n",
              "      <td>17.000000</td>\n",
              "      <td>1.0</td>\n",
              "      <td>2.000000</td>\n",
              "      <td>0.0</td>\n",
              "      <td>6</td>\n",
              "    </tr>\n",
              "    <tr>\n",
              "      <th>419</th>\n",
              "      <td>38997</td>\n",
              "      <td>0.000000</td>\n",
              "      <td>3.0</td>\n",
              "      <td>3.000000</td>\n",
              "      <td>10.000000</td>\n",
              "      <td>2.0</td>\n",
              "      <td>1.666667</td>\n",
              "      <td>0.0</td>\n",
              "      <td>5</td>\n",
              "    </tr>\n",
              "    <tr>\n",
              "      <th>420</th>\n",
              "      <td>59911</td>\n",
              "      <td>0.250000</td>\n",
              "      <td>5.0</td>\n",
              "      <td>4.333333</td>\n",
              "      <td>10.333333</td>\n",
              "      <td>5.0</td>\n",
              "      <td>3.000000</td>\n",
              "      <td>0.0</td>\n",
              "      <td>5</td>\n",
              "    </tr>\n",
              "    <tr>\n",
              "      <th>421</th>\n",
              "      <td>82222</td>\n",
              "      <td>0.000000</td>\n",
              "      <td>3.0</td>\n",
              "      <td>3.000000</td>\n",
              "      <td>5.333333</td>\n",
              "      <td>2.0</td>\n",
              "      <td>3.666667</td>\n",
              "      <td>0.0</td>\n",
              "      <td>1</td>\n",
              "    </tr>\n",
              "    <tr>\n",
              "      <th>422</th>\n",
              "      <td>38918</td>\n",
              "      <td>0.444444</td>\n",
              "      <td>3.0</td>\n",
              "      <td>2.666667</td>\n",
              "      <td>12.000000</td>\n",
              "      <td>4.0</td>\n",
              "      <td>2.000000</td>\n",
              "      <td>0.0</td>\n",
              "      <td>1</td>\n",
              "    </tr>\n",
              "    <tr>\n",
              "      <th>423</th>\n",
              "      <td>70458</td>\n",
              "      <td>0.235294</td>\n",
              "      <td>3.0</td>\n",
              "      <td>3.500000</td>\n",
              "      <td>4.000000</td>\n",
              "      <td>2.0</td>\n",
              "      <td>3.333333</td>\n",
              "      <td>0.0</td>\n",
              "      <td>1</td>\n",
              "    </tr>\n",
              "    <tr>\n",
              "      <th>424</th>\n",
              "      <td>182</td>\n",
              "      <td>0.500000</td>\n",
              "      <td>1.0</td>\n",
              "      <td>2.000000</td>\n",
              "      <td>-1.000000</td>\n",
              "      <td>-1.0</td>\n",
              "      <td>-1.000000</td>\n",
              "      <td>1.0</td>\n",
              "      <td>9</td>\n",
              "    </tr>\n",
              "    <tr>\n",
              "      <th>425</th>\n",
              "      <td>258</td>\n",
              "      <td>0.444444</td>\n",
              "      <td>5.0</td>\n",
              "      <td>4.666667</td>\n",
              "      <td>10.333333</td>\n",
              "      <td>5.0</td>\n",
              "      <td>3.000000</td>\n",
              "      <td>0.0</td>\n",
              "      <td>1</td>\n",
              "    </tr>\n",
              "    <tr>\n",
              "      <th>426</th>\n",
              "      <td>88726</td>\n",
              "      <td>0.666667</td>\n",
              "      <td>3.0</td>\n",
              "      <td>3.200000</td>\n",
              "      <td>5.000000</td>\n",
              "      <td>2.0</td>\n",
              "      <td>3.000000</td>\n",
              "      <td>0.0</td>\n",
              "      <td>2</td>\n",
              "    </tr>\n",
              "    <tr>\n",
              "      <th>427</th>\n",
              "      <td>88726</td>\n",
              "      <td>0.687500</td>\n",
              "      <td>2.0</td>\n",
              "      <td>3.090909</td>\n",
              "      <td>7.000000</td>\n",
              "      <td>4.0</td>\n",
              "      <td>3.000000</td>\n",
              "      <td>0.0</td>\n",
              "      <td>4</td>\n",
              "    </tr>\n",
              "    <tr>\n",
              "      <th>428</th>\n",
              "      <td>88726</td>\n",
              "      <td>0.705882</td>\n",
              "      <td>3.0</td>\n",
              "      <td>3.083333</td>\n",
              "      <td>4.666667</td>\n",
              "      <td>4.0</td>\n",
              "      <td>3.000000</td>\n",
              "      <td>0.0</td>\n",
              "      <td>2</td>\n",
              "    </tr>\n",
              "    <tr>\n",
              "      <th>429</th>\n",
              "      <td>88726</td>\n",
              "      <td>0.684211</td>\n",
              "      <td>2.0</td>\n",
              "      <td>3.000000</td>\n",
              "      <td>7.333333</td>\n",
              "      <td>3.0</td>\n",
              "      <td>2.666667</td>\n",
              "      <td>0.0</td>\n",
              "      <td>2</td>\n",
              "    </tr>\n",
              "    <tr>\n",
              "      <th>430</th>\n",
              "      <td>88726</td>\n",
              "      <td>0.700000</td>\n",
              "      <td>2.0</td>\n",
              "      <td>2.928571</td>\n",
              "      <td>7.333333</td>\n",
              "      <td>3.0</td>\n",
              "      <td>2.666667</td>\n",
              "      <td>0.0</td>\n",
              "      <td>4</td>\n",
              "    </tr>\n",
              "    <tr>\n",
              "      <th>431</th>\n",
              "      <td>5403</td>\n",
              "      <td>0.266667</td>\n",
              "      <td>3.0</td>\n",
              "      <td>3.000000</td>\n",
              "      <td>7.333333</td>\n",
              "      <td>2.0</td>\n",
              "      <td>2.666667</td>\n",
              "      <td>0.0</td>\n",
              "      <td>3</td>\n",
              "    </tr>\n",
              "    <tr>\n",
              "      <th>432</th>\n",
              "      <td>78136</td>\n",
              "      <td>0.000000</td>\n",
              "      <td>3.0</td>\n",
              "      <td>3.000000</td>\n",
              "      <td>9.000000</td>\n",
              "      <td>3.0</td>\n",
              "      <td>2.666667</td>\n",
              "      <td>0.0</td>\n",
              "      <td>1</td>\n",
              "    </tr>\n",
              "    <tr>\n",
              "      <th>433</th>\n",
              "      <td>68857</td>\n",
              "      <td>0.192308</td>\n",
              "      <td>5.0</td>\n",
              "      <td>5.000000</td>\n",
              "      <td>2.666667</td>\n",
              "      <td>4.0</td>\n",
              "      <td>4.000000</td>\n",
              "      <td>0.0</td>\n",
              "      <td>4</td>\n",
              "    </tr>\n",
              "    <tr>\n",
              "      <th>434</th>\n",
              "      <td>88943</td>\n",
              "      <td>0.000000</td>\n",
              "      <td>3.0</td>\n",
              "      <td>3.000000</td>\n",
              "      <td>14.000000</td>\n",
              "      <td>5.0</td>\n",
              "      <td>2.333333</td>\n",
              "      <td>0.0</td>\n",
              "      <td>1</td>\n",
              "    </tr>\n",
              "    <tr>\n",
              "      <th>435</th>\n",
              "      <td>77052</td>\n",
              "      <td>0.625000</td>\n",
              "      <td>5.0</td>\n",
              "      <td>5.000000</td>\n",
              "      <td>27.666667</td>\n",
              "      <td>1.0</td>\n",
              "      <td>1.000000</td>\n",
              "      <td>0.0</td>\n",
              "      <td>6</td>\n",
              "    </tr>\n",
              "    <tr>\n",
              "      <th>436</th>\n",
              "      <td>88935</td>\n",
              "      <td>0.500000</td>\n",
              "      <td>3.0</td>\n",
              "      <td>3.000000</td>\n",
              "      <td>17.666667</td>\n",
              "      <td>2.0</td>\n",
              "      <td>1.333333</td>\n",
              "      <td>0.0</td>\n",
              "      <td>3</td>\n",
              "    </tr>\n",
              "    <tr>\n",
              "      <th>437</th>\n",
              "      <td>55753</td>\n",
              "      <td>0.571429</td>\n",
              "      <td>4.0</td>\n",
              "      <td>4.500000</td>\n",
              "      <td>1.666667</td>\n",
              "      <td>4.0</td>\n",
              "      <td>4.666667</td>\n",
              "      <td>0.0</td>\n",
              "      <td>1</td>\n",
              "    </tr>\n",
              "    <tr>\n",
              "      <th>438</th>\n",
              "      <td>38918</td>\n",
              "      <td>0.500000</td>\n",
              "      <td>1.0</td>\n",
              "      <td>2.250000</td>\n",
              "      <td>7.000000</td>\n",
              "      <td>3.0</td>\n",
              "      <td>3.000000</td>\n",
              "      <td>0.0</td>\n",
              "      <td>2</td>\n",
              "    </tr>\n",
              "    <tr>\n",
              "      <th>439</th>\n",
              "      <td>697</td>\n",
              "      <td>0.250000</td>\n",
              "      <td>1.0</td>\n",
              "      <td>1.000000</td>\n",
              "      <td>7.666667</td>\n",
              "      <td>4.0</td>\n",
              "      <td>3.333333</td>\n",
              "      <td>0.0</td>\n",
              "      <td>1</td>\n",
              "    </tr>\n",
              "    <tr>\n",
              "      <th>440</th>\n",
              "      <td>88588</td>\n",
              "      <td>0.166667</td>\n",
              "      <td>4.0</td>\n",
              "      <td>4.000000</td>\n",
              "      <td>5.000000</td>\n",
              "      <td>4.0</td>\n",
              "      <td>3.000000</td>\n",
              "      <td>0.0</td>\n",
              "      <td>1</td>\n",
              "    </tr>\n",
              "    <tr>\n",
              "      <th>441</th>\n",
              "      <td>571</td>\n",
              "      <td>0.285714</td>\n",
              "      <td>4.0</td>\n",
              "      <td>4.000000</td>\n",
              "      <td>21.000000</td>\n",
              "      <td>1.0</td>\n",
              "      <td>1.333333</td>\n",
              "      <td>1.0</td>\n",
              "      <td>13</td>\n",
              "    </tr>\n",
              "    <tr>\n",
              "      <th>442</th>\n",
              "      <td>146</td>\n",
              "      <td>0.375000</td>\n",
              "      <td>3.0</td>\n",
              "      <td>2.000000</td>\n",
              "      <td>8.666667</td>\n",
              "      <td>2.0</td>\n",
              "      <td>2.333333</td>\n",
              "      <td>0.0</td>\n",
              "      <td>3</td>\n",
              "    </tr>\n",
              "    <tr>\n",
              "      <th>443</th>\n",
              "      <td>197</td>\n",
              "      <td>0.000000</td>\n",
              "      <td>3.0</td>\n",
              "      <td>3.000000</td>\n",
              "      <td>8.000000</td>\n",
              "      <td>4.0</td>\n",
              "      <td>3.000000</td>\n",
              "      <td>0.0</td>\n",
              "      <td>2</td>\n",
              "    </tr>\n",
              "    <tr>\n",
              "      <th>444</th>\n",
              "      <td>78998</td>\n",
              "      <td>0.400000</td>\n",
              "      <td>4.0</td>\n",
              "      <td>4.000000</td>\n",
              "      <td>4.666667</td>\n",
              "      <td>4.0</td>\n",
              "      <td>3.333333</td>\n",
              "      <td>1.0</td>\n",
              "      <td>7</td>\n",
              "    </tr>\n",
              "    <tr>\n",
              "      <th>445</th>\n",
              "      <td>237</td>\n",
              "      <td>0.333333</td>\n",
              "      <td>5.0</td>\n",
              "      <td>5.000000</td>\n",
              "      <td>2.000000</td>\n",
              "      <td>3.0</td>\n",
              "      <td>4.333333</td>\n",
              "      <td>1.0</td>\n",
              "      <td>14</td>\n",
              "    </tr>\n",
              "    <tr>\n",
              "      <th>446</th>\n",
              "      <td>2</td>\n",
              "      <td>0.857143</td>\n",
              "      <td>1.0</td>\n",
              "      <td>3.750000</td>\n",
              "      <td>12.333333</td>\n",
              "      <td>2.0</td>\n",
              "      <td>1.666667</td>\n",
              "      <td>0.0</td>\n",
              "      <td>1</td>\n",
              "    </tr>\n",
              "    <tr>\n",
              "      <th>447</th>\n",
              "      <td>182</td>\n",
              "      <td>0.521739</td>\n",
              "      <td>4.0</td>\n",
              "      <td>2.666667</td>\n",
              "      <td>5.000000</td>\n",
              "      <td>5.0</td>\n",
              "      <td>4.000000</td>\n",
              "      <td>0.0</td>\n",
              "      <td>1</td>\n",
              "    </tr>\n",
              "    <tr>\n",
              "      <th>448</th>\n",
              "      <td>522</td>\n",
              "      <td>0.500000</td>\n",
              "      <td>5.0</td>\n",
              "      <td>3.750000</td>\n",
              "      <td>7.666667</td>\n",
              "      <td>4.0</td>\n",
              "      <td>3.333333</td>\n",
              "      <td>1.0</td>\n",
              "      <td>20</td>\n",
              "    </tr>\n",
              "    <tr>\n",
              "      <th>449</th>\n",
              "      <td>180</td>\n",
              "      <td>0.470588</td>\n",
              "      <td>4.0</td>\n",
              "      <td>3.166667</td>\n",
              "      <td>12.666667</td>\n",
              "      <td>1.0</td>\n",
              "      <td>1.333333</td>\n",
              "      <td>0.0</td>\n",
              "      <td>2</td>\n",
              "    </tr>\n",
              "    <tr>\n",
              "      <th>450</th>\n",
              "      <td>14</td>\n",
              "      <td>0.666667</td>\n",
              "      <td>3.0</td>\n",
              "      <td>3.000000</td>\n",
              "      <td>1.000000</td>\n",
              "      <td>5.0</td>\n",
              "      <td>5.000000</td>\n",
              "      <td>0.0</td>\n",
              "      <td>1</td>\n",
              "    </tr>\n",
              "    <tr>\n",
              "      <th>451</th>\n",
              "      <td>88726</td>\n",
              "      <td>0.727273</td>\n",
              "      <td>3.0</td>\n",
              "      <td>2.933333</td>\n",
              "      <td>14.000000</td>\n",
              "      <td>1.0</td>\n",
              "      <td>1.666667</td>\n",
              "      <td>0.0</td>\n",
              "      <td>5</td>\n",
              "    </tr>\n",
              "    <tr>\n",
              "      <th>452</th>\n",
              "      <td>88936</td>\n",
              "      <td>0.000000</td>\n",
              "      <td>3.0</td>\n",
              "      <td>3.000000</td>\n",
              "      <td>22.333333</td>\n",
              "      <td>1.0</td>\n",
              "      <td>1.333333</td>\n",
              "      <td>0.0</td>\n",
              "      <td>1</td>\n",
              "    </tr>\n",
              "    <tr>\n",
              "      <th>453</th>\n",
              "      <td>88345</td>\n",
              "      <td>0.705882</td>\n",
              "      <td>4.0</td>\n",
              "      <td>4.375000</td>\n",
              "      <td>5.333333</td>\n",
              "      <td>3.0</td>\n",
              "      <td>3.000000</td>\n",
              "      <td>0.0</td>\n",
              "      <td>2</td>\n",
              "    </tr>\n",
              "    <tr>\n",
              "      <th>454</th>\n",
              "      <td>14</td>\n",
              "      <td>0.700000</td>\n",
              "      <td>1.0</td>\n",
              "      <td>1.000000</td>\n",
              "      <td>9.333333</td>\n",
              "      <td>1.0</td>\n",
              "      <td>3.000000</td>\n",
              "      <td>0.0</td>\n",
              "      <td>2</td>\n",
              "    </tr>\n",
              "    <tr>\n",
              "      <th>455</th>\n",
              "      <td>32434</td>\n",
              "      <td>0.000000</td>\n",
              "      <td>3.0</td>\n",
              "      <td>3.000000</td>\n",
              "      <td>4.333333</td>\n",
              "      <td>5.0</td>\n",
              "      <td>3.666667</td>\n",
              "      <td>0.0</td>\n",
              "      <td>1</td>\n",
              "    </tr>\n",
              "    <tr>\n",
              "      <th>456</th>\n",
              "      <td>123</td>\n",
              "      <td>0.625000</td>\n",
              "      <td>5.0</td>\n",
              "      <td>5.000000</td>\n",
              "      <td>4.000000</td>\n",
              "      <td>4.0</td>\n",
              "      <td>3.333333</td>\n",
              "      <td>0.0</td>\n",
              "      <td>1</td>\n",
              "    </tr>\n",
              "    <tr>\n",
              "      <th>457</th>\n",
              "      <td>38</td>\n",
              "      <td>0.428571</td>\n",
              "      <td>2.0</td>\n",
              "      <td>2.000000</td>\n",
              "      <td>2.666667</td>\n",
              "      <td>4.0</td>\n",
              "      <td>3.666667</td>\n",
              "      <td>0.0</td>\n",
              "      <td>1</td>\n",
              "    </tr>\n",
              "    <tr>\n",
              "      <th>458</th>\n",
              "      <td>38</td>\n",
              "      <td>0.500000</td>\n",
              "      <td>1.0</td>\n",
              "      <td>1.500000</td>\n",
              "      <td>1.666667</td>\n",
              "      <td>4.0</td>\n",
              "      <td>4.333333</td>\n",
              "      <td>0.0</td>\n",
              "      <td>1</td>\n",
              "    </tr>\n",
              "    <tr>\n",
              "      <th>459</th>\n",
              "      <td>37586</td>\n",
              "      <td>0.000000</td>\n",
              "      <td>3.0</td>\n",
              "      <td>3.000000</td>\n",
              "      <td>-1.000000</td>\n",
              "      <td>-1.0</td>\n",
              "      <td>-1.000000</td>\n",
              "      <td>0.0</td>\n",
              "      <td>3</td>\n",
              "    </tr>\n",
              "    <tr>\n",
              "      <th>460</th>\n",
              "      <td>88986</td>\n",
              "      <td>0.000000</td>\n",
              "      <td>3.0</td>\n",
              "      <td>3.000000</td>\n",
              "      <td>2.000000</td>\n",
              "      <td>4.0</td>\n",
              "      <td>4.333333</td>\n",
              "      <td>0.0</td>\n",
              "      <td>1</td>\n",
              "    </tr>\n",
              "    <tr>\n",
              "      <th>461</th>\n",
              "      <td>41512</td>\n",
              "      <td>0.000000</td>\n",
              "      <td>3.0</td>\n",
              "      <td>3.000000</td>\n",
              "      <td>3.500000</td>\n",
              "      <td>3.0</td>\n",
              "      <td>3.500000</td>\n",
              "      <td>0.0</td>\n",
              "      <td>5</td>\n",
              "    </tr>\n",
              "    <tr>\n",
              "      <th>462</th>\n",
              "      <td>41512</td>\n",
              "      <td>0.500000</td>\n",
              "      <td>3.0</td>\n",
              "      <td>3.000000</td>\n",
              "      <td>5.000000</td>\n",
              "      <td>3.0</td>\n",
              "      <td>3.000000</td>\n",
              "      <td>0.0</td>\n",
              "      <td>5</td>\n",
              "    </tr>\n",
              "    <tr>\n",
              "      <th>463</th>\n",
              "      <td>77052</td>\n",
              "      <td>0.666667</td>\n",
              "      <td>3.0</td>\n",
              "      <td>4.666667</td>\n",
              "      <td>3.000000</td>\n",
              "      <td>4.0</td>\n",
              "      <td>4.000000</td>\n",
              "      <td>1.0</td>\n",
              "      <td>11</td>\n",
              "    </tr>\n",
              "    <tr>\n",
              "      <th>464</th>\n",
              "      <td>77052</td>\n",
              "      <td>0.700000</td>\n",
              "      <td>4.0</td>\n",
              "      <td>4.571429</td>\n",
              "      <td>-1.000000</td>\n",
              "      <td>-1.0</td>\n",
              "      <td>-1.000000</td>\n",
              "      <td>1.0</td>\n",
              "      <td>11</td>\n",
              "    </tr>\n",
              "    <tr>\n",
              "      <th>465</th>\n",
              "      <td>40458</td>\n",
              "      <td>0.500000</td>\n",
              "      <td>2.0</td>\n",
              "      <td>1.666667</td>\n",
              "      <td>4.333333</td>\n",
              "      <td>3.0</td>\n",
              "      <td>3.666667</td>\n",
              "      <td>0.0</td>\n",
              "      <td>2</td>\n",
              "    </tr>\n",
              "    <tr>\n",
              "      <th>466</th>\n",
              "      <td>258</td>\n",
              "      <td>0.500000</td>\n",
              "      <td>1.0</td>\n",
              "      <td>3.750000</td>\n",
              "      <td>5.000000</td>\n",
              "      <td>3.0</td>\n",
              "      <td>3.000000</td>\n",
              "      <td>1.0</td>\n",
              "      <td>14</td>\n",
              "    </tr>\n",
              "    <tr>\n",
              "      <th>467</th>\n",
              "      <td>166</td>\n",
              "      <td>0.833333</td>\n",
              "      <td>3.0</td>\n",
              "      <td>3.400000</td>\n",
              "      <td>13.333333</td>\n",
              "      <td>2.0</td>\n",
              "      <td>2.333333</td>\n",
              "      <td>1.0</td>\n",
              "      <td>9</td>\n",
              "    </tr>\n",
              "    <tr>\n",
              "      <th>468</th>\n",
              "      <td>81905</td>\n",
              "      <td>0.000000</td>\n",
              "      <td>3.0</td>\n",
              "      <td>3.000000</td>\n",
              "      <td>-1.000000</td>\n",
              "      <td>-1.0</td>\n",
              "      <td>-1.000000</td>\n",
              "      <td>0.0</td>\n",
              "      <td>2</td>\n",
              "    </tr>\n",
              "    <tr>\n",
              "      <th>469</th>\n",
              "      <td>581</td>\n",
              "      <td>0.733333</td>\n",
              "      <td>2.0</td>\n",
              "      <td>2.562500</td>\n",
              "      <td>-1.000000</td>\n",
              "      <td>-1.0</td>\n",
              "      <td>-1.000000</td>\n",
              "      <td>0.0</td>\n",
              "      <td>4</td>\n",
              "    </tr>\n",
              "    <tr>\n",
              "      <th>470</th>\n",
              "      <td>3</td>\n",
              "      <td>0.371429</td>\n",
              "      <td>3.0</td>\n",
              "      <td>3.333333</td>\n",
              "      <td>3.333333</td>\n",
              "      <td>5.0</td>\n",
              "      <td>3.666667</td>\n",
              "      <td>0.0</td>\n",
              "      <td>2</td>\n",
              "    </tr>\n",
              "    <tr>\n",
              "      <th>471</th>\n",
              "      <td>615</td>\n",
              "      <td>0.666667</td>\n",
              "      <td>5.0</td>\n",
              "      <td>5.000000</td>\n",
              "      <td>6.333333</td>\n",
              "      <td>1.0</td>\n",
              "      <td>3.333333</td>\n",
              "      <td>1.0</td>\n",
              "      <td>8</td>\n",
              "    </tr>\n",
              "    <tr>\n",
              "      <th>472</th>\n",
              "      <td>571</td>\n",
              "      <td>0.375000</td>\n",
              "      <td>4.0</td>\n",
              "      <td>4.000000</td>\n",
              "      <td>22.666667</td>\n",
              "      <td>2.0</td>\n",
              "      <td>1.333333</td>\n",
              "      <td>0.0</td>\n",
              "      <td>5</td>\n",
              "    </tr>\n",
              "    <tr>\n",
              "      <th>473</th>\n",
              "      <td>75563</td>\n",
              "      <td>0.000000</td>\n",
              "      <td>3.0</td>\n",
              "      <td>3.000000</td>\n",
              "      <td>5.666667</td>\n",
              "      <td>2.0</td>\n",
              "      <td>2.666667</td>\n",
              "      <td>1.0</td>\n",
              "      <td>15</td>\n",
              "    </tr>\n",
              "    <tr>\n",
              "      <th>474</th>\n",
              "      <td>88726</td>\n",
              "      <td>0.769231</td>\n",
              "      <td>3.0</td>\n",
              "      <td>2.937500</td>\n",
              "      <td>7.333333</td>\n",
              "      <td>2.0</td>\n",
              "      <td>2.666667</td>\n",
              "      <td>0.0</td>\n",
              "      <td>3</td>\n",
              "    </tr>\n",
              "    <tr>\n",
              "      <th>475</th>\n",
              "      <td>88726</td>\n",
              "      <td>0.777778</td>\n",
              "      <td>2.0</td>\n",
              "      <td>2.882353</td>\n",
              "      <td>2.000000</td>\n",
              "      <td>4.0</td>\n",
              "      <td>4.000000</td>\n",
              "      <td>0.0</td>\n",
              "      <td>3</td>\n",
              "    </tr>\n",
              "    <tr>\n",
              "      <th>476</th>\n",
              "      <td>651</td>\n",
              "      <td>0.000000</td>\n",
              "      <td>3.0</td>\n",
              "      <td>3.000000</td>\n",
              "      <td>8.000000</td>\n",
              "      <td>2.0</td>\n",
              "      <td>2.666667</td>\n",
              "      <td>1.0</td>\n",
              "      <td>12</td>\n",
              "    </tr>\n",
              "    <tr>\n",
              "      <th>477</th>\n",
              "      <td>69938</td>\n",
              "      <td>0.500000</td>\n",
              "      <td>3.0</td>\n",
              "      <td>3.000000</td>\n",
              "      <td>11.666667</td>\n",
              "      <td>1.0</td>\n",
              "      <td>2.666667</td>\n",
              "      <td>0.0</td>\n",
              "      <td>3</td>\n",
              "    </tr>\n",
              "    <tr>\n",
              "      <th>478</th>\n",
              "      <td>28307</td>\n",
              "      <td>0.153846</td>\n",
              "      <td>4.0</td>\n",
              "      <td>3.333333</td>\n",
              "      <td>11.000000</td>\n",
              "      <td>2.0</td>\n",
              "      <td>2.666667</td>\n",
              "      <td>0.0</td>\n",
              "      <td>5</td>\n",
              "    </tr>\n",
              "    <tr>\n",
              "      <th>479</th>\n",
              "      <td>38</td>\n",
              "      <td>0.555556</td>\n",
              "      <td>1.0</td>\n",
              "      <td>1.333333</td>\n",
              "      <td>13.000000</td>\n",
              "      <td>1.0</td>\n",
              "      <td>2.666667</td>\n",
              "      <td>0.0</td>\n",
              "      <td>3</td>\n",
              "    </tr>\n",
              "    <tr>\n",
              "      <th>480</th>\n",
              "      <td>24825</td>\n",
              "      <td>0.000000</td>\n",
              "      <td>3.0</td>\n",
              "      <td>3.000000</td>\n",
              "      <td>10.000000</td>\n",
              "      <td>5.0</td>\n",
              "      <td>2.666667</td>\n",
              "      <td>1.0</td>\n",
              "      <td>11</td>\n",
              "    </tr>\n",
              "    <tr>\n",
              "      <th>481</th>\n",
              "      <td>41477</td>\n",
              "      <td>0.000000</td>\n",
              "      <td>3.0</td>\n",
              "      <td>3.000000</td>\n",
              "      <td>11.666667</td>\n",
              "      <td>1.0</td>\n",
              "      <td>2.333333</td>\n",
              "      <td>0.0</td>\n",
              "      <td>4</td>\n",
              "    </tr>\n",
              "    <tr>\n",
              "      <th>482</th>\n",
              "      <td>249</td>\n",
              "      <td>0.666667</td>\n",
              "      <td>3.0</td>\n",
              "      <td>4.000000</td>\n",
              "      <td>4.666667</td>\n",
              "      <td>4.0</td>\n",
              "      <td>3.666667</td>\n",
              "      <td>1.0</td>\n",
              "      <td>11</td>\n",
              "    </tr>\n",
              "    <tr>\n",
              "      <th>483</th>\n",
              "      <td>28307</td>\n",
              "      <td>0.185185</td>\n",
              "      <td>3.0</td>\n",
              "      <td>3.250000</td>\n",
              "      <td>10.000000</td>\n",
              "      <td>3.0</td>\n",
              "      <td>3.000000</td>\n",
              "      <td>0.0</td>\n",
              "      <td>3</td>\n",
              "    </tr>\n",
              "    <tr>\n",
              "      <th>484</th>\n",
              "      <td>216</td>\n",
              "      <td>0.600000</td>\n",
              "      <td>5.0</td>\n",
              "      <td>2.250000</td>\n",
              "      <td>-1.000000</td>\n",
              "      <td>-1.0</td>\n",
              "      <td>-1.000000</td>\n",
              "      <td>0.0</td>\n",
              "      <td>1</td>\n",
              "    </tr>\n",
              "    <tr>\n",
              "      <th>485</th>\n",
              "      <td>572</td>\n",
              "      <td>0.500000</td>\n",
              "      <td>3.0</td>\n",
              "      <td>3.000000</td>\n",
              "      <td>-1.000000</td>\n",
              "      <td>-1.0</td>\n",
              "      <td>-1.000000</td>\n",
              "      <td>0.0</td>\n",
              "      <td>1</td>\n",
              "    </tr>\n",
              "    <tr>\n",
              "      <th>486</th>\n",
              "      <td>216</td>\n",
              "      <td>0.625000</td>\n",
              "      <td>1.0</td>\n",
              "      <td>2.000000</td>\n",
              "      <td>5.000000</td>\n",
              "      <td>2.0</td>\n",
              "      <td>4.000000</td>\n",
              "      <td>0.0</td>\n",
              "      <td>1</td>\n",
              "    </tr>\n",
              "    <tr>\n",
              "      <th>487</th>\n",
              "      <td>651</td>\n",
              "      <td>0.250000</td>\n",
              "      <td>4.0</td>\n",
              "      <td>4.000000</td>\n",
              "      <td>1.333333</td>\n",
              "      <td>5.0</td>\n",
              "      <td>4.666667</td>\n",
              "      <td>0.0</td>\n",
              "      <td>5</td>\n",
              "    </tr>\n",
              "    <tr>\n",
              "      <th>488</th>\n",
              "      <td>73605</td>\n",
              "      <td>0.666667</td>\n",
              "      <td>4.0</td>\n",
              "      <td>4.000000</td>\n",
              "      <td>-1.000000</td>\n",
              "      <td>-1.0</td>\n",
              "      <td>-1.000000</td>\n",
              "      <td>0.0</td>\n",
              "      <td>2</td>\n",
              "    </tr>\n",
              "    <tr>\n",
              "      <th>489</th>\n",
              "      <td>651</td>\n",
              "      <td>0.400000</td>\n",
              "      <td>3.0</td>\n",
              "      <td>3.500000</td>\n",
              "      <td>24.000000</td>\n",
              "      <td>1.0</td>\n",
              "      <td>1.000000</td>\n",
              "      <td>0.0</td>\n",
              "      <td>2</td>\n",
              "    </tr>\n",
              "    <tr>\n",
              "      <th>490</th>\n",
              "      <td>80201</td>\n",
              "      <td>0.000000</td>\n",
              "      <td>3.0</td>\n",
              "      <td>3.000000</td>\n",
              "      <td>7.333333</td>\n",
              "      <td>3.0</td>\n",
              "      <td>2.666667</td>\n",
              "      <td>0.0</td>\n",
              "      <td>4</td>\n",
              "    </tr>\n",
              "    <tr>\n",
              "      <th>491</th>\n",
              "      <td>651</td>\n",
              "      <td>0.500000</td>\n",
              "      <td>2.0</td>\n",
              "      <td>3.000000</td>\n",
              "      <td>12.000000</td>\n",
              "      <td>2.0</td>\n",
              "      <td>2.666667</td>\n",
              "      <td>0.0</td>\n",
              "      <td>2</td>\n",
              "    </tr>\n",
              "    <tr>\n",
              "      <th>492</th>\n",
              "      <td>497</td>\n",
              "      <td>0.250000</td>\n",
              "      <td>3.0</td>\n",
              "      <td>3.000000</td>\n",
              "      <td>8.666667</td>\n",
              "      <td>2.0</td>\n",
              "      <td>2.333333</td>\n",
              "      <td>1.0</td>\n",
              "      <td>9</td>\n",
              "    </tr>\n",
              "    <tr>\n",
              "      <th>493</th>\n",
              "      <td>89044</td>\n",
              "      <td>0.000000</td>\n",
              "      <td>3.0</td>\n",
              "      <td>3.000000</td>\n",
              "      <td>2.666667</td>\n",
              "      <td>4.0</td>\n",
              "      <td>4.000000</td>\n",
              "      <td>1.0</td>\n",
              "      <td>9</td>\n",
              "    </tr>\n",
              "    <tr>\n",
              "      <th>494</th>\n",
              "      <td>247</td>\n",
              "      <td>0.083333</td>\n",
              "      <td>3.0</td>\n",
              "      <td>3.000000</td>\n",
              "      <td>17.333333</td>\n",
              "      <td>5.0</td>\n",
              "      <td>2.333333</td>\n",
              "      <td>0.0</td>\n",
              "      <td>2</td>\n",
              "    </tr>\n",
              "    <tr>\n",
              "      <th>495</th>\n",
              "      <td>73605</td>\n",
              "      <td>0.714286</td>\n",
              "      <td>2.0</td>\n",
              "      <td>3.333333</td>\n",
              "      <td>4.666667</td>\n",
              "      <td>2.0</td>\n",
              "      <td>3.666667</td>\n",
              "      <td>1.0</td>\n",
              "      <td>11</td>\n",
              "    </tr>\n",
              "    <tr>\n",
              "      <th>496</th>\n",
              "      <td>162</td>\n",
              "      <td>0.142857</td>\n",
              "      <td>1.0</td>\n",
              "      <td>1.000000</td>\n",
              "      <td>19.666667</td>\n",
              "      <td>1.0</td>\n",
              "      <td>2.333333</td>\n",
              "      <td>1.0</td>\n",
              "      <td>14</td>\n",
              "    </tr>\n",
              "    <tr>\n",
              "      <th>497</th>\n",
              "      <td>41512</td>\n",
              "      <td>0.666667</td>\n",
              "      <td>3.0</td>\n",
              "      <td>3.000000</td>\n",
              "      <td>-1.000000</td>\n",
              "      <td>-1.0</td>\n",
              "      <td>-1.000000</td>\n",
              "      <td>1.0</td>\n",
              "      <td>8</td>\n",
              "    </tr>\n",
              "    <tr>\n",
              "      <th>498</th>\n",
              "      <td>651</td>\n",
              "      <td>0.500000</td>\n",
              "      <td>2.0</td>\n",
              "      <td>2.750000</td>\n",
              "      <td>2.000000</td>\n",
              "      <td>4.0</td>\n",
              "      <td>4.500000</td>\n",
              "      <td>0.0</td>\n",
              "      <td>3</td>\n",
              "    </tr>\n",
              "    <tr>\n",
              "      <th>499</th>\n",
              "      <td>60</td>\n",
              "      <td>0.500000</td>\n",
              "      <td>1.0</td>\n",
              "      <td>3.000000</td>\n",
              "      <td>6.666667</td>\n",
              "      <td>4.0</td>\n",
              "      <td>2.666667</td>\n",
              "      <td>0.0</td>\n",
              "      <td>2</td>\n",
              "    </tr>\n",
              "  </tbody>\n",
              "</table>\n",
              "</div>\n",
              "      <button class=\"colab-df-convert\" onclick=\"convertToInteractive('df-3a263fb9-8dc2-47fb-bd60-bf189d7cd769')\"\n",
              "              title=\"Convert this dataframe to an interactive table.\"\n",
              "              style=\"display:none;\">\n",
              "        \n",
              "  <svg xmlns=\"http://www.w3.org/2000/svg\" height=\"24px\"viewBox=\"0 0 24 24\"\n",
              "       width=\"24px\">\n",
              "    <path d=\"M0 0h24v24H0V0z\" fill=\"none\"/>\n",
              "    <path d=\"M18.56 5.44l.94 2.06.94-2.06 2.06-.94-2.06-.94-.94-2.06-.94 2.06-2.06.94zm-11 1L8.5 8.5l.94-2.06 2.06-.94-2.06-.94L8.5 2.5l-.94 2.06-2.06.94zm10 10l.94 2.06.94-2.06 2.06-.94-2.06-.94-.94-2.06-.94 2.06-2.06.94z\"/><path d=\"M17.41 7.96l-1.37-1.37c-.4-.4-.92-.59-1.43-.59-.52 0-1.04.2-1.43.59L10.3 9.45l-7.72 7.72c-.78.78-.78 2.05 0 2.83L4 21.41c.39.39.9.59 1.41.59.51 0 1.02-.2 1.41-.59l7.78-7.78 2.81-2.81c.8-.78.8-2.07 0-2.86zM5.41 20L4 18.59l7.72-7.72 1.47 1.35L5.41 20z\"/>\n",
              "  </svg>\n",
              "      </button>\n",
              "      \n",
              "  <style>\n",
              "    .colab-df-container {\n",
              "      display:flex;\n",
              "      flex-wrap:wrap;\n",
              "      gap: 12px;\n",
              "    }\n",
              "\n",
              "    .colab-df-convert {\n",
              "      background-color: #E8F0FE;\n",
              "      border: none;\n",
              "      border-radius: 50%;\n",
              "      cursor: pointer;\n",
              "      display: none;\n",
              "      fill: #1967D2;\n",
              "      height: 32px;\n",
              "      padding: 0 0 0 0;\n",
              "      width: 32px;\n",
              "    }\n",
              "\n",
              "    .colab-df-convert:hover {\n",
              "      background-color: #E2EBFA;\n",
              "      box-shadow: 0px 1px 2px rgba(60, 64, 67, 0.3), 0px 1px 3px 1px rgba(60, 64, 67, 0.15);\n",
              "      fill: #174EA6;\n",
              "    }\n",
              "\n",
              "    [theme=dark] .colab-df-convert {\n",
              "      background-color: #3B4455;\n",
              "      fill: #D2E3FC;\n",
              "    }\n",
              "\n",
              "    [theme=dark] .colab-df-convert:hover {\n",
              "      background-color: #434B5C;\n",
              "      box-shadow: 0px 1px 3px 1px rgba(0, 0, 0, 0.15);\n",
              "      filter: drop-shadow(0px 1px 2px rgba(0, 0, 0, 0.3));\n",
              "      fill: #FFFFFF;\n",
              "    }\n",
              "  </style>\n",
              "\n",
              "      <script>\n",
              "        const buttonEl =\n",
              "          document.querySelector('#df-3a263fb9-8dc2-47fb-bd60-bf189d7cd769 button.colab-df-convert');\n",
              "        buttonEl.style.display =\n",
              "          google.colab.kernel.accessAllowed ? 'block' : 'none';\n",
              "\n",
              "        async function convertToInteractive(key) {\n",
              "          const element = document.querySelector('#df-3a263fb9-8dc2-47fb-bd60-bf189d7cd769');\n",
              "          const dataTable =\n",
              "            await google.colab.kernel.invokeFunction('convertToInteractive',\n",
              "                                                     [key], {});\n",
              "          if (!dataTable) return;\n",
              "\n",
              "          const docLinkHtml = 'Like what you see? Visit the ' +\n",
              "            '<a target=\"_blank\" href=https://colab.research.google.com/notebooks/data_table.ipynb>data table notebook</a>'\n",
              "            + ' to learn more about interactive tables.';\n",
              "          element.innerHTML = '';\n",
              "          dataTable['output_type'] = 'display_data';\n",
              "          await google.colab.output.renderOutput(dataTable, element);\n",
              "          const docLink = document.createElement('div');\n",
              "          docLink.innerHTML = docLinkHtml;\n",
              "          element.appendChild(docLink);\n",
              "        }\n",
              "      </script>\n",
              "    </div>\n",
              "  </div>\n",
              "  "
            ],
            "text/plain": [
              "     reporter  reporter_reputation_new  ...  classification  days\n",
              "0       79117                 0.000000  ...             1.0    23\n",
              "1         186                 0.000000  ...             1.0    26\n",
              "2       79117                 0.333333  ...             1.0    19\n",
              "3       55548                 0.000000  ...             0.0     1\n",
              "4          60                 0.000000  ...             1.0    24\n",
              "5          60                 0.500000  ...             0.0     1\n",
              "6          25                 0.000000  ...             0.0     1\n",
              "7       88494                 0.000000  ...             1.0    25\n",
              "8         163                 0.000000  ...             0.0     1\n",
              "9       88501                 0.000000  ...             0.0     1\n",
              "10      61920                 0.000000  ...             1.0    15\n",
              "11        237                 0.000000  ...             1.0    15\n",
              "12      24808                 0.000000  ...             0.0     1\n",
              "13      40458                 0.000000  ...             0.0     2\n",
              "14      40458                 0.500000  ...             0.0     1\n",
              "15       2981                 0.000000  ...             0.0     2\n",
              "16        216                 0.000000  ...             0.0     1\n",
              "17      40458                 0.666667  ...             0.0     3\n",
              "18      55645                 0.000000  ...             1.0     8\n",
              "19      55645                 0.500000  ...             1.0     8\n",
              "20        581                 0.000000  ...             0.0     2\n",
              "21      78015                 0.000000  ...             0.0     3\n",
              "22      55645                 0.666667  ...             1.0     8\n",
              "23      79117                 0.285714  ...             1.0     9\n",
              "24      55645                 0.750000  ...             1.0     8\n",
              "25        338                 0.000000  ...             1.0    29\n",
              "26      55645                 0.800000  ...             1.0     8\n",
              "27         17                 0.000000  ...             0.0     3\n",
              "28      79117                 0.375000  ...             1.0    17\n",
              "29         24                 0.000000  ...             0.0     2\n",
              "30        287                 0.000000  ...             0.0     3\n",
              "31        287                 0.500000  ...             0.0     3\n",
              "32        573                 0.000000  ...             1.0    21\n",
              "33      74400                 0.000000  ...             1.0    17\n",
              "34        525                 0.000000  ...             1.0    16\n",
              "35        245                 0.000000  ...             1.0    17\n",
              "36         23                 0.000000  ...             1.0    17\n",
              "37      88547                 0.000000  ...             0.0     3\n",
              "38      88558                 0.000000  ...             0.0     3\n",
              "39        202                 0.000000  ...             1.0    10\n",
              "40         50                 0.500000  ...             0.0     2\n",
              "41        581                 0.500000  ...             0.0     3\n",
              "42         42                 0.500000  ...             0.0     2\n",
              "43         42                 0.666667  ...             1.0    15\n",
              "44       3456                 0.000000  ...             0.0     3\n",
              "45        581                 0.666667  ...             1.0    15\n",
              "46        522                 0.000000  ...             0.0     4\n",
              "47      68857                 0.000000  ...             1.0    24\n",
              "48       2785                 0.000000  ...             0.0     4\n",
              "49        310                 0.000000  ...             0.0     1\n",
              "50        310                 0.500000  ...             0.0     1\n",
              "51          3                 0.000000  ...             1.0    17\n",
              "52        523                 0.000000  ...             0.0     3\n",
              "53      83677                 0.000000  ...             0.0     1\n",
              "54        573                 0.500000  ...             1.0    31\n",
              "55          3                 0.200000  ...             1.0    14\n",
              "56        123                 0.000000  ...             1.0    17\n",
              "57        573                 0.666667  ...             1.0    29\n",
              "58      68857                 0.111111  ...             1.0    25\n",
              "59      55498                 0.500000  ...             1.0    28\n",
              "60      55498                 0.666667  ...             1.0    28\n",
              "61      68857                 0.200000  ...             1.0    25\n",
              "62      23957                 0.000000  ...             0.0     3\n",
              "63        504                 0.000000  ...             1.0    20\n",
              "64         10                 0.000000  ...             0.0     2\n",
              "65        338                 0.500000  ...             1.0    25\n",
              "66      77052                 0.000000  ...             1.0    28\n",
              "67      77052                 0.500000  ...             1.0    28\n",
              "68      72139                 0.000000  ...             1.0    16\n",
              "69      72139                 0.500000  ...             0.0     2\n",
              "70      72139                 0.666667  ...             0.0     2\n",
              "71      77052                 0.666667  ...             1.0    27\n",
              "72        100                 0.000000  ...             1.0    16\n",
              "73      83617                 0.000000  ...             0.0     1\n",
              "74        466                 0.000000  ...             0.0     3\n",
              "75      83617                 0.200000  ...             0.0     3\n",
              "76      83617                 0.285714  ...             0.0     6\n",
              "77         57                 0.000000  ...             0.0     1\n",
              "78      83617                 0.333333  ...             0.0     6\n",
              "79      83617                 0.384615  ...             0.0     2\n",
              "80      53515                 0.000000  ...             0.0     3\n",
              "81      77052                 0.750000  ...             1.0    27\n",
              "82        310                 0.666667  ...             0.0     3\n",
              "83        202                 0.333333  ...             1.0     9\n",
              "84        123                 0.333333  ...             1.0    24\n",
              "85        202                 0.400000  ...             1.0     9\n",
              "86        202                 0.500000  ...             1.0    31\n",
              "87        202                 0.571429  ...             1.0     9\n",
              "88      41343                 0.000000  ...             1.0     9\n",
              "89         35                 0.500000  ...             1.0     7\n",
              "90        186                 0.500000  ...             1.0    24\n",
              "91        253                 0.000000  ...             0.0     2\n",
              "92        581                 0.800000  ...             1.0    14\n",
              "93        186                 0.666667  ...             1.0    24\n",
              "94         25                 0.666667  ...             0.0     2\n",
              "95      38443                 0.333333  ...             0.0     1\n",
              "96        186                 0.714286  ...             1.0    24\n",
              "97        581                 0.833333  ...             0.0     1\n",
              "98        324                 0.000000  ...             1.0    10\n",
              "99      80880                 0.000000  ...             1.0     7\n",
              "100         2                 0.666667  ...             1.0    16\n",
              "101     28307                 0.000000  ...             0.0     2\n",
              "102       356                 0.333333  ...             0.0     2\n",
              "103        24                 0.800000  ...             0.0     1\n",
              "104     55548                 0.333333  ...             1.0    17\n",
              "105     72759                 0.500000  ...             0.0     1\n",
              "106       259                 0.000000  ...             0.0     6\n",
              "107     83260                 0.000000  ...             1.0    21\n",
              "108       259                 0.500000  ...             0.0     1\n",
              "109      4954                 0.000000  ...             1.0    28\n",
              "110        38                 0.500000  ...             0.0     2\n",
              "111       524                 0.333333  ...             1.0    13\n",
              "112     88350                 0.000000  ...             0.0     1\n",
              "113     82963                 0.000000  ...             0.0     2\n",
              "114     72870                 0.000000  ...             0.0     2\n",
              "115        50                 0.666667  ...             0.0     2\n",
              "116     55498                 0.750000  ...             1.0    27\n",
              "117     88622                 0.000000  ...             0.0     1\n",
              "118     88350                 0.500000  ...             0.0     6\n",
              "119     83260                 0.500000  ...             1.0    21\n",
              "120        10                 0.500000  ...             0.0     1\n",
              "121     78878                 0.000000  ...             1.0     8\n",
              "122       146                 0.000000  ...             0.0     1\n",
              "123       202                 0.625000  ...             1.0    16\n",
              "124       202                 0.666667  ...             1.0     8\n",
              "125       100                 0.500000  ...             1.0    16\n",
              "126       697                 0.000000  ...             0.0     1\n",
              "127       186                 0.666667  ...             1.0    13\n",
              "128       100                 0.666667  ...             0.0     1\n",
              "129       522                 0.333333  ...             0.0     2\n",
              "130        88                 0.000000  ...             0.0     5\n",
              "131        18                 0.000000  ...             0.0     1\n",
              "132       202                 0.636364  ...             1.0     8\n",
              "133       525                 0.333333  ...             0.0     5\n",
              "134     38443                 0.500000  ...             0.0     5\n",
              "135       324                 0.250000  ...             1.0     8\n",
              "136     70544                 0.000000  ...             0.0     1\n",
              "137       256                 0.250000  ...             0.0     5\n",
              "138     88638                 0.000000  ...             0.0     1\n",
              "139     82713                 0.000000  ...             0.0     1\n",
              "140       190                 0.000000  ...             0.0     1\n",
              "141       581                 0.750000  ...             0.0     1\n",
              "142       581                 0.777778  ...             0.0     2\n",
              "143       581                 0.800000  ...             0.0     1\n",
              "144       622                 0.000000  ...             0.0     5\n",
              "145       573                 0.750000  ...             1.0    32\n",
              "146       622                 0.333333  ...             1.0    12\n",
              "147       180                 0.500000  ...             0.0     1\n",
              "148     38443                 0.600000  ...             0.0     5\n",
              "149     76673                 0.000000  ...             0.0     5\n",
              "150     70458                 0.142857  ...             1.0    13\n",
              "151     83260                 0.500000  ...             1.0    19\n",
              "152     88345                 0.500000  ...             1.0    20\n",
              "153       182                 0.428571  ...             0.0     6\n",
              "154       279                 0.000000  ...             1.0    19\n",
              "155      5403                 0.000000  ...             0.0     4\n",
              "156     73605                 0.666667  ...             1.0     7\n",
              "157     88528                 0.000000  ...             1.0    20\n",
              "158       324                 0.333333  ...             1.0     7\n",
              "159       247                 0.000000  ...             0.0     4\n",
              "160       202                 0.615385  ...             1.0     7\n",
              "161       296                 0.000000  ...             0.0     6\n",
              "162       202                 0.642857  ...             0.0     4\n",
              "163       202                 0.666667  ...             0.0     4\n",
              "164       166                 0.000000  ...             1.0    14\n",
              "165     74383                 0.000000  ...             1.0    20\n",
              "166       524                 0.250000  ...             1.0    13\n",
              "167     27755                 0.000000  ...             0.0     1\n",
              "168       522                 0.500000  ...             0.0     4\n",
              "169        24                 0.857143  ...             0.0     5\n",
              "170       522                 0.538462  ...             1.0     8\n",
              "171       527                 0.000000  ...             0.0     4\n",
              "172     78878                 0.500000  ...             1.0    22\n",
              "173       347                 0.000000  ...             1.0    12\n",
              "174        41                 0.000000  ...             1.0    15\n",
              "175        36                 0.428571  ...             0.0     1\n",
              "176       581                 0.714286  ...             0.0     4\n",
              "177     83617                 0.315789  ...             0.0     1\n",
              "178       190                 0.500000  ...             1.0    20\n",
              "179     38918                 0.250000  ...             0.0     4\n",
              "180       307                 0.000000  ...             0.0     1\n",
              "181         3                 0.222222  ...             0.0     4\n",
              "182        10                 0.750000  ...             1.0    21\n",
              "183     88345                 0.333333  ...             1.0    19\n",
              "184     83260                 0.600000  ...             1.0    18\n",
              "185     27722                 0.000000  ...             0.0     1\n",
              "186     83260                 0.666667  ...             1.0    25\n",
              "187       504                 0.500000  ...             0.0     6\n",
              "188        10                 0.800000  ...             0.0     1\n",
              "189       163                 0.250000  ...             0.0     1\n",
              "190     77052                 0.800000  ...             1.0    25\n",
              "191       238                 0.000000  ...             1.0    26\n",
              "192       572                 0.500000  ...             0.0     5\n",
              "193     88666                 0.000000  ...             0.0     3\n",
              "194       190                 0.666667  ...             1.0     7\n",
              "195     69109                 0.000000  ...             0.0     3\n",
              "196     86189                 0.500000  ...             0.0     3\n",
              "197       310                 0.857143  ...             0.0     3\n",
              "198     38443                 0.625000  ...             1.0    20\n",
              "199       525                 0.272727  ...             0.0     3\n",
              "200     70823                 0.375000  ...             0.0     5\n",
              "201       581                 0.733333  ...             0.0     6\n",
              "202        22                 0.000000  ...             0.0     3\n",
              "203        22                 0.200000  ...             1.0    11\n",
              "204       310                 0.875000  ...             0.0     3\n",
              "205       166                 0.500000  ...             0.0     3\n",
              "206     13547                 0.000000  ...             1.0    14\n",
              "207       581                 0.750000  ...             0.0     3\n",
              "208       310                 0.888889  ...             0.0     3\n",
              "209        22                 0.285714  ...             0.0     3\n",
              "210       581                 0.764706  ...             0.0     6\n",
              "211         3                 0.272727  ...             1.0    12\n",
              "212        22                 0.375000  ...             0.0     3\n",
              "213       522                 0.500000  ...             1.0    11\n",
              "214     88625                 0.000000  ...             0.0     6\n",
              "215     38443                 0.600000  ...             0.0     5\n",
              "216     38443                 0.636364  ...             0.0     2\n",
              "217        25                 0.833333  ...             0.0     3\n",
              "218     88125                 0.000000  ...             0.0     3\n",
              "219     88693                 0.000000  ...             1.0    16\n",
              "220     31131                 0.000000  ...             0.0     5\n",
              "221      7345                 0.000000  ...             1.0    19\n",
              "222     38399                 0.000000  ...             1.0    10\n",
              "223       186                 0.666667  ...             0.0     2\n",
              "224       202                 0.611111  ...             1.0    25\n",
              "225       347                 0.500000  ...             1.0     7\n",
              "226     83617                 0.318182  ...             1.0    24\n",
              "227        36                 0.555556  ...             1.0     8\n",
              "228     21636                 0.500000  ...             1.0     9\n",
              "229     38443                 0.666667  ...             0.0     3\n",
              "230       186                 0.714286  ...             0.0     2\n",
              "231       315                 0.000000  ...             0.0     3\n",
              "232       259                 0.600000  ...             1.0    29\n",
              "233       253                 0.333333  ...             1.0     7\n",
              "234       622                 0.333333  ...             0.0     3\n",
              "235       202                 0.681818  ...             0.0     4\n",
              "236       202                 0.695652  ...             0.0     4\n",
              "237     82179                 0.666667  ...             0.0     5\n",
              "238        24                 0.777778  ...             0.0     3\n",
              "239       258                 0.000000  ...             1.0    18\n",
              "240       258                 0.333333  ...             1.0    11\n",
              "241       166                 0.666667  ...             1.0     8\n",
              "242       258                 0.600000  ...             1.0    25\n",
              "243       522                 0.480000  ...             1.0    28\n",
              "244        32                 0.000000  ...             1.0     7\n",
              "245     64429                 0.500000  ...             1.0    28\n",
              "246     88345                 0.428571  ...             1.0    10\n",
              "247     88345                 0.500000  ...             1.0    28\n",
              "248        17                 0.500000  ...             1.0    16\n",
              "249     64228                 0.000000  ...             1.0    15\n",
              "250     88725                 0.000000  ...             1.0    30\n",
              "251        22                 0.500000  ...             0.0     3\n",
              "252       202                 0.708333  ...             0.0     2\n",
              "253     38443                 0.687500  ...             1.0    16\n",
              "254       310                 0.769231  ...             1.0     7\n",
              "255       622                 0.375000  ...             0.0     3\n",
              "256     38918                 0.333333  ...             0.0     2\n",
              "257     24808                 0.250000  ...             1.0    10\n",
              "258       202                 0.720000  ...             1.0     7\n",
              "259       581                 0.777778  ...             0.0     3\n",
              "260     88729                 0.000000  ...             0.0     1\n",
              "261        17                 0.600000  ...             1.0     9\n",
              "262      2645                 0.000000  ...             1.0     8\n",
              "263     54062                 0.000000  ...             0.0     1\n",
              "264     88345                 0.555556  ...             1.0    14\n",
              "265     28307                 0.071429  ...             1.0     7\n",
              "266     28307                 0.133333  ...             1.0    10\n",
              "267     55753                 0.000000  ...             1.0    16\n",
              "268     70458                 0.214286  ...             0.0     5\n",
              "269       100                 0.500000  ...             1.0    16\n",
              "270        36                 0.545455  ...             0.0     5\n",
              "271       202                 0.714286  ...             0.0     1\n",
              "272        24                 0.785714  ...             0.0     6\n",
              "273       190                 0.750000  ...             1.0    14\n",
              "274     84414                 0.000000  ...             1.0     7\n",
              "275       186                 0.687500  ...             1.0     7\n",
              "276       202                 0.724138  ...             1.0     8\n",
              "277       324                 0.375000  ...             0.0     2\n",
              "278     78998                 0.000000  ...             1.0     7\n",
              "279     38443                 0.705882  ...             1.0     7\n",
              "280      3456                 0.250000  ...             1.0     7\n",
              "281       522                 0.518519  ...             1.0    29\n",
              "282       202                 0.771429  ...             1.0    23\n",
              "283       522                 0.517241  ...             1.0    28\n",
              "284       182                 0.500000  ...             0.0     1\n",
              "285       522                 0.533333  ...             0.0     2\n",
              "286       245                 0.416667  ...             1.0    15\n",
              "287         3                 0.307692  ...             0.0     1\n",
              "288         3                 0.400000  ...             0.0     4\n",
              "289     88748                 0.000000  ...             0.0     1\n",
              "290        17                 0.666667  ...             0.0     2\n",
              "291     21636                 0.375000  ...             1.0    22\n",
              "292         2                 0.750000  ...             1.0    16\n",
              "293        10                 0.600000  ...             0.0     1\n",
              "294      4213                 0.222222  ...             1.0    14\n",
              "295       466                 0.333333  ...             1.0    15\n",
              "296       260                 0.000000  ...             1.0    15\n",
              "297       202                 0.775000  ...             1.0    22\n",
              "298       287                 0.666667  ...             1.0    13\n",
              "299     59969                 0.000000  ...             0.0     5\n",
              "300         6                 0.000000  ...             0.0     2\n",
              "301        36                 0.500000  ...             0.0     4\n",
              "302        24                 0.800000  ...             0.0     5\n",
              "303       581                 0.789474  ...             1.0    32\n",
              "304       166                 0.750000  ...             1.0    14\n",
              "305       190                 0.800000  ...             1.0    13\n",
              "306       416                 0.000000  ...             1.0     7\n",
              "307        22                 0.500000  ...             1.0     7\n",
              "308       180                 0.500000  ...             1.0     7\n",
              "309       566                 0.000000  ...             1.0    21\n",
              "310     88345                 0.636364  ...             1.0    12\n",
              "311     88345                 0.615385  ...             1.0    12\n",
              "312     59911                 0.000000  ...             1.0    13\n",
              "313     59911                 0.142857  ...             1.0    13\n",
              "314     82713                 0.500000  ...             1.0    21\n",
              "315       504                 0.666667  ...             1.0    13\n",
              "316        24                 0.736842  ...             0.0     4\n",
              "317        24                 0.750000  ...             1.0     7\n",
              "318       522                 0.500000  ...             0.0     6\n",
              "319       581                 0.739130  ...             0.0     6\n",
              "320       522                 0.527778  ...             1.0    13\n",
              "321       522                 0.540541  ...             1.0    24\n",
              "322       202                 0.755556  ...             1.0    27\n",
              "323       251                 0.000000  ...             1.0    21\n",
              "324         2                 0.800000  ...             1.0     7\n",
              "325       202                 0.760870  ...             1.0    28\n",
              "326       202                 0.765957  ...             0.0     6\n",
              "327        50                 0.800000  ...             0.0     6\n",
              "328     72453                 0.375000  ...             1.0    13\n",
              "329     28332                 0.153846  ...             0.0     3\n",
              "330     88345                 0.666667  ...             1.0    11\n",
              "331       249                 0.000000  ...             1.0    28\n",
              "332        50                 0.714286  ...             0.0     6\n",
              "333     18531                 0.000000  ...             0.0     2\n",
              "334     59911                 0.200000  ...             1.0    27\n",
              "335       245                 0.466667  ...             0.0     4\n",
              "336       249                 0.500000  ...             1.0     9\n",
              "337        75                 0.000000  ...             0.0     3\n",
              "338        18                 0.500000  ...             0.0     1\n",
              "339     74144                 0.000000  ...             1.0     7\n",
              "340       375                 0.000000  ...             0.0     3\n",
              "341         6                 0.333333  ...             0.0     1\n",
              "342       202                 0.770833  ...             0.0     3\n",
              "343       245                 0.500000  ...             1.0     7\n",
              "344        22                 0.538462  ...             0.0     1\n",
              "345       190                 0.833333  ...             0.0     4\n",
              "346     41609                 0.000000  ...             0.0     1\n",
              "347       180                 0.400000  ...             1.0    10\n",
              "348        36                 0.529412  ...             0.0     3\n",
              "349       581                 0.750000  ...             0.0     3\n",
              "350     72199                 0.000000  ...             0.0     4\n",
              "351     38443                 0.714286  ...             0.0     2\n",
              "352       180                 0.454545  ...             1.0     9\n",
              "353       253                 0.714286  ...             1.0     9\n",
              "354       253                 0.750000  ...             1.0     9\n",
              "355     88841                 0.000000  ...             0.0     3\n",
              "356      8877                 0.000000  ...             0.0     1\n",
              "357        36                 0.526316  ...             0.0     1\n",
              "358       186                 0.650000  ...             0.0     1\n",
              "359     88588                 0.111111  ...             1.0     7\n",
              "360       259                 0.714286  ...             0.0     2\n",
              "361        40                 0.000000  ...             1.0    24\n",
              "362       162                 0.000000  ...             0.0     1\n",
              "363        78                 0.000000  ...             1.0    22\n",
              "364        78                 0.250000  ...             1.0    22\n",
              "365         6                 0.500000  ...             0.0     2\n",
              "366     38443                 0.727273  ...             1.0    28\n",
              "367     76348                 0.000000  ...             1.0    13\n",
              "368     70377                 0.000000  ...             0.0     1\n",
              "369      3375                 0.000000  ...             1.0     7\n",
              "370     55753                 0.500000  ...             1.0     8\n",
              "371         6                 0.714286  ...             0.0     1\n",
              "372       202                 0.784314  ...             0.0     1\n",
              "373        24                 0.772727  ...             1.0     7\n",
              "374       216                 0.555556  ...             0.0     1\n",
              "375       190                 0.857143  ...             0.0     2\n",
              "376     88865                 0.000000  ...             0.0     5\n",
              "377       287                 0.800000  ...             0.0     2\n",
              "378        25                 0.750000  ...             1.0     8\n",
              "379       501                 0.500000  ...             0.0     2\n",
              "380       216                 0.545455  ...             0.0     2\n",
              "381        25                 0.777778  ...             0.0     1\n",
              "382       146                 0.285714  ...             0.0     5\n",
              "383     15400                 0.000000  ...             1.0    12\n",
              "384       615                 0.500000  ...             1.0    16\n",
              "385       269                 0.000000  ...             0.0     1\n",
              "386     41595                 0.000000  ...             1.0    19\n",
              "387       571                 0.000000  ...             1.0    11\n",
              "388         5                 0.000000  ...             1.0     7\n",
              "389     38443                 0.739130  ...             1.0     7\n",
              "390         2                 0.833333  ...             0.0     1\n",
              "391       287                 0.857143  ...             0.0     1\n",
              "392     88726                 0.000000  ...             0.0     6\n",
              "393     88726                 0.250000  ...             0.0     6\n",
              "394     88726                 0.400000  ...             0.0     6\n",
              "395       324                 0.352941  ...             0.0     5\n",
              "396       259                 0.684211  ...             0.0     4\n",
              "397         5                 0.200000  ...             1.0     8\n",
              "398         5                 0.333333  ...             1.0     7\n",
              "399      3375                 0.125000  ...             0.0     6\n",
              "400     38443                 0.750000  ...             1.0     8\n",
              "401       216                 0.615385  ...             1.0    15\n",
              "402       249                 0.500000  ...             0.0     4\n",
              "403       180                 0.400000  ...             0.0     3\n",
              "404       166                 0.800000  ...             0.0     4\n",
              "405       180                 0.437500  ...             1.0    13\n",
              "406       329                 0.666667  ...             1.0    21\n",
              "407     88726                 0.500000  ...             1.0     7\n",
              "408       287                 0.875000  ...             0.0     5\n",
              "409     38918                 0.375000  ...             0.0     5\n",
              "410     88726                 0.571429  ...             0.0     5\n",
              "411     88726                 0.625000  ...             0.0     5\n",
              "412     88726                 0.600000  ...             1.0    10\n",
              "413     88726                 0.636364  ...             0.0     5\n",
              "414     88726                 0.666667  ...             0.0     5\n",
              "415     88726                 0.692308  ...             0.0     5\n",
              "416       571                 0.200000  ...             1.0    13\n",
              "417     73605                 0.600000  ...             1.0     8\n",
              "418     59731                 0.000000  ...             0.0     6\n",
              "419     38997                 0.000000  ...             0.0     5\n",
              "420     59911                 0.250000  ...             0.0     5\n",
              "421     82222                 0.000000  ...             0.0     1\n",
              "422     38918                 0.444444  ...             0.0     1\n",
              "423     70458                 0.235294  ...             0.0     1\n",
              "424       182                 0.500000  ...             1.0     9\n",
              "425       258                 0.444444  ...             0.0     1\n",
              "426     88726                 0.666667  ...             0.0     2\n",
              "427     88726                 0.687500  ...             0.0     4\n",
              "428     88726                 0.705882  ...             0.0     2\n",
              "429     88726                 0.684211  ...             0.0     2\n",
              "430     88726                 0.700000  ...             0.0     4\n",
              "431      5403                 0.266667  ...             0.0     3\n",
              "432     78136                 0.000000  ...             0.0     1\n",
              "433     68857                 0.192308  ...             0.0     4\n",
              "434     88943                 0.000000  ...             0.0     1\n",
              "435     77052                 0.625000  ...             0.0     6\n",
              "436     88935                 0.500000  ...             0.0     3\n",
              "437     55753                 0.571429  ...             0.0     1\n",
              "438     38918                 0.500000  ...             0.0     2\n",
              "439       697                 0.250000  ...             0.0     1\n",
              "440     88588                 0.166667  ...             0.0     1\n",
              "441       571                 0.285714  ...             1.0    13\n",
              "442       146                 0.375000  ...             0.0     3\n",
              "443       197                 0.000000  ...             0.0     2\n",
              "444     78998                 0.400000  ...             1.0     7\n",
              "445       237                 0.333333  ...             1.0    14\n",
              "446         2                 0.857143  ...             0.0     1\n",
              "447       182                 0.521739  ...             0.0     1\n",
              "448       522                 0.500000  ...             1.0    20\n",
              "449       180                 0.470588  ...             0.0     2\n",
              "450        14                 0.666667  ...             0.0     1\n",
              "451     88726                 0.727273  ...             0.0     5\n",
              "452     88936                 0.000000  ...             0.0     1\n",
              "453     88345                 0.705882  ...             0.0     2\n",
              "454        14                 0.700000  ...             0.0     2\n",
              "455     32434                 0.000000  ...             0.0     1\n",
              "456       123                 0.625000  ...             0.0     1\n",
              "457        38                 0.428571  ...             0.0     1\n",
              "458        38                 0.500000  ...             0.0     1\n",
              "459     37586                 0.000000  ...             0.0     3\n",
              "460     88986                 0.000000  ...             0.0     1\n",
              "461     41512                 0.000000  ...             0.0     5\n",
              "462     41512                 0.500000  ...             0.0     5\n",
              "463     77052                 0.666667  ...             1.0    11\n",
              "464     77052                 0.700000  ...             1.0    11\n",
              "465     40458                 0.500000  ...             0.0     2\n",
              "466       258                 0.500000  ...             1.0    14\n",
              "467       166                 0.833333  ...             1.0     9\n",
              "468     81905                 0.000000  ...             0.0     2\n",
              "469       581                 0.733333  ...             0.0     4\n",
              "470         3                 0.371429  ...             0.0     2\n",
              "471       615                 0.666667  ...             1.0     8\n",
              "472       571                 0.375000  ...             0.0     5\n",
              "473     75563                 0.000000  ...             1.0    15\n",
              "474     88726                 0.769231  ...             0.0     3\n",
              "475     88726                 0.777778  ...             0.0     3\n",
              "476       651                 0.000000  ...             1.0    12\n",
              "477     69938                 0.500000  ...             0.0     3\n",
              "478     28307                 0.153846  ...             0.0     5\n",
              "479        38                 0.555556  ...             0.0     3\n",
              "480     24825                 0.000000  ...             1.0    11\n",
              "481     41477                 0.000000  ...             0.0     4\n",
              "482       249                 0.666667  ...             1.0    11\n",
              "483     28307                 0.185185  ...             0.0     3\n",
              "484       216                 0.600000  ...             0.0     1\n",
              "485       572                 0.500000  ...             0.0     1\n",
              "486       216                 0.625000  ...             0.0     1\n",
              "487       651                 0.250000  ...             0.0     5\n",
              "488     73605                 0.666667  ...             0.0     2\n",
              "489       651                 0.400000  ...             0.0     2\n",
              "490     80201                 0.000000  ...             0.0     4\n",
              "491       651                 0.500000  ...             0.0     2\n",
              "492       497                 0.250000  ...             1.0     9\n",
              "493     89044                 0.000000  ...             1.0     9\n",
              "494       247                 0.083333  ...             0.0     2\n",
              "495     73605                 0.714286  ...             1.0    11\n",
              "496       162                 0.142857  ...             1.0    14\n",
              "497     41512                 0.666667  ...             1.0     8\n",
              "498       651                 0.500000  ...             0.0     3\n",
              "499        60                 0.500000  ...             0.0     2\n",
              "\n",
              "[500 rows x 9 columns]"
            ]
          },
          "metadata": {},
          "execution_count": 25
        }
      ]
    },
    {
      "cell_type": "markdown",
      "metadata": {
        "id": "Nm4Dq2LLwIj6"
      },
      "source": [
        "#Texts"
      ]
    },
    {
      "cell_type": "code",
      "metadata": {
        "colab": {
          "base_uri": "https://localhost:8080/"
        },
        "id": "xBoKRn8AyUya",
        "outputId": "e019059a-77b5-4144-fd2d-71e09bf984d4"
      },
      "source": [
        "nltk.download('punkt')\n",
        "nltk.download('averaged_perceptron_tagger')\n",
        "nltk.download('tagsets')\n",
        "nltk.download(\"stopwords\")\n",
        "nltk.download('wordnet')\n",
        "from nltk.tokenize import RegexpTokenizer\n",
        "from nltk.stem import WordNetLemmatizer,PorterStemmer\n",
        "from nltk.corpus import stopwords\n",
        "import re\n",
        "lemmatizer = WordNetLemmatizer()\n",
        "stemmer = PorterStemmer()\n"
      ],
      "execution_count": null,
      "outputs": [
        {
          "output_type": "stream",
          "name": "stdout",
          "text": [
            "[nltk_data] Downloading package punkt to /root/nltk_data...\n",
            "[nltk_data]   Unzipping tokenizers/punkt.zip.\n",
            "[nltk_data] Downloading package averaged_perceptron_tagger to\n",
            "[nltk_data]     /root/nltk_data...\n",
            "[nltk_data]   Unzipping taggers/averaged_perceptron_tagger.zip.\n",
            "[nltk_data] Downloading package tagsets to /root/nltk_data...\n",
            "[nltk_data]   Unzipping help/tagsets.zip.\n",
            "[nltk_data] Downloading package stopwords to /root/nltk_data...\n",
            "[nltk_data]   Unzipping corpora/stopwords.zip.\n",
            "[nltk_data] Downloading package wordnet to /root/nltk_data...\n",
            "[nltk_data]   Unzipping corpora/wordnet.zip.\n"
          ]
        }
      ]
    },
    {
      "cell_type": "code",
      "metadata": {
        "id": "imEKU453xoIG"
      },
      "source": [
        "def preprocess(sentence):\n",
        "    sentence=str(sentence)\n",
        "    sentence = sentence.lower()\n",
        "    sentence=sentence.replace('{html}',\"\")\n",
        "    cleanr = re.compile('<.*?>')\n",
        "    cleantext = re.sub(cleanr, '', sentence)\n",
        "    rem_url=re.sub(r'http\\S+', '',cleantext)\n",
        "    rem_num = re.sub('[0-9]+', '', rem_url)\n",
        "    tokenizer = RegexpTokenizer(r'\\w+')\n",
        "    tokens = tokenizer.tokenize(rem_num)\n",
        "    filtered_words = [w for w in tokens if len(w) > 2 if not w in stopwords.words('english')]\n",
        "    stem_words=[stemmer.stem(w) for w in filtered_words]\n",
        "    return \" \".join(stem_words)"
      ],
      "execution_count": null,
      "outputs": []
    },
    {
      "cell_type": "code",
      "metadata": {
        "id": "0UnrRluutVng"
      },
      "source": [
        "def getchunks(iterable, chunk_size):\n",
        "    size = len(iterable)\n",
        "    if size < chunk_size:\n",
        "        yield iterable\n",
        "    chunks_nb = int(size / chunk_size)\n",
        "    iter_ints = range(0, chunks_nb)\n",
        "    for i in iter_ints:\n",
        "        j = i * chunk_size\n",
        "        if i+1 < chunks_nb:\n",
        "            k = j + chunk_size\n",
        "            yield iterable[j:k]\n",
        "        else:\n",
        "            yield iterable[j:]"
      ],
      "execution_count": null,
      "outputs": []
    },
    {
      "cell_type": "code",
      "metadata": {
        "id": "0342eRFdUcFZ"
      },
      "source": [
        "bugfixclass['summary_plus_comment']= bugfixclass['short_desc']+\" \" +bugfixclass['comments']"
      ],
      "execution_count": null,
      "outputs": []
    },
    {
      "cell_type": "code",
      "metadata": {
        "id": "vU6KMOugxpyQ"
      },
      "source": [
        "bugfixclass['summary_plus_comment_tok']= np.array(bugfixclass['summary_plus_comment'].map(lambda s:preprocess(s)))"
      ],
      "execution_count": null,
      "outputs": []
    },
    {
      "cell_type": "code",
      "metadata": {
        "id": "h3oL-q0pFqHi"
      },
      "source": [],
      "execution_count": null,
      "outputs": []
    },
    {
      "cell_type": "markdown",
      "metadata": {
        "id": "aacn1eVXsdwk"
      },
      "source": [
        "#TF-IDF"
      ]
    },
    {
      "cell_type": "code",
      "metadata": {
        "id": "Qt7-EuoustAt"
      },
      "source": [
        "from sklearn.feature_extraction.text import TfidfVectorizer\n",
        "tfidf = TfidfVectorizer(max_features=1000)"
      ],
      "execution_count": null,
      "outputs": []
    },
    {
      "cell_type": "code",
      "metadata": {
        "id": "L-elK5mvs0Y3"
      },
      "source": [
        "dtm_chunked = []\n",
        "for chunk in getchunks(bugfixclass['summary_plus_comment_tok'], bugfixclass.shape[0]):\n",
        "    dtm_chunked.append(tfidf.fit_transform(chunk))"
      ],
      "execution_count": null,
      "outputs": []
    },
    {
      "cell_type": "code",
      "metadata": {
        "id": "dHwMRwPjs2dv"
      },
      "source": [
        "# matrices concates\n",
        "from scipy import sparse\n",
        "dtm = sparse.vstack(dtm_chunked)"
      ],
      "execution_count": null,
      "outputs": []
    },
    {
      "cell_type": "code",
      "metadata": {
        "colab": {
          "base_uri": "https://localhost:8080/"
        },
        "id": "CcZaTzJ9s6xr",
        "outputId": "e1d94cfc-716d-435c-e6ec-988a15e538e2"
      },
      "source": [
        "X_text = pd.DataFrame(dtm.toarray(), columns=tfidf.get_feature_names())"
      ],
      "execution_count": null,
      "outputs": [
        {
          "output_type": "stream",
          "name": "stderr",
          "text": [
            "/usr/local/lib/python3.7/dist-packages/sklearn/utils/deprecation.py:87: FutureWarning: Function get_feature_names is deprecated; get_feature_names is deprecated in 1.0 and will be removed in 1.2. Please use get_feature_names_out instead.\n",
            "  warnings.warn(msg, category=FutureWarning)\n"
          ]
        }
      ]
    },
    {
      "cell_type": "markdown",
      "metadata": {
        "id": "K2CHtLvojR7M"
      },
      "source": [
        "#Features"
      ]
    },
    {
      "cell_type": "code",
      "metadata": {
        "id": "j_9vAJEYfncj"
      },
      "source": [
        "#bugfixclass['combination_feature_weight'] = bugfixclass[bugfixclass['reporter'] *\n",
        "bugfixclass['combination_feature_weight_reporter'] = bugfixclass['reporter_reputation_new'] * bugfixclass['rating_reporter']\n",
        "bugfixclass['combination_feature_weight_developer'] = bugfixclass['developer_reputation_new'] * bugfixclass['rating_reporter']"
      ],
      "execution_count": null,
      "outputs": []
    },
    {
      "cell_type": "code",
      "metadata": {
        "id": "KEq7SEp0gn46"
      },
      "source": [],
      "execution_count": null,
      "outputs": []
    },
    {
      "cell_type": "code",
      "metadata": {
        "id": "ljaqHUL4bagX"
      },
      "source": [
        "features_normal = ['reporter',  'assigned_to', 'priority_n', 'severity_n', 'product_id', 'component_id', 'op_sys_n', 'month_creation', 'year_creation']\n",
        "features_reporter_reputation = ['reporter', 'reporter_reputation_new', 'assigned_to', 'priority_n', 'severity_n', 'product_id', 'component_id', 'op_sys_n', 'month_creation', 'year_creation' ]\n",
        "features_developer_reputation = ['reporter', 'assigned_to', 'developer_reputation_new', 'priority_n', 'severity_n', 'product_id', 'component_id', 'op_sys_n', 'month_creation', 'year_creation' ]\n",
        "features_reputations = ['reporter', 'reporter_reputation_new', 'assigned_to', 'developer_reputation_new', 'priority_n', 'severity_n', 'product_id', 'component_id', 'op_sys_n', 'month_creation', 'year_creation' ]\n",
        "features_reporter_rating = ['reporter', 'rating_reporter', 'assigned_to', 'priority_n', 'severity_n', 'product_id', 'component_id', 'op_sys_n', 'month_creation', 'year_creation' ]\n",
        "features_reporter_rating_ajusted = ['reporter', 'reporter_rating_ajusted', 'assigned_to', 'priority_n', 'severity_n', 'product_id', 'component_id', 'op_sys_n', 'month_creation', 'year_creation' ]\n",
        "features_developer_rating = ['reporter', 'assigned_to', 'rating_developer', 'priority_n', 'severity_n', 'product_id', 'component_id', 'op_sys_n', 'month_creation', 'year_creation' ]\n",
        "features_ratings = ['reporter', 'rating_reporter', 'assigned_to', 'rating_developer', 'priority_n', 'severity_n', 'product_id', 'component_id', 'op_sys_n', 'month_creation', 'year_creation' ]\n",
        "features_avg_rating = ['reporter', 'rating_avg_reporter', 'assigned_to', 'rating_avg_developer', 'priority_n', 'severity_n', 'product_id', 'component_id', 'op_sys_n', 'month_creation', 'year_creation' ]\n",
        "features_weight = ['reporter',  'assigned_to', 'combination_feature_weight_reporter', 'combination_feature_weight_developer', 'priority_n', 'severity_n', 'product_id', 'component_id', 'op_sys_n', 'month_creation', 'year_creation']\n",
        "features_togethers = ['reporter',  'assigned_to', 'reporter_reputation_new', 'rating_reporter', 'developer_reputation_new', 'rating_developer',  'priority_n', 'severity_n', 'product_id', 'component_id', 'op_sys_n', 'month_creation', 'year_creation']"
      ],
      "execution_count": null,
      "outputs": []
    },
    {
      "cell_type": "code",
      "source": [
        "features_reporter_rating = ['reporter', 'rating_reporter', 'assigned_to', 'priority_n', 'severity_n', 'product_id', 'component_id', 'op_sys_n', 'month_creation', 'year_creation' ]"
      ],
      "metadata": {
        "id": "48V7IjL61GW7"
      },
      "execution_count": null,
      "outputs": []
    },
    {
      "cell_type": "code",
      "source": [
        "bugfixclass.columns"
      ],
      "metadata": {
        "id": "RlC1JqiJzXya",
        "colab": {
          "base_uri": "https://localhost:8080/"
        },
        "outputId": "8e2383ed-f78b-4222-bdc4-686f2884cde1"
      },
      "execution_count": null,
      "outputs": [
        {
          "output_type": "execute_result",
          "data": {
            "text/plain": [
              "Index(['Unnamed: 0', 'Unnamed: 0.1', 'bug_id', 'assigned_to', 'bug_severity',\n",
              "       'priority', 'bug_status', 'creation_ts', 'delta_ts', 'short_desc',\n",
              "       'op_sys', 'rep_platform', 'reporter', 'version', 'resolution',\n",
              "       'lastdiffed', 'estimated_time', 'product_id', 'component_id',\n",
              "       'short_desc.1', 'comments', 'days', 'year_creation', 'year_creation_n',\n",
              "       'month_creation', 'year_lastdiffed', 'month_lastdiffed', 'number_cc',\n",
              "       'number_attachment', 'creation_s', 'reporter_reputation_new',\n",
              "       'developer_reputation', 'developer_reputation_new', 'classification',\n",
              "       'ratings', 'rating_reporter', 'rating_avg_reporter',\n",
              "       'rating_avg_developer', 'rating_developer', 'summary_plus_comment',\n",
              "       'summary_plus_comment_tok', 'similar_day', 'similar_top_rating',\n",
              "       'similar_media_ratings', 'priority_n', 'op_sys_n', 'severity_n',\n",
              "       'combination_feature_weight_reporter',\n",
              "       'combination_feature_weight_developer'],\n",
              "      dtype='object')"
            ]
          },
          "metadata": {},
          "execution_count": 9
        }
      ]
    },
    {
      "cell_type": "code",
      "source": [
        "bugfixclass['days'].median()"
      ],
      "metadata": {
        "colab": {
          "base_uri": "https://localhost:8080/"
        },
        "id": "t59MNGN_aWSn",
        "outputId": "478d36c4-75f7-4ccb-a15a-0f9e900ff3fa"
      },
      "execution_count": null,
      "outputs": [
        {
          "output_type": "execute_result",
          "data": {
            "text/plain": [
              "6.5"
            ]
          },
          "metadata": {},
          "execution_count": 35
        }
      ]
    },
    {
      "cell_type": "code",
      "metadata": {
        "id": "qO3D8odpUOrd"
      },
      "source": [
        "Xnormal = bugfixclass[features_normal]\n",
        "Xreputation = bugfixclass[features_reputations]\n",
        "Xreporter_reputation = bugfixclass[features_reporter_reputation]\n",
        "Xdeveloper_reputation = bugfixclass[features_developer_reputation]\n",
        "Xrating = bugfixclass[features_ratings]\n",
        "Xreporter_rating = bugfixclass[features_reporter_rating]\n",
        "Xdeveloper_rating = bugfixclass[features_developer_rating]\n",
        "XratingAvg = bugfixclass[features_avg_rating]\n",
        "Xweight = bugfixclass[features_weight]\n",
        "Xtogether = bugfixclass[features_togethers]"
      ],
      "execution_count": null,
      "outputs": []
    },
    {
      "cell_type": "code",
      "metadata": {
        "id": "sIgwy0SGxRhZ"
      },
      "source": [
        "y = bugfixclass['classification']\n",
        "yD = bugfixclass['days']"
      ],
      "execution_count": null,
      "outputs": []
    },
    {
      "cell_type": "code",
      "metadata": {
        "id": "R1OtwgFXvcMy"
      },
      "source": [
        "from sklearn.model_selection import train_test_split, KFold, cross_val_score\n",
        "from sklearn import metrics"
      ],
      "execution_count": null,
      "outputs": []
    },
    {
      "cell_type": "code",
      "metadata": {
        "id": "GbfwNqjLe-57"
      },
      "source": [
        "X_train_reputation, X_test_reputation, y_train_reputation, y_test_reputation = train_test_split(Xreputation, y, test_size=0.2,random_state=42)\n",
        "X_train_rating, X_test_rating, y_train_rating, y_test_rating = train_test_split(Xrating, y, test_size=0.2,random_state=42)"
      ],
      "execution_count": null,
      "outputs": []
    },
    {
      "cell_type": "markdown",
      "metadata": {
        "id": "dBHFFh-PnN1J"
      },
      "source": [
        "#Chi square"
      ]
    },
    {
      "cell_type": "code",
      "metadata": {
        "id": "S7H-79mFnPGu"
      },
      "source": [
        "chi_scores = chi2(Xtogether , y)\n",
        "scores = pd.Series(chi_scores[0], index=Xtogether.columns)\n",
        "pvalues = pd.Series(chi_scores[1], index=Xtogether.columns)"
      ],
      "execution_count": null,
      "outputs": []
    },
    {
      "cell_type": "code",
      "metadata": {
        "id": "QyR8bkSxxUzS"
      },
      "source": [
        "chi_scores = chi2(Xtogether , yD)\n",
        "scores = pd.Series(chi_scores[0], index=Xtogether.columns)\n",
        "pvalues = pd.Series(chi_scores[1], index=Xtogether.columns)"
      ],
      "execution_count": null,
      "outputs": []
    },
    {
      "cell_type": "code",
      "metadata": {
        "colab": {
          "base_uri": "https://localhost:8080/",
          "height": 514
        },
        "id": "3LTFi2vdnkto",
        "outputId": "7b70ee6a-a3d7-4fa6-dbf5-7c071ebf4a78"
      },
      "source": [
        "pd.DataFrame({'Chi2':scores, 'p-Value':pvalues})"
      ],
      "execution_count": null,
      "outputs": [
        {
          "output_type": "execute_result",
          "data": {
            "text/html": [
              "<div>\n",
              "<style scoped>\n",
              "    .dataframe tbody tr th:only-of-type {\n",
              "        vertical-align: middle;\n",
              "    }\n",
              "\n",
              "    .dataframe tbody tr th {\n",
              "        vertical-align: top;\n",
              "    }\n",
              "\n",
              "    .dataframe thead th {\n",
              "        text-align: right;\n",
              "    }\n",
              "</style>\n",
              "<table border=\"1\" class=\"dataframe\">\n",
              "  <thead>\n",
              "    <tr style=\"text-align: right;\">\n",
              "      <th></th>\n",
              "      <th>Chi2</th>\n",
              "      <th>p-Value</th>\n",
              "    </tr>\n",
              "  </thead>\n",
              "  <tbody>\n",
              "    <tr>\n",
              "      <th>reporter</th>\n",
              "      <td>113062.287997</td>\n",
              "      <td>0.000000e+00</td>\n",
              "    </tr>\n",
              "    <tr>\n",
              "      <th>assigned_to</th>\n",
              "      <td>362126.425111</td>\n",
              "      <td>0.000000e+00</td>\n",
              "    </tr>\n",
              "    <tr>\n",
              "      <th>reporter_reputation_new</th>\n",
              "      <td>0.040877</td>\n",
              "      <td>8.397756e-01</td>\n",
              "    </tr>\n",
              "    <tr>\n",
              "      <th>rating_reporter</th>\n",
              "      <td>59.998878</td>\n",
              "      <td>9.491146e-15</td>\n",
              "    </tr>\n",
              "    <tr>\n",
              "      <th>developer_reputation_new</th>\n",
              "      <td>0.015753</td>\n",
              "      <td>9.001183e-01</td>\n",
              "    </tr>\n",
              "    <tr>\n",
              "      <th>rating_developer</th>\n",
              "      <td>85.804194</td>\n",
              "      <td>1.986644e-20</td>\n",
              "    </tr>\n",
              "    <tr>\n",
              "      <th>priority_n</th>\n",
              "      <td>0.550265</td>\n",
              "      <td>4.582096e-01</td>\n",
              "    </tr>\n",
              "    <tr>\n",
              "      <th>severity_n</th>\n",
              "      <td>NaN</td>\n",
              "      <td>NaN</td>\n",
              "    </tr>\n",
              "    <tr>\n",
              "      <th>number_cc</th>\n",
              "      <td>353.997257</td>\n",
              "      <td>5.710765e-79</td>\n",
              "    </tr>\n",
              "    <tr>\n",
              "      <th>number_attachment</th>\n",
              "      <td>9.516971</td>\n",
              "      <td>2.035803e-03</td>\n",
              "    </tr>\n",
              "    <tr>\n",
              "      <th>product_id</th>\n",
              "      <td>5.030010</td>\n",
              "      <td>2.491175e-02</td>\n",
              "    </tr>\n",
              "    <tr>\n",
              "      <th>component_id</th>\n",
              "      <td>9.934390</td>\n",
              "      <td>1.622192e-03</td>\n",
              "    </tr>\n",
              "    <tr>\n",
              "      <th>op_sys_n</th>\n",
              "      <td>28.706735</td>\n",
              "      <td>8.421035e-08</td>\n",
              "    </tr>\n",
              "    <tr>\n",
              "      <th>month_creation</th>\n",
              "      <td>12.802359</td>\n",
              "      <td>3.461825e-04</td>\n",
              "    </tr>\n",
              "    <tr>\n",
              "      <th>year_creation</th>\n",
              "      <td>0.000584</td>\n",
              "      <td>9.807228e-01</td>\n",
              "    </tr>\n",
              "  </tbody>\n",
              "</table>\n",
              "</div>"
            ],
            "text/plain": [
              "                                   Chi2       p-Value\n",
              "reporter                  113062.287997  0.000000e+00\n",
              "assigned_to               362126.425111  0.000000e+00\n",
              "reporter_reputation_new        0.040877  8.397756e-01\n",
              "rating_reporter               59.998878  9.491146e-15\n",
              "developer_reputation_new       0.015753  9.001183e-01\n",
              "rating_developer              85.804194  1.986644e-20\n",
              "priority_n                     0.550265  4.582096e-01\n",
              "severity_n                          NaN           NaN\n",
              "number_cc                    353.997257  5.710765e-79\n",
              "number_attachment              9.516971  2.035803e-03\n",
              "product_id                     5.030010  2.491175e-02\n",
              "component_id                   9.934390  1.622192e-03\n",
              "op_sys_n                      28.706735  8.421035e-08\n",
              "month_creation                12.802359  3.461825e-04\n",
              "year_creation                  0.000584  9.807228e-01"
            ]
          },
          "metadata": {},
          "execution_count": 33
        }
      ]
    },
    {
      "cell_type": "markdown",
      "metadata": {
        "id": "_2tYtQWTZ16n"
      },
      "source": [
        "# Training Test"
      ]
    },
    {
      "cell_type": "code",
      "metadata": {
        "id": "ke8tnOGUZ5Aq"
      },
      "source": [
        "def training_test(algo, algorithm, X_train, y_train, X_test, y_test):\n",
        "  algo.fit(X_train, y_train)\n",
        "  y_pred = algo.predict(X_test)\n",
        "  print(algorithm)\n",
        "  print( \"F-score: \",metrics.f1_score(y_test, y_pred))\n",
        "  print( \"Precision:\",metrics.precision_score(y_test, y_pred))\n",
        "  print( \"Recall:\",metrics.recall_score(y_test, y_pred))\n",
        "  print(\"RMSE: \", metrics.mean_squared_error(y_test, y_pred))\n",
        "  print(\"MAE: \", metrics.mean_absolute_error(y_test, y_pred))"
      ],
      "execution_count": null,
      "outputs": []
    },
    {
      "cell_type": "markdown",
      "metadata": {
        "id": "BPXf-KBHKY7p"
      },
      "source": [
        "#Cross validation"
      ]
    },
    {
      "cell_type": "code",
      "metadata": {
        "id": "A8Fq5Tl__32-"
      },
      "source": [
        "def cross_validation(X, y, c, model,v=0):\n",
        "  return {'precision': cross_val_score(model, X, y, scoring=\"precision\", cv=c, verbose=v), 'recall': cross_val_score(model, X, y, scoring=\"recall\", cv=c, verbose = v), 'f1_score': cross_val_score(model, X, y, scoring=\"f1\", cv=c, verbose=v)};\n"
      ],
      "execution_count": null,
      "outputs": []
    },
    {
      "cell_type": "code",
      "metadata": {
        "id": "9rEB1ROtUZor"
      },
      "source": [
        "kf = KFold(n_splits=10,shuffle=True)"
      ],
      "execution_count": null,
      "outputs": []
    },
    {
      "cell_type": "code",
      "metadata": {
        "id": "RqdfbSrDfQ9B"
      },
      "source": [
        "def execute_cross_validation(algorithm, Xx):\n",
        "  start = time.time()\n",
        "  varScore = cross_validation(Xx, y, kf, algorithm)\n",
        "  end = time.time()\n",
        "  print('elapsed time: ', timedelta(seconds= end - start))\n",
        "  print(\"Mean results\")\n",
        "  print ('Precision: ', round(varScore['precision'].mean(),2)*100, ' recall: ', round(varScore['recall'].mean(),2)*100, ' f-measure: ', round(varScore['f1_score'].mean(),2)*100)\n",
        "  print(\"Mean results\")\n",
        "  print ('Precision: ', varScore['precision'].mean(), ' recall: ', varScore['recall'].mean(), ' f-measure: ', varScore['f1_score'].mean())\n",
        "  print ('Precision max: ', max(varScore['precision']))\n",
        "  print ('Precision min: ', min(varScore['precision']))\n",
        "  print ('recall max: ', max(varScore['recall']))\n",
        "  print ('recall min: ', min(varScore['recall']))\n",
        "  print ('f-measure max: ', max(varScore['f1_score']))\n",
        "  print ('f-measure min: ', min(varScore['f1_score']))\n",
        "  print ('f-measure standard deviation: ', (varScore['f1_score'].std()))\n",
        "  print ('f-measure standard variance: ', (varScore['f1_score'].var()))\n",
        "\n"
      ],
      "execution_count": null,
      "outputs": []
    },
    {
      "cell_type": "markdown",
      "metadata": {
        "id": "Kd_kWodukquh"
      },
      "source": [
        "#Naive Bayes"
      ]
    },
    {
      "cell_type": "code",
      "metadata": {
        "id": "g-PI9aizks33"
      },
      "source": [
        "from sklearn.naive_bayes import GaussianNB\n",
        "#from sklearn.naive_bayes import MultinomialNB"
      ],
      "execution_count": null,
      "outputs": []
    },
    {
      "cell_type": "code",
      "metadata": {
        "id": "fb_n-IFylIp4"
      },
      "source": [
        "gnb = GaussianNB()\n",
        "#classifier = MultinomialNB()"
      ],
      "execution_count": null,
      "outputs": []
    },
    {
      "cell_type": "code",
      "source": [
        "list(bugfixclass)"
      ],
      "metadata": {
        "colab": {
          "base_uri": "https://localhost:8080/"
        },
        "id": "SD8K0JYAwhYh",
        "outputId": "6ef57f8a-062a-4a6e-ffd6-f7135f97bbc3"
      },
      "execution_count": null,
      "outputs": [
        {
          "output_type": "execute_result",
          "data": {
            "text/plain": [
              "['Unnamed: 0',\n",
              " 'Unnamed: 0.1',\n",
              " 'bug_id',\n",
              " 'assigned_to',\n",
              " 'bug_severity',\n",
              " 'priority',\n",
              " 'bug_status',\n",
              " 'creation_ts',\n",
              " 'delta_ts',\n",
              " 'short_desc',\n",
              " 'op_sys',\n",
              " 'rep_platform',\n",
              " 'reporter',\n",
              " 'version',\n",
              " 'resolution',\n",
              " 'lastdiffed',\n",
              " 'estimated_time',\n",
              " 'product_id',\n",
              " 'component_id',\n",
              " 'short_desc.1',\n",
              " 'comments',\n",
              " 'days',\n",
              " 'year_creation',\n",
              " 'year_creation_n',\n",
              " 'month_creation',\n",
              " 'year_lastdiffed',\n",
              " 'month_lastdiffed',\n",
              " 'number_cc',\n",
              " 'number_attachment',\n",
              " 'creation_s',\n",
              " 'reporter_reputation_new',\n",
              " 'developer_reputation',\n",
              " 'developer_reputation_new',\n",
              " 'classification',\n",
              " 'ratings',\n",
              " 'rating_reporter',\n",
              " 'rating_avg_reporter',\n",
              " 'rating_avg_developer',\n",
              " 'rating_developer',\n",
              " 'summary_plus_comment',\n",
              " 'summary_plus_comment_tok',\n",
              " 'similar_day',\n",
              " 'similar_top_rating',\n",
              " 'similar_media_ratings',\n",
              " 'priority_n',\n",
              " 'op_sys_n',\n",
              " 'severity_n',\n",
              " 'reporter_rating_ajusted',\n",
              " 'combination_feature_weight_reporter',\n",
              " 'combination_feature_weight_developer',\n",
              " 'developer_rating_ajusted']"
            ]
          },
          "metadata": {},
          "execution_count": 71
        }
      ]
    },
    {
      "cell_type": "code",
      "metadata": {
        "colab": {
          "base_uri": "https://localhost:8080/"
        },
        "id": "69q1PfpYGkgh",
        "outputId": "ecdaea66-73be-404a-babf-e6184170a894"
      },
      "source": [
        "execute_cross_validation(gnb, Xnormal)"
      ],
      "execution_count": null,
      "outputs": [
        {
          "output_type": "stream",
          "name": "stdout",
          "text": [
            "elapsed time:  0:00:00.227681\n",
            "Mean results\n",
            "Precision:  52.0  recall:  73.0  f-measure:  62.0\n",
            "Mean results\n",
            "Precision:  0.5222106075873343  recall:  0.7294508531909343  f-measure:  0.6176680102264098\n",
            "Precision max:  0.5605381165919282\n",
            "Precision min:  0.45495495495495497\n",
            "recall max:  0.7880794701986755\n",
            "recall min:  0.6838709677419355\n",
            "f-measure max:  0.6506666666666666\n",
            "f-measure min:  0.5317919075144508\n",
            "f-measure standard deviation:  0.030990704001767237\n",
            "f-measure standard variance:  0.0009604237345251518\n"
          ]
        }
      ]
    },
    {
      "cell_type": "code",
      "metadata": {
        "colab": {
          "base_uri": "https://localhost:8080/"
        },
        "id": "Qti78WV2fcIJ",
        "outputId": "e07edccc-e3fc-4408-db52-f45c7bafa035"
      },
      "source": [
        "execute_cross_validation(gnb, Xreporter_reputation)"
      ],
      "execution_count": null,
      "outputs": [
        {
          "output_type": "stream",
          "name": "stdout",
          "text": [
            "elapsed time:  0:00:00.223088\n",
            "Mean results\n",
            "Precision:  52.0  recall:  75.0  f-measure:  61.0\n",
            "Mean results\n",
            "Precision:  0.5174819857710101  recall:  0.7477347327483004  f-measure:  0.6073195691983846\n",
            "Precision max:  0.6232558139534884\n",
            "Precision min:  0.47257383966244726\n",
            "recall max:  0.8\n",
            "recall min:  0.6976744186046512\n",
            "f-measure max:  0.638961038961039\n",
            "f-measure min:  0.5780346820809249\n",
            "f-measure standard deviation:  0.01814805642992909\n",
            "f-measure standard variance:  0.0003293519521838906\n"
          ]
        }
      ]
    },
    {
      "cell_type": "code",
      "metadata": {
        "colab": {
          "base_uri": "https://localhost:8080/"
        },
        "id": "WCmUSDi_0cMz",
        "outputId": "5c865dcf-3661-44ec-8825-d86b243776e4"
      },
      "source": [
        "execute_cross_validation(gnb, Xdeveloper_reputation)"
      ],
      "execution_count": null,
      "outputs": [
        {
          "output_type": "stream",
          "name": "stdout",
          "text": [
            "elapsed time:  0:00:00.214917\n",
            "Mean results\n",
            "Precision:  52.0  recall:  75.0  f-measure:  61.0\n",
            "Mean results\n",
            "Precision:  0.5211693161155184  recall:  0.7526424541434897  f-measure:  0.6117936302606585\n",
            "Precision max:  0.5787234042553191\n",
            "Precision min:  0.4541284403669725\n",
            "recall max:  0.8111888111888111\n",
            "recall min:  0.6838709677419355\n",
            "f-measure max:  0.7082294264339152\n",
            "f-measure min:  0.5524861878453038\n",
            "f-measure standard deviation:  0.03983441590517818\n",
            "f-measure standard variance:  0.0015867806905067124\n"
          ]
        }
      ]
    },
    {
      "cell_type": "code",
      "metadata": {
        "colab": {
          "base_uri": "https://localhost:8080/"
        },
        "id": "2AIQzh120jP8",
        "outputId": "537f1f98-f910-47c2-e16b-18da8a5fe1a9"
      },
      "source": [
        "execute_cross_validation(gnb, Xreputation)"
      ],
      "execution_count": null,
      "outputs": [
        {
          "output_type": "stream",
          "name": "stdout",
          "text": [
            "elapsed time:  0:00:00.240889\n",
            "Mean results\n",
            "Precision:  52.0  recall:  75.0  f-measure:  61.0\n",
            "Mean results\n",
            "Precision:  0.5224628541272629  recall:  0.7510271574972267  f-measure:  0.6125786027407438\n",
            "Precision max:  0.56\n",
            "Precision min:  0.4666666666666667\n",
            "recall max:  0.7741935483870968\n",
            "recall min:  0.6774193548387096\n",
            "f-measure max:  0.6613333333333333\n",
            "f-measure min:  0.5586592178770949\n",
            "f-measure standard deviation:  0.033714445172238296\n",
            "f-measure standard variance:  0.001136663813271862\n"
          ]
        }
      ]
    },
    {
      "cell_type": "code",
      "metadata": {
        "id": "rNHvDB6Z0oYi"
      },
      "source": [
        "execute_cross_validation(gnb, Xreporter_rating)"
      ],
      "execution_count": null,
      "outputs": []
    },
    {
      "cell_type": "code",
      "metadata": {
        "colab": {
          "base_uri": "https://localhost:8080/"
        },
        "id": "hM5G-EzK0rTv",
        "outputId": "285496c1-e06c-4407-c6f8-b989242038e1"
      },
      "source": [
        "execute_cross_validation(gnb, Xdeveloper_rating)"
      ],
      "execution_count": null,
      "outputs": [
        {
          "output_type": "stream",
          "name": "stdout",
          "text": [
            "elapsed time:  0:00:00.221652\n",
            "Mean results\n",
            "Precision:  56.99999999999999  recall:  68.0  f-measure:  62.0\n",
            "Mean results\n",
            "Precision:  0.5650760169922517  recall:  0.681115858994232  f-measure:  0.6202275961790585\n",
            "Precision max:  0.6086956521739131\n",
            "Precision min:  0.4941860465116279\n",
            "recall max:  0.7631578947368421\n",
            "recall min:  0.6170212765957447\n",
            "f-measure max:  0.6647230320699709\n",
            "f-measure min:  0.5644171779141104\n",
            "f-measure standard deviation:  0.027939956074969383\n",
            "f-measure standard variance:  0.0007806411454712186\n"
          ]
        }
      ]
    },
    {
      "cell_type": "code",
      "metadata": {
        "colab": {
          "base_uri": "https://localhost:8080/"
        },
        "id": "qO45_Kdy0ukh",
        "outputId": "9f4f5eec-1507-4755-f7cf-44e307f56dbd"
      },
      "source": [
        "execute_cross_validation(gnb, Xrating)"
      ],
      "execution_count": null,
      "outputs": [
        {
          "output_type": "stream",
          "name": "stdout",
          "text": [
            "elapsed time:  0:00:00.225362\n",
            "Mean results\n",
            "Precision:  59.0  recall:  67.0  f-measure:  63.0\n",
            "Mean results\n",
            "Precision:  0.5879648458050275  recall:  0.6659539093769328  f-measure:  0.6250935985973002\n",
            "Precision max:  0.6445783132530121\n",
            "Precision min:  0.5344827586206896\n",
            "recall max:  0.7755102040816326\n",
            "recall min:  0.62\n",
            "f-measure max:  0.6666666666666667\n",
            "f-measure min:  0.5508196721311475\n",
            "f-measure standard deviation:  0.031222731571606308\n",
            "f-measure standard variance:  0.0009748589667925812\n"
          ]
        }
      ]
    },
    {
      "cell_type": "code",
      "metadata": {
        "colab": {
          "base_uri": "https://localhost:8080/"
        },
        "id": "uoAzB-GJ8eUJ",
        "outputId": "2b9b55eb-718d-4a11-92cc-cfd89848188b"
      },
      "source": [
        "execute_cross_validation(gnb, XratingAvg)"
      ],
      "execution_count": null,
      "outputs": [
        {
          "output_type": "stream",
          "name": "stdout",
          "text": [
            "elapsed time:  0:00:00.226018\n",
            "Mean results\n",
            "Precision:  53.0  recall:  71.0  f-measure:  61.0\n",
            "Mean results\n",
            "Precision:  0.5339147455477492  recall:  0.7123450715614613  f-measure:  0.6080193887505564\n",
            "Precision max:  0.5663265306122449\n",
            "Precision min:  0.502283105022831\n",
            "recall max:  0.7953216374269005\n",
            "recall min:  0.6459627329192547\n",
            "f-measure max:  0.627906976744186\n",
            "f-measure min:  0.574712643678161\n",
            "f-measure standard deviation:  0.017140284984083633\n",
            "f-measure standard variance:  0.0002937893693356029\n"
          ]
        }
      ]
    },
    {
      "cell_type": "code",
      "metadata": {
        "colab": {
          "base_uri": "https://localhost:8080/"
        },
        "id": "fzku7BQuwXnb",
        "outputId": "9db51169-c530-466a-b2b4-f397077956bd"
      },
      "source": [
        "execute_cross_validation(gnb, X_text)"
      ],
      "execution_count": null,
      "outputs": [
        {
          "output_type": "stream",
          "name": "stdout",
          "text": [
            "elapsed time:  0:00:01.987691\n",
            "Mean results\n",
            "Precision:  55.00000000000001  recall:  54.0  f-measure:  54.0\n",
            "Mean results\n",
            "Precision:  0.5549307292806266  recall:  0.5422358547146455  f-measure:  0.5403411181258271\n",
            "Precision max:  0.6298701298701299\n",
            "Precision min:  0.46296296296296297\n",
            "recall max:  0.6066666666666667\n",
            "recall min:  0.4941860465116279\n",
            "f-measure max:  0.5911949685534591\n",
            "f-measure min:  0.48905109489051096\n",
            "f-measure standard deviation:  0.03481959782287358\n",
            "f-measure standard variance:  0.0012124043925466625\n"
          ]
        }
      ]
    },
    {
      "cell_type": "code",
      "metadata": {
        "colab": {
          "base_uri": "https://localhost:8080/"
        },
        "id": "iixKkgvyhCPq",
        "outputId": "d9d37dbe-e98d-427e-ac9c-624e25a06284"
      },
      "source": [
        "execute_cross_validation(gnb, Xweight)"
      ],
      "execution_count": null,
      "outputs": [
        {
          "output_type": "stream",
          "name": "stdout",
          "text": [
            "elapsed time:  0:00:00.225658\n",
            "Mean results\n",
            "Precision:  57.99999999999999  recall:  57.99999999999999  f-measure:  57.99999999999999\n",
            "Mean results\n",
            "Precision:  0.5752021900056337  recall:  0.5820232042440743  f-measure:  0.5781251952694368\n",
            "Precision max:  0.6413793103448275\n",
            "Precision min:  0.5036496350364964\n",
            "recall max:  0.6387096774193548\n",
            "recall min:  0.5306122448979592\n",
            "f-measure max:  0.6114649681528662\n",
            "f-measure min:  0.5106382978723404\n",
            "f-measure standard deviation:  0.02816170549112275\n",
            "f-measure standard variance:  0.0007930816561687332\n"
          ]
        }
      ]
    },
    {
      "cell_type": "code",
      "metadata": {
        "colab": {
          "base_uri": "https://localhost:8080/"
        },
        "id": "MsxXqctCijHK",
        "outputId": "df6ad0b3-70f5-477b-da1c-453ffbab1fe3"
      },
      "source": [
        "execute_cross_validation(gnb, Xtogether)"
      ],
      "execution_count": null,
      "outputs": [
        {
          "output_type": "stream",
          "name": "stdout",
          "text": [
            "elapsed time:  0:00:00.269831\n",
            "Mean results\n",
            "Precision:  57.99999999999999  recall:  68.0  f-measure:  63.0\n",
            "Mean results\n",
            "Precision:  0.5844368326165206  recall:  0.6752396550327775  f-measure:  0.6271716126440176\n",
            "Precision max:  0.65\n",
            "Precision min:  0.5307262569832403\n",
            "recall max:  0.7430555555555556\n",
            "recall min:  0.6234567901234568\n",
            "f-measure max:  0.6666666666666665\n",
            "f-measure min:  0.5688073394495413\n",
            "f-measure standard deviation:  0.02880463449256474\n",
            "f-measure standard variance:  0.0008297069682502505\n"
          ]
        }
      ]
    },
    {
      "cell_type": "code",
      "metadata": {
        "colab": {
          "base_uri": "https://localhost:8080/"
        },
        "id": "WmKt3ExWD7-S",
        "outputId": "0057a7ef-9439-43ba-f601-de221b57247f"
      },
      "source": [
        "execute_cross_validation(gnb, X_text_reputation)"
      ],
      "execution_count": null,
      "outputs": [
        {
          "output_type": "stream",
          "name": "stdout",
          "text": [
            "elapsed time:  0:00:02.444990\n",
            "Mean results\n",
            "Precision:  52.0  recall:  74.0  f-measure:  62.0\n",
            "Mean results\n",
            "Precision:  0.5220203703625778  recall:  0.7447392456898375  f-measure:  0.6180720558234052\n",
            "Precision max:  0.5567010309278351\n",
            "Precision min:  0.4719626168224299\n",
            "recall max:  0.8\n",
            "recall min:  0.6821192052980133\n",
            "f-measure max:  0.678391959798995\n",
            "f-measure min:  0.5892351274787535\n",
            "f-measure standard deviation:  0.026674823804537052\n",
            "f-measure standard variance:  0.0007115462250030966\n"
          ]
        }
      ]
    },
    {
      "cell_type": "code",
      "metadata": {
        "colab": {
          "base_uri": "https://localhost:8080/"
        },
        "id": "0gTlJ-1dD-Xe",
        "outputId": "17927830-288e-463b-ab92-ea728add54c8"
      },
      "source": [
        "execute_cross_validation(gnb, X_text_rating)"
      ],
      "execution_count": null,
      "outputs": [
        {
          "output_type": "stream",
          "name": "stdout",
          "text": [
            "elapsed time:  0:00:02.444378\n",
            "Mean results\n",
            "Precision:  59.0  recall:  67.0  f-measure:  62.0\n",
            "Mean results\n",
            "Precision:  0.589119864923405  recall:  0.6706788004758242  f-measure:  0.624458056505209\n",
            "Precision max:  0.631578947368421\n",
            "Precision min:  0.5460122699386503\n",
            "recall max:  0.7103448275862069\n",
            "recall min:  0.5988023952095808\n",
            "f-measure max:  0.6959064327485379\n",
            "f-measure min:  0.580441640378549\n",
            "f-measure standard deviation:  0.036894024508241946\n",
            "f-measure standard variance:  0.0013611690444147574\n"
          ]
        }
      ]
    },
    {
      "cell_type": "code",
      "metadata": {
        "id": "tZyizVUnMrcN",
        "colab": {
          "base_uri": "https://localhost:8080/"
        },
        "outputId": "c3c84acb-d98f-4086-ce6b-e49d77d6a7ea"
      },
      "source": [
        "bugfixclass.isna().sum()"
      ],
      "execution_count": null,
      "outputs": [
        {
          "output_type": "execute_result",
          "data": {
            "text/plain": [
              "Unnamed: 0                  0\n",
              "Unnamed: 0.1                0\n",
              "bug_id                      0\n",
              "assigned_to                 0\n",
              "bug_severity                0\n",
              "priority                    0\n",
              "bug_status                  0\n",
              "creation_ts                 0\n",
              "delta_ts                    0\n",
              "short_desc                  0\n",
              "op_sys                      0\n",
              "rep_platform                0\n",
              "reporter                    0\n",
              "version                     0\n",
              "resolution                  0\n",
              "lastdiffed                  0\n",
              "estimated_time              0\n",
              "product_id                  0\n",
              "component_id                0\n",
              "short_desc.1                0\n",
              "comments                    0\n",
              "days                        0\n",
              "year_creation               0\n",
              "year_creation_n             0\n",
              "month_creation              0\n",
              "year_lastdiffed             0\n",
              "month_lastdiffed            0\n",
              "number_cc                   0\n",
              "number_attachment           0\n",
              "creation_s                  0\n",
              "reporter_reputation_new     0\n",
              "developer_reputation        0\n",
              "developer_reputation_new    0\n",
              "classification              0\n",
              "ratings                     0\n",
              "rating_reporter             0\n",
              "rating_avg_reporter         0\n",
              "rating_avg_developer        0\n",
              "rating_developer            0\n",
              "summary_plus_comment        0\n",
              "summary_plus_comment_tok    0\n",
              "similar_day                 0\n",
              "similar_top_rating          0\n",
              "similar_media_ratings       0\n",
              "priority_n                  0\n",
              "op_sys_n                    0\n",
              "severity_n                  0\n",
              "dtype: int64"
            ]
          },
          "metadata": {},
          "execution_count": 35
        }
      ]
    },
    {
      "cell_type": "markdown",
      "metadata": {
        "id": "2TrZHY0IMr2t"
      },
      "source": [
        "#Naive Bayes - Multinominal"
      ]
    },
    {
      "cell_type": "code",
      "metadata": {
        "id": "yF92qleIMr2u"
      },
      "source": [
        "from sklearn.naive_bayes import MultinomialNB"
      ],
      "execution_count": null,
      "outputs": []
    },
    {
      "cell_type": "code",
      "metadata": {
        "id": "RYSuJ7WbMr2u"
      },
      "source": [
        "mnb = MultinomialNB()"
      ],
      "execution_count": null,
      "outputs": []
    },
    {
      "cell_type": "code",
      "metadata": {
        "colab": {
          "base_uri": "https://localhost:8080/"
        },
        "id": "Iaghh9zKMr2u",
        "outputId": "313159a5-e28c-434b-9863-bd1a69e10a3b"
      },
      "source": [
        "execute_cross_validation(mnb, Xnormal)"
      ],
      "execution_count": null,
      "outputs": [
        {
          "output_type": "stream",
          "name": "stdout",
          "text": [
            "elapsed time:  0:00:00.235419\n",
            "Mean results\n",
            "Precision:  51.0  recall:  92.0  f-measure:  65.0\n",
            "Mean results\n",
            "Precision:  0.507106315644968  recall:  0.9226951198003606  f-measure:  0.6532921643737307\n",
            "Precision max:  0.5451263537906137\n",
            "Precision min:  0.4601449275362319\n",
            "recall max:  0.9586206896551724\n",
            "recall min:  0.8711656441717791\n",
            "f-measure max:  0.6858407079646018\n",
            "f-measure min:  0.6183574879227053\n",
            "f-measure standard deviation:  0.021193110157003314\n",
            "f-measure standard variance:  0.00044914791812687704\n"
          ]
        }
      ]
    },
    {
      "cell_type": "code",
      "metadata": {
        "colab": {
          "base_uri": "https://localhost:8080/"
        },
        "id": "B0kpb4ccMr2u",
        "outputId": "b5b6ad25-458a-4c88-e734-c6dfb8f5d7b7"
      },
      "source": [
        "execute_cross_validation(mnb, Xreporter_reputation)"
      ],
      "execution_count": null,
      "outputs": [
        {
          "output_type": "stream",
          "name": "stdout",
          "text": [
            "elapsed time:  0:00:00.233917\n",
            "Mean results\n",
            "Precision:  51.0  recall:  92.0  f-measure:  65.0\n",
            "Mean results\n",
            "Precision:  0.5069653987139715  recall:  0.9220885016205498  f-measure:  0.653519033582713\n",
            "Precision max:  0.5611510791366906\n",
            "Precision min:  0.4471830985915493\n",
            "recall max:  0.95\n",
            "recall min:  0.8947368421052632\n",
            "f-measure max:  0.7142857142857142\n",
            "f-measure min:  0.6076555023923444\n",
            "f-measure standard deviation:  0.028872867663704605\n",
            "f-measure standard variance:  0.0008336424871257991\n"
          ]
        }
      ]
    },
    {
      "cell_type": "code",
      "metadata": {
        "colab": {
          "base_uri": "https://localhost:8080/"
        },
        "id": "QlhWsYrCMr2v",
        "outputId": "3da1484e-a042-4a9c-ee44-fda2dc5c6742"
      },
      "source": [
        "execute_cross_validation(mnb, Xdeveloper_reputation)"
      ],
      "execution_count": null,
      "outputs": [
        {
          "output_type": "stream",
          "name": "stdout",
          "text": [
            "elapsed time:  0:00:00.238659\n",
            "Mean results\n",
            "Precision:  51.0  recall:  92.0  f-measure:  65.0\n",
            "Mean results\n",
            "Precision:  0.5062964047821756  recall:  0.9205072565740899  f-measure:  0.6536241862674893\n",
            "Precision max:  0.5848375451263538\n",
            "Precision min:  0.4290909090909091\n",
            "recall max:  0.9548387096774194\n",
            "recall min:  0.8905109489051095\n",
            "f-measure max:  0.7095343680709536\n",
            "f-measure min:  0.6168674698795181\n",
            "f-measure standard deviation:  0.03082614817367029\n",
            "f-measure standard variance:  0.0009502514112250763\n"
          ]
        }
      ]
    },
    {
      "cell_type": "code",
      "metadata": {
        "colab": {
          "base_uri": "https://localhost:8080/"
        },
        "id": "h-WvYmyhMr2v",
        "outputId": "5245beb0-500a-4290-b68a-bb52713663ad"
      },
      "source": [
        "execute_cross_validation(mnb, Xreputation)"
      ],
      "execution_count": null,
      "outputs": [
        {
          "output_type": "stream",
          "name": "stdout",
          "text": [
            "elapsed time:  0:00:00.226145\n",
            "Mean results\n",
            "Precision:  51.0  recall:  92.0  f-measure:  65.0\n",
            "Mean results\n",
            "Precision:  0.5067562064687371  recall:  0.924488600640576  f-measure:  0.6542315595830368\n",
            "Precision max:  0.545774647887324\n",
            "Precision min:  0.45652173913043476\n",
            "recall max:  0.974025974025974\n",
            "recall min:  0.9024390243902439\n",
            "f-measure max:  0.6995515695067265\n",
            "f-measure min:  0.6244131455399061\n",
            "f-measure standard deviation:  0.022506518669507713\n",
            "f-measure standard variance:  0.0005065433826208992\n"
          ]
        }
      ]
    },
    {
      "cell_type": "code",
      "metadata": {
        "colab": {
          "base_uri": "https://localhost:8080/"
        },
        "id": "BrSKdLacMr2v",
        "outputId": "623e194c-186f-45ed-8761-4f769497e0b9"
      },
      "source": [
        "execute_cross_validation(mnb, Xreporter_rating)"
      ],
      "execution_count": null,
      "outputs": [
        {
          "output_type": "stream",
          "name": "stdout",
          "text": [
            "elapsed time:  0:00:00.220632\n",
            "Mean results\n",
            "Precision:  51.0  recall:  92.0  f-measure:  65.0\n",
            "Mean results\n",
            "Precision:  0.5078029069025906  recall:  0.9226421778561503  f-measure:  0.6533817425850857\n",
            "Precision max:  0.5467625899280576\n",
            "Precision min:  0.4659498207885305\n",
            "recall max:  0.9503105590062112\n",
            "recall min:  0.8311688311688312\n",
            "f-measure max:  0.7022222222222222\n",
            "f-measure min:  0.6019417475728156\n",
            "f-measure standard deviation:  0.02984987388672195\n",
            "f-measure standard variance:  0.0008910149710532049\n"
          ]
        }
      ]
    },
    {
      "cell_type": "code",
      "metadata": {
        "colab": {
          "base_uri": "https://localhost:8080/"
        },
        "id": "hOdkUB0lMr2v",
        "outputId": "fe26f85b-c22f-418e-d056-2006d6a65ffb"
      },
      "source": [
        "execute_cross_validation(mnb, Xdeveloper_rating)"
      ],
      "execution_count": null,
      "outputs": [
        {
          "output_type": "stream",
          "name": "stdout",
          "text": [
            "elapsed time:  0:00:00.220549\n",
            "Mean results\n",
            "Precision:  51.0  recall:  92.0  f-measure:  65.0\n",
            "Mean results\n",
            "Precision:  0.5069093475813282  recall:  0.9213378683462542  f-measure:  0.6540645278037374\n",
            "Precision max:  0.5724381625441696\n",
            "Precision min:  0.4528301886792453\n",
            "recall max:  0.9539473684210527\n",
            "recall min:  0.8859060402684564\n",
            "f-measure max:  0.7024608501118569\n",
            "f-measure min:  0.6\n",
            "f-measure standard deviation:  0.026684472396395473\n",
            "f-measure standard variance:  0.0007120610670739919\n"
          ]
        }
      ]
    },
    {
      "cell_type": "code",
      "metadata": {
        "colab": {
          "base_uri": "https://localhost:8080/"
        },
        "id": "hSe488FuMr2v",
        "outputId": "40515137-9e5c-42e2-9184-805006398c61"
      },
      "source": [
        "execute_cross_validation(mnb, Xrating)"
      ],
      "execution_count": null,
      "outputs": [
        {
          "output_type": "stream",
          "name": "stdout",
          "text": [
            "elapsed time:  0:00:00.226944\n",
            "Mean results\n",
            "Precision:  51.0  recall:  92.0  f-measure:  65.0\n",
            "Mean results\n",
            "Precision:  0.5071008485573674  recall:  0.9230980508870223  f-measure:  0.6530332202036173\n",
            "Precision max:  0.5631768953068592\n",
            "Precision min:  0.46619217081850534\n",
            "recall max:  0.968944099378882\n",
            "recall min:  0.8980891719745223\n",
            "f-measure max:  0.6788154897494305\n",
            "f-measure min:  0.6350710900473934\n",
            "f-measure standard deviation:  0.01672250227220494\n",
            "f-measure standard variance:  0.0002796420822438994\n"
          ]
        }
      ]
    },
    {
      "cell_type": "code",
      "metadata": {
        "colab": {
          "base_uri": "https://localhost:8080/"
        },
        "id": "RfLyLgIAMr2w",
        "outputId": "dc9e4b0d-3ad3-4d3f-adb8-b48af041668c"
      },
      "source": [
        "execute_cross_validation(mnb, XratingAvg)"
      ],
      "execution_count": null,
      "outputs": [
        {
          "output_type": "stream",
          "name": "stdout",
          "text": [
            "elapsed time:  0:00:00.225511\n",
            "Mean results\n",
            "Precision:  51.0  recall:  92.0  f-measure:  65.0\n",
            "Mean results\n",
            "Precision:  0.5071523424681176  recall:  0.9230801791632851  f-measure:  0.6528216197354239\n",
            "Precision max:  0.5345454545454545\n",
            "Precision min:  0.46619217081850534\n",
            "recall max:  0.967948717948718\n",
            "recall min:  0.8805031446540881\n",
            "f-measure max:  0.7233115468409586\n",
            "f-measure min:  0.6038647342995169\n",
            "f-measure standard deviation:  0.03347203220750232\n",
            "f-measure standard variance:  0.0011203769401000726\n"
          ]
        }
      ]
    },
    {
      "cell_type": "code",
      "metadata": {
        "colab": {
          "base_uri": "https://localhost:8080/"
        },
        "id": "2Au6QPZUMr2w",
        "outputId": "4ee87056-a01d-4780-96ef-3d5c265bcd37"
      },
      "source": [
        "execute_cross_validation(mnb, X_text)"
      ],
      "execution_count": null,
      "outputs": [
        {
          "output_type": "stream",
          "name": "stdout",
          "text": [
            "elapsed time:  0:00:01.628420\n",
            "Mean results\n",
            "Precision:  56.99999999999999  recall:  62.0  f-measure:  60.0\n",
            "Mean results\n",
            "Precision:  0.5730094138376441  recall:  0.6223999590225858  f-measure:  0.5955831618428251\n",
            "Precision max:  0.6242424242424243\n",
            "Precision min:  0.5\n",
            "recall max:  0.6845637583892618\n",
            "recall min:  0.54421768707483\n",
            "f-measure max:  0.6392961876832844\n",
            "f-measure min:  0.524271844660194\n",
            "f-measure standard deviation:  0.03149134064314828\n",
            "f-measure standard variance:  0.0009917045355028024\n"
          ]
        }
      ]
    },
    {
      "cell_type": "code",
      "metadata": {
        "colab": {
          "base_uri": "https://localhost:8080/"
        },
        "id": "Xf65V8yvMr2z",
        "outputId": "3a075ea2-7fe8-4198-fa9e-6113ddf97a58"
      },
      "source": [
        "execute_cross_validation(mnb, Xtogether)"
      ],
      "execution_count": null,
      "outputs": [
        {
          "output_type": "stream",
          "name": "stdout",
          "text": [
            "elapsed time:  0:00:00.292686\n",
            "Mean results\n",
            "Precision:  51.0  recall:  92.0  f-measure:  65.0\n",
            "Mean results\n",
            "Precision:  0.5070898539724208  recall:  0.9234163875908958  f-measure:  0.6540671595336673\n",
            "Precision max:  0.5547445255474452\n",
            "Precision min:  0.44802867383512546\n",
            "recall max:  0.9637681159420289\n",
            "recall min:  0.8843537414965986\n",
            "f-measure max:  0.6872246696035241\n",
            "f-measure min:  0.5955334987593052\n",
            "f-measure standard deviation:  0.027521278366266985\n",
            "f-measure standard variance:  0.0007574207629135551\n"
          ]
        }
      ]
    },
    {
      "cell_type": "code",
      "metadata": {
        "colab": {
          "base_uri": "https://localhost:8080/"
        },
        "id": "Y-45foy2Mr2z",
        "outputId": "1e61b91f-2f4a-4129-9ac5-dc63f5279dd4"
      },
      "source": [
        "execute_cross_validation(mnb, X_text_reputation)"
      ],
      "execution_count": null,
      "outputs": [
        {
          "output_type": "stream",
          "name": "stdout",
          "text": [
            "elapsed time:  0:00:01.900612\n",
            "Mean results\n",
            "Precision:  51.0  recall:  92.0  f-measure:  65.0\n",
            "Mean results\n",
            "Precision:  0.5068725277375978  recall:  0.9220788054340516  f-measure:  0.6538838416569196\n",
            "Precision max:  0.5412186379928315\n",
            "Precision min:  0.47686832740213525\n",
            "recall max:  0.9685534591194969\n",
            "recall min:  0.8993288590604027\n",
            "f-measure max:  0.6890380313199105\n",
            "f-measure min:  0.6034912718204488\n",
            "f-measure standard deviation:  0.02521596129162827\n",
            "f-measure standard variance:  0.0006358447038608952\n"
          ]
        }
      ]
    },
    {
      "cell_type": "code",
      "metadata": {
        "colab": {
          "base_uri": "https://localhost:8080/"
        },
        "id": "Zvf9JEyMMr2z",
        "outputId": "23b55eb5-2393-4156-e649-7912a079713e"
      },
      "source": [
        "execute_cross_validation(mnb, X_text_rating)"
      ],
      "execution_count": null,
      "outputs": [
        {
          "output_type": "stream",
          "name": "stdout",
          "text": [
            "elapsed time:  0:00:01.931959\n",
            "Mean results\n",
            "Precision:  51.0  recall:  92.0  f-measure:  65.0\n",
            "Mean results\n",
            "Precision:  0.5073030249562136  recall:  0.9219755054964262  f-measure:  0.6539948583732793\n",
            "Precision max:  0.569811320754717\n",
            "Precision min:  0.45454545454545453\n",
            "recall max:  0.949685534591195\n",
            "recall min:  0.9006622516556292\n",
            "f-measure max:  0.6818181818181818\n",
            "f-measure min:  0.6226415094339622\n",
            "f-measure standard deviation:  0.02563239442581444\n",
            "f-measure standard variance:  0.000657019644000523\n"
          ]
        }
      ]
    },
    {
      "cell_type": "markdown",
      "metadata": {
        "id": "ImEFheNp8gDK"
      },
      "source": [
        "#Decision Tree"
      ]
    },
    {
      "cell_type": "code",
      "metadata": {
        "id": "NuXTWc808ikU"
      },
      "source": [
        "from sklearn.tree import DecisionTreeClassifier"
      ],
      "execution_count": null,
      "outputs": []
    },
    {
      "cell_type": "code",
      "metadata": {
        "id": "bnaOjL8JSXYU"
      },
      "source": [
        "cdt = DecisionTreeClassifier(criterion='gini', max_depth=None)"
      ],
      "execution_count": null,
      "outputs": []
    },
    {
      "cell_type": "code",
      "source": [
        "execute_cross_validation(cdt, XSim_Rating_avg_rating)"
      ],
      "metadata": {
        "colab": {
          "base_uri": "https://localhost:8080/"
        },
        "id": "kRbMz7UbbdYF",
        "outputId": "352f9d51-c508-423a-8c91-e2bf3fd568e5"
      },
      "execution_count": null,
      "outputs": [
        {
          "output_type": "stream",
          "name": "stdout",
          "text": [
            "elapsed time:  0:00:00.657071\n",
            "Mean results\n",
            "Precision:  55.00000000000001  recall:  56.00000000000001  f-measure:  56.99999999999999\n",
            "Mean results\n",
            "Precision:  0.5496907820049827  recall:  0.5624824036325246  f-measure:  0.5681048526700107\n",
            "Precision max:  0.610062893081761\n",
            "Precision min:  0.49645390070921985\n",
            "recall max:  0.6688311688311688\n",
            "recall min:  0.4866666666666667\n",
            "f-measure max:  0.6226415094339623\n",
            "f-measure min:  0.5306122448979592\n",
            "f-measure standard deviation:  0.03134004847024334\n",
            "f-measure standard variance:  0.0009821986381172018\n"
          ]
        }
      ]
    },
    {
      "cell_type": "code",
      "metadata": {
        "colab": {
          "base_uri": "https://localhost:8080/"
        },
        "id": "utfRSE4ORWsK",
        "outputId": "95c31c43-b2d0-4af7-fdb7-4470fb08f916"
      },
      "source": [
        "execute_cross_validation(cdt, Xnormal)"
      ],
      "execution_count": null,
      "outputs": [
        {
          "output_type": "stream",
          "name": "stdout",
          "text": [
            "elapsed time:  0:00:00.574924\n",
            "Mean results\n",
            "Precision:  60.0  recall:  56.99999999999999  f-measure:  59.0\n",
            "Mean results\n",
            "Precision:  0.5962414692407462  recall:  0.5748678582066361  f-measure:  0.5947558577781978\n",
            "Precision max:  0.6710526315789473\n",
            "Precision min:  0.5269461077844312\n",
            "recall max:  0.6358024691358025\n",
            "recall min:  0.509090909090909\n",
            "f-measure max:  0.6920821114369501\n",
            "f-measure min:  0.5578231292517007\n",
            "f-measure standard deviation:  0.042309003240772705\n",
            "f-measure standard variance:  0.0017900517552277152\n"
          ]
        }
      ]
    },
    {
      "cell_type": "code",
      "metadata": {
        "colab": {
          "base_uri": "https://localhost:8080/"
        },
        "id": "4HBwBGRoddTX",
        "outputId": "8f8ee9d8-8892-43b8-8373-1257aca5b7e4"
      },
      "source": [
        "execute_cross_validation(cdt, Xreporter_reputation)"
      ],
      "execution_count": null,
      "outputs": [
        {
          "output_type": "stream",
          "name": "stdout",
          "text": [
            "elapsed time:  0:00:00.635688\n",
            "Mean results\n",
            "Precision:  57.99999999999999  recall:  57.99999999999999  f-measure:  60.0\n",
            "Mean results\n",
            "Precision:  0.5772006199138148  recall:  0.5834029086944478  f-measure:  0.600080560908508\n",
            "Precision max:  0.66\n",
            "Precision min:  0.5070422535211268\n",
            "recall max:  0.6418918918918919\n",
            "recall min:  0.5253164556962026\n",
            "f-measure max:  0.672782874617737\n",
            "f-measure min:  0.548611111111111\n",
            "f-measure standard deviation:  0.039225411649189655\n",
            "f-measure standard variance:  0.0015386329190483835\n"
          ]
        }
      ]
    },
    {
      "cell_type": "code",
      "metadata": {
        "colab": {
          "base_uri": "https://localhost:8080/"
        },
        "id": "TlebUb5_dfYz",
        "outputId": "43248757-3e2b-45ec-c4d5-3f2c93303947"
      },
      "source": [
        "execute_cross_validation(cdt, Xdeveloper_reputation)"
      ],
      "execution_count": null,
      "outputs": [
        {
          "output_type": "stream",
          "name": "stdout",
          "text": [
            "elapsed time:  0:00:00.639594\n",
            "Mean results\n",
            "Precision:  60.0  recall:  60.0  f-measure:  60.0\n",
            "Mean results\n",
            "Precision:  0.6029992462875586  recall:  0.6016701816939116  f-measure:  0.5956483148422418\n",
            "Precision max:  0.6687898089171974\n",
            "Precision min:  0.5419354838709678\n",
            "recall max:  0.6458333333333334\n",
            "recall min:  0.559748427672956\n",
            "f-measure max:  0.6493506493506493\n",
            "f-measure min:  0.5359477124183005\n",
            "f-measure standard deviation:  0.033370044530337255\n",
            "f-measure standard variance:  0.0011135598719566914\n"
          ]
        }
      ]
    },
    {
      "cell_type": "code",
      "metadata": {
        "colab": {
          "base_uri": "https://localhost:8080/"
        },
        "id": "m_TkwB_y8n8-",
        "outputId": "867483a6-1ef3-4010-df72-b9b0afa1ec07"
      },
      "source": [
        "execute_cross_validation(cdt, Xreputation)"
      ],
      "execution_count": null,
      "outputs": [
        {
          "output_type": "stream",
          "name": "stdout",
          "text": [
            "elapsed time:  0:00:00.721691\n",
            "Mean results\n",
            "Precision:  59.0  recall:  60.0  f-measure:  61.0\n",
            "Mean results\n",
            "Precision:  0.5884607176816694  recall:  0.5954637680776913  f-measure:  0.6095297178379723\n",
            "Precision max:  0.7098765432098766\n",
            "Precision min:  0.5165562913907285\n",
            "recall max:  0.6526946107784432\n",
            "recall min:  0.543046357615894\n",
            "f-measure max:  0.6540880503144653\n",
            "f-measure min:  0.5629139072847682\n",
            "f-measure standard deviation:  0.025684333627064824\n",
            "f-measure standard variance:  0.0006596849938663729\n"
          ]
        }
      ]
    },
    {
      "cell_type": "code",
      "metadata": {
        "colab": {
          "base_uri": "https://localhost:8080/"
        },
        "id": "lqmrkkPag1mz",
        "outputId": "512d7236-517b-40a2-8748-feeff4ac8eef"
      },
      "source": [
        "execute_cross_validation(cdt, Xreporter_rating)"
      ],
      "execution_count": null,
      "outputs": [
        {
          "output_type": "stream",
          "name": "stdout",
          "text": [
            "elapsed time:  0:00:00.591581\n",
            "Mean results\n",
            "Precision:  57.99999999999999  recall:  56.99999999999999  f-measure:  56.00000000000001\n",
            "Mean results\n",
            "Precision:  0.5778538099729085  recall:  0.5749016175094087  f-measure:  0.5592823099916423\n",
            "Precision max:  0.6168831168831169\n",
            "Precision min:  0.4935897435897436\n",
            "recall max:  0.6394557823129252\n",
            "recall min:  0.4875\n",
            "f-measure max:  0.6042296072507553\n",
            "f-measure min:  0.5225806451612904\n",
            "f-measure standard deviation:  0.02363626126685747\n",
            "f-measure standard variance:  0.0005586728466751466\n"
          ]
        }
      ]
    },
    {
      "cell_type": "code",
      "metadata": {
        "colab": {
          "base_uri": "https://localhost:8080/"
        },
        "id": "6xizsUfRh8XY",
        "outputId": "ffc136cb-90bd-421e-8083-a01e198a0d5e"
      },
      "source": [
        "execute_cross_validation(cdt, Xdeveloper_rating)"
      ],
      "execution_count": null,
      "outputs": [
        {
          "output_type": "stream",
          "name": "stdout",
          "text": [
            "elapsed time:  0:00:00.582081\n",
            "Mean results\n",
            "Precision:  59.0  recall:  56.99999999999999  f-measure:  56.99999999999999\n",
            "Mean results\n",
            "Precision:  0.5906554171261899  recall:  0.5697459620696195  f-measure:  0.572922214215049\n",
            "Precision max:  0.6381578947368421\n",
            "Precision min:  0.506578947368421\n",
            "recall max:  0.6159420289855072\n",
            "recall min:  0.48427672955974843\n",
            "f-measure max:  0.6173633440514469\n",
            "f-measure min:  0.5259515570934257\n",
            "f-measure standard deviation:  0.02560031668841512\n",
            "f-measure standard variance:  0.0006553762145471457\n"
          ]
        }
      ]
    },
    {
      "cell_type": "code",
      "metadata": {
        "colab": {
          "base_uri": "https://localhost:8080/"
        },
        "id": "rV2vA0cNwxzx",
        "outputId": "e7b07876-16a3-418b-a778-925b5dbe75cb"
      },
      "source": [
        "execute_cross_validation(cdt, Xrating)"
      ],
      "execution_count": null,
      "outputs": [
        {
          "output_type": "stream",
          "name": "stdout",
          "text": [
            "elapsed time:  0:00:00.594828\n",
            "Mean results\n",
            "Precision:  56.99999999999999  recall:  56.00000000000001  f-measure:  56.99999999999999\n",
            "Mean results\n",
            "Precision:  0.574466144571337  recall:  0.562729979153459  f-measure:  0.5745052649847714\n",
            "Precision max:  0.6510067114093959\n",
            "Precision min:  0.5306122448979592\n",
            "recall max:  0.6493506493506493\n",
            "recall min:  0.5031446540880503\n",
            "f-measure max:  0.6481481481481481\n",
            "f-measure min:  0.5448717948717949\n",
            "f-measure standard deviation:  0.027177952214408944\n",
            "f-measure standard variance:  0.000738641086568696\n"
          ]
        }
      ]
    },
    {
      "cell_type": "code",
      "metadata": {
        "colab": {
          "base_uri": "https://localhost:8080/"
        },
        "id": "gdtB_YtcdvSa",
        "outputId": "e2bc6c4b-d4e9-4d67-c846-ff457be793a8"
      },
      "source": [
        "execute_cross_validation(cdt, XratingAvg)"
      ],
      "execution_count": null,
      "outputs": [
        {
          "output_type": "stream",
          "name": "stdout",
          "text": [
            "elapsed time:  0:00:00.754089\n",
            "Mean results\n",
            "Precision:  56.00000000000001  recall:  59.0  f-measure:  56.99999999999999\n",
            "Mean results\n",
            "Precision:  0.5563904827134266  recall:  0.5906325078191135  f-measure:  0.5735732692552513\n",
            "Precision max:  0.6578947368421053\n",
            "Precision min:  0.48717948717948717\n",
            "recall max:  0.6223776223776224\n",
            "recall min:  0.5408805031446541\n",
            "f-measure max:  0.6246246246246245\n",
            "f-measure min:  0.48630136986301375\n",
            "f-measure standard deviation:  0.03813084172497191\n",
            "f-measure standard variance:  0.0014539610906548585\n"
          ]
        }
      ]
    },
    {
      "cell_type": "code",
      "metadata": {
        "colab": {
          "base_uri": "https://localhost:8080/"
        },
        "id": "tI62YlpGdx3m",
        "outputId": "7c72d3c7-0731-4d4f-b8eb-3d0e6393eb79"
      },
      "source": [
        "execute_cross_validation(cdt, X_text)"
      ],
      "execution_count": null,
      "outputs": [
        {
          "output_type": "stream",
          "name": "stdout",
          "text": [
            "elapsed time:  0:00:20.711698\n",
            "Mean results\n",
            "Precision:  56.00000000000001  recall:  56.99999999999999  f-measure:  56.99999999999999\n",
            "Mean results\n",
            "Precision:  0.5582938671520921  recall:  0.5653482809408338  f-measure:  0.5704777689123942\n",
            "Precision max:  0.6097560975609756\n",
            "Precision min:  0.5067567567567568\n",
            "recall max:  0.6111111111111112\n",
            "recall min:  0.5131578947368421\n",
            "f-measure max:  0.6178343949044585\n",
            "f-measure min:  0.5062500000000001\n",
            "f-measure standard deviation:  0.031457810958354544\n",
            "f-measure standard variance:  0.0009895938702915714\n"
          ]
        }
      ]
    },
    {
      "cell_type": "code",
      "metadata": {
        "colab": {
          "base_uri": "https://localhost:8080/"
        },
        "id": "YnSSUjLJQW3Z",
        "outputId": "f93a0031-18fe-49e7-cc48-3f315cb4fc07"
      },
      "source": [
        "execute_cross_validation(cdt, Xtogether)"
      ],
      "execution_count": null,
      "outputs": [
        {
          "output_type": "stream",
          "name": "stdout",
          "text": [
            "elapsed time:  0:00:00.735869\n",
            "Mean results\n",
            "Precision:  56.99999999999999  recall:  56.00000000000001  f-measure:  56.99999999999999\n",
            "Mean results\n",
            "Precision:  0.5738003671916062  recall:  0.5646373886562115  f-measure:  0.5722565278787284\n",
            "Precision max:  0.6440677966101694\n",
            "Precision min:  0.5\n",
            "recall max:  0.6466666666666666\n",
            "recall min:  0.47651006711409394\n",
            "f-measure max:  0.6089743589743589\n",
            "f-measure min:  0.5403508771929825\n",
            "f-measure standard deviation:  0.018602570107222095\n",
            "f-measure standard variance:  0.0003460556145941131\n"
          ]
        }
      ]
    },
    {
      "cell_type": "code",
      "metadata": {
        "colab": {
          "base_uri": "https://localhost:8080/"
        },
        "id": "G_uv0E94QXL-",
        "outputId": "fbba88a9-c075-4f27-8002-ed3fa23378e7"
      },
      "source": [
        "execute_cross_validation(cdt, X_text_reputation)"
      ],
      "execution_count": null,
      "outputs": [
        {
          "output_type": "stream",
          "name": "stdout",
          "text": [
            "elapsed time:  0:00:22.560412\n",
            "Mean results\n",
            "Precision:  56.00000000000001  recall:  56.99999999999999  f-measure:  55.00000000000001\n",
            "Mean results\n",
            "Precision:  0.5611451931279697  recall:  0.5722177599090024  f-measure:  0.5503439821662225\n",
            "Precision max:  0.6122448979591837\n",
            "Precision min:  0.5136986301369864\n",
            "recall max:  0.7181208053691275\n",
            "recall min:  0.48344370860927155\n",
            "f-measure max:  0.6139240506329113\n",
            "f-measure min:  0.4808362369337979\n",
            "f-measure standard deviation:  0.0423415680265612\n",
            "f-measure standard variance:  0.0017928083829479098\n"
          ]
        }
      ]
    },
    {
      "cell_type": "code",
      "metadata": {
        "colab": {
          "base_uri": "https://localhost:8080/"
        },
        "id": "NmstHTGUQeiu",
        "outputId": "77f22dbf-3689-4b7b-bcfa-60f6b5b3497c"
      },
      "source": [
        "execute_cross_validation(cdt, X_text_rating)"
      ],
      "execution_count": null,
      "outputs": [
        {
          "output_type": "stream",
          "name": "stdout",
          "text": [
            "elapsed time:  0:00:20.783230\n",
            "Mean results\n",
            "Precision:  57.99999999999999  recall:  57.99999999999999  f-measure:  59.0\n",
            "Mean results\n",
            "Precision:  0.576662107839121  recall:  0.5766392394084628  f-measure:  0.5864234754897966\n",
            "Precision max:  0.6397058823529411\n",
            "Precision min:  0.45\n",
            "recall max:  0.6442953020134228\n",
            "recall min:  0.4965986394557823\n",
            "f-measure max:  0.6275862068965518\n",
            "f-measure min:  0.534201954397394\n",
            "f-measure standard deviation:  0.02589375016599102\n",
            "f-measure standard variance:  0.0006704862976587599\n"
          ]
        }
      ]
    },
    {
      "cell_type": "code",
      "metadata": {
        "id": "IGmIkYPNQfMx"
      },
      "source": [],
      "execution_count": null,
      "outputs": []
    },
    {
      "cell_type": "markdown",
      "metadata": {
        "id": "P4ebuy6AAAwx"
      },
      "source": [
        "#KNN"
      ]
    },
    {
      "cell_type": "code",
      "metadata": {
        "id": "VxhwqSRNAEuF"
      },
      "source": [
        "from sklearn.neighbors import KNeighborsClassifier"
      ],
      "execution_count": null,
      "outputs": []
    },
    {
      "cell_type": "code",
      "metadata": {
        "id": "qpIpSgS6yy0N"
      },
      "source": [
        "knn = KNeighborsClassifier(n_neighbors=3)"
      ],
      "execution_count": null,
      "outputs": []
    },
    {
      "cell_type": "code",
      "metadata": {
        "colab": {
          "base_uri": "https://localhost:8080/"
        },
        "id": "BaT8CbvchEcs",
        "outputId": "6e0ebb71-cb4f-4006-8d94-0577836c23ac"
      },
      "source": [
        "execute_cross_validation(knn, Xnormal)"
      ],
      "execution_count": null,
      "outputs": [
        {
          "output_type": "stream",
          "name": "stdout",
          "text": [
            "elapsed time:  0:00:01.232484\n",
            "Mean results\n",
            "Precision:  56.00000000000001  recall:  56.00000000000001  f-measure:  56.00000000000001\n",
            "Mean results\n",
            "Precision:  0.5558482975557049  recall:  0.5604496437025791  f-measure:  0.5559007446664386\n",
            "Precision max:  0.6506024096385542\n",
            "Precision min:  0.474025974025974\n",
            "recall max:  0.6126760563380281\n",
            "recall min:  0.5031446540880503\n",
            "f-measure max:  0.5928338762214984\n",
            "f-measure min:  0.5016949152542373\n",
            "f-measure standard deviation:  0.03364270095968757\n",
            "f-measure standard variance:  0.0011318313278629627\n"
          ]
        }
      ]
    },
    {
      "cell_type": "code",
      "metadata": {
        "colab": {
          "base_uri": "https://localhost:8080/"
        },
        "id": "pRJzpJOJ1AqY",
        "outputId": "8f926cce-ce99-4496-e0a4-506efef599f7"
      },
      "source": [
        "execute_cross_validation(knn, Xreporter_reputation)"
      ],
      "execution_count": null,
      "outputs": [
        {
          "output_type": "stream",
          "name": "stdout",
          "text": [
            "elapsed time:  0:00:01.269866\n",
            "Mean results\n",
            "Precision:  56.99999999999999  recall:  56.00000000000001  f-measure:  56.99999999999999\n",
            "Mean results\n",
            "Precision:  0.5666060133079087  recall:  0.5580484351765307  f-measure:  0.5706598186597901\n",
            "Precision max:  0.6197183098591549\n",
            "Precision min:  0.52\n",
            "recall max:  0.5974025974025974\n",
            "recall min:  0.5225806451612903\n",
            "f-measure max:  0.6233766233766234\n",
            "f-measure min:  0.5146579804560261\n",
            "f-measure standard deviation:  0.035126421739633776\n",
            "f-measure standard variance:  0.0012338655042306165\n"
          ]
        }
      ]
    },
    {
      "cell_type": "code",
      "metadata": {
        "colab": {
          "base_uri": "https://localhost:8080/"
        },
        "id": "IGJazi6G1EB6",
        "outputId": "2bd7f073-d824-4006-b707-a8c9d8776801"
      },
      "source": [
        "execute_cross_validation(knn, Xdeveloper_reputation)"
      ],
      "execution_count": null,
      "outputs": [
        {
          "output_type": "stream",
          "name": "stdout",
          "text": [
            "elapsed time:  0:00:01.243388\n",
            "Mean results\n",
            "Precision:  56.99999999999999  recall:  57.99999999999999  f-measure:  56.99999999999999\n",
            "Mean results\n",
            "Precision:  0.5686268535013138  recall:  0.5757537087404847  f-measure:  0.5658170568397006\n",
            "Precision max:  0.6206896551724138\n",
            "Precision min:  0.5066666666666667\n",
            "recall max:  0.6524822695035462\n",
            "recall min:  0.463768115942029\n",
            "f-measure max:  0.6306306306306307\n",
            "f-measure min:  0.5107913669064749\n",
            "f-measure standard deviation:  0.03392485932233546\n",
            "f-measure standard variance:  0.0011508960800402511\n"
          ]
        }
      ]
    },
    {
      "cell_type": "code",
      "metadata": {
        "colab": {
          "base_uri": "https://localhost:8080/"
        },
        "id": "WMoXN5Il1HJa",
        "outputId": "6e04920a-6812-4d63-c0a3-587eb093e1f2"
      },
      "source": [
        "execute_cross_validation(knn, Xreputation)"
      ],
      "execution_count": null,
      "outputs": [
        {
          "output_type": "stream",
          "name": "stdout",
          "text": [
            "elapsed time:  0:00:01.249923\n",
            "Mean results\n",
            "Precision:  56.99999999999999  recall:  56.00000000000001  f-measure:  56.00000000000001\n",
            "Mean results\n",
            "Precision:  0.5749008775906371  recall:  0.5643422684905466  f-measure:  0.563206573719192\n",
            "Precision max:  0.6075949367088608\n",
            "Precision min:  0.5159235668789809\n",
            "recall max:  0.6402439024390244\n",
            "recall min:  0.496551724137931\n",
            "f-measure max:  0.6269592476489028\n",
            "f-measure min:  0.47686832740213525\n",
            "f-measure standard deviation:  0.0407831901432459\n",
            "f-measure standard variance:  0.0016632685982601492\n"
          ]
        }
      ]
    },
    {
      "cell_type": "code",
      "metadata": {
        "colab": {
          "base_uri": "https://localhost:8080/"
        },
        "id": "ru-eCCku1IwW",
        "outputId": "77656cbd-278c-421d-d6c0-2b866a3f5877"
      },
      "source": [
        "execute_cross_validation(knn, Xreporter_rating)"
      ],
      "execution_count": null,
      "outputs": [
        {
          "output_type": "stream",
          "name": "stdout",
          "text": [
            "elapsed time:  0:00:01.222095\n",
            "Mean results\n",
            "Precision:  56.00000000000001  recall:  56.99999999999999  f-measure:  55.00000000000001\n",
            "Mean results\n",
            "Precision:  0.5606960177409549  recall:  0.565674155299686  f-measure:  0.5524960626155588\n",
            "Precision max:  0.6153846153846154\n",
            "Precision min:  0.50625\n",
            "recall max:  0.6232876712328768\n",
            "recall min:  0.5133333333333333\n",
            "f-measure max:  0.6198083067092651\n",
            "f-measure min:  0.5089605734767025\n",
            "f-measure standard deviation:  0.029460442284504278\n",
            "f-measure standard variance:  0.0008679176595986077\n"
          ]
        }
      ]
    },
    {
      "cell_type": "code",
      "metadata": {
        "colab": {
          "base_uri": "https://localhost:8080/"
        },
        "id": "ukdaYaRO1OBs",
        "outputId": "dfd6f36e-3272-42a5-8b67-2477bd1ac177"
      },
      "source": [
        "execute_cross_validation(knn, Xdeveloper_rating)"
      ],
      "execution_count": null,
      "outputs": [
        {
          "output_type": "stream",
          "name": "stdout",
          "text": [
            "elapsed time:  0:00:01.231676\n",
            "Mean results\n",
            "Precision:  56.99999999999999  recall:  55.00000000000001  f-measure:  56.00000000000001\n",
            "Mean results\n",
            "Precision:  0.5742302306879261  recall:  0.5472449039596936  f-measure:  0.5576147764853864\n",
            "Precision max:  0.6363636363636364\n",
            "Precision min:  0.5314285714285715\n",
            "recall max:  0.6153846153846154\n",
            "recall min:  0.4899328859060403\n",
            "f-measure max:  0.6261980830670927\n",
            "f-measure min:  0.4893617021276596\n",
            "f-measure standard deviation:  0.0372048875102429\n",
            "f-measure standard variance:  0.0013842036546498281\n"
          ]
        }
      ]
    },
    {
      "cell_type": "code",
      "metadata": {
        "colab": {
          "base_uri": "https://localhost:8080/"
        },
        "id": "y9PTJuad1bik",
        "outputId": "dfa03855-d6ce-42d1-d4c9-740d0cbd6172"
      },
      "source": [
        "execute_cross_validation(knn, Xrating)"
      ],
      "execution_count": null,
      "outputs": [
        {
          "output_type": "stream",
          "name": "stdout",
          "text": [
            "elapsed time:  0:00:01.235840\n",
            "Mean results\n",
            "Precision:  56.00000000000001  recall:  54.0  f-measure:  55.00000000000001\n",
            "Mean results\n",
            "Precision:  0.5611253767385456  recall:  0.5448756312323841  f-measure:  0.5522623729975923\n",
            "Precision max:  0.6054421768707483\n",
            "Precision min:  0.5032258064516129\n",
            "recall max:  0.6153846153846154\n",
            "recall min:  0.4797297297297297\n",
            "f-measure max:  0.5916398713826366\n",
            "f-measure min:  0.5136986301369862\n",
            "f-measure standard deviation:  0.02383080450164414\n",
            "f-measure standard variance:  0.0005679072431955826\n"
          ]
        }
      ]
    },
    {
      "cell_type": "code",
      "metadata": {
        "colab": {
          "base_uri": "https://localhost:8080/"
        },
        "id": "vUSSlmG_hGdm",
        "outputId": "63b2b693-0275-4ccd-cd25-5437c1a109b4"
      },
      "source": [
        "execute_cross_validation(knn, XratingAvg)"
      ],
      "execution_count": null,
      "outputs": [
        {
          "output_type": "stream",
          "name": "stdout",
          "text": [
            "elapsed time:  0:00:01.243466\n",
            "Mean results\n",
            "Precision:  55.00000000000001  recall:  56.00000000000001  f-measure:  56.00000000000001\n",
            "Mean results\n",
            "Precision:  0.5516996390966964  recall:  0.5566228785498974  f-measure:  0.5559634361943611\n",
            "Precision max:  0.6326530612244898\n",
            "Precision min:  0.4868421052631579\n",
            "recall max:  0.6304347826086957\n",
            "recall min:  0.43884892086330934\n",
            "f-measure max:  0.611295681063123\n",
            "f-measure min:  0.46315789473684216\n",
            "f-measure standard deviation:  0.04484890920477154\n",
            "f-measure standard variance:  0.0020114246568578415\n"
          ]
        }
      ]
    },
    {
      "cell_type": "code",
      "metadata": {
        "colab": {
          "base_uri": "https://localhost:8080/"
        },
        "id": "a8y_7XpAhymr",
        "outputId": "02c97429-b822-466f-837f-6520a6fb87bf"
      },
      "source": [
        "execute_cross_validation(knn, X_text)"
      ],
      "execution_count": null,
      "outputs": [
        {
          "output_type": "stream",
          "name": "stdout",
          "text": [
            "elapsed time:  0:00:04.458368\n",
            "Mean results\n",
            "Precision:  55.00000000000001  recall:  54.0  f-measure:  54.0\n",
            "Mean results\n",
            "Precision:  0.5521381783628128  recall:  0.5400164609364235  f-measure:  0.5391691572584673\n",
            "Precision max:  0.6029411764705882\n",
            "Precision min:  0.4934210526315789\n",
            "recall max:  0.6178343949044586\n",
            "recall min:  0.45454545454545453\n",
            "f-measure max:  0.5928143712574852\n",
            "f-measure min:  0.5053380782918149\n",
            "f-measure standard deviation:  0.02076844339235279\n",
            "f-measure standard variance:  0.00043132824094136227\n"
          ]
        }
      ]
    },
    {
      "cell_type": "code",
      "metadata": {
        "colab": {
          "base_uri": "https://localhost:8080/"
        },
        "id": "ItlM15TX870U",
        "outputId": "278ef221-3aab-42a3-80bc-89a50b5cec91"
      },
      "source": [
        "execute_cross_validation(knn, Xtogether)"
      ],
      "execution_count": null,
      "outputs": [
        {
          "output_type": "stream",
          "name": "stdout",
          "text": [
            "elapsed time:  0:00:01.367055\n",
            "Mean results\n",
            "Precision:  56.99999999999999  recall:  56.00000000000001  f-measure:  55.00000000000001\n",
            "Mean results\n",
            "Precision:  0.5654148335498687  recall:  0.5592686941187478  f-measure:  0.5522384280666812\n",
            "Precision max:  0.639751552795031\n",
            "Precision min:  0.4727272727272727\n",
            "recall max:  0.6049382716049383\n",
            "recall min:  0.5063291139240507\n",
            "f-measure max:  0.6144200626959249\n",
            "f-measure min:  0.4893617021276596\n",
            "f-measure standard deviation:  0.040215802909306674\n",
            "f-measure standard variance:  0.0016173108036401992\n"
          ]
        }
      ]
    },
    {
      "cell_type": "code",
      "metadata": {
        "colab": {
          "base_uri": "https://localhost:8080/"
        },
        "id": "A-9QMJb2w1cn",
        "outputId": "c18ff2e7-640c-4ae3-9dd0-7376c50f50b5"
      },
      "source": [
        "execute_cross_validation(knn, X_text_reputation)"
      ],
      "execution_count": null,
      "outputs": [
        {
          "output_type": "stream",
          "name": "stdout",
          "text": [
            "elapsed time:  0:00:04.882338\n",
            "Mean results\n",
            "Precision:  56.00000000000001  recall:  56.00000000000001  f-measure:  56.00000000000001\n",
            "Mean results\n",
            "Precision:  0.5608869242730291  recall:  0.5575638139686865  f-measure:  0.5602147112458278\n",
            "Precision max:  0.6190476190476191\n",
            "Precision min:  0.4405594405594406\n",
            "recall max:  0.625\n",
            "recall min:  0.4970414201183432\n",
            "f-measure max:  0.6290801186943621\n",
            "f-measure min:  0.487012987012987\n",
            "f-measure standard deviation:  0.04034025733609638\n",
            "f-measure standard variance:  0.0016273363619424778\n"
          ]
        }
      ]
    },
    {
      "cell_type": "code",
      "metadata": {
        "colab": {
          "base_uri": "https://localhost:8080/"
        },
        "id": "hz8mvgIrhspD",
        "outputId": "138a9162-5a8f-497e-f26d-56ffa845d826"
      },
      "source": [
        "execute_cross_validation(knn, X_text_rating)"
      ],
      "execution_count": null,
      "outputs": [
        {
          "output_type": "stream",
          "name": "stdout",
          "text": [
            "elapsed time:  0:00:04.819397\n",
            "Mean results\n",
            "Precision:  55.00000000000001  recall:  56.00000000000001  f-measure:  56.00000000000001\n",
            "Mean results\n",
            "Precision:  0.553731578392426  recall:  0.5558079494097795  f-measure:  0.5618608537257003\n",
            "Precision max:  0.6434108527131783\n",
            "Precision min:  0.49404761904761907\n",
            "recall max:  0.5955882352941176\n",
            "recall min:  0.487012987012987\n",
            "f-measure max:  0.6123778501628665\n",
            "f-measure min:  0.4966442953020134\n",
            "f-measure standard deviation:  0.0372659057845301\n",
            "f-measure standard variance:  0.001388747733941474\n"
          ]
        }
      ]
    },
    {
      "cell_type": "markdown",
      "metadata": {
        "id": "Vm9HRWS7AFao"
      },
      "source": [
        "#Random Forest"
      ]
    },
    {
      "cell_type": "code",
      "metadata": {
        "id": "Both_i7oAKK3"
      },
      "source": [
        "from sklearn.ensemble import RandomForestClassifier"
      ],
      "execution_count": null,
      "outputs": []
    },
    {
      "cell_type": "code",
      "metadata": {
        "id": "j16Vx-zdh8rD"
      },
      "source": [
        "rfc=RandomForestClassifier(n_estimators=100)"
      ],
      "execution_count": null,
      "outputs": []
    },
    {
      "cell_type": "code",
      "metadata": {
        "colab": {
          "base_uri": "https://localhost:8080/"
        },
        "id": "uNgLTrWriA77",
        "outputId": "1aba0ae4-28bc-46cb-beb2-26f4c90b9318"
      },
      "source": [
        "execute_cross_validation(rfc, Xnormal)"
      ],
      "execution_count": null,
      "outputs": [
        {
          "output_type": "stream",
          "name": "stdout",
          "text": [
            "elapsed time:  0:00:13.911651\n",
            "Mean results\n",
            "Precision:  61.0  recall:  61.0  f-measure:  60.0\n",
            "Mean results\n",
            "Precision:  0.6136537498017516  recall:  0.609707541543129  f-measure:  0.6013155248107316\n",
            "Precision max:  0.6802721088435374\n",
            "Precision min:  0.5493827160493827\n",
            "recall max:  0.6762589928057554\n",
            "recall min:  0.5714285714285714\n",
            "f-measure max:  0.668693009118541\n",
            "f-measure min:  0.5328947368421053\n",
            "f-measure standard deviation:  0.0380074864489681\n",
            "f-measure standard variance:  0.0014445690261684937\n"
          ]
        }
      ]
    },
    {
      "cell_type": "code",
      "metadata": {
        "colab": {
          "base_uri": "https://localhost:8080/"
        },
        "id": "02pb9DSSfcW2",
        "outputId": "dc654845-71c1-4c2c-b720-7630161563ae"
      },
      "source": [
        "execute_cross_validation(rfc, Xreporter_reputation)"
      ],
      "execution_count": null,
      "outputs": [
        {
          "output_type": "stream",
          "name": "stdout",
          "text": [
            "elapsed time:  0:00:14.656989\n",
            "Mean results\n",
            "Precision:  64.0  recall:  61.0  f-measure:  63.0\n",
            "Mean results\n",
            "Precision:  0.6368551106320423  recall:  0.6076392402848649  f-measure:  0.6263295263712032\n",
            "Precision max:  0.676056338028169\n",
            "Precision min:  0.6036585365853658\n",
            "recall max:  0.6577181208053692\n",
            "recall min:  0.5466666666666666\n",
            "f-measure max:  0.7116564417177914\n",
            "f-measure min:  0.5365853658536585\n",
            "f-measure standard deviation:  0.051059060159976334\n",
            "f-measure standard variance:  0.0026070276244200825\n"
          ]
        }
      ]
    },
    {
      "cell_type": "code",
      "metadata": {
        "colab": {
          "base_uri": "https://localhost:8080/"
        },
        "id": "Nl3fZfsMfcio",
        "outputId": "5dd2defc-4968-4855-aeef-de1eb65636f9"
      },
      "source": [
        "execute_cross_validation(rfc, Xdeveloper_reputation)"
      ],
      "execution_count": null,
      "outputs": [
        {
          "output_type": "stream",
          "name": "stdout",
          "text": [
            "elapsed time:  0:00:14.974929\n",
            "Mean results\n",
            "Precision:  64.0  recall:  62.0  f-measure:  61.0\n",
            "Mean results\n",
            "Precision:  0.6398849478464366  recall:  0.6173469448963795  f-measure:  0.6142841261236013\n",
            "Precision max:  0.6857142857142857\n",
            "Precision min:  0.6013986013986014\n",
            "recall max:  0.7202797202797203\n",
            "recall min:  0.5182926829268293\n",
            "f-measure max:  0.6455696202531644\n",
            "f-measure min:  0.5824561403508772\n",
            "f-measure standard deviation:  0.02242500636026062\n",
            "f-measure standard variance:  0.0005028809102577294\n"
          ]
        }
      ]
    },
    {
      "cell_type": "code",
      "metadata": {
        "colab": {
          "base_uri": "https://localhost:8080/"
        },
        "id": "Z061yFn5iHBX",
        "outputId": "a3e1aab3-63ac-4741-9f3a-fc0431e0700e"
      },
      "source": [
        "execute_cross_validation(rfc, Xreputation)"
      ],
      "execution_count": null,
      "outputs": [
        {
          "output_type": "stream",
          "name": "stdout",
          "text": [
            "elapsed time:  0:00:15.387640\n",
            "Mean results\n",
            "Precision:  63.0  recall:  61.0  f-measure:  62.0\n",
            "Mean results\n",
            "Precision:  0.6286025155122161  recall:  0.6079364942788883  f-measure:  0.622021748710753\n",
            "Precision max:  0.7352941176470589\n",
            "Precision min:  0.5668789808917197\n",
            "recall max:  0.6583850931677019\n",
            "recall min:  0.5686274509803921\n",
            "f-measure max:  0.6580645161290323\n",
            "f-measure min:  0.5559322033898304\n",
            "f-measure standard deviation:  0.03502229497532912\n",
            "f-measure standard variance:  0.001226561145338963\n"
          ]
        }
      ]
    },
    {
      "cell_type": "code",
      "metadata": {
        "colab": {
          "base_uri": "https://localhost:8080/"
        },
        "id": "BthJgP0YiIv2",
        "outputId": "b63478dd-8d44-4bf0-91a1-8bc0f0aeb3e9"
      },
      "source": [
        "execute_cross_validation(rfc, Xreporter_rating)"
      ],
      "execution_count": null,
      "outputs": [
        {
          "output_type": "stream",
          "name": "stdout",
          "text": [
            "elapsed time:  0:00:13.820746\n",
            "Mean results\n",
            "Precision:  61.0  recall:  59.0  f-measure:  60.0\n",
            "Mean results\n",
            "Precision:  0.6149550801606998  recall:  0.5860607934815819  f-measure:  0.5987728176403728\n",
            "Precision max:  0.66875\n",
            "Precision min:  0.536144578313253\n",
            "recall max:  0.6645161290322581\n",
            "recall min:  0.5060240963855421\n",
            "f-measure max:  0.643312101910828\n",
            "f-measure min:  0.5675675675675677\n",
            "f-measure standard deviation:  0.020701042972265327\n",
            "f-measure standard variance:  0.0004285331801395756\n"
          ]
        }
      ]
    },
    {
      "cell_type": "code",
      "metadata": {
        "colab": {
          "base_uri": "https://localhost:8080/"
        },
        "id": "q-3jd0kb9Ovc",
        "outputId": "bb236a59-6993-4dbb-9065-f4f3d8264d55"
      },
      "source": [
        "execute_cross_validation(rfc, Xdeveloper_rating)"
      ],
      "execution_count": null,
      "outputs": [
        {
          "output_type": "stream",
          "name": "stdout",
          "text": [
            "elapsed time:  0:00:13.664284\n",
            "Mean results\n",
            "Precision:  62.0  recall:  59.0  f-measure:  60.0\n",
            "Mean results\n",
            "Precision:  0.6242930180642312  recall:  0.5897257760740632  f-measure:  0.5950414946473261\n",
            "Precision max:  0.7248322147651006\n",
            "Precision min:  0.54\n",
            "recall max:  0.6540880503144654\n",
            "recall min:  0.55\n",
            "f-measure max:  0.6621621621621622\n",
            "f-measure min:  0.5381818181818182\n",
            "f-measure standard deviation:  0.034338227032295214\n",
            "f-measure standard variance:  0.0011791138357214496\n"
          ]
        }
      ]
    },
    {
      "cell_type": "code",
      "metadata": {
        "colab": {
          "base_uri": "https://localhost:8080/"
        },
        "id": "BQynuHrIw6kP",
        "outputId": "22b77ad3-870b-4c2d-f6d9-d25a1417e3b7"
      },
      "source": [
        "execute_cross_validation(rfc, Xrating)"
      ],
      "execution_count": null,
      "outputs": [
        {
          "output_type": "stream",
          "name": "stdout",
          "text": [
            "elapsed time:  0:00:13.531807\n",
            "Mean results\n",
            "Precision:  63.0  recall:  57.99999999999999  f-measure:  60.0\n",
            "Mean results\n",
            "Precision:  0.6346593394874978  recall:  0.5831001261638389  f-measure:  0.6045794676003651\n",
            "Precision max:  0.6794871794871795\n",
            "Precision min:  0.5740740740740741\n",
            "recall max:  0.6423357664233577\n",
            "recall min:  0.5067567567567568\n",
            "f-measure max:  0.6731391585760518\n",
            "f-measure min:  0.5559322033898305\n",
            "f-measure standard deviation:  0.03796654324855812\n",
            "f-measure standard variance:  0.0014414584062446337\n"
          ]
        }
      ]
    },
    {
      "cell_type": "code",
      "metadata": {
        "colab": {
          "base_uri": "https://localhost:8080/"
        },
        "id": "C4uPKBz6GSaP",
        "outputId": "8d116176-b7be-4819-d964-0c41e5010261"
      },
      "source": [
        "execute_cross_validation(rfc, XratingAvg)"
      ],
      "execution_count": null,
      "outputs": [
        {
          "output_type": "stream",
          "name": "stdout",
          "text": [
            "elapsed time:  0:00:16.026418\n",
            "Mean results\n",
            "Precision:  63.0  recall:  60.0  f-measure:  61.0\n",
            "Mean results\n",
            "Precision:  0.6319926864917677  recall:  0.6020132995639391  f-measure:  0.6099629873705245\n",
            "Precision max:  0.708029197080292\n",
            "Precision min:  0.5576923076923077\n",
            "recall max:  0.6643356643356644\n",
            "recall min:  0.5660377358490566\n",
            "f-measure max:  0.6517571884984026\n",
            "f-measure min:  0.5733333333333334\n",
            "f-measure standard deviation:  0.020855546647181585\n",
            "f-measure standard variance:  0.00043495382595276703\n"
          ]
        }
      ]
    },
    {
      "cell_type": "code",
      "metadata": {
        "colab": {
          "base_uri": "https://localhost:8080/"
        },
        "id": "-bll6ncMGYqH",
        "outputId": "364e2a39-872f-4641-c4f2-8fa19a2e3d81"
      },
      "source": [
        "execute_cross_validation(rfc, X_text)"
      ],
      "execution_count": null,
      "outputs": [
        {
          "output_type": "stream",
          "name": "stdout",
          "text": [
            "elapsed time:  0:00:57.069043\n",
            "Mean results\n",
            "Precision:  59.0  recall:  63.0  f-measure:  61.0\n",
            "Mean results\n",
            "Precision:  0.5944549094004171  recall:  0.6329869797952347  f-measure:  0.6087136642237506\n",
            "Precision max:  0.6623376623376623\n",
            "Precision min:  0.5345911949685535\n",
            "recall max:  0.6712328767123288\n",
            "recall min:  0.5850340136054422\n",
            "f-measure max:  0.6646525679758307\n",
            "f-measure min:  0.555205047318612\n",
            "f-measure standard deviation:  0.03526665720632324\n",
            "f-measure standard variance:  0.001243737110508311\n"
          ]
        }
      ]
    },
    {
      "cell_type": "code",
      "metadata": {
        "colab": {
          "base_uri": "https://localhost:8080/"
        },
        "id": "9_wQn8hjSjNl",
        "outputId": "dcfbea01-1157-40e4-acee-4177ee73bdcd"
      },
      "source": [
        "execute_cross_validation(rfc, Xtogether)"
      ],
      "execution_count": null,
      "outputs": [
        {
          "output_type": "stream",
          "name": "stdout",
          "text": [
            "elapsed time:  0:00:15.138204\n",
            "Mean results\n",
            "Precision:  63.0  recall:  59.0  f-measure:  61.0\n",
            "Mean results\n",
            "Precision:  0.6261177025229523  recall:  0.5904959894449984  f-measure:  0.6145629522068641\n",
            "Precision max:  0.7218045112781954\n",
            "Precision min:  0.543046357615894\n",
            "recall max:  0.6351351351351351\n",
            "recall min:  0.5159235668789809\n",
            "f-measure max:  0.6774193548387097\n",
            "f-measure min:  0.5695364238410596\n",
            "f-measure standard deviation:  0.032457865338615714\n",
            "f-measure standard variance:  0.0010535130223397115\n"
          ]
        }
      ]
    },
    {
      "cell_type": "code",
      "metadata": {
        "colab": {
          "base_uri": "https://localhost:8080/"
        },
        "id": "Bj2bXFxMSjv-",
        "outputId": "407673f6-dd61-4c99-fcb9-24e5b3b820be"
      },
      "source": [
        "execute_cross_validation(rfc, X_text_reputation)"
      ],
      "execution_count": null,
      "outputs": [
        {
          "output_type": "stream",
          "name": "stdout",
          "text": [
            "elapsed time:  0:00:54.968742\n",
            "Mean results\n",
            "Precision:  62.0  recall:  63.0  f-measure:  62.0\n",
            "Mean results\n",
            "Precision:  0.6213242197869306  recall:  0.6324964821596372  f-measure:  0.6184173725975729\n",
            "Precision max:  0.6933333333333334\n",
            "Precision min:  0.5555555555555556\n",
            "recall max:  0.6708860759493671\n",
            "recall min:  0.5636363636363636\n",
            "f-measure max:  0.6978193146417445\n",
            "f-measure min:  0.5753424657534246\n",
            "f-measure standard deviation:  0.037180130682775814\n",
            "f-measure standard variance:  0.0013823621175882877\n"
          ]
        }
      ]
    },
    {
      "cell_type": "code",
      "metadata": {
        "colab": {
          "base_uri": "https://localhost:8080/"
        },
        "id": "aILNrI4cSkGf",
        "outputId": "73f13db3-90ad-4cbd-b91c-291d9a3e32fb"
      },
      "source": [
        "execute_cross_validation(rfc, X_text_rating)"
      ],
      "execution_count": null,
      "outputs": [
        {
          "output_type": "stream",
          "name": "stdout",
          "text": [
            "elapsed time:  0:00:52.847913\n",
            "Mean results\n",
            "Precision:  64.0  recall:  66.0  f-measure:  65.0\n",
            "Mean results\n",
            "Precision:  0.6410482191578741  recall:  0.6569870712250453  f-measure:  0.6522276314735957\n",
            "Precision max:  0.6792452830188679\n",
            "Precision min:  0.6038961038961039\n",
            "recall max:  0.7204968944099379\n",
            "recall min:  0.5974842767295597\n",
            "f-measure max:  0.7006369426751593\n",
            "f-measure min:  0.6219081272084805\n",
            "f-measure standard deviation:  0.021451520585922593\n",
            "f-measure standard variance:  0.00046016773544826076\n"
          ]
        }
      ]
    },
    {
      "cell_type": "code",
      "metadata": {
        "id": "UADWFvtuSkde",
        "colab": {
          "base_uri": "https://localhost:8080/"
        },
        "outputId": "f326b6b8-49e9-4281-b60d-cc225bda56be"
      },
      "source": [
        "execute_cross_validation(rfc, X_text)"
      ],
      "execution_count": null,
      "outputs": [
        {
          "output_type": "stream",
          "name": "stdout",
          "text": [
            "elapsed time:  0:00:56.463846\n",
            "Mean results\n",
            "Precision:  61.0  recall:  63.0  f-measure:  61.0\n",
            "Mean results\n",
            "Precision:  0.6076125838760567  recall:  0.6318360355748012  f-measure:  0.6132081922028287\n",
            "Precision max:  0.6870748299319728\n",
            "Precision min:  0.5402298850574713\n",
            "recall max:  0.6645962732919255\n",
            "recall min:  0.5547945205479452\n",
            "f-measure max:  0.6538461538461539\n",
            "f-measure min:  0.58\n",
            "f-measure standard deviation:  0.019279728628301403\n",
            "f-measure standard variance:  0.00037170793598094475\n"
          ]
        }
      ]
    },
    {
      "cell_type": "markdown",
      "metadata": {
        "id": "EGzaIjqDAK0c"
      },
      "source": [
        "#SGD Classifier"
      ]
    },
    {
      "cell_type": "code",
      "metadata": {
        "id": "mTaSWkjsAOAa"
      },
      "source": [
        "#from sklearn import svm\n",
        "from sklearn.linear_model import SGDClassifier\n",
        "#from sklearn.svm import LinearSVC"
      ],
      "execution_count": null,
      "outputs": []
    },
    {
      "cell_type": "code",
      "metadata": {
        "id": "DTZgxBSlwvv4"
      },
      "source": [
        "#svmclf = svm.SVC(kernel='rbf', cache_size=1000)\n",
        "#svmclf = clf = LinearSVC(verbose=0)\n",
        "#svmclf = svm.SVC(C=1.0, kernel='linear', degree=3, gamma='auto')\n",
        "svmclf = SGDClassifier(loss='hinge', penalty='l2',alpha=1e-3, random_state=42, max_iter=100, tol=None)"
      ],
      "execution_count": null,
      "outputs": []
    },
    {
      "cell_type": "code",
      "metadata": {
        "colab": {
          "base_uri": "https://localhost:8080/"
        },
        "id": "svtY19yVeeh5",
        "outputId": "81addc3a-61ec-4d63-a210-1102167704d9"
      },
      "source": [
        "execute_cross_validation(svmclf, Xnormal)"
      ],
      "execution_count": null,
      "outputs": [
        {
          "output_type": "stream",
          "name": "stdout",
          "text": [
            "elapsed time:  0:00:00.823467\n",
            "Mean results\n",
            "Precision:  47.0  recall:  52.0  f-measure:  49.0\n",
            "Mean results\n",
            "Precision:  0.4745999475850516  recall:  0.5224914722757219  f-measure:  0.48711006610533547\n",
            "Precision max:  0.5915492957746479\n",
            "Precision min:  0.1935483870967742\n",
            "recall max:  1.0\n",
            "recall min:  0.11949685534591195\n",
            "f-measure max:  0.6783369803063457\n",
            "f-measure min:  0.0\n",
            "f-measure standard deviation:  0.23087672650018493\n",
            "f-measure standard variance:  0.05330406283944119\n"
          ]
        }
      ]
    },
    {
      "cell_type": "code",
      "metadata": {
        "colab": {
          "base_uri": "https://localhost:8080/"
        },
        "id": "eKUUyfQwzVgF",
        "outputId": "89449bb7-65e1-48da-de76-ddcfa62c5c3e"
      },
      "source": [
        "execute_cross_validation(svmclf, Xreporter_reputation)"
      ],
      "execution_count": null,
      "outputs": [
        {
          "output_type": "stream",
          "name": "stdout",
          "text": [
            "elapsed time:  0:00:00.864042\n",
            "Mean results\n",
            "Precision:  49.0  recall:  74.0  f-measure:  45.0\n",
            "Mean results\n",
            "Precision:  0.49329643387509925  recall:  0.7448254032162461  f-measure:  0.4512198418767128\n",
            "Precision max:  0.5602836879432624\n",
            "Precision min:  0.4594594594594595\n",
            "recall max:  1.0\n",
            "recall min:  0.1360544217687075\n",
            "f-measure max:  0.6666666666666666\n",
            "f-measure min:  0.0\n",
            "f-measure standard deviation:  0.26202367018912887\n",
            "f-measure standard variance:  0.06865640373938137\n"
          ]
        }
      ]
    },
    {
      "cell_type": "code",
      "metadata": {
        "colab": {
          "base_uri": "https://localhost:8080/"
        },
        "id": "aHhQ68VJzY-L",
        "outputId": "3f049cc4-d643-46f5-e1d7-068a2a335ee6"
      },
      "source": [
        "execute_cross_validation(svmclf, Xdeveloper_reputation)"
      ],
      "execution_count": null,
      "outputs": [
        {
          "output_type": "stream",
          "name": "stdout",
          "text": [
            "elapsed time:  0:00:00.880207\n",
            "Mean results\n",
            "Precision:  48.0  recall:  47.0  f-measure:  44.0\n",
            "Mean results\n",
            "Precision:  0.48447035822050555  recall:  0.4730338925868073  f-measure:  0.43597072204537257\n",
            "Precision max:  0.5547445255474452\n",
            "Precision min:  0.3877551020408163\n",
            "recall max:  0.9556962025316456\n",
            "recall min:  0.0\n",
            "f-measure max:  0.6226415094339622\n",
            "f-measure min:  0.0\n",
            "f-measure standard deviation:  0.19420108078178058\n",
            "f-measure standard variance:  0.037714059776811665\n"
          ]
        }
      ]
    },
    {
      "cell_type": "code",
      "metadata": {
        "colab": {
          "base_uri": "https://localhost:8080/"
        },
        "id": "5JNZladTv2PV",
        "outputId": "b711fb23-348c-49b9-e31d-317882868d0d"
      },
      "source": [
        "execute_cross_validation(svmclf, Xreputation)"
      ],
      "execution_count": null,
      "outputs": [
        {
          "output_type": "stream",
          "name": "stderr",
          "text": [
            "/usr/local/lib/python3.7/dist-packages/sklearn/metrics/_classification.py:1308: UndefinedMetricWarning: Precision is ill-defined and being set to 0.0 due to no predicted samples. Use `zero_division` parameter to control this behavior.\n",
            "  _warn_prf(average, modifier, msg_start, len(result))\n"
          ]
        },
        {
          "output_type": "stream",
          "name": "stdout",
          "text": [
            "elapsed time:  0:00:00.892752\n",
            "Mean results\n",
            "Precision:  44.0  recall:  21.0  f-measure:  48.0\n",
            "Mean results\n",
            "Precision:  0.43799484028088687  recall:  0.21360574358540035  f-measure:  0.47675082413456416\n",
            "Precision max:  0.5447761194029851\n",
            "Precision min:  0.0\n",
            "recall max:  0.7152777777777778\n",
            "recall min:  0.0\n",
            "f-measure max:  0.6888888888888889\n",
            "f-measure min:  0.13559322033898305\n",
            "f-measure standard deviation:  0.17141585647836968\n",
            "f-measure standard variance:  0.02938339585221303\n"
          ]
        }
      ]
    },
    {
      "cell_type": "code",
      "metadata": {
        "colab": {
          "base_uri": "https://localhost:8080/"
        },
        "id": "tSu8p6Prv6nw",
        "outputId": "f03ff301-5989-4174-d74b-411c0b64d79c"
      },
      "source": [
        "execute_cross_validation(svmclf, Xreporter_rating)"
      ],
      "execution_count": null,
      "outputs": [
        {
          "output_type": "stream",
          "name": "stdout",
          "text": [
            "elapsed time:  0:00:00.866030\n",
            "Mean results\n",
            "Precision:  49.0  recall:  53.0  f-measure:  42.0\n",
            "Mean results\n",
            "Precision:  0.48534190407626393  recall:  0.5323210214374998  f-measure:  0.42472783205116205\n",
            "Precision max:  0.5488721804511278\n",
            "Precision min:  0.3888888888888889\n",
            "recall max:  1.0\n",
            "recall min:  0.10967741935483871\n",
            "f-measure max:  0.6652173913043479\n",
            "f-measure min:  0.0\n",
            "f-measure standard deviation:  0.2502093595858169\n",
            "f-measure standard variance:  0.06260472362434463\n"
          ]
        }
      ]
    },
    {
      "cell_type": "code",
      "metadata": {
        "colab": {
          "base_uri": "https://localhost:8080/"
        },
        "id": "6igtfniNjsEb",
        "outputId": "12683e0f-9ae4-4296-835b-a8ba941be6ae"
      },
      "source": [
        "execute_cross_validation(svmclf, Xdeveloper_rating)"
      ],
      "execution_count": null,
      "outputs": [
        {
          "output_type": "stream",
          "name": "stdout",
          "text": [
            "elapsed time:  0:00:00.867714\n",
            "Mean results\n",
            "Precision:  49.0  recall:  50.0  f-measure:  51.0\n",
            "Mean results\n",
            "Precision:  0.4892252044439749  recall:  0.5007452288126787  f-measure:  0.5088838096850099\n",
            "Precision max:  0.5463414634146342\n",
            "Precision min:  0.34285714285714286\n",
            "recall max:  0.9315068493150684\n",
            "recall min:  0.09259259259259259\n",
            "f-measure max:  0.671201814058957\n",
            "f-measure min:  0.05228758169934641\n",
            "f-measure standard deviation:  0.19147434197021854\n",
            "f-measure standard variance:  0.03666242363292819\n"
          ]
        }
      ]
    },
    {
      "cell_type": "code",
      "metadata": {
        "colab": {
          "base_uri": "https://localhost:8080/"
        },
        "id": "4ywpRmQQw_VU",
        "outputId": "09900ded-cfc4-4d39-bdcb-855de7a97759"
      },
      "source": [
        "execute_cross_validation(svmclf, Xrating)"
      ],
      "execution_count": null,
      "outputs": [
        {
          "output_type": "stream",
          "name": "stdout",
          "text": [
            "elapsed time:  0:00:00.870768\n",
            "Mean results\n",
            "Precision:  51.0  recall:  53.0  f-measure:  46.0\n",
            "Mean results\n",
            "Precision:  0.510316468093895  recall:  0.5345102422617221  f-measure:  0.46070926789025546\n",
            "Precision max:  0.7142857142857143\n",
            "Precision min:  0.43243243243243246\n",
            "recall max:  1.0\n",
            "recall min:  0.15584415584415584\n",
            "f-measure max:  0.671201814058957\n",
            "f-measure min:  0.15204678362573099\n",
            "f-measure standard deviation:  0.18235753218815945\n",
            "f-measure standard variance:  0.03325426954575561\n"
          ]
        }
      ]
    },
    {
      "cell_type": "code",
      "metadata": {
        "colab": {
          "base_uri": "https://localhost:8080/"
        },
        "id": "XPlR2D70TRqY",
        "outputId": "175b379b-8689-4199-96e7-38086987f203"
      },
      "source": [
        "execute_cross_validation(svmclf, XratingAvg)"
      ],
      "execution_count": null,
      "outputs": [
        {
          "output_type": "stream",
          "name": "stdout",
          "text": [
            "elapsed time:  0:00:00.908022\n",
            "Mean results\n",
            "Precision:  49.0  recall:  62.0  f-measure:  47.0\n",
            "Mean results\n",
            "Precision:  0.49184595412770127  recall:  0.6186523531214426  f-measure:  0.4682067584457452\n",
            "Precision max:  0.5625\n",
            "Precision min:  0.39705882352941174\n",
            "recall max:  1.0\n",
            "recall min:  0.2710843373493976\n",
            "f-measure max:  0.6891891891891891\n",
            "f-measure min:  0.06486486486486487\n",
            "f-measure standard deviation:  0.19185259315854644\n",
            "f-measure standard variance:  0.036807417501658744\n"
          ]
        }
      ]
    },
    {
      "cell_type": "code",
      "metadata": {
        "colab": {
          "base_uri": "https://localhost:8080/"
        },
        "id": "ZieFwGk1TRyX",
        "outputId": "3c8adaf4-6ebc-48aa-975e-d0b2de788456"
      },
      "source": [
        "execute_cross_validation(svmclf, X_text)"
      ],
      "execution_count": null,
      "outputs": [
        {
          "output_type": "stream",
          "name": "stdout",
          "text": [
            "elapsed time:  0:00:31.294258\n",
            "Mean results\n",
            "Precision:  60.0  recall:  59.0  f-measure:  59.0\n",
            "Mean results\n",
            "Precision:  0.6012797477194322  recall:  0.5860585356410863  f-measure:  0.586918086842096\n",
            "Precision max:  0.706766917293233\n",
            "Precision min:  0.5328467153284672\n",
            "recall max:  0.6474358974358975\n",
            "recall min:  0.5\n",
            "f-measure max:  0.6163522012578617\n",
            "f-measure min:  0.5454545454545455\n",
            "f-measure standard deviation:  0.02647686256486317\n",
            "f-measure standard variance:  0.0007010242512786527\n"
          ]
        }
      ]
    },
    {
      "cell_type": "code",
      "metadata": {
        "colab": {
          "base_uri": "https://localhost:8080/"
        },
        "id": "NbWrUuMVTR6k",
        "outputId": "7900fdfc-aadb-48d9-8654-1ccf889d60a6"
      },
      "source": [
        "execute_cross_validation(svmclf, Xtogether)"
      ],
      "execution_count": null,
      "outputs": [
        {
          "output_type": "stream",
          "name": "stderr",
          "text": [
            "/usr/local/lib/python3.7/dist-packages/sklearn/metrics/_classification.py:1308: UndefinedMetricWarning: Precision is ill-defined and being set to 0.0 due to no predicted samples. Use `zero_division` parameter to control this behavior.\n",
            "  _warn_prf(average, modifier, msg_start, len(result))\n"
          ]
        },
        {
          "output_type": "stream",
          "name": "stdout",
          "text": [
            "elapsed time:  0:00:00.973315\n",
            "Mean results\n",
            "Precision:  44.0  recall:  60.0  f-measure:  54.0\n",
            "Mean results\n",
            "Precision:  0.44191581045518025  recall:  0.6028434489572243  f-measure:  0.5425245228287954\n",
            "Precision max:  0.5492424242424242\n",
            "Precision min:  0.0\n",
            "recall max:  1.0\n",
            "recall min:  0.17682926829268292\n",
            "f-measure max:  0.673866090712743\n",
            "f-measure min:  0.2072538860103627\n",
            "f-measure standard deviation:  0.13868615511500626\n",
            "f-measure standard variance:  0.01923384962058358\n"
          ]
        }
      ]
    },
    {
      "cell_type": "code",
      "metadata": {
        "colab": {
          "base_uri": "https://localhost:8080/"
        },
        "id": "6WjJDb3aTSCX",
        "outputId": "b9b498e5-ca00-4a6e-bdbe-7d52ab7b6b38"
      },
      "source": [
        "execute_cross_validation(svmclf, X_text_reputation)"
      ],
      "execution_count": null,
      "outputs": [
        {
          "output_type": "stream",
          "name": "stderr",
          "text": [
            "/usr/local/lib/python3.7/dist-packages/sklearn/metrics/_classification.py:1308: UndefinedMetricWarning: Precision is ill-defined and being set to 0.0 due to no predicted samples. Use `zero_division` parameter to control this behavior.\n",
            "  _warn_prf(average, modifier, msg_start, len(result))\n"
          ]
        },
        {
          "output_type": "stream",
          "name": "stdout",
          "text": [
            "elapsed time:  0:00:25.939876\n",
            "Mean results\n",
            "Precision:  45.0  recall:  69.0  f-measure:  54.0\n",
            "Mean results\n",
            "Precision:  0.454581278043102  recall:  0.6905443195160974  f-measure:  0.5406931916066094\n",
            "Precision max:  0.585635359116022\n",
            "Precision min:  0.0\n",
            "recall max:  0.9101796407185628\n",
            "recall min:  0.4161073825503356\n",
            "f-measure max:  0.7006369426751593\n",
            "f-measure min:  0.21538461538461537\n",
            "f-measure standard deviation:  0.14009914991289935\n",
            "f-measure standard variance:  0.019627771806317043\n"
          ]
        }
      ]
    },
    {
      "cell_type": "code",
      "metadata": {
        "colab": {
          "base_uri": "https://localhost:8080/"
        },
        "id": "aFYT8uJhTSKj",
        "outputId": "2c2ebc1b-738e-4200-da1c-94db2c10bd24"
      },
      "source": [
        "execute_cross_validation(svmclf, X_text_rating)"
      ],
      "execution_count": null,
      "outputs": [
        {
          "output_type": "stream",
          "name": "stdout",
          "text": [
            "elapsed time:  0:00:26.028464\n",
            "Mean results\n",
            "Precision:  50.0  recall:  38.0  f-measure:  37.0\n",
            "Mean results\n",
            "Precision:  0.49830581855040085  recall:  0.37628093138484187  f-measure:  0.37232531489730164\n",
            "Precision max:  0.5555555555555556\n",
            "Precision min:  0.4382716049382716\n",
            "recall max:  0.8220858895705522\n",
            "recall min:  0.0\n",
            "f-measure max:  0.662251655629139\n",
            "f-measure min:  0.0\n",
            "f-measure standard deviation:  0.20221871736472358\n",
            "f-measure standard variance:  0.04089240965263395\n"
          ]
        }
      ]
    },
    {
      "cell_type": "markdown",
      "metadata": {
        "id": "8rhPyjr8BFj7"
      },
      "source": [
        "#SVM  Linear SVC"
      ]
    },
    {
      "cell_type": "code",
      "metadata": {
        "id": "27UUcHEbBFj8"
      },
      "source": [
        "from sklearn.svm import LinearSVC"
      ],
      "execution_count": null,
      "outputs": []
    },
    {
      "cell_type": "code",
      "metadata": {
        "id": "MfODFJvaBFj8"
      },
      "source": [
        "svmLinear = clf = LinearSVC(verbose=0, max_iter=10000)"
      ],
      "execution_count": null,
      "outputs": []
    },
    {
      "cell_type": "code",
      "metadata": {
        "colab": {
          "base_uri": "https://localhost:8080/"
        },
        "id": "u_cRFQKwBFj9",
        "outputId": "d286044d-d696-4fbe-9744-36762f98a0a4"
      },
      "source": [
        "execute_cross_validation(svmLinear, Xnormal)"
      ],
      "execution_count": null,
      "outputs": [
        {
          "name": "stderr",
          "output_type": "stream",
          "text": [
            "/usr/local/lib/python3.7/dist-packages/sklearn/svm/_base.py:1208: ConvergenceWarning: Liblinear failed to converge, increase the number of iterations.\n",
            "  ConvergenceWarning,\n",
            "/usr/local/lib/python3.7/dist-packages/sklearn/svm/_base.py:1208: ConvergenceWarning: Liblinear failed to converge, increase the number of iterations.\n",
            "  ConvergenceWarning,\n",
            "/usr/local/lib/python3.7/dist-packages/sklearn/svm/_base.py:1208: ConvergenceWarning: Liblinear failed to converge, increase the number of iterations.\n",
            "  ConvergenceWarning,\n",
            "/usr/local/lib/python3.7/dist-packages/sklearn/svm/_base.py:1208: ConvergenceWarning: Liblinear failed to converge, increase the number of iterations.\n",
            "  ConvergenceWarning,\n",
            "/usr/local/lib/python3.7/dist-packages/sklearn/svm/_base.py:1208: ConvergenceWarning: Liblinear failed to converge, increase the number of iterations.\n",
            "  ConvergenceWarning,\n",
            "/usr/local/lib/python3.7/dist-packages/sklearn/svm/_base.py:1208: ConvergenceWarning: Liblinear failed to converge, increase the number of iterations.\n",
            "  ConvergenceWarning,\n"
          ]
        },
        {
          "name": "stdout",
          "output_type": "stream",
          "text": [
            "elapsed time:  0:08:41.997675\n",
            "Mean results\n",
            "Precision:  44.0  recall:  56.99999999999999  f-measure:  40.0\n",
            "Mean results\n",
            "Precision:  0.4424269304113239  recall:  0.5687927690262966  f-measure:  0.39697739656969705\n",
            "Precision max:  0.5637393767705382\n",
            "Precision min:  0.0\n",
            "recall max:  1.0\n",
            "recall min:  0.02481389578163772\n",
            "f-measure max:  0.6770219603642207\n",
            "f-measure min:  0.00990916597853014\n",
            "f-measure standard deviation:  0.2231491260075944\n",
            "f-measure standard variance:  0.04979553243795325\n"
          ]
        },
        {
          "name": "stderr",
          "output_type": "stream",
          "text": [
            "/usr/local/lib/python3.7/dist-packages/sklearn/svm/_base.py:1208: ConvergenceWarning: Liblinear failed to converge, increase the number of iterations.\n",
            "  ConvergenceWarning,\n"
          ]
        }
      ]
    },
    {
      "cell_type": "code",
      "metadata": {
        "colab": {
          "base_uri": "https://localhost:8080/"
        },
        "id": "EHgLA0wvzmjO",
        "outputId": "d3d1e907-e8ca-435d-d680-bcc0fcb2760b"
      },
      "source": [
        "execute_cross_validation(svmLinear, Xreporter_reputation)"
      ],
      "execution_count": null,
      "outputs": [
        {
          "name": "stderr",
          "output_type": "stream",
          "text": [
            "/usr/local/lib/python3.7/dist-packages/sklearn/svm/_base.py:1208: ConvergenceWarning: Liblinear failed to converge, increase the number of iterations.\n",
            "  ConvergenceWarning,\n",
            "/usr/local/lib/python3.7/dist-packages/sklearn/metrics/_classification.py:1308: UndefinedMetricWarning: Precision is ill-defined and being set to 0.0 due to no predicted samples. Use `zero_division` parameter to control this behavior.\n",
            "  _warn_prf(average, modifier, msg_start, len(result))\n",
            "/usr/local/lib/python3.7/dist-packages/sklearn/svm/_base.py:1208: ConvergenceWarning: Liblinear failed to converge, increase the number of iterations.\n",
            "  ConvergenceWarning,\n",
            "/usr/local/lib/python3.7/dist-packages/sklearn/svm/_base.py:1208: ConvergenceWarning: Liblinear failed to converge, increase the number of iterations.\n",
            "  ConvergenceWarning,\n",
            "/usr/local/lib/python3.7/dist-packages/sklearn/svm/_base.py:1208: ConvergenceWarning: Liblinear failed to converge, increase the number of iterations.\n",
            "  ConvergenceWarning,\n",
            "/usr/local/lib/python3.7/dist-packages/sklearn/svm/_base.py:1208: ConvergenceWarning: Liblinear failed to converge, increase the number of iterations.\n",
            "  ConvergenceWarning,\n",
            "/usr/local/lib/python3.7/dist-packages/sklearn/svm/_base.py:1208: ConvergenceWarning: Liblinear failed to converge, increase the number of iterations.\n",
            "  ConvergenceWarning,\n",
            "/usr/local/lib/python3.7/dist-packages/sklearn/svm/_base.py:1208: ConvergenceWarning: Liblinear failed to converge, increase the number of iterations.\n",
            "  ConvergenceWarning,\n",
            "/usr/local/lib/python3.7/dist-packages/sklearn/svm/_base.py:1208: ConvergenceWarning: Liblinear failed to converge, increase the number of iterations.\n",
            "  ConvergenceWarning,\n",
            "/usr/local/lib/python3.7/dist-packages/sklearn/svm/_base.py:1208: ConvergenceWarning: Liblinear failed to converge, increase the number of iterations.\n",
            "  ConvergenceWarning,\n",
            "/usr/local/lib/python3.7/dist-packages/sklearn/metrics/_classification.py:1308: UndefinedMetricWarning: Precision is ill-defined and being set to 0.0 due to no predicted samples. Use `zero_division` parameter to control this behavior.\n",
            "  _warn_prf(average, modifier, msg_start, len(result))\n",
            "/usr/local/lib/python3.7/dist-packages/sklearn/svm/_base.py:1208: ConvergenceWarning: Liblinear failed to converge, increase the number of iterations.\n",
            "  ConvergenceWarning,\n",
            "/usr/local/lib/python3.7/dist-packages/sklearn/svm/_base.py:1208: ConvergenceWarning: Liblinear failed to converge, increase the number of iterations.\n",
            "  ConvergenceWarning,\n",
            "/usr/local/lib/python3.7/dist-packages/sklearn/svm/_base.py:1208: ConvergenceWarning: Liblinear failed to converge, increase the number of iterations.\n",
            "  ConvergenceWarning,\n",
            "/usr/local/lib/python3.7/dist-packages/sklearn/svm/_base.py:1208: ConvergenceWarning: Liblinear failed to converge, increase the number of iterations.\n",
            "  ConvergenceWarning,\n",
            "/usr/local/lib/python3.7/dist-packages/sklearn/svm/_base.py:1208: ConvergenceWarning: Liblinear failed to converge, increase the number of iterations.\n",
            "  ConvergenceWarning,\n",
            "/usr/local/lib/python3.7/dist-packages/sklearn/svm/_base.py:1208: ConvergenceWarning: Liblinear failed to converge, increase the number of iterations.\n",
            "  ConvergenceWarning,\n",
            "/usr/local/lib/python3.7/dist-packages/sklearn/svm/_base.py:1208: ConvergenceWarning: Liblinear failed to converge, increase the number of iterations.\n",
            "  ConvergenceWarning,\n",
            "/usr/local/lib/python3.7/dist-packages/sklearn/svm/_base.py:1208: ConvergenceWarning: Liblinear failed to converge, increase the number of iterations.\n",
            "  ConvergenceWarning,\n",
            "/usr/local/lib/python3.7/dist-packages/sklearn/svm/_base.py:1208: ConvergenceWarning: Liblinear failed to converge, increase the number of iterations.\n",
            "  ConvergenceWarning,\n",
            "/usr/local/lib/python3.7/dist-packages/sklearn/svm/_base.py:1208: ConvergenceWarning: Liblinear failed to converge, increase the number of iterations.\n",
            "  ConvergenceWarning,\n",
            "/usr/local/lib/python3.7/dist-packages/sklearn/svm/_base.py:1208: ConvergenceWarning: Liblinear failed to converge, increase the number of iterations.\n",
            "  ConvergenceWarning,\n",
            "/usr/local/lib/python3.7/dist-packages/sklearn/svm/_base.py:1208: ConvergenceWarning: Liblinear failed to converge, increase the number of iterations.\n",
            "  ConvergenceWarning,\n",
            "/usr/local/lib/python3.7/dist-packages/sklearn/svm/_base.py:1208: ConvergenceWarning: Liblinear failed to converge, increase the number of iterations.\n",
            "  ConvergenceWarning,\n",
            "/usr/local/lib/python3.7/dist-packages/sklearn/svm/_base.py:1208: ConvergenceWarning: Liblinear failed to converge, increase the number of iterations.\n",
            "  ConvergenceWarning,\n",
            "/usr/local/lib/python3.7/dist-packages/sklearn/svm/_base.py:1208: ConvergenceWarning: Liblinear failed to converge, increase the number of iterations.\n",
            "  ConvergenceWarning,\n",
            "/usr/local/lib/python3.7/dist-packages/sklearn/svm/_base.py:1208: ConvergenceWarning: Liblinear failed to converge, increase the number of iterations.\n",
            "  ConvergenceWarning,\n",
            "/usr/local/lib/python3.7/dist-packages/sklearn/svm/_base.py:1208: ConvergenceWarning: Liblinear failed to converge, increase the number of iterations.\n",
            "  ConvergenceWarning,\n",
            "/usr/local/lib/python3.7/dist-packages/sklearn/svm/_base.py:1208: ConvergenceWarning: Liblinear failed to converge, increase the number of iterations.\n",
            "  ConvergenceWarning,\n",
            "/usr/local/lib/python3.7/dist-packages/sklearn/svm/_base.py:1208: ConvergenceWarning: Liblinear failed to converge, increase the number of iterations.\n",
            "  ConvergenceWarning,\n",
            "/usr/local/lib/python3.7/dist-packages/sklearn/svm/_base.py:1208: ConvergenceWarning: Liblinear failed to converge, increase the number of iterations.\n",
            "  ConvergenceWarning,\n"
          ]
        },
        {
          "name": "stdout",
          "output_type": "stream",
          "text": [
            "elapsed time:  0:09:21.169724\n",
            "Mean results\n",
            "Precision:  42.0  recall:  69.0  f-measure:  39.0\n",
            "Mean results\n",
            "Precision:  0.4231668558348519  recall:  0.6908899476805941  f-measure:  0.39064982310110674\n",
            "Precision max:  0.6666666666666666\n",
            "Precision min:  0.0\n",
            "recall max:  1.0\n",
            "recall min:  0.0\n",
            "f-measure max:  0.6632404652420882\n",
            "f-measure min:  0.0\n",
            "f-measure standard deviation:  0.2268834931968299\n",
            "f-measure standard variance:  0.05147611948519597\n"
          ]
        },
        {
          "name": "stderr",
          "output_type": "stream",
          "text": [
            "/usr/local/lib/python3.7/dist-packages/sklearn/svm/_base.py:1208: ConvergenceWarning: Liblinear failed to converge, increase the number of iterations.\n",
            "  ConvergenceWarning,\n"
          ]
        }
      ]
    },
    {
      "cell_type": "code",
      "metadata": {
        "colab": {
          "base_uri": "https://localhost:8080/"
        },
        "id": "0J5cOw2qzoql",
        "outputId": "fd70b156-f42e-48ad-c812-0d999f822733"
      },
      "source": [
        "execute_cross_validation(svmLinear, Xdeveloper_reputation)"
      ],
      "execution_count": null,
      "outputs": [
        {
          "name": "stderr",
          "output_type": "stream",
          "text": [
            "/usr/local/lib/python3.7/dist-packages/sklearn/svm/_base.py:1208: ConvergenceWarning: Liblinear failed to converge, increase the number of iterations.\n",
            "  ConvergenceWarning,\n",
            "/usr/local/lib/python3.7/dist-packages/sklearn/svm/_base.py:1208: ConvergenceWarning: Liblinear failed to converge, increase the number of iterations.\n",
            "  ConvergenceWarning,\n",
            "/usr/local/lib/python3.7/dist-packages/sklearn/svm/_base.py:1208: ConvergenceWarning: Liblinear failed to converge, increase the number of iterations.\n",
            "  ConvergenceWarning,\n",
            "/usr/local/lib/python3.7/dist-packages/sklearn/svm/_base.py:1208: ConvergenceWarning: Liblinear failed to converge, increase the number of iterations.\n",
            "  ConvergenceWarning,\n",
            "/usr/local/lib/python3.7/dist-packages/sklearn/svm/_base.py:1208: ConvergenceWarning: Liblinear failed to converge, increase the number of iterations.\n",
            "  ConvergenceWarning,\n",
            "/usr/local/lib/python3.7/dist-packages/sklearn/svm/_base.py:1208: ConvergenceWarning: Liblinear failed to converge, increase the number of iterations.\n",
            "  ConvergenceWarning,\n",
            "/usr/local/lib/python3.7/dist-packages/sklearn/metrics/_classification.py:1308: UndefinedMetricWarning: Precision is ill-defined and being set to 0.0 due to no predicted samples. Use `zero_division` parameter to control this behavior.\n",
            "  _warn_prf(average, modifier, msg_start, len(result))\n",
            "/usr/local/lib/python3.7/dist-packages/sklearn/svm/_base.py:1208: ConvergenceWarning: Liblinear failed to converge, increase the number of iterations.\n",
            "  ConvergenceWarning,\n",
            "/usr/local/lib/python3.7/dist-packages/sklearn/svm/_base.py:1208: ConvergenceWarning: Liblinear failed to converge, increase the number of iterations.\n",
            "  ConvergenceWarning,\n",
            "/usr/local/lib/python3.7/dist-packages/sklearn/svm/_base.py:1208: ConvergenceWarning: Liblinear failed to converge, increase the number of iterations.\n",
            "  ConvergenceWarning,\n",
            "/usr/local/lib/python3.7/dist-packages/sklearn/svm/_base.py:1208: ConvergenceWarning: Liblinear failed to converge, increase the number of iterations.\n",
            "  ConvergenceWarning,\n",
            "/usr/local/lib/python3.7/dist-packages/sklearn/svm/_base.py:1208: ConvergenceWarning: Liblinear failed to converge, increase the number of iterations.\n",
            "  ConvergenceWarning,\n",
            "/usr/local/lib/python3.7/dist-packages/sklearn/svm/_base.py:1208: ConvergenceWarning: Liblinear failed to converge, increase the number of iterations.\n",
            "  ConvergenceWarning,\n",
            "/usr/local/lib/python3.7/dist-packages/sklearn/svm/_base.py:1208: ConvergenceWarning: Liblinear failed to converge, increase the number of iterations.\n",
            "  ConvergenceWarning,\n",
            "/usr/local/lib/python3.7/dist-packages/sklearn/svm/_base.py:1208: ConvergenceWarning: Liblinear failed to converge, increase the number of iterations.\n",
            "  ConvergenceWarning,\n",
            "/usr/local/lib/python3.7/dist-packages/sklearn/svm/_base.py:1208: ConvergenceWarning: Liblinear failed to converge, increase the number of iterations.\n",
            "  ConvergenceWarning,\n",
            "/usr/local/lib/python3.7/dist-packages/sklearn/svm/_base.py:1208: ConvergenceWarning: Liblinear failed to converge, increase the number of iterations.\n",
            "  ConvergenceWarning,\n",
            "/usr/local/lib/python3.7/dist-packages/sklearn/svm/_base.py:1208: ConvergenceWarning: Liblinear failed to converge, increase the number of iterations.\n",
            "  ConvergenceWarning,\n",
            "/usr/local/lib/python3.7/dist-packages/sklearn/svm/_base.py:1208: ConvergenceWarning: Liblinear failed to converge, increase the number of iterations.\n",
            "  ConvergenceWarning,\n",
            "/usr/local/lib/python3.7/dist-packages/sklearn/svm/_base.py:1208: ConvergenceWarning: Liblinear failed to converge, increase the number of iterations.\n",
            "  ConvergenceWarning,\n",
            "/usr/local/lib/python3.7/dist-packages/sklearn/svm/_base.py:1208: ConvergenceWarning: Liblinear failed to converge, increase the number of iterations.\n",
            "  ConvergenceWarning,\n",
            "/usr/local/lib/python3.7/dist-packages/sklearn/svm/_base.py:1208: ConvergenceWarning: Liblinear failed to converge, increase the number of iterations.\n",
            "  ConvergenceWarning,\n",
            "/usr/local/lib/python3.7/dist-packages/sklearn/svm/_base.py:1208: ConvergenceWarning: Liblinear failed to converge, increase the number of iterations.\n",
            "  ConvergenceWarning,\n",
            "/usr/local/lib/python3.7/dist-packages/sklearn/svm/_base.py:1208: ConvergenceWarning: Liblinear failed to converge, increase the number of iterations.\n",
            "  ConvergenceWarning,\n",
            "/usr/local/lib/python3.7/dist-packages/sklearn/svm/_base.py:1208: ConvergenceWarning: Liblinear failed to converge, increase the number of iterations.\n",
            "  ConvergenceWarning,\n",
            "/usr/local/lib/python3.7/dist-packages/sklearn/svm/_base.py:1208: ConvergenceWarning: Liblinear failed to converge, increase the number of iterations.\n",
            "  ConvergenceWarning,\n",
            "/usr/local/lib/python3.7/dist-packages/sklearn/svm/_base.py:1208: ConvergenceWarning: Liblinear failed to converge, increase the number of iterations.\n",
            "  ConvergenceWarning,\n",
            "/usr/local/lib/python3.7/dist-packages/sklearn/svm/_base.py:1208: ConvergenceWarning: Liblinear failed to converge, increase the number of iterations.\n",
            "  ConvergenceWarning,\n",
            "/usr/local/lib/python3.7/dist-packages/sklearn/svm/_base.py:1208: ConvergenceWarning: Liblinear failed to converge, increase the number of iterations.\n",
            "  ConvergenceWarning,\n",
            "/usr/local/lib/python3.7/dist-packages/sklearn/svm/_base.py:1208: ConvergenceWarning: Liblinear failed to converge, increase the number of iterations.\n",
            "  ConvergenceWarning,\n"
          ]
        },
        {
          "name": "stdout",
          "output_type": "stream",
          "text": [
            "elapsed time:  0:09:12.272151\n",
            "Mean results\n",
            "Precision:  49.0  recall:  44.0  f-measure:  42.0\n",
            "Mean results\n",
            "Precision:  0.4888683710503175  recall:  0.44262630840586176  f-measure:  0.42061469080334524\n",
            "Precision max:  0.6666666666666666\n",
            "Precision min:  0.0\n",
            "recall max:  0.9734939759036144\n",
            "recall min:  0.0\n",
            "f-measure max:  0.6679245283018868\n",
            "f-measure min:  0.0\n",
            "f-measure standard deviation:  0.1998651029040442\n",
            "f-measure standard variance:  0.03994605935884417\n"
          ]
        },
        {
          "name": "stderr",
          "output_type": "stream",
          "text": [
            "/usr/local/lib/python3.7/dist-packages/sklearn/svm/_base.py:1208: ConvergenceWarning: Liblinear failed to converge, increase the number of iterations.\n",
            "  ConvergenceWarning,\n"
          ]
        }
      ]
    },
    {
      "cell_type": "code",
      "metadata": {
        "colab": {
          "base_uri": "https://localhost:8080/"
        },
        "id": "a2XtTdaKBFj-",
        "outputId": "ac64a719-06a8-40ef-e0f8-9fc99d45d35b"
      },
      "source": [
        "execute_cross_validation(svmLinear, Xreputation)"
      ],
      "execution_count": null,
      "outputs": [
        {
          "name": "stderr",
          "output_type": "stream",
          "text": [
            "/usr/local/lib/python3.7/dist-packages/sklearn/svm/_base.py:1208: ConvergenceWarning: Liblinear failed to converge, increase the number of iterations.\n",
            "  ConvergenceWarning,\n",
            "/usr/local/lib/python3.7/dist-packages/sklearn/svm/_base.py:1208: ConvergenceWarning: Liblinear failed to converge, increase the number of iterations.\n",
            "  ConvergenceWarning,\n",
            "/usr/local/lib/python3.7/dist-packages/sklearn/svm/_base.py:1208: ConvergenceWarning: Liblinear failed to converge, increase the number of iterations.\n",
            "  ConvergenceWarning,\n",
            "/usr/local/lib/python3.7/dist-packages/sklearn/svm/_base.py:1208: ConvergenceWarning: Liblinear failed to converge, increase the number of iterations.\n",
            "  ConvergenceWarning,\n",
            "/usr/local/lib/python3.7/dist-packages/sklearn/svm/_base.py:1208: ConvergenceWarning: Liblinear failed to converge, increase the number of iterations.\n",
            "  ConvergenceWarning,\n",
            "/usr/local/lib/python3.7/dist-packages/sklearn/svm/_base.py:1208: ConvergenceWarning: Liblinear failed to converge, increase the number of iterations.\n",
            "  ConvergenceWarning,\n",
            "/usr/local/lib/python3.7/dist-packages/sklearn/svm/_base.py:1208: ConvergenceWarning: Liblinear failed to converge, increase the number of iterations.\n",
            "  ConvergenceWarning,\n",
            "/usr/local/lib/python3.7/dist-packages/sklearn/svm/_base.py:1208: ConvergenceWarning: Liblinear failed to converge, increase the number of iterations.\n",
            "  ConvergenceWarning,\n",
            "/usr/local/lib/python3.7/dist-packages/sklearn/svm/_base.py:1208: ConvergenceWarning: Liblinear failed to converge, increase the number of iterations.\n",
            "  ConvergenceWarning,\n",
            "/usr/local/lib/python3.7/dist-packages/sklearn/svm/_base.py:1208: ConvergenceWarning: Liblinear failed to converge, increase the number of iterations.\n",
            "  ConvergenceWarning,\n",
            "/usr/local/lib/python3.7/dist-packages/sklearn/metrics/_classification.py:1308: UndefinedMetricWarning: Precision is ill-defined and being set to 0.0 due to no predicted samples. Use `zero_division` parameter to control this behavior.\n",
            "  _warn_prf(average, modifier, msg_start, len(result))\n",
            "/usr/local/lib/python3.7/dist-packages/sklearn/svm/_base.py:1208: ConvergenceWarning: Liblinear failed to converge, increase the number of iterations.\n",
            "  ConvergenceWarning,\n",
            "/usr/local/lib/python3.7/dist-packages/sklearn/svm/_base.py:1208: ConvergenceWarning: Liblinear failed to converge, increase the number of iterations.\n",
            "  ConvergenceWarning,\n",
            "/usr/local/lib/python3.7/dist-packages/sklearn/svm/_base.py:1208: ConvergenceWarning: Liblinear failed to converge, increase the number of iterations.\n",
            "  ConvergenceWarning,\n",
            "/usr/local/lib/python3.7/dist-packages/sklearn/svm/_base.py:1208: ConvergenceWarning: Liblinear failed to converge, increase the number of iterations.\n",
            "  ConvergenceWarning,\n",
            "/usr/local/lib/python3.7/dist-packages/sklearn/svm/_base.py:1208: ConvergenceWarning: Liblinear failed to converge, increase the number of iterations.\n",
            "  ConvergenceWarning,\n",
            "/usr/local/lib/python3.7/dist-packages/sklearn/svm/_base.py:1208: ConvergenceWarning: Liblinear failed to converge, increase the number of iterations.\n",
            "  ConvergenceWarning,\n",
            "/usr/local/lib/python3.7/dist-packages/sklearn/svm/_base.py:1208: ConvergenceWarning: Liblinear failed to converge, increase the number of iterations.\n",
            "  ConvergenceWarning,\n",
            "/usr/local/lib/python3.7/dist-packages/sklearn/svm/_base.py:1208: ConvergenceWarning: Liblinear failed to converge, increase the number of iterations.\n",
            "  ConvergenceWarning,\n",
            "/usr/local/lib/python3.7/dist-packages/sklearn/svm/_base.py:1208: ConvergenceWarning: Liblinear failed to converge, increase the number of iterations.\n",
            "  ConvergenceWarning,\n",
            "/usr/local/lib/python3.7/dist-packages/sklearn/svm/_base.py:1208: ConvergenceWarning: Liblinear failed to converge, increase the number of iterations.\n",
            "  ConvergenceWarning,\n",
            "/usr/local/lib/python3.7/dist-packages/sklearn/svm/_base.py:1208: ConvergenceWarning: Liblinear failed to converge, increase the number of iterations.\n",
            "  ConvergenceWarning,\n",
            "/usr/local/lib/python3.7/dist-packages/sklearn/svm/_base.py:1208: ConvergenceWarning: Liblinear failed to converge, increase the number of iterations.\n",
            "  ConvergenceWarning,\n",
            "/usr/local/lib/python3.7/dist-packages/sklearn/svm/_base.py:1208: ConvergenceWarning: Liblinear failed to converge, increase the number of iterations.\n",
            "  ConvergenceWarning,\n",
            "/usr/local/lib/python3.7/dist-packages/sklearn/svm/_base.py:1208: ConvergenceWarning: Liblinear failed to converge, increase the number of iterations.\n",
            "  ConvergenceWarning,\n",
            "/usr/local/lib/python3.7/dist-packages/sklearn/svm/_base.py:1208: ConvergenceWarning: Liblinear failed to converge, increase the number of iterations.\n",
            "  ConvergenceWarning,\n",
            "/usr/local/lib/python3.7/dist-packages/sklearn/svm/_base.py:1208: ConvergenceWarning: Liblinear failed to converge, increase the number of iterations.\n",
            "  ConvergenceWarning,\n",
            "/usr/local/lib/python3.7/dist-packages/sklearn/svm/_base.py:1208: ConvergenceWarning: Liblinear failed to converge, increase the number of iterations.\n",
            "  ConvergenceWarning,\n",
            "/usr/local/lib/python3.7/dist-packages/sklearn/svm/_base.py:1208: ConvergenceWarning: Liblinear failed to converge, increase the number of iterations.\n",
            "  ConvergenceWarning,\n",
            "/usr/local/lib/python3.7/dist-packages/sklearn/svm/_base.py:1208: ConvergenceWarning: Liblinear failed to converge, increase the number of iterations.\n",
            "  ConvergenceWarning,\n"
          ]
        },
        {
          "name": "stdout",
          "output_type": "stream",
          "text": [
            "elapsed time:  0:10:19.762941\n",
            "Mean results\n",
            "Precision:  51.0  recall:  52.0  f-measure:  25.0\n",
            "Mean results\n",
            "Precision:  0.5135471090217594  recall:  0.516235937746333  f-measure:  0.248033970944173\n",
            "Precision max:  1.0\n",
            "Precision min:  0.0\n",
            "recall max:  1.0\n",
            "recall min:  0.10277324632952692\n",
            "f-measure max:  0.6617925805578121\n",
            "f-measure min:  0.0\n",
            "f-measure standard deviation:  0.2639891474448924\n",
            "f-measure standard variance:  0.06969026996868112\n"
          ]
        },
        {
          "name": "stderr",
          "output_type": "stream",
          "text": [
            "/usr/local/lib/python3.7/dist-packages/sklearn/svm/_base.py:1208: ConvergenceWarning: Liblinear failed to converge, increase the number of iterations.\n",
            "  ConvergenceWarning,\n"
          ]
        }
      ]
    },
    {
      "cell_type": "code",
      "metadata": {
        "colab": {
          "base_uri": "https://localhost:8080/"
        },
        "id": "ah9qg9RLBml3",
        "outputId": "92bd8b1a-11a3-4da0-e909-fdbaf6d46c4c"
      },
      "source": [
        "execute_cross_validation(svmLinear, Xreporter_rating)"
      ],
      "execution_count": null,
      "outputs": [
        {
          "name": "stderr",
          "output_type": "stream",
          "text": [
            "/usr/local/lib/python3.7/dist-packages/sklearn/svm/_base.py:1208: ConvergenceWarning: Liblinear failed to converge, increase the number of iterations.\n",
            "  ConvergenceWarning,\n",
            "/usr/local/lib/python3.7/dist-packages/sklearn/svm/_base.py:1208: ConvergenceWarning: Liblinear failed to converge, increase the number of iterations.\n",
            "  ConvergenceWarning,\n",
            "/usr/local/lib/python3.7/dist-packages/sklearn/svm/_base.py:1208: ConvergenceWarning: Liblinear failed to converge, increase the number of iterations.\n",
            "  ConvergenceWarning,\n",
            "/usr/local/lib/python3.7/dist-packages/sklearn/metrics/_classification.py:1308: UndefinedMetricWarning: Precision is ill-defined and being set to 0.0 due to no predicted samples. Use `zero_division` parameter to control this behavior.\n",
            "  _warn_prf(average, modifier, msg_start, len(result))\n",
            "/usr/local/lib/python3.7/dist-packages/sklearn/svm/_base.py:1208: ConvergenceWarning: Liblinear failed to converge, increase the number of iterations.\n",
            "  ConvergenceWarning,\n",
            "/usr/local/lib/python3.7/dist-packages/sklearn/svm/_base.py:1208: ConvergenceWarning: Liblinear failed to converge, increase the number of iterations.\n",
            "  ConvergenceWarning,\n",
            "/usr/local/lib/python3.7/dist-packages/sklearn/svm/_base.py:1208: ConvergenceWarning: Liblinear failed to converge, increase the number of iterations.\n",
            "  ConvergenceWarning,\n",
            "/usr/local/lib/python3.7/dist-packages/sklearn/svm/_base.py:1208: ConvergenceWarning: Liblinear failed to converge, increase the number of iterations.\n",
            "  ConvergenceWarning,\n",
            "/usr/local/lib/python3.7/dist-packages/sklearn/svm/_base.py:1208: ConvergenceWarning: Liblinear failed to converge, increase the number of iterations.\n",
            "  ConvergenceWarning,\n",
            "/usr/local/lib/python3.7/dist-packages/sklearn/svm/_base.py:1208: ConvergenceWarning: Liblinear failed to converge, increase the number of iterations.\n",
            "  ConvergenceWarning,\n",
            "/usr/local/lib/python3.7/dist-packages/sklearn/svm/_base.py:1208: ConvergenceWarning: Liblinear failed to converge, increase the number of iterations.\n",
            "  ConvergenceWarning,\n",
            "/usr/local/lib/python3.7/dist-packages/sklearn/svm/_base.py:1208: ConvergenceWarning: Liblinear failed to converge, increase the number of iterations.\n",
            "  ConvergenceWarning,\n",
            "/usr/local/lib/python3.7/dist-packages/sklearn/svm/_base.py:1208: ConvergenceWarning: Liblinear failed to converge, increase the number of iterations.\n",
            "  ConvergenceWarning,\n",
            "/usr/local/lib/python3.7/dist-packages/sklearn/svm/_base.py:1208: ConvergenceWarning: Liblinear failed to converge, increase the number of iterations.\n",
            "  ConvergenceWarning,\n",
            "/usr/local/lib/python3.7/dist-packages/sklearn/svm/_base.py:1208: ConvergenceWarning: Liblinear failed to converge, increase the number of iterations.\n",
            "  ConvergenceWarning,\n",
            "/usr/local/lib/python3.7/dist-packages/sklearn/svm/_base.py:1208: ConvergenceWarning: Liblinear failed to converge, increase the number of iterations.\n",
            "  ConvergenceWarning,\n",
            "/usr/local/lib/python3.7/dist-packages/sklearn/svm/_base.py:1208: ConvergenceWarning: Liblinear failed to converge, increase the number of iterations.\n",
            "  ConvergenceWarning,\n",
            "/usr/local/lib/python3.7/dist-packages/sklearn/svm/_base.py:1208: ConvergenceWarning: Liblinear failed to converge, increase the number of iterations.\n",
            "  ConvergenceWarning,\n",
            "/usr/local/lib/python3.7/dist-packages/sklearn/svm/_base.py:1208: ConvergenceWarning: Liblinear failed to converge, increase the number of iterations.\n",
            "  ConvergenceWarning,\n",
            "/usr/local/lib/python3.7/dist-packages/sklearn/svm/_base.py:1208: ConvergenceWarning: Liblinear failed to converge, increase the number of iterations.\n",
            "  ConvergenceWarning,\n",
            "/usr/local/lib/python3.7/dist-packages/sklearn/svm/_base.py:1208: ConvergenceWarning: Liblinear failed to converge, increase the number of iterations.\n",
            "  ConvergenceWarning,\n",
            "/usr/local/lib/python3.7/dist-packages/sklearn/svm/_base.py:1208: ConvergenceWarning: Liblinear failed to converge, increase the number of iterations.\n",
            "  ConvergenceWarning,\n",
            "/usr/local/lib/python3.7/dist-packages/sklearn/svm/_base.py:1208: ConvergenceWarning: Liblinear failed to converge, increase the number of iterations.\n",
            "  ConvergenceWarning,\n",
            "/usr/local/lib/python3.7/dist-packages/sklearn/svm/_base.py:1208: ConvergenceWarning: Liblinear failed to converge, increase the number of iterations.\n",
            "  ConvergenceWarning,\n",
            "/usr/local/lib/python3.7/dist-packages/sklearn/svm/_base.py:1208: ConvergenceWarning: Liblinear failed to converge, increase the number of iterations.\n",
            "  ConvergenceWarning,\n",
            "/usr/local/lib/python3.7/dist-packages/sklearn/svm/_base.py:1208: ConvergenceWarning: Liblinear failed to converge, increase the number of iterations.\n",
            "  ConvergenceWarning,\n",
            "/usr/local/lib/python3.7/dist-packages/sklearn/svm/_base.py:1208: ConvergenceWarning: Liblinear failed to converge, increase the number of iterations.\n",
            "  ConvergenceWarning,\n",
            "/usr/local/lib/python3.7/dist-packages/sklearn/svm/_base.py:1208: ConvergenceWarning: Liblinear failed to converge, increase the number of iterations.\n",
            "  ConvergenceWarning,\n",
            "/usr/local/lib/python3.7/dist-packages/sklearn/svm/_base.py:1208: ConvergenceWarning: Liblinear failed to converge, increase the number of iterations.\n",
            "  ConvergenceWarning,\n",
            "/usr/local/lib/python3.7/dist-packages/sklearn/svm/_base.py:1208: ConvergenceWarning: Liblinear failed to converge, increase the number of iterations.\n",
            "  ConvergenceWarning,\n"
          ]
        },
        {
          "name": "stdout",
          "output_type": "stream",
          "text": [
            "elapsed time:  0:09:37.883271\n",
            "Mean results\n",
            "Precision:  50.0  recall:  61.0  f-measure:  35.0\n",
            "Mean results\n",
            "Precision:  0.4988651895098779  recall:  0.6092955713243179  f-measure:  0.35230746207007035\n",
            "Precision max:  0.7878787878787878\n",
            "Precision min:  0.0\n",
            "recall max:  0.998351195383347\n",
            "recall min:  0.0\n",
            "f-measure max:  0.665045921123717\n",
            "f-measure min:  0.0\n",
            "f-measure standard deviation:  0.21506350814545558\n",
            "f-measure standard variance:  0.04625231253583044\n"
          ]
        },
        {
          "name": "stderr",
          "output_type": "stream",
          "text": [
            "/usr/local/lib/python3.7/dist-packages/sklearn/svm/_base.py:1208: ConvergenceWarning: Liblinear failed to converge, increase the number of iterations.\n",
            "  ConvergenceWarning,\n"
          ]
        }
      ]
    },
    {
      "cell_type": "code",
      "metadata": {
        "colab": {
          "base_uri": "https://localhost:8080/"
        },
        "id": "nNlI5FJTBqGA",
        "outputId": "e15b8aa5-de93-41cf-de4d-70a5f16ffc92"
      },
      "source": [
        "execute_cross_validation(svmLinear, XratingAvg)"
      ],
      "execution_count": null,
      "outputs": [
        {
          "name": "stderr",
          "output_type": "stream",
          "text": [
            "/usr/local/lib/python3.7/dist-packages/sklearn/svm/_base.py:1208: ConvergenceWarning: Liblinear failed to converge, increase the number of iterations.\n",
            "  ConvergenceWarning,\n",
            "/usr/local/lib/python3.7/dist-packages/sklearn/svm/_base.py:1208: ConvergenceWarning: Liblinear failed to converge, increase the number of iterations.\n",
            "  ConvergenceWarning,\n",
            "/usr/local/lib/python3.7/dist-packages/sklearn/svm/_base.py:1208: ConvergenceWarning: Liblinear failed to converge, increase the number of iterations.\n",
            "  ConvergenceWarning,\n",
            "/usr/local/lib/python3.7/dist-packages/sklearn/svm/_base.py:1208: ConvergenceWarning: Liblinear failed to converge, increase the number of iterations.\n",
            "  ConvergenceWarning,\n",
            "/usr/local/lib/python3.7/dist-packages/sklearn/svm/_base.py:1208: ConvergenceWarning: Liblinear failed to converge, increase the number of iterations.\n",
            "  ConvergenceWarning,\n",
            "/usr/local/lib/python3.7/dist-packages/sklearn/svm/_base.py:1208: ConvergenceWarning: Liblinear failed to converge, increase the number of iterations.\n",
            "  ConvergenceWarning,\n",
            "/usr/local/lib/python3.7/dist-packages/sklearn/svm/_base.py:1208: ConvergenceWarning: Liblinear failed to converge, increase the number of iterations.\n",
            "  ConvergenceWarning,\n",
            "/usr/local/lib/python3.7/dist-packages/sklearn/svm/_base.py:1208: ConvergenceWarning: Liblinear failed to converge, increase the number of iterations.\n",
            "  ConvergenceWarning,\n",
            "/usr/local/lib/python3.7/dist-packages/sklearn/svm/_base.py:1208: ConvergenceWarning: Liblinear failed to converge, increase the number of iterations.\n",
            "  ConvergenceWarning,\n",
            "/usr/local/lib/python3.7/dist-packages/sklearn/svm/_base.py:1208: ConvergenceWarning: Liblinear failed to converge, increase the number of iterations.\n",
            "  ConvergenceWarning,\n",
            "/usr/local/lib/python3.7/dist-packages/sklearn/svm/_base.py:1208: ConvergenceWarning: Liblinear failed to converge, increase the number of iterations.\n",
            "  ConvergenceWarning,\n",
            "/usr/local/lib/python3.7/dist-packages/sklearn/svm/_base.py:1208: ConvergenceWarning: Liblinear failed to converge, increase the number of iterations.\n",
            "  ConvergenceWarning,\n",
            "/usr/local/lib/python3.7/dist-packages/sklearn/svm/_base.py:1208: ConvergenceWarning: Liblinear failed to converge, increase the number of iterations.\n",
            "  ConvergenceWarning,\n",
            "/usr/local/lib/python3.7/dist-packages/sklearn/svm/_base.py:1208: ConvergenceWarning: Liblinear failed to converge, increase the number of iterations.\n",
            "  ConvergenceWarning,\n",
            "/usr/local/lib/python3.7/dist-packages/sklearn/svm/_base.py:1208: ConvergenceWarning: Liblinear failed to converge, increase the number of iterations.\n",
            "  ConvergenceWarning,\n",
            "/usr/local/lib/python3.7/dist-packages/sklearn/svm/_base.py:1208: ConvergenceWarning: Liblinear failed to converge, increase the number of iterations.\n",
            "  ConvergenceWarning,\n",
            "/usr/local/lib/python3.7/dist-packages/sklearn/svm/_base.py:1208: ConvergenceWarning: Liblinear failed to converge, increase the number of iterations.\n",
            "  ConvergenceWarning,\n",
            "/usr/local/lib/python3.7/dist-packages/sklearn/svm/_base.py:1208: ConvergenceWarning: Liblinear failed to converge, increase the number of iterations.\n",
            "  ConvergenceWarning,\n",
            "/usr/local/lib/python3.7/dist-packages/sklearn/svm/_base.py:1208: ConvergenceWarning: Liblinear failed to converge, increase the number of iterations.\n",
            "  ConvergenceWarning,\n",
            "/usr/local/lib/python3.7/dist-packages/sklearn/svm/_base.py:1208: ConvergenceWarning: Liblinear failed to converge, increase the number of iterations.\n",
            "  ConvergenceWarning,\n",
            "/usr/local/lib/python3.7/dist-packages/sklearn/svm/_base.py:1208: ConvergenceWarning: Liblinear failed to converge, increase the number of iterations.\n",
            "  ConvergenceWarning,\n",
            "/usr/local/lib/python3.7/dist-packages/sklearn/svm/_base.py:1208: ConvergenceWarning: Liblinear failed to converge, increase the number of iterations.\n",
            "  ConvergenceWarning,\n",
            "/usr/local/lib/python3.7/dist-packages/sklearn/svm/_base.py:1208: ConvergenceWarning: Liblinear failed to converge, increase the number of iterations.\n",
            "  ConvergenceWarning,\n",
            "/usr/local/lib/python3.7/dist-packages/sklearn/svm/_base.py:1208: ConvergenceWarning: Liblinear failed to converge, increase the number of iterations.\n",
            "  ConvergenceWarning,\n",
            "/usr/local/lib/python3.7/dist-packages/sklearn/svm/_base.py:1208: ConvergenceWarning: Liblinear failed to converge, increase the number of iterations.\n",
            "  ConvergenceWarning,\n",
            "/usr/local/lib/python3.7/dist-packages/sklearn/svm/_base.py:1208: ConvergenceWarning: Liblinear failed to converge, increase the number of iterations.\n",
            "  ConvergenceWarning,\n",
            "/usr/local/lib/python3.7/dist-packages/sklearn/svm/_base.py:1208: ConvergenceWarning: Liblinear failed to converge, increase the number of iterations.\n",
            "  ConvergenceWarning,\n",
            "/usr/local/lib/python3.7/dist-packages/sklearn/svm/_base.py:1208: ConvergenceWarning: Liblinear failed to converge, increase the number of iterations.\n",
            "  ConvergenceWarning,\n",
            "/usr/local/lib/python3.7/dist-packages/sklearn/svm/_base.py:1208: ConvergenceWarning: Liblinear failed to converge, increase the number of iterations.\n",
            "  ConvergenceWarning,\n"
          ]
        },
        {
          "name": "stdout",
          "output_type": "stream",
          "text": [
            "elapsed time:  0:10:32.845294\n",
            "Mean results\n",
            "Precision:  65.0  recall:  52.0  f-measure:  36.0\n",
            "Mean results\n",
            "Precision:  0.653852995319198  recall:  0.5226382708264101  f-measure:  0.3643205178615321\n",
            "Precision max:  1.0\n",
            "Precision min:  0.4967585089141005\n",
            "recall max:  1.0\n",
            "recall min:  0.048559670781893\n",
            "f-measure max:  0.5654984688669615\n",
            "f-measure min:  0.008547008547008548\n",
            "f-measure standard deviation:  0.23825064599005727\n",
            "f-measure standard variance:  0.056763370314679595\n"
          ]
        },
        {
          "name": "stderr",
          "output_type": "stream",
          "text": [
            "/usr/local/lib/python3.7/dist-packages/sklearn/svm/_base.py:1208: ConvergenceWarning: Liblinear failed to converge, increase the number of iterations.\n",
            "  ConvergenceWarning,\n"
          ]
        }
      ]
    },
    {
      "cell_type": "code",
      "metadata": {
        "colab": {
          "base_uri": "https://localhost:8080/"
        },
        "id": "EqNENyGYxUS1",
        "outputId": "418d27c4-6ad6-416e-8347-74a8533b2cd1"
      },
      "source": [
        "execute_cross_validation(svmLinear, Xdeveloper_rating)"
      ],
      "execution_count": null,
      "outputs": [
        {
          "name": "stderr",
          "output_type": "stream",
          "text": [
            "/usr/local/lib/python3.7/dist-packages/sklearn/svm/_base.py:1208: ConvergenceWarning: Liblinear failed to converge, increase the number of iterations.\n",
            "  ConvergenceWarning,\n",
            "/usr/local/lib/python3.7/dist-packages/sklearn/svm/_base.py:1208: ConvergenceWarning: Liblinear failed to converge, increase the number of iterations.\n",
            "  ConvergenceWarning,\n",
            "/usr/local/lib/python3.7/dist-packages/sklearn/svm/_base.py:1208: ConvergenceWarning: Liblinear failed to converge, increase the number of iterations.\n",
            "  ConvergenceWarning,\n",
            "/usr/local/lib/python3.7/dist-packages/sklearn/svm/_base.py:1208: ConvergenceWarning: Liblinear failed to converge, increase the number of iterations.\n",
            "  ConvergenceWarning,\n",
            "/usr/local/lib/python3.7/dist-packages/sklearn/svm/_base.py:1208: ConvergenceWarning: Liblinear failed to converge, increase the number of iterations.\n",
            "  ConvergenceWarning,\n",
            "/usr/local/lib/python3.7/dist-packages/sklearn/svm/_base.py:1208: ConvergenceWarning: Liblinear failed to converge, increase the number of iterations.\n",
            "  ConvergenceWarning,\n",
            "/usr/local/lib/python3.7/dist-packages/sklearn/svm/_base.py:1208: ConvergenceWarning: Liblinear failed to converge, increase the number of iterations.\n",
            "  ConvergenceWarning,\n",
            "/usr/local/lib/python3.7/dist-packages/sklearn/svm/_base.py:1208: ConvergenceWarning: Liblinear failed to converge, increase the number of iterations.\n",
            "  ConvergenceWarning,\n",
            "/usr/local/lib/python3.7/dist-packages/sklearn/svm/_base.py:1208: ConvergenceWarning: Liblinear failed to converge, increase the number of iterations.\n",
            "  ConvergenceWarning,\n",
            "/usr/local/lib/python3.7/dist-packages/sklearn/svm/_base.py:1208: ConvergenceWarning: Liblinear failed to converge, increase the number of iterations.\n",
            "  ConvergenceWarning,\n",
            "/usr/local/lib/python3.7/dist-packages/sklearn/svm/_base.py:1208: ConvergenceWarning: Liblinear failed to converge, increase the number of iterations.\n",
            "  ConvergenceWarning,\n",
            "/usr/local/lib/python3.7/dist-packages/sklearn/svm/_base.py:1208: ConvergenceWarning: Liblinear failed to converge, increase the number of iterations.\n",
            "  ConvergenceWarning,\n",
            "/usr/local/lib/python3.7/dist-packages/sklearn/svm/_base.py:1208: ConvergenceWarning: Liblinear failed to converge, increase the number of iterations.\n",
            "  ConvergenceWarning,\n",
            "/usr/local/lib/python3.7/dist-packages/sklearn/svm/_base.py:1208: ConvergenceWarning: Liblinear failed to converge, increase the number of iterations.\n",
            "  ConvergenceWarning,\n",
            "/usr/local/lib/python3.7/dist-packages/sklearn/svm/_base.py:1208: ConvergenceWarning: Liblinear failed to converge, increase the number of iterations.\n",
            "  ConvergenceWarning,\n",
            "/usr/local/lib/python3.7/dist-packages/sklearn/svm/_base.py:1208: ConvergenceWarning: Liblinear failed to converge, increase the number of iterations.\n",
            "  ConvergenceWarning,\n",
            "/usr/local/lib/python3.7/dist-packages/sklearn/svm/_base.py:1208: ConvergenceWarning: Liblinear failed to converge, increase the number of iterations.\n",
            "  ConvergenceWarning,\n",
            "/usr/local/lib/python3.7/dist-packages/sklearn/svm/_base.py:1208: ConvergenceWarning: Liblinear failed to converge, increase the number of iterations.\n",
            "  ConvergenceWarning,\n",
            "/usr/local/lib/python3.7/dist-packages/sklearn/svm/_base.py:1208: ConvergenceWarning: Liblinear failed to converge, increase the number of iterations.\n",
            "  ConvergenceWarning,\n",
            "/usr/local/lib/python3.7/dist-packages/sklearn/svm/_base.py:1208: ConvergenceWarning: Liblinear failed to converge, increase the number of iterations.\n",
            "  ConvergenceWarning,\n",
            "/usr/local/lib/python3.7/dist-packages/sklearn/svm/_base.py:1208: ConvergenceWarning: Liblinear failed to converge, increase the number of iterations.\n",
            "  ConvergenceWarning,\n",
            "/usr/local/lib/python3.7/dist-packages/sklearn/svm/_base.py:1208: ConvergenceWarning: Liblinear failed to converge, increase the number of iterations.\n",
            "  ConvergenceWarning,\n",
            "/usr/local/lib/python3.7/dist-packages/sklearn/svm/_base.py:1208: ConvergenceWarning: Liblinear failed to converge, increase the number of iterations.\n",
            "  ConvergenceWarning,\n",
            "/usr/local/lib/python3.7/dist-packages/sklearn/svm/_base.py:1208: ConvergenceWarning: Liblinear failed to converge, increase the number of iterations.\n",
            "  ConvergenceWarning,\n",
            "/usr/local/lib/python3.7/dist-packages/sklearn/svm/_base.py:1208: ConvergenceWarning: Liblinear failed to converge, increase the number of iterations.\n",
            "  ConvergenceWarning,\n",
            "/usr/local/lib/python3.7/dist-packages/sklearn/svm/_base.py:1208: ConvergenceWarning: Liblinear failed to converge, increase the number of iterations.\n",
            "  ConvergenceWarning,\n",
            "/usr/local/lib/python3.7/dist-packages/sklearn/svm/_base.py:1208: ConvergenceWarning: Liblinear failed to converge, increase the number of iterations.\n",
            "  ConvergenceWarning,\n",
            "/usr/local/lib/python3.7/dist-packages/sklearn/svm/_base.py:1208: ConvergenceWarning: Liblinear failed to converge, increase the number of iterations.\n",
            "  ConvergenceWarning,\n",
            "/usr/local/lib/python3.7/dist-packages/sklearn/svm/_base.py:1208: ConvergenceWarning: Liblinear failed to converge, increase the number of iterations.\n",
            "  ConvergenceWarning,\n"
          ]
        },
        {
          "name": "stdout",
          "output_type": "stream",
          "text": [
            "elapsed time:  0:09:20.309693\n",
            "Mean results\n",
            "Precision:  55.00000000000001  recall:  48.0  f-measure:  45.0\n",
            "Mean results\n",
            "Precision:  0.5541895465314266  recall:  0.47684830973119696  f-measure:  0.4462745341538448\n",
            "Precision max:  0.6197916666666666\n",
            "Precision min:  0.4893964110929853\n",
            "recall max:  1.0\n",
            "recall min:  0.0\n",
            "f-measure max:  0.6524822695035462\n",
            "f-measure min:  0.0\n",
            "f-measure standard deviation:  0.2481249205217946\n",
            "f-measure standard variance:  0.061565976183946894\n"
          ]
        },
        {
          "name": "stderr",
          "output_type": "stream",
          "text": [
            "/usr/local/lib/python3.7/dist-packages/sklearn/svm/_base.py:1208: ConvergenceWarning: Liblinear failed to converge, increase the number of iterations.\n",
            "  ConvergenceWarning,\n"
          ]
        }
      ]
    },
    {
      "cell_type": "code",
      "metadata": {
        "colab": {
          "base_uri": "https://localhost:8080/"
        },
        "id": "DT3vHY-gSdi8",
        "outputId": "aaaf83c1-0613-46fa-e523-b319aeba8902"
      },
      "source": [
        "execute_cross_validation(svmLinear, Xrating)"
      ],
      "execution_count": null,
      "outputs": [
        {
          "name": "stderr",
          "output_type": "stream",
          "text": [
            "/usr/local/lib/python3.7/dist-packages/sklearn/svm/_base.py:1208: ConvergenceWarning: Liblinear failed to converge, increase the number of iterations.\n",
            "  ConvergenceWarning,\n",
            "/usr/local/lib/python3.7/dist-packages/sklearn/svm/_base.py:1208: ConvergenceWarning: Liblinear failed to converge, increase the number of iterations.\n",
            "  ConvergenceWarning,\n",
            "/usr/local/lib/python3.7/dist-packages/sklearn/svm/_base.py:1208: ConvergenceWarning: Liblinear failed to converge, increase the number of iterations.\n",
            "  ConvergenceWarning,\n",
            "/usr/local/lib/python3.7/dist-packages/sklearn/svm/_base.py:1208: ConvergenceWarning: Liblinear failed to converge, increase the number of iterations.\n",
            "  ConvergenceWarning,\n",
            "/usr/local/lib/python3.7/dist-packages/sklearn/svm/_base.py:1208: ConvergenceWarning: Liblinear failed to converge, increase the number of iterations.\n",
            "  ConvergenceWarning,\n",
            "/usr/local/lib/python3.7/dist-packages/sklearn/svm/_base.py:1208: ConvergenceWarning: Liblinear failed to converge, increase the number of iterations.\n",
            "  ConvergenceWarning,\n",
            "/usr/local/lib/python3.7/dist-packages/sklearn/svm/_base.py:1208: ConvergenceWarning: Liblinear failed to converge, increase the number of iterations.\n",
            "  ConvergenceWarning,\n",
            "/usr/local/lib/python3.7/dist-packages/sklearn/svm/_base.py:1208: ConvergenceWarning: Liblinear failed to converge, increase the number of iterations.\n",
            "  ConvergenceWarning,\n",
            "/usr/local/lib/python3.7/dist-packages/sklearn/svm/_base.py:1208: ConvergenceWarning: Liblinear failed to converge, increase the number of iterations.\n",
            "  ConvergenceWarning,\n",
            "/usr/local/lib/python3.7/dist-packages/sklearn/svm/_base.py:1208: ConvergenceWarning: Liblinear failed to converge, increase the number of iterations.\n",
            "  ConvergenceWarning,\n",
            "/usr/local/lib/python3.7/dist-packages/sklearn/svm/_base.py:1208: ConvergenceWarning: Liblinear failed to converge, increase the number of iterations.\n",
            "  ConvergenceWarning,\n",
            "/usr/local/lib/python3.7/dist-packages/sklearn/svm/_base.py:1208: ConvergenceWarning: Liblinear failed to converge, increase the number of iterations.\n",
            "  ConvergenceWarning,\n",
            "/usr/local/lib/python3.7/dist-packages/sklearn/svm/_base.py:1208: ConvergenceWarning: Liblinear failed to converge, increase the number of iterations.\n",
            "  ConvergenceWarning,\n",
            "/usr/local/lib/python3.7/dist-packages/sklearn/svm/_base.py:1208: ConvergenceWarning: Liblinear failed to converge, increase the number of iterations.\n",
            "  ConvergenceWarning,\n",
            "/usr/local/lib/python3.7/dist-packages/sklearn/svm/_base.py:1208: ConvergenceWarning: Liblinear failed to converge, increase the number of iterations.\n",
            "  ConvergenceWarning,\n",
            "/usr/local/lib/python3.7/dist-packages/sklearn/svm/_base.py:1208: ConvergenceWarning: Liblinear failed to converge, increase the number of iterations.\n",
            "  ConvergenceWarning,\n",
            "/usr/local/lib/python3.7/dist-packages/sklearn/svm/_base.py:1208: ConvergenceWarning: Liblinear failed to converge, increase the number of iterations.\n",
            "  ConvergenceWarning,\n",
            "/usr/local/lib/python3.7/dist-packages/sklearn/svm/_base.py:1208: ConvergenceWarning: Liblinear failed to converge, increase the number of iterations.\n",
            "  ConvergenceWarning,\n",
            "/usr/local/lib/python3.7/dist-packages/sklearn/svm/_base.py:1208: ConvergenceWarning: Liblinear failed to converge, increase the number of iterations.\n",
            "  ConvergenceWarning,\n",
            "/usr/local/lib/python3.7/dist-packages/sklearn/svm/_base.py:1208: ConvergenceWarning: Liblinear failed to converge, increase the number of iterations.\n",
            "  ConvergenceWarning,\n",
            "/usr/local/lib/python3.7/dist-packages/sklearn/svm/_base.py:1208: ConvergenceWarning: Liblinear failed to converge, increase the number of iterations.\n",
            "  ConvergenceWarning,\n",
            "/usr/local/lib/python3.7/dist-packages/sklearn/svm/_base.py:1208: ConvergenceWarning: Liblinear failed to converge, increase the number of iterations.\n",
            "  ConvergenceWarning,\n",
            "/usr/local/lib/python3.7/dist-packages/sklearn/svm/_base.py:1208: ConvergenceWarning: Liblinear failed to converge, increase the number of iterations.\n",
            "  ConvergenceWarning,\n",
            "/usr/local/lib/python3.7/dist-packages/sklearn/svm/_base.py:1208: ConvergenceWarning: Liblinear failed to converge, increase the number of iterations.\n",
            "  ConvergenceWarning,\n",
            "/usr/local/lib/python3.7/dist-packages/sklearn/svm/_base.py:1208: ConvergenceWarning: Liblinear failed to converge, increase the number of iterations.\n",
            "  ConvergenceWarning,\n",
            "/usr/local/lib/python3.7/dist-packages/sklearn/svm/_base.py:1208: ConvergenceWarning: Liblinear failed to converge, increase the number of iterations.\n",
            "  ConvergenceWarning,\n",
            "/usr/local/lib/python3.7/dist-packages/sklearn/svm/_base.py:1208: ConvergenceWarning: Liblinear failed to converge, increase the number of iterations.\n",
            "  ConvergenceWarning,\n",
            "/usr/local/lib/python3.7/dist-packages/sklearn/svm/_base.py:1208: ConvergenceWarning: Liblinear failed to converge, increase the number of iterations.\n",
            "  ConvergenceWarning,\n",
            "/usr/local/lib/python3.7/dist-packages/sklearn/svm/_base.py:1208: ConvergenceWarning: Liblinear failed to converge, increase the number of iterations.\n",
            "  ConvergenceWarning,\n"
          ]
        },
        {
          "name": "stdout",
          "output_type": "stream",
          "text": [
            "elapsed time:  0:10:14.708517\n",
            "Mean results\n",
            "Precision:  53.0  recall:  42.0  f-measure:  45.0\n",
            "Mean results\n",
            "Precision:  0.5314913052646185  recall:  0.41965226062831695  f-measure:  0.4535139115796148\n",
            "Precision max:  0.625\n",
            "Precision min:  0.46622734761120266\n",
            "recall max:  0.9441295546558705\n",
            "recall min:  0.012520868113522538\n",
            "f-measure max:  0.6806083650190113\n",
            "f-measure min:  0.07332293291731669\n",
            "f-measure standard deviation:  0.205628975035846\n",
            "f-measure standard variance:  0.04228327537429258\n"
          ]
        },
        {
          "name": "stderr",
          "output_type": "stream",
          "text": [
            "/usr/local/lib/python3.7/dist-packages/sklearn/svm/_base.py:1208: ConvergenceWarning: Liblinear failed to converge, increase the number of iterations.\n",
            "  ConvergenceWarning,\n"
          ]
        }
      ]
    },
    {
      "cell_type": "markdown",
      "metadata": {
        "id": "zFDZ89exXxgh"
      },
      "source": [
        "#"
      ]
    },
    {
      "cell_type": "code",
      "metadata": {
        "colab": {
          "base_uri": "https://localhost:8080/"
        },
        "id": "lO0rfeEChhRJ",
        "outputId": "1634f091-f486-488c-abd5-e9647bb60c21"
      },
      "source": [
        "execute_cross_validation(svmLinear, XratingAvg)"
      ],
      "execution_count": null,
      "outputs": [
        {
          "name": "stderr",
          "output_type": "stream",
          "text": [
            "/usr/local/lib/python3.7/dist-packages/sklearn/svm/_base.py:1208: ConvergenceWarning: Liblinear failed to converge, increase the number of iterations.\n",
            "  ConvergenceWarning,\n",
            "/usr/local/lib/python3.7/dist-packages/sklearn/svm/_base.py:1208: ConvergenceWarning: Liblinear failed to converge, increase the number of iterations.\n",
            "  ConvergenceWarning,\n",
            "/usr/local/lib/python3.7/dist-packages/sklearn/svm/_base.py:1208: ConvergenceWarning: Liblinear failed to converge, increase the number of iterations.\n",
            "  ConvergenceWarning,\n",
            "/usr/local/lib/python3.7/dist-packages/sklearn/svm/_base.py:1208: ConvergenceWarning: Liblinear failed to converge, increase the number of iterations.\n",
            "  ConvergenceWarning,\n",
            "/usr/local/lib/python3.7/dist-packages/sklearn/svm/_base.py:1208: ConvergenceWarning: Liblinear failed to converge, increase the number of iterations.\n",
            "  ConvergenceWarning,\n",
            "/usr/local/lib/python3.7/dist-packages/sklearn/svm/_base.py:1208: ConvergenceWarning: Liblinear failed to converge, increase the number of iterations.\n",
            "  ConvergenceWarning,\n",
            "/usr/local/lib/python3.7/dist-packages/sklearn/svm/_base.py:1208: ConvergenceWarning: Liblinear failed to converge, increase the number of iterations.\n",
            "  ConvergenceWarning,\n",
            "/usr/local/lib/python3.7/dist-packages/sklearn/svm/_base.py:1208: ConvergenceWarning: Liblinear failed to converge, increase the number of iterations.\n",
            "  ConvergenceWarning,\n",
            "/usr/local/lib/python3.7/dist-packages/sklearn/svm/_base.py:1208: ConvergenceWarning: Liblinear failed to converge, increase the number of iterations.\n",
            "  ConvergenceWarning,\n",
            "/usr/local/lib/python3.7/dist-packages/sklearn/svm/_base.py:1208: ConvergenceWarning: Liblinear failed to converge, increase the number of iterations.\n",
            "  ConvergenceWarning,\n",
            "/usr/local/lib/python3.7/dist-packages/sklearn/svm/_base.py:1208: ConvergenceWarning: Liblinear failed to converge, increase the number of iterations.\n",
            "  ConvergenceWarning,\n",
            "/usr/local/lib/python3.7/dist-packages/sklearn/svm/_base.py:1208: ConvergenceWarning: Liblinear failed to converge, increase the number of iterations.\n",
            "  ConvergenceWarning,\n",
            "/usr/local/lib/python3.7/dist-packages/sklearn/svm/_base.py:1208: ConvergenceWarning: Liblinear failed to converge, increase the number of iterations.\n",
            "  ConvergenceWarning,\n",
            "/usr/local/lib/python3.7/dist-packages/sklearn/svm/_base.py:1208: ConvergenceWarning: Liblinear failed to converge, increase the number of iterations.\n",
            "  ConvergenceWarning,\n",
            "/usr/local/lib/python3.7/dist-packages/sklearn/svm/_base.py:1208: ConvergenceWarning: Liblinear failed to converge, increase the number of iterations.\n",
            "  ConvergenceWarning,\n",
            "/usr/local/lib/python3.7/dist-packages/sklearn/svm/_base.py:1208: ConvergenceWarning: Liblinear failed to converge, increase the number of iterations.\n",
            "  ConvergenceWarning,\n",
            "/usr/local/lib/python3.7/dist-packages/sklearn/svm/_base.py:1208: ConvergenceWarning: Liblinear failed to converge, increase the number of iterations.\n",
            "  ConvergenceWarning,\n",
            "/usr/local/lib/python3.7/dist-packages/sklearn/svm/_base.py:1208: ConvergenceWarning: Liblinear failed to converge, increase the number of iterations.\n",
            "  ConvergenceWarning,\n",
            "/usr/local/lib/python3.7/dist-packages/sklearn/svm/_base.py:1208: ConvergenceWarning: Liblinear failed to converge, increase the number of iterations.\n",
            "  ConvergenceWarning,\n",
            "/usr/local/lib/python3.7/dist-packages/sklearn/svm/_base.py:1208: ConvergenceWarning: Liblinear failed to converge, increase the number of iterations.\n",
            "  ConvergenceWarning,\n",
            "/usr/local/lib/python3.7/dist-packages/sklearn/svm/_base.py:1208: ConvergenceWarning: Liblinear failed to converge, increase the number of iterations.\n",
            "  ConvergenceWarning,\n",
            "/usr/local/lib/python3.7/dist-packages/sklearn/svm/_base.py:1208: ConvergenceWarning: Liblinear failed to converge, increase the number of iterations.\n",
            "  ConvergenceWarning,\n",
            "/usr/local/lib/python3.7/dist-packages/sklearn/svm/_base.py:1208: ConvergenceWarning: Liblinear failed to converge, increase the number of iterations.\n",
            "  ConvergenceWarning,\n",
            "/usr/local/lib/python3.7/dist-packages/sklearn/svm/_base.py:1208: ConvergenceWarning: Liblinear failed to converge, increase the number of iterations.\n",
            "  ConvergenceWarning,\n",
            "/usr/local/lib/python3.7/dist-packages/sklearn/svm/_base.py:1208: ConvergenceWarning: Liblinear failed to converge, increase the number of iterations.\n",
            "  ConvergenceWarning,\n",
            "/usr/local/lib/python3.7/dist-packages/sklearn/svm/_base.py:1208: ConvergenceWarning: Liblinear failed to converge, increase the number of iterations.\n",
            "  ConvergenceWarning,\n",
            "/usr/local/lib/python3.7/dist-packages/sklearn/svm/_base.py:1208: ConvergenceWarning: Liblinear failed to converge, increase the number of iterations.\n",
            "  ConvergenceWarning,\n",
            "/usr/local/lib/python3.7/dist-packages/sklearn/svm/_base.py:1208: ConvergenceWarning: Liblinear failed to converge, increase the number of iterations.\n",
            "  ConvergenceWarning,\n",
            "/usr/local/lib/python3.7/dist-packages/sklearn/svm/_base.py:1208: ConvergenceWarning: Liblinear failed to converge, increase the number of iterations.\n",
            "  ConvergenceWarning,\n"
          ]
        },
        {
          "name": "stdout",
          "output_type": "stream",
          "text": [
            "elapsed time:  0:10:35.314400\n",
            "Mean results\n",
            "Precision:  59.0  recall:  68.0  f-measure:  43.0\n",
            "Mean results\n",
            "Precision:  0.5926611542029546  recall:  0.6764176713786147  f-measure:  0.4331677041841357\n",
            "Precision max:  1.0\n",
            "Precision min:  0.477992277992278\n",
            "recall max:  1.0\n",
            "recall min:  0.16286919831223629\n",
            "f-measure max:  0.6697173620457605\n",
            "f-measure min:  0.01129032258064516\n",
            "f-measure standard deviation:  0.25697347467946396\n",
            "f-measure standard variance:  0.06603536668883711\n"
          ]
        },
        {
          "name": "stderr",
          "output_type": "stream",
          "text": [
            "/usr/local/lib/python3.7/dist-packages/sklearn/svm/_base.py:1208: ConvergenceWarning: Liblinear failed to converge, increase the number of iterations.\n",
            "  ConvergenceWarning,\n"
          ]
        }
      ]
    },
    {
      "cell_type": "code",
      "metadata": {
        "colab": {
          "base_uri": "https://localhost:8080/"
        },
        "id": "QWefrjxthhsg",
        "outputId": "f2f806c9-189a-4964-8c61-304e9ee38b5c"
      },
      "source": [
        "execute_cross_validation(svmLinear, X_text)"
      ],
      "execution_count": null,
      "outputs": [
        {
          "name": "stdout",
          "output_type": "stream",
          "text": [
            "elapsed time:  0:00:19.861427\n",
            "Mean results\n",
            "Precision:  59.0  recall:  57.99999999999999  f-measure:  59.0\n",
            "Mean results\n",
            "Precision:  0.5854951681186777  recall:  0.5821106481185703  f-measure:  0.5870722713457297\n",
            "Precision max:  0.6066613798572561\n",
            "Precision min:  0.5636658556366586\n",
            "recall max:  0.607950116913484\n",
            "recall min:  0.5619208087615838\n",
            "f-measure max:  0.6011513157894737\n",
            "f-measure min:  0.5748652011613438\n",
            "f-measure standard deviation:  0.008985883382638733\n",
            "f-measure standard variance:  8.074610016638292e-05\n"
          ]
        }
      ]
    },
    {
      "cell_type": "code",
      "metadata": {
        "colab": {
          "base_uri": "https://localhost:8080/"
        },
        "id": "xFfyUd1chiYl",
        "outputId": "3ad99293-c419-4abf-b825-a533a4d85b50"
      },
      "source": [
        "execute_cross_validation(svmLinear, Xtogether)"
      ],
      "execution_count": null,
      "outputs": [
        {
          "name": "stderr",
          "output_type": "stream",
          "text": [
            "/usr/local/lib/python3.7/dist-packages/sklearn/svm/_base.py:1208: ConvergenceWarning: Liblinear failed to converge, increase the number of iterations.\n",
            "  ConvergenceWarning,\n",
            "/usr/local/lib/python3.7/dist-packages/sklearn/svm/_base.py:1208: ConvergenceWarning: Liblinear failed to converge, increase the number of iterations.\n",
            "  ConvergenceWarning,\n",
            "/usr/local/lib/python3.7/dist-packages/sklearn/svm/_base.py:1208: ConvergenceWarning: Liblinear failed to converge, increase the number of iterations.\n",
            "  ConvergenceWarning,\n",
            "/usr/local/lib/python3.7/dist-packages/sklearn/svm/_base.py:1208: ConvergenceWarning: Liblinear failed to converge, increase the number of iterations.\n",
            "  ConvergenceWarning,\n",
            "/usr/local/lib/python3.7/dist-packages/sklearn/svm/_base.py:1208: ConvergenceWarning: Liblinear failed to converge, increase the number of iterations.\n",
            "  ConvergenceWarning,\n",
            "/usr/local/lib/python3.7/dist-packages/sklearn/svm/_base.py:1208: ConvergenceWarning: Liblinear failed to converge, increase the number of iterations.\n",
            "  ConvergenceWarning,\n",
            "/usr/local/lib/python3.7/dist-packages/sklearn/svm/_base.py:1208: ConvergenceWarning: Liblinear failed to converge, increase the number of iterations.\n",
            "  ConvergenceWarning,\n",
            "/usr/local/lib/python3.7/dist-packages/sklearn/svm/_base.py:1208: ConvergenceWarning: Liblinear failed to converge, increase the number of iterations.\n",
            "  ConvergenceWarning,\n",
            "/usr/local/lib/python3.7/dist-packages/sklearn/svm/_base.py:1208: ConvergenceWarning: Liblinear failed to converge, increase the number of iterations.\n",
            "  ConvergenceWarning,\n",
            "/usr/local/lib/python3.7/dist-packages/sklearn/svm/_base.py:1208: ConvergenceWarning: Liblinear failed to converge, increase the number of iterations.\n",
            "  ConvergenceWarning,\n",
            "/usr/local/lib/python3.7/dist-packages/sklearn/metrics/_classification.py:1308: UndefinedMetricWarning: Precision is ill-defined and being set to 0.0 due to no predicted samples. Use `zero_division` parameter to control this behavior.\n",
            "  _warn_prf(average, modifier, msg_start, len(result))\n",
            "/usr/local/lib/python3.7/dist-packages/sklearn/svm/_base.py:1208: ConvergenceWarning: Liblinear failed to converge, increase the number of iterations.\n",
            "  ConvergenceWarning,\n",
            "/usr/local/lib/python3.7/dist-packages/sklearn/svm/_base.py:1208: ConvergenceWarning: Liblinear failed to converge, increase the number of iterations.\n",
            "  ConvergenceWarning,\n",
            "/usr/local/lib/python3.7/dist-packages/sklearn/svm/_base.py:1208: ConvergenceWarning: Liblinear failed to converge, increase the number of iterations.\n",
            "  ConvergenceWarning,\n",
            "/usr/local/lib/python3.7/dist-packages/sklearn/svm/_base.py:1208: ConvergenceWarning: Liblinear failed to converge, increase the number of iterations.\n",
            "  ConvergenceWarning,\n",
            "/usr/local/lib/python3.7/dist-packages/sklearn/svm/_base.py:1208: ConvergenceWarning: Liblinear failed to converge, increase the number of iterations.\n",
            "  ConvergenceWarning,\n",
            "/usr/local/lib/python3.7/dist-packages/sklearn/svm/_base.py:1208: ConvergenceWarning: Liblinear failed to converge, increase the number of iterations.\n",
            "  ConvergenceWarning,\n",
            "/usr/local/lib/python3.7/dist-packages/sklearn/svm/_base.py:1208: ConvergenceWarning: Liblinear failed to converge, increase the number of iterations.\n",
            "  ConvergenceWarning,\n",
            "/usr/local/lib/python3.7/dist-packages/sklearn/svm/_base.py:1208: ConvergenceWarning: Liblinear failed to converge, increase the number of iterations.\n",
            "  ConvergenceWarning,\n",
            "/usr/local/lib/python3.7/dist-packages/sklearn/svm/_base.py:1208: ConvergenceWarning: Liblinear failed to converge, increase the number of iterations.\n",
            "  ConvergenceWarning,\n",
            "/usr/local/lib/python3.7/dist-packages/sklearn/svm/_base.py:1208: ConvergenceWarning: Liblinear failed to converge, increase the number of iterations.\n",
            "  ConvergenceWarning,\n",
            "/usr/local/lib/python3.7/dist-packages/sklearn/svm/_base.py:1208: ConvergenceWarning: Liblinear failed to converge, increase the number of iterations.\n",
            "  ConvergenceWarning,\n",
            "/usr/local/lib/python3.7/dist-packages/sklearn/svm/_base.py:1208: ConvergenceWarning: Liblinear failed to converge, increase the number of iterations.\n",
            "  ConvergenceWarning,\n",
            "/usr/local/lib/python3.7/dist-packages/sklearn/svm/_base.py:1208: ConvergenceWarning: Liblinear failed to converge, increase the number of iterations.\n",
            "  ConvergenceWarning,\n",
            "/usr/local/lib/python3.7/dist-packages/sklearn/svm/_base.py:1208: ConvergenceWarning: Liblinear failed to converge, increase the number of iterations.\n",
            "  ConvergenceWarning,\n",
            "/usr/local/lib/python3.7/dist-packages/sklearn/svm/_base.py:1208: ConvergenceWarning: Liblinear failed to converge, increase the number of iterations.\n",
            "  ConvergenceWarning,\n",
            "/usr/local/lib/python3.7/dist-packages/sklearn/svm/_base.py:1208: ConvergenceWarning: Liblinear failed to converge, increase the number of iterations.\n",
            "  ConvergenceWarning,\n",
            "/usr/local/lib/python3.7/dist-packages/sklearn/svm/_base.py:1208: ConvergenceWarning: Liblinear failed to converge, increase the number of iterations.\n",
            "  ConvergenceWarning,\n",
            "/usr/local/lib/python3.7/dist-packages/sklearn/svm/_base.py:1208: ConvergenceWarning: Liblinear failed to converge, increase the number of iterations.\n",
            "  ConvergenceWarning,\n",
            "/usr/local/lib/python3.7/dist-packages/sklearn/svm/_base.py:1208: ConvergenceWarning: Liblinear failed to converge, increase the number of iterations.\n",
            "  ConvergenceWarning,\n"
          ]
        },
        {
          "name": "stdout",
          "output_type": "stream",
          "text": [
            "elapsed time:  0:12:25.144274\n",
            "Mean results\n",
            "Precision:  49.0  recall:  47.0  f-measure:  43.0\n",
            "Mean results\n",
            "Precision:  0.4870561632146314  recall:  0.46813301138027485  f-measure:  0.4269703000260499\n",
            "Precision max:  0.6169354838709677\n",
            "Precision min:  0.0\n",
            "recall max:  1.0\n",
            "recall min:  0.0\n",
            "f-measure max:  0.6713169642857143\n",
            "f-measure min:  0.021604938271604937\n",
            "f-measure standard deviation:  0.2614556817430375\n",
            "f-measure standard variance:  0.06835907351571653\n"
          ]
        },
        {
          "name": "stderr",
          "output_type": "stream",
          "text": [
            "/usr/local/lib/python3.7/dist-packages/sklearn/svm/_base.py:1208: ConvergenceWarning: Liblinear failed to converge, increase the number of iterations.\n",
            "  ConvergenceWarning,\n"
          ]
        }
      ]
    },
    {
      "cell_type": "code",
      "metadata": {
        "colab": {
          "base_uri": "https://localhost:8080/"
        },
        "id": "E_I_Drbehtxe",
        "outputId": "f2d0d0d5-a235-4a63-8f51-74f258e87aa5"
      },
      "source": [
        "execute_cross_validation(svmLinear, X_text_reputation)"
      ],
      "execution_count": null,
      "outputs": [
        {
          "name": "stderr",
          "output_type": "stream",
          "text": [
            "/usr/local/lib/python3.7/dist-packages/sklearn/svm/_base.py:1208: ConvergenceWarning: Liblinear failed to converge, increase the number of iterations.\n",
            "  ConvergenceWarning,\n",
            "/usr/local/lib/python3.7/dist-packages/sklearn/svm/_base.py:1208: ConvergenceWarning: Liblinear failed to converge, increase the number of iterations.\n",
            "  ConvergenceWarning,\n",
            "/usr/local/lib/python3.7/dist-packages/sklearn/svm/_base.py:1208: ConvergenceWarning: Liblinear failed to converge, increase the number of iterations.\n",
            "  ConvergenceWarning,\n",
            "/usr/local/lib/python3.7/dist-packages/sklearn/svm/_base.py:1208: ConvergenceWarning: Liblinear failed to converge, increase the number of iterations.\n",
            "  ConvergenceWarning,\n",
            "/usr/local/lib/python3.7/dist-packages/sklearn/svm/_base.py:1208: ConvergenceWarning: Liblinear failed to converge, increase the number of iterations.\n",
            "  ConvergenceWarning,\n",
            "/usr/local/lib/python3.7/dist-packages/sklearn/metrics/_classification.py:1308: UndefinedMetricWarning: Precision is ill-defined and being set to 0.0 due to no predicted samples. Use `zero_division` parameter to control this behavior.\n",
            "  _warn_prf(average, modifier, msg_start, len(result))\n",
            "/usr/local/lib/python3.7/dist-packages/sklearn/svm/_base.py:1208: ConvergenceWarning: Liblinear failed to converge, increase the number of iterations.\n",
            "  ConvergenceWarning,\n",
            "/usr/local/lib/python3.7/dist-packages/sklearn/svm/_base.py:1208: ConvergenceWarning: Liblinear failed to converge, increase the number of iterations.\n",
            "  ConvergenceWarning,\n",
            "/usr/local/lib/python3.7/dist-packages/sklearn/svm/_base.py:1208: ConvergenceWarning: Liblinear failed to converge, increase the number of iterations.\n",
            "  ConvergenceWarning,\n",
            "/usr/local/lib/python3.7/dist-packages/sklearn/svm/_base.py:1208: ConvergenceWarning: Liblinear failed to converge, increase the number of iterations.\n",
            "  ConvergenceWarning,\n",
            "/usr/local/lib/python3.7/dist-packages/sklearn/svm/_base.py:1208: ConvergenceWarning: Liblinear failed to converge, increase the number of iterations.\n",
            "  ConvergenceWarning,\n",
            "/usr/local/lib/python3.7/dist-packages/sklearn/svm/_base.py:1208: ConvergenceWarning: Liblinear failed to converge, increase the number of iterations.\n",
            "  ConvergenceWarning,\n",
            "/usr/local/lib/python3.7/dist-packages/sklearn/svm/_base.py:1208: ConvergenceWarning: Liblinear failed to converge, increase the number of iterations.\n",
            "  ConvergenceWarning,\n",
            "/usr/local/lib/python3.7/dist-packages/sklearn/svm/_base.py:1208: ConvergenceWarning: Liblinear failed to converge, increase the number of iterations.\n",
            "  ConvergenceWarning,\n",
            "/usr/local/lib/python3.7/dist-packages/sklearn/svm/_base.py:1208: ConvergenceWarning: Liblinear failed to converge, increase the number of iterations.\n",
            "  ConvergenceWarning,\n",
            "/usr/local/lib/python3.7/dist-packages/sklearn/svm/_base.py:1208: ConvergenceWarning: Liblinear failed to converge, increase the number of iterations.\n",
            "  ConvergenceWarning,\n",
            "/usr/local/lib/python3.7/dist-packages/sklearn/svm/_base.py:1208: ConvergenceWarning: Liblinear failed to converge, increase the number of iterations.\n",
            "  ConvergenceWarning,\n",
            "/usr/local/lib/python3.7/dist-packages/sklearn/svm/_base.py:1208: ConvergenceWarning: Liblinear failed to converge, increase the number of iterations.\n",
            "  ConvergenceWarning,\n",
            "/usr/local/lib/python3.7/dist-packages/sklearn/svm/_base.py:1208: ConvergenceWarning: Liblinear failed to converge, increase the number of iterations.\n",
            "  ConvergenceWarning,\n",
            "/usr/local/lib/python3.7/dist-packages/sklearn/svm/_base.py:1208: ConvergenceWarning: Liblinear failed to converge, increase the number of iterations.\n",
            "  ConvergenceWarning,\n",
            "/usr/local/lib/python3.7/dist-packages/sklearn/svm/_base.py:1208: ConvergenceWarning: Liblinear failed to converge, increase the number of iterations.\n",
            "  ConvergenceWarning,\n",
            "/usr/local/lib/python3.7/dist-packages/sklearn/svm/_base.py:1208: ConvergenceWarning: Liblinear failed to converge, increase the number of iterations.\n",
            "  ConvergenceWarning,\n",
            "/usr/local/lib/python3.7/dist-packages/sklearn/svm/_base.py:1208: ConvergenceWarning: Liblinear failed to converge, increase the number of iterations.\n",
            "  ConvergenceWarning,\n",
            "/usr/local/lib/python3.7/dist-packages/sklearn/svm/_base.py:1208: ConvergenceWarning: Liblinear failed to converge, increase the number of iterations.\n",
            "  ConvergenceWarning,\n",
            "/usr/local/lib/python3.7/dist-packages/sklearn/svm/_base.py:1208: ConvergenceWarning: Liblinear failed to converge, increase the number of iterations.\n",
            "  ConvergenceWarning,\n",
            "/usr/local/lib/python3.7/dist-packages/sklearn/svm/_base.py:1208: ConvergenceWarning: Liblinear failed to converge, increase the number of iterations.\n",
            "  ConvergenceWarning,\n",
            "/usr/local/lib/python3.7/dist-packages/sklearn/svm/_base.py:1208: ConvergenceWarning: Liblinear failed to converge, increase the number of iterations.\n",
            "  ConvergenceWarning,\n",
            "/usr/local/lib/python3.7/dist-packages/sklearn/svm/_base.py:1208: ConvergenceWarning: Liblinear failed to converge, increase the number of iterations.\n",
            "  ConvergenceWarning,\n",
            "/usr/local/lib/python3.7/dist-packages/sklearn/svm/_base.py:1208: ConvergenceWarning: Liblinear failed to converge, increase the number of iterations.\n",
            "  ConvergenceWarning,\n",
            "/usr/local/lib/python3.7/dist-packages/sklearn/svm/_base.py:1208: ConvergenceWarning: Liblinear failed to converge, increase the number of iterations.\n",
            "  ConvergenceWarning,\n"
          ]
        },
        {
          "name": "stdout",
          "output_type": "stream",
          "text": [
            "elapsed time:  0:45:59.989914\n",
            "Mean results\n",
            "Precision:  50.0  recall:  35.0  f-measure:  50.0\n",
            "Mean results\n",
            "Precision:  0.5040511109845539  recall:  0.3480410891459487  f-measure:  0.5035862605156778\n",
            "Precision max:  1.0\n",
            "Precision min:  0.0\n",
            "recall max:  0.9959349593495935\n",
            "recall min:  0.0\n",
            "f-measure max:  0.6514983351831299\n",
            "f-measure min:  0.0\n",
            "f-measure standard deviation:  0.19234753740833593\n",
            "f-measure standard variance:  0.036997575147051195\n"
          ]
        },
        {
          "name": "stderr",
          "output_type": "stream",
          "text": [
            "/usr/local/lib/python3.7/dist-packages/sklearn/svm/_base.py:1208: ConvergenceWarning: Liblinear failed to converge, increase the number of iterations.\n",
            "  ConvergenceWarning,\n"
          ]
        }
      ]
    },
    {
      "cell_type": "code",
      "metadata": {
        "colab": {
          "base_uri": "https://localhost:8080/"
        },
        "id": "kVCfTsNVhuDl",
        "outputId": "1fac96c9-ed9b-4fc3-cbdc-c3348f148966"
      },
      "source": [
        "execute_cross_validation(svmLinear, X_text_rating)"
      ],
      "execution_count": null,
      "outputs": [
        {
          "name": "stderr",
          "output_type": "stream",
          "text": [
            "/usr/local/lib/python3.7/dist-packages/sklearn/svm/_base.py:1208: ConvergenceWarning: Liblinear failed to converge, increase the number of iterations.\n",
            "  ConvergenceWarning,\n",
            "/usr/local/lib/python3.7/dist-packages/sklearn/svm/_base.py:1208: ConvergenceWarning: Liblinear failed to converge, increase the number of iterations.\n",
            "  ConvergenceWarning,\n",
            "/usr/local/lib/python3.7/dist-packages/sklearn/svm/_base.py:1208: ConvergenceWarning: Liblinear failed to converge, increase the number of iterations.\n",
            "  ConvergenceWarning,\n",
            "/usr/local/lib/python3.7/dist-packages/sklearn/svm/_base.py:1208: ConvergenceWarning: Liblinear failed to converge, increase the number of iterations.\n",
            "  ConvergenceWarning,\n",
            "/usr/local/lib/python3.7/dist-packages/sklearn/metrics/_classification.py:1308: UndefinedMetricWarning: Precision is ill-defined and being set to 0.0 due to no predicted samples. Use `zero_division` parameter to control this behavior.\n",
            "  _warn_prf(average, modifier, msg_start, len(result))\n",
            "/usr/local/lib/python3.7/dist-packages/sklearn/svm/_base.py:1208: ConvergenceWarning: Liblinear failed to converge, increase the number of iterations.\n",
            "  ConvergenceWarning,\n",
            "/usr/local/lib/python3.7/dist-packages/sklearn/svm/_base.py:1208: ConvergenceWarning: Liblinear failed to converge, increase the number of iterations.\n",
            "  ConvergenceWarning,\n",
            "/usr/local/lib/python3.7/dist-packages/sklearn/svm/_base.py:1208: ConvergenceWarning: Liblinear failed to converge, increase the number of iterations.\n",
            "  ConvergenceWarning,\n",
            "/usr/local/lib/python3.7/dist-packages/sklearn/svm/_base.py:1208: ConvergenceWarning: Liblinear failed to converge, increase the number of iterations.\n",
            "  ConvergenceWarning,\n",
            "/usr/local/lib/python3.7/dist-packages/sklearn/svm/_base.py:1208: ConvergenceWarning: Liblinear failed to converge, increase the number of iterations.\n",
            "  ConvergenceWarning,\n",
            "/usr/local/lib/python3.7/dist-packages/sklearn/svm/_base.py:1208: ConvergenceWarning: Liblinear failed to converge, increase the number of iterations.\n",
            "  ConvergenceWarning,\n",
            "/usr/local/lib/python3.7/dist-packages/sklearn/svm/_base.py:1208: ConvergenceWarning: Liblinear failed to converge, increase the number of iterations.\n",
            "  ConvergenceWarning,\n",
            "/usr/local/lib/python3.7/dist-packages/sklearn/svm/_base.py:1208: ConvergenceWarning: Liblinear failed to converge, increase the number of iterations.\n",
            "  ConvergenceWarning,\n",
            "/usr/local/lib/python3.7/dist-packages/sklearn/svm/_base.py:1208: ConvergenceWarning: Liblinear failed to converge, increase the number of iterations.\n",
            "  ConvergenceWarning,\n",
            "/usr/local/lib/python3.7/dist-packages/sklearn/svm/_base.py:1208: ConvergenceWarning: Liblinear failed to converge, increase the number of iterations.\n",
            "  ConvergenceWarning,\n",
            "/usr/local/lib/python3.7/dist-packages/sklearn/svm/_base.py:1208: ConvergenceWarning: Liblinear failed to converge, increase the number of iterations.\n",
            "  ConvergenceWarning,\n",
            "/usr/local/lib/python3.7/dist-packages/sklearn/svm/_base.py:1208: ConvergenceWarning: Liblinear failed to converge, increase the number of iterations.\n",
            "  ConvergenceWarning,\n",
            "/usr/local/lib/python3.7/dist-packages/sklearn/svm/_base.py:1208: ConvergenceWarning: Liblinear failed to converge, increase the number of iterations.\n",
            "  ConvergenceWarning,\n",
            "/usr/local/lib/python3.7/dist-packages/sklearn/svm/_base.py:1208: ConvergenceWarning: Liblinear failed to converge, increase the number of iterations.\n",
            "  ConvergenceWarning,\n",
            "/usr/local/lib/python3.7/dist-packages/sklearn/svm/_base.py:1208: ConvergenceWarning: Liblinear failed to converge, increase the number of iterations.\n",
            "  ConvergenceWarning,\n",
            "/usr/local/lib/python3.7/dist-packages/sklearn/svm/_base.py:1208: ConvergenceWarning: Liblinear failed to converge, increase the number of iterations.\n",
            "  ConvergenceWarning,\n",
            "/usr/local/lib/python3.7/dist-packages/sklearn/svm/_base.py:1208: ConvergenceWarning: Liblinear failed to converge, increase the number of iterations.\n",
            "  ConvergenceWarning,\n",
            "/usr/local/lib/python3.7/dist-packages/sklearn/svm/_base.py:1208: ConvergenceWarning: Liblinear failed to converge, increase the number of iterations.\n",
            "  ConvergenceWarning,\n",
            "/usr/local/lib/python3.7/dist-packages/sklearn/svm/_base.py:1208: ConvergenceWarning: Liblinear failed to converge, increase the number of iterations.\n",
            "  ConvergenceWarning,\n",
            "/usr/local/lib/python3.7/dist-packages/sklearn/svm/_base.py:1208: ConvergenceWarning: Liblinear failed to converge, increase the number of iterations.\n",
            "  ConvergenceWarning,\n",
            "/usr/local/lib/python3.7/dist-packages/sklearn/svm/_base.py:1208: ConvergenceWarning: Liblinear failed to converge, increase the number of iterations.\n",
            "  ConvergenceWarning,\n",
            "/usr/local/lib/python3.7/dist-packages/sklearn/svm/_base.py:1208: ConvergenceWarning: Liblinear failed to converge, increase the number of iterations.\n",
            "  ConvergenceWarning,\n",
            "/usr/local/lib/python3.7/dist-packages/sklearn/svm/_base.py:1208: ConvergenceWarning: Liblinear failed to converge, increase the number of iterations.\n",
            "  ConvergenceWarning,\n",
            "/usr/local/lib/python3.7/dist-packages/sklearn/svm/_base.py:1208: ConvergenceWarning: Liblinear failed to converge, increase the number of iterations.\n",
            "  ConvergenceWarning,\n",
            "/usr/local/lib/python3.7/dist-packages/sklearn/svm/_base.py:1208: ConvergenceWarning: Liblinear failed to converge, increase the number of iterations.\n",
            "  ConvergenceWarning,\n"
          ]
        },
        {
          "name": "stdout",
          "output_type": "stream",
          "text": [
            "elapsed time:  0:40:49.328322\n",
            "Mean results\n",
            "Precision:  51.0  recall:  36.0  f-measure:  52.0\n",
            "Mean results\n",
            "Precision:  0.5136031081337703  recall:  0.35975972647568416  f-measure:  0.5208511003739191\n",
            "Precision max:  0.75\n",
            "Precision min:  0.0\n",
            "recall max:  1.0\n",
            "recall min:  0.0\n",
            "f-measure max:  0.6682834815413635\n",
            "f-measure min:  0.0016366612111292963\n",
            "f-measure standard deviation:  0.18817856240044895\n",
            "f-measure standard variance:  0.03541117134709965\n"
          ]
        },
        {
          "name": "stderr",
          "output_type": "stream",
          "text": [
            "/usr/local/lib/python3.7/dist-packages/sklearn/svm/_base.py:1208: ConvergenceWarning: Liblinear failed to converge, increase the number of iterations.\n",
            "  ConvergenceWarning,\n"
          ]
        }
      ]
    },
    {
      "cell_type": "markdown",
      "metadata": {
        "id": "ny9nPliOXztE"
      },
      "source": [
        "#SVM"
      ]
    },
    {
      "cell_type": "code",
      "metadata": {
        "id": "XDvQsjlLB2y-"
      },
      "source": [
        "from sklearn import svm\n",
        "#from sklearn.linear_model import SGDClassifier\n",
        "#from sklearn.svm import LinearSVC"
      ],
      "execution_count": null,
      "outputs": []
    },
    {
      "cell_type": "code",
      "metadata": {
        "id": "6vBQT1laB2y-"
      },
      "source": [
        "svm = svm.SVC(kernel='rbf', cache_size=1000)\n",
        "#svmclf = clf = LinearSVC(verbose=0)\n",
        "#svmclf = svm.SVC(C=1.0, kernel='linear', degree=3, gamma='auto')\n",
        "#svmclf = SGDClassifier(loss='hinge', penalty='l2',alpha=1e-3, random_state=42, max_iter=5, tol=None)"
      ],
      "execution_count": null,
      "outputs": []
    },
    {
      "cell_type": "code",
      "metadata": {
        "colab": {
          "base_uri": "https://localhost:8080/"
        },
        "id": "62TSm9QFB2y-",
        "outputId": "f626c0ec-2a63-4ee4-f1e9-de31005141c8"
      },
      "source": [
        "execute_cross_validation(svm, Xnormal)"
      ],
      "execution_count": null,
      "outputs": [
        {
          "output_type": "stream",
          "name": "stdout",
          "text": [
            "elapsed time:  0:00:14.604081\n",
            "Mean results\n",
            "Precision:  51.0  recall:  80.0  f-measure:  60.0\n",
            "Mean results\n",
            "Precision:  0.5097136659395396  recall:  0.8019824077250229  f-measure:  0.5986127983004933\n",
            "Precision max:  0.5737704918032787\n",
            "Precision min:  0.45348837209302323\n",
            "recall max:  0.9119496855345912\n",
            "recall min:  0.5542168674698795\n",
            "f-measure max:  0.6570048309178743\n",
            "f-measure min:  0.5306122448979591\n",
            "f-measure standard deviation:  0.04030038430633114\n",
            "f-measure standard variance:  0.0016241209752379817\n"
          ]
        }
      ]
    },
    {
      "cell_type": "code",
      "metadata": {
        "colab": {
          "base_uri": "https://localhost:8080/"
        },
        "id": "4B8oRpE4zw6b",
        "outputId": "135baf1d-4443-4b19-b7ca-b25fb07f6750"
      },
      "source": [
        "execute_cross_validation(svm, Xreporter_reputation)"
      ],
      "execution_count": null,
      "outputs": [
        {
          "output_type": "stream",
          "name": "stdout",
          "text": [
            "elapsed time:  0:00:14.860919\n",
            "Mean results\n",
            "Precision:  51.0  recall:  80.0  f-measure:  61.0\n",
            "Mean results\n",
            "Precision:  0.5126014367627632  recall:  0.7952314698296412  f-measure:  0.6141110308836857\n",
            "Precision max:  0.5622119815668203\n",
            "Precision min:  0.4473684210526316\n",
            "recall max:  0.9050632911392406\n",
            "recall min:  0.6235294117647059\n",
            "f-measure max:  0.6370757180156659\n",
            "f-measure min:  0.5945945945945945\n",
            "f-measure standard deviation:  0.013762421672133087\n",
            "f-measure standard variance:  0.00018940425028159848\n"
          ]
        }
      ]
    },
    {
      "cell_type": "code",
      "metadata": {
        "colab": {
          "base_uri": "https://localhost:8080/"
        },
        "id": "nT7nBgu6zy_j",
        "outputId": "fa2e2917-0c83-48d4-e729-a42e78c131e5"
      },
      "source": [
        "execute_cross_validation(svm, Xdeveloper_reputation)"
      ],
      "execution_count": null,
      "outputs": [
        {
          "output_type": "stream",
          "name": "stdout",
          "text": [
            "elapsed time:  0:00:14.916545\n",
            "Mean results\n",
            "Precision:  51.0  recall:  78.0  f-measure:  62.0\n",
            "Mean results\n",
            "Precision:  0.5079576993484963  recall:  0.7782111025683016  f-measure:  0.6214751028809604\n",
            "Precision max:  0.5510204081632653\n",
            "Precision min:  0.47761194029850745\n",
            "recall max:  0.8775510204081632\n",
            "recall min:  0.5490196078431373\n",
            "f-measure max:  0.6746411483253588\n",
            "f-measure min:  0.5578635014836796\n",
            "f-measure standard deviation:  0.03219297042325909\n",
            "f-measure standard variance:  0.0010363873446728343\n"
          ]
        }
      ]
    },
    {
      "cell_type": "code",
      "metadata": {
        "colab": {
          "base_uri": "https://localhost:8080/"
        },
        "id": "thd_3EnTB2y_",
        "outputId": "953977a2-05ae-474c-9139-b17bd290eaee"
      },
      "source": [
        "execute_cross_validation(svm, Xreputation)"
      ],
      "execution_count": null,
      "outputs": [
        {
          "output_type": "stream",
          "name": "stdout",
          "text": [
            "elapsed time:  0:00:15.349886\n",
            "Mean results\n",
            "Precision:  51.0  recall:  79.0  f-measure:  62.0\n",
            "Mean results\n",
            "Precision:  0.5054844066106565  recall:  0.7911956080677168  f-measure:  0.6167741346955322\n",
            "Precision max:  0.5402843601895735\n",
            "Precision min:  0.4577777777777778\n",
            "recall max:  0.896551724137931\n",
            "recall min:  0.6103896103896104\n",
            "f-measure max:  0.6713615023474178\n",
            "f-measure min:  0.5128205128205128\n",
            "f-measure standard deviation:  0.05069376790962093\n",
            "f-measure standard variance:  0.0025698581048745122\n"
          ]
        }
      ]
    },
    {
      "cell_type": "code",
      "metadata": {
        "colab": {
          "base_uri": "https://localhost:8080/"
        },
        "id": "nI9_16GkB2y_",
        "outputId": "7e42acac-3c9f-4adb-a3e5-1ea67a803ecc"
      },
      "source": [
        "execute_cross_validation(svm, Xreporter_rating)"
      ],
      "execution_count": null,
      "outputs": [
        {
          "output_type": "stream",
          "name": "stdout",
          "text": [
            "elapsed time:  0:00:14.956200\n",
            "Mean results\n",
            "Precision:  51.0  recall:  79.0  f-measure:  62.0\n",
            "Mean results\n",
            "Precision:  0.5062408546830184  recall:  0.7929991174838091  f-measure:  0.6187552871875024\n",
            "Precision max:  0.5637065637065637\n",
            "Precision min:  0.45318352059925093\n",
            "recall max:  0.8888888888888888\n",
            "recall min:  0.5974025974025974\n",
            "f-measure max:  0.683720930232558\n",
            "f-measure min:  0.5674931129476584\n",
            "f-measure standard deviation:  0.03210378909235184\n",
            "f-measure standard variance:  0.001030653274086209\n"
          ]
        }
      ]
    },
    {
      "cell_type": "code",
      "metadata": {
        "colab": {
          "base_uri": "https://localhost:8080/"
        },
        "id": "7QaRovY1B2y_",
        "outputId": "f9e39e47-dee8-4549-b42b-1b4098872bd5"
      },
      "source": [
        "execute_cross_validation(svm, Xdeveloper_rating)"
      ],
      "execution_count": null,
      "outputs": [
        {
          "output_type": "stream",
          "name": "stdout",
          "text": [
            "elapsed time:  0:00:14.934693\n",
            "Mean results\n",
            "Precision:  51.0  recall:  79.0  f-measure:  60.0\n",
            "Mean results\n",
            "Precision:  0.507137460031101  recall:  0.7908617349559289  f-measure:  0.6014295525276216\n",
            "Precision max:  0.5639097744360902\n",
            "Precision min:  0.4678111587982833\n",
            "recall max:  0.9191176470588235\n",
            "recall min:  0.5605095541401274\n",
            "f-measure max:  0.6616915422885572\n",
            "f-measure min:  0.5207100591715976\n",
            "f-measure standard deviation:  0.043998170290786974\n",
            "f-measure standard variance:  0.0019358389889370894\n"
          ]
        }
      ]
    },
    {
      "cell_type": "code",
      "metadata": {
        "colab": {
          "base_uri": "https://localhost:8080/"
        },
        "id": "Jv7oq1QwxZSW",
        "outputId": "aaa0d971-1de4-4921-a5d8-ee55e26336b7"
      },
      "source": [
        "execute_cross_validation(svm, Xrating)"
      ],
      "execution_count": null,
      "outputs": [
        {
          "output_type": "stream",
          "name": "stdout",
          "text": [
            "elapsed time:  0:00:15.272545\n",
            "Mean results\n",
            "Precision:  51.0  recall:  80.0  f-measure:  61.0\n",
            "Mean results\n",
            "Precision:  0.5074647676818848  recall:  0.8037738470740697  f-measure:  0.6095311509461241\n",
            "Precision max:  0.6141304347826086\n",
            "Precision min:  0.45248868778280543\n",
            "recall max:  0.8865248226950354\n",
            "recall min:  0.6526946107784432\n",
            "f-measure max:  0.6540284360189573\n",
            "f-measure min:  0.5609065155807367\n",
            "f-measure standard deviation:  0.030195856173917995\n",
            "f-measure standard variance:  0.0009117897300759414\n"
          ]
        }
      ]
    },
    {
      "cell_type": "code",
      "metadata": {
        "colab": {
          "base_uri": "https://localhost:8080/"
        },
        "id": "DPN2EYIG9AQc",
        "outputId": "a67c6bc9-d204-491e-b9a7-3a58ec6e604a"
      },
      "source": [
        "execute_cross_validation(svm, XratingAvg)"
      ],
      "execution_count": null,
      "outputs": [
        {
          "output_type": "stream",
          "name": "stdout",
          "text": [
            "elapsed time:  0:00:15.278900\n",
            "Mean results\n",
            "Precision:  50.0  recall:  78.0  f-measure:  62.0\n",
            "Mean results\n",
            "Precision:  0.5046867035076827  recall:  0.7845466037722634  f-measure:  0.6228151417854944\n",
            "Precision max:  0.5399239543726235\n",
            "Precision min:  0.4279661016949153\n",
            "recall max:  0.9130434782608695\n",
            "recall min:  0.6521739130434783\n",
            "f-measure max:  0.6604215456674474\n",
            "f-measure min:  0.577319587628866\n",
            "f-measure standard deviation:  0.028769090618929648\n",
            "f-measure standard variance:  0.0008276605750401859\n"
          ]
        }
      ]
    },
    {
      "cell_type": "code",
      "metadata": {
        "colab": {
          "base_uri": "https://localhost:8080/"
        },
        "id": "QYglwbgNVf_n",
        "outputId": "6ebe24b5-bdb1-434a-be81-7b5fc8579c54"
      },
      "source": [
        "execute_cross_validation(svm, Xtogether)"
      ],
      "execution_count": null,
      "outputs": [
        {
          "output_type": "stream",
          "name": "stdout",
          "text": [
            "elapsed time:  0:00:16.193080\n",
            "Mean results\n",
            "Precision:  51.0  recall:  80.0  f-measure:  62.0\n",
            "Mean results\n",
            "Precision:  0.5072308464577259  recall:  0.7969255147870846  f-measure:  0.6241776046902838\n",
            "Precision max:  0.5444015444015444\n",
            "Precision min:  0.48095238095238096\n",
            "recall max:  0.8835616438356164\n",
            "recall min:  0.64\n",
            "f-measure max:  0.6634382566585957\n",
            "f-measure min:  0.5722222222222222\n",
            "f-measure standard deviation:  0.029270123566651436\n",
            "f-measure standard variance:  0.0008567401336070438\n"
          ]
        }
      ]
    },
    {
      "cell_type": "code",
      "metadata": {
        "colab": {
          "base_uri": "https://localhost:8080/"
        },
        "id": "dZCM8-96ibIb",
        "outputId": "3ee9eccc-9887-4693-912b-3db4a03ce8d2"
      },
      "source": [
        "execute_cross_validation(svm, X_text)"
      ],
      "execution_count": null,
      "outputs": [
        {
          "output_type": "stream",
          "name": "stdout",
          "text": [
            "elapsed time:  0:02:40.930005\n",
            "Mean results\n",
            "Precision:  59.0  recall:  56.99999999999999  f-measure:  59.0\n",
            "Mean results\n",
            "Precision:  0.5937204189108113  recall:  0.5740696728208398  f-measure:  0.5881370777391651\n",
            "Precision max:  0.6338028169014085\n",
            "Precision min:  0.509090909090909\n",
            "recall max:  0.6363636363636364\n",
            "recall min:  0.5157232704402516\n",
            "f-measure max:  0.6600660066006601\n",
            "f-measure min:  0.5647840531561462\n",
            "f-measure standard deviation:  0.027651037526493626\n",
            "f-measure standard variance:  0.0007645798762915587\n"
          ]
        }
      ]
    },
    {
      "cell_type": "code",
      "metadata": {
        "colab": {
          "base_uri": "https://localhost:8080/"
        },
        "id": "H1y-5SkXibkX",
        "outputId": "778b6d88-000c-4c86-8c8a-3c8cf2f8edb8"
      },
      "source": [
        "execute_cross_validation(svm, X_text_reputation)"
      ],
      "execution_count": null,
      "outputs": [
        {
          "output_type": "stream",
          "name": "stdout",
          "text": [
            "elapsed time:  0:03:01.646501\n",
            "Mean results\n",
            "Precision:  51.0  recall:  79.0  f-measure:  62.0\n",
            "Mean results\n",
            "Precision:  0.5102402675044243  recall:  0.7853033659257708  f-measure:  0.6151639845223315\n",
            "Precision max:  0.550561797752809\n",
            "Precision min:  0.4592274678111588\n",
            "recall max:  0.9254658385093167\n",
            "recall min:  0.6024844720496895\n",
            "f-measure max:  0.6602409638554217\n",
            "f-measure min:  0.5625\n",
            "f-measure standard deviation:  0.026102272668237284\n",
            "f-measure standard variance:  0.0006813286384470072\n"
          ]
        }
      ]
    },
    {
      "cell_type": "code",
      "metadata": {
        "id": "_PLpjzSWib-Q",
        "colab": {
          "base_uri": "https://localhost:8080/"
        },
        "outputId": "364776d3-413a-4a56-90d7-ac1b97a50904"
      },
      "source": [
        "execute_cross_validation(svm, X_text_rating)"
      ],
      "execution_count": null,
      "outputs": [
        {
          "output_type": "stream",
          "name": "stdout",
          "text": [
            "elapsed time:  0:03:07.764290\n",
            "Mean results\n",
            "Precision:  51.0  recall:  76.0  f-measure:  60.0\n",
            "Mean results\n",
            "Precision:  0.5089067349073388  recall:  0.756258554059263  f-measure:  0.6019112905395426\n",
            "Precision max:  0.5754716981132075\n",
            "Precision min:  0.44656488549618323\n",
            "recall max:  0.9085365853658537\n",
            "recall min:  0.551948051948052\n",
            "f-measure max:  0.6403940886699507\n",
            "f-measure min:  0.5306122448979592\n",
            "f-measure standard deviation:  0.03317492544360915\n",
            "f-measure standard variance:  0.0011005756781890257\n"
          ]
        }
      ]
    },
    {
      "cell_type": "markdown",
      "metadata": {
        "id": "28TWDrq-UHiu"
      },
      "source": [
        "#Logistic Regression - CV"
      ]
    },
    {
      "cell_type": "code",
      "metadata": {
        "id": "c3f1oK5DUKSp"
      },
      "source": [
        "from sklearn.linear_model import LogisticRegression"
      ],
      "execution_count": null,
      "outputs": []
    },
    {
      "cell_type": "code",
      "metadata": {
        "id": "j41k0cmHUOWO"
      },
      "source": [
        "#clf = LogisticRegression(C=1.0, class_weight=None, dual=False, fit_intercept=True, intercept_scaling=1, max_iter=100, multi_class='auto', n_jobs=None, penalty='l2', random_state=None, solver='liblinear', tol=0.0001, verbose=0, warm_start=False)"
      ],
      "execution_count": null,
      "outputs": []
    },
    {
      "cell_type": "code",
      "metadata": {
        "id": "1BtfLzhD3Nn-"
      },
      "source": [
        "#clf = LogisticRegression(max_iter=1000)\n",
        "clf = LogisticRegression(solver='lbfgs', max_iter=1000)"
      ],
      "execution_count": null,
      "outputs": []
    },
    {
      "cell_type": "code",
      "metadata": {
        "colab": {
          "base_uri": "https://localhost:8080/"
        },
        "id": "IIBsCw0Kem2e",
        "outputId": "4ef90463-14e0-4593-b9ac-4daf21bdc5d3"
      },
      "source": [
        "execute_cross_validation(clf, Xnormal)"
      ],
      "execution_count": null,
      "outputs": [
        {
          "output_type": "stream",
          "name": "stdout",
          "text": [
            "elapsed time:  0:00:01.131500\n",
            "Mean results\n",
            "Precision:  51.0  recall:  64.0  f-measure:  56.99999999999999\n",
            "Mean results\n",
            "Precision:  0.5138119519095625  recall:  0.6435555530709792  f-measure:  0.5681194062781025\n",
            "Precision max:  0.5561797752808989\n",
            "Precision min:  0.4359861591695502\n",
            "recall max:  0.71875\n",
            "recall min:  0.5138888888888888\n",
            "f-measure max:  0.6098901098901098\n",
            "f-measure min:  0.5217391304347826\n",
            "f-measure standard deviation:  0.030063132892127545\n",
            "f-measure standard variance:  0.000903791959289721\n"
          ]
        }
      ]
    },
    {
      "cell_type": "code",
      "metadata": {
        "colab": {
          "base_uri": "https://localhost:8080/"
        },
        "id": "stJe0Hss1674",
        "outputId": "8c4a8e8e-294b-4a0d-94b5-4c1ef2848c4a"
      },
      "source": [
        "execute_cross_validation(clf, Xreporter_reputation)"
      ],
      "execution_count": null,
      "outputs": [
        {
          "output_type": "stream",
          "name": "stdout",
          "text": [
            "elapsed time:  0:00:01.190553\n",
            "Mean results\n",
            "Precision:  52.0  recall:  63.0  f-measure:  56.00000000000001\n",
            "Mean results\n",
            "Precision:  0.5163896783753525  recall:  0.6266810861838373  f-measure:  0.5561279057460148\n",
            "Precision max:  0.6086956521739131\n",
            "Precision min:  0.4291845493562232\n",
            "recall max:  0.7564102564102564\n",
            "recall min:  0.4838709677419355\n",
            "f-measure max:  0.6091644204851752\n",
            "f-measure min:  0.4967741935483871\n",
            "f-measure standard deviation:  0.03652420635168657\n",
            "f-measure standard variance:  0.0013340176496205818\n"
          ]
        }
      ]
    },
    {
      "cell_type": "code",
      "metadata": {
        "colab": {
          "base_uri": "https://localhost:8080/"
        },
        "id": "A3SDJSo7194V",
        "outputId": "bb99f098-dba0-4521-b167-1f3e590e8a5d"
      },
      "source": [
        "execute_cross_validation(clf, Xdeveloper_reputation)"
      ],
      "execution_count": null,
      "outputs": [
        {
          "output_type": "stream",
          "name": "stdout",
          "text": [
            "elapsed time:  0:00:01.210230\n",
            "Mean results\n",
            "Precision:  51.0  recall:  64.0  f-measure:  56.00000000000001\n",
            "Mean results\n",
            "Precision:  0.5142002900219044  recall:  0.641652060682023  f-measure:  0.5644658246181427\n",
            "Precision max:  0.6011904761904762\n",
            "Precision min:  0.46551724137931033\n",
            "recall max:  0.8785714285714286\n",
            "recall min:  0.5256410256410257\n",
            "f-measure max:  0.6199460916442049\n",
            "f-measure min:  0.4726027397260274\n",
            "f-measure standard deviation:  0.04137056517524222\n",
            "f-measure standard variance:  0.0017115236629189645\n"
          ]
        }
      ]
    },
    {
      "cell_type": "code",
      "metadata": {
        "colab": {
          "base_uri": "https://localhost:8080/"
        },
        "id": "1_mULDxS2KMD",
        "outputId": "35072be2-fa8d-4717-8f81-6c10f744425f"
      },
      "source": [
        "execute_cross_validation(clf, Xreputation)"
      ],
      "execution_count": null,
      "outputs": [
        {
          "output_type": "stream",
          "name": "stdout",
          "text": [
            "elapsed time:  0:00:01.191293\n",
            "Mean results\n",
            "Precision:  52.0  recall:  63.0  f-measure:  56.00000000000001\n",
            "Mean results\n",
            "Precision:  0.5170641436972222  recall:  0.6292971482899383  f-measure:  0.5564263389258457\n",
            "Precision max:  0.56353591160221\n",
            "Precision min:  0.485\n",
            "recall max:  0.8053691275167785\n",
            "recall min:  0.5165562913907285\n",
            "f-measure max:  0.5929919137466307\n",
            "f-measure min:  0.45901639344262296\n",
            "f-measure standard deviation:  0.03572178431510701\n",
            "f-measure standard variance:  0.001276045874655025\n"
          ]
        }
      ]
    },
    {
      "cell_type": "code",
      "metadata": {
        "colab": {
          "base_uri": "https://localhost:8080/"
        },
        "id": "_qV_s0XS2ArN",
        "outputId": "4d0a0319-a4cb-459c-f87b-ae3b8fa5078f"
      },
      "source": [
        "execute_cross_validation(clf, Xreporter_rating)"
      ],
      "execution_count": null,
      "outputs": [
        {
          "output_type": "stream",
          "name": "stdout",
          "text": [
            "elapsed time:  0:00:01.247649\n",
            "Mean results\n",
            "Precision:  52.0  recall:  61.0  f-measure:  56.99999999999999\n",
            "Mean results\n",
            "Precision:  0.5230829298907592  recall:  0.6085148550437367  f-measure:  0.5650756801531492\n",
            "Precision max:  0.5806451612903226\n",
            "Precision min:  0.46596858638743455\n",
            "recall max:  0.7124183006535948\n",
            "recall min:  0.3772455089820359\n",
            "f-measure max:  0.5962059620596206\n",
            "f-measure min:  0.5391304347826086\n",
            "f-measure standard deviation:  0.016668078687321567\n",
            "f-measure standard variance:  0.0002778248471267434\n"
          ]
        }
      ]
    },
    {
      "cell_type": "code",
      "metadata": {
        "colab": {
          "base_uri": "https://localhost:8080/"
        },
        "id": "xv-uK-DG2FNz",
        "outputId": "e61e4d84-1561-4804-f9fd-734d3edd2b07"
      },
      "source": [
        "execute_cross_validation(clf, Xdeveloper_rating)"
      ],
      "execution_count": null,
      "outputs": [
        {
          "output_type": "stream",
          "name": "stdout",
          "text": [
            "elapsed time:  0:00:01.782983\n",
            "Mean results\n",
            "Precision:  53.0  recall:  61.0  f-measure:  56.99999999999999\n",
            "Mean results\n",
            "Precision:  0.5321383130218095  recall:  0.6062016988646562  f-measure:  0.5677141890954013\n",
            "Precision max:  0.6\n",
            "Precision min:  0.40540540540540543\n",
            "recall max:  0.6802721088435374\n",
            "recall min:  0.5436241610738255\n",
            "f-measure max:  0.65\n",
            "f-measure min:  0.5169230769230769\n",
            "f-measure standard deviation:  0.03526338601618431\n",
            "f-measure standard variance:  0.0012435063933264234\n"
          ]
        }
      ]
    },
    {
      "cell_type": "code",
      "metadata": {
        "colab": {
          "base_uri": "https://localhost:8080/"
        },
        "id": "UvOhaOqK2RVQ",
        "outputId": "f4d3cf76-b4fd-4038-b4f6-0207988f4aac"
      },
      "source": [
        "execute_cross_validation(clf, Xrating)"
      ],
      "execution_count": null,
      "outputs": [
        {
          "output_type": "stream",
          "name": "stdout",
          "text": [
            "elapsed time:  0:00:02.157492\n",
            "Mean results\n",
            "Precision:  56.99999999999999  recall:  65.0  f-measure:  57.99999999999999\n",
            "Mean results\n",
            "Precision:  0.5708690335920021  recall:  0.6476967116749026  f-measure:  0.5800861551031683\n",
            "Precision max:  0.6762589928057554\n",
            "Precision min:  0.45754716981132076\n",
            "recall max:  0.7697841726618705\n",
            "recall min:  0.5308641975308642\n",
            "f-measure max:  0.6445783132530121\n",
            "f-measure min:  0.48504983388704315\n",
            "f-measure standard deviation:  0.04062966791093163\n",
            "f-measure standard variance:  0.0016507699145525876\n"
          ]
        }
      ]
    },
    {
      "cell_type": "code",
      "metadata": {
        "colab": {
          "base_uri": "https://localhost:8080/"
        },
        "id": "lmjNunCQj190",
        "outputId": "14c1c579-45b7-42c1-e461-f31f5d65cf43"
      },
      "source": [
        "execute_cross_validation(clf, XratingAvg)"
      ],
      "execution_count": null,
      "outputs": [
        {
          "output_type": "stream",
          "name": "stdout",
          "text": [
            "elapsed time:  0:00:01.179351\n",
            "Mean results\n",
            "Precision:  51.0  recall:  65.0  f-measure:  56.00000000000001\n",
            "Mean results\n",
            "Precision:  0.5113470320770361  recall:  0.6539110816110822  f-measure:  0.5624199007141943\n",
            "Precision max:  0.5645161290322581\n",
            "Precision min:  0.4717948717948718\n",
            "recall max:  0.7346938775510204\n",
            "recall min:  0.5512820512820513\n",
            "f-measure max:  0.6208791208791209\n",
            "f-measure min:  0.44897959183673464\n",
            "f-measure standard deviation:  0.046074209086752214\n",
            "f-measure standard variance:  0.0021228327429697606\n"
          ]
        }
      ]
    },
    {
      "cell_type": "code",
      "metadata": {
        "colab": {
          "base_uri": "https://localhost:8080/"
        },
        "id": "yYcNN55njzJA",
        "outputId": "557fe072-a883-42b5-d4c9-5e6e3d45106b"
      },
      "source": [
        "execute_cross_validation(clf, X_text)"
      ],
      "execution_count": null,
      "outputs": [
        {
          "output_type": "stream",
          "name": "stdout",
          "text": [
            "elapsed time:  0:00:06.073570\n",
            "Mean results\n",
            "Precision:  60.0  recall:  57.99999999999999  f-measure:  59.0\n",
            "Mean results\n",
            "Precision:  0.6001581445867076  recall:  0.5784565274151523  f-measure:  0.5919022691112644\n",
            "Precision max:  0.696969696969697\n",
            "Precision min:  0.5290322580645161\n",
            "recall max:  0.6571428571428571\n",
            "recall min:  0.5163398692810458\n",
            "f-measure max:  0.6319218241042346\n",
            "f-measure min:  0.5429553264604812\n",
            "f-measure standard deviation:  0.025271278051379957\n",
            "f-measure standard variance:  0.0006386374943501583\n"
          ]
        }
      ]
    },
    {
      "cell_type": "code",
      "source": [
        "execute_cross_validation(clf, X_text)"
      ],
      "metadata": {
        "colab": {
          "base_uri": "https://localhost:8080/"
        },
        "id": "8smei3f25zHS",
        "outputId": "40108982-e152-44e8-d49d-f81c76621699"
      },
      "execution_count": null,
      "outputs": [
        {
          "output_type": "stream",
          "name": "stdout",
          "text": [
            "elapsed time:  0:00:08.226227\n",
            "Mean results\n",
            "Precision:  57.99999999999999  recall:  56.00000000000001  f-measure:  57.99999999999999\n",
            "Mean results\n",
            "Precision:  0.584687526867122  recall:  0.5630860451655385  f-measure:  0.5757581139465868\n",
            "Precision max:  0.6788321167883211\n",
            "Precision min:  0.5384615384615384\n",
            "recall max:  0.632258064516129\n",
            "recall min:  0.49056603773584906\n",
            "f-measure max:  0.6158940397350994\n",
            "f-measure min:  0.5273311897106109\n",
            "f-measure standard deviation:  0.027180208883700388\n",
            "f-measure standard variance:  0.0007387637549615856\n"
          ]
        }
      ]
    },
    {
      "cell_type": "code",
      "metadata": {
        "colab": {
          "base_uri": "https://localhost:8080/"
        },
        "id": "FG7fiRFH-2_J",
        "outputId": "ecf18099-6812-4145-e271-e9a55aa6ccaf"
      },
      "source": [
        "execute_cross_validation(clf, Xtogether)"
      ],
      "execution_count": null,
      "outputs": [
        {
          "output_type": "stream",
          "name": "stdout",
          "text": [
            "elapsed time:  0:00:02.144620\n",
            "Mean results\n",
            "Precision:  55.00000000000001  recall:  62.0  f-measure:  59.0\n",
            "Mean results\n",
            "Precision:  0.5491492963454271  recall:  0.6176267454875138  f-measure:  0.5899919281516264\n",
            "Precision max:  0.65\n",
            "Precision min:  0.4595744680851064\n",
            "recall max:  0.7218934911242604\n",
            "recall min:  0.5161290322580645\n",
            "f-measure max:  0.6729559748427674\n",
            "f-measure min:  0.5310734463276836\n",
            "f-measure standard deviation:  0.04581554744499289\n",
            "f-measure standard variance:  0.0020990643876843944\n"
          ]
        }
      ]
    },
    {
      "cell_type": "code",
      "metadata": {
        "colab": {
          "base_uri": "https://localhost:8080/"
        },
        "id": "0sKEShB73SMx",
        "outputId": "ee1bd96a-caef-48f8-bcc7-c0b88d34f4e1"
      },
      "source": [
        "execute_cross_validation(clf, X_text_reputation)"
      ],
      "execution_count": null,
      "outputs": [
        {
          "output_type": "stream",
          "name": "stdout",
          "text": [
            "elapsed time:  0:00:06.108896\n",
            "Mean results\n",
            "Precision:  52.0  recall:  62.0  f-measure:  57.99999999999999\n",
            "Mean results\n",
            "Precision:  0.5201878011382559  recall:  0.6178897046590077  f-measure:  0.5812513176043861\n",
            "Precision max:  0.5942028985507246\n",
            "Precision min:  0.47337278106508873\n",
            "recall max:  0.896551724137931\n",
            "recall min:  0.4691358024691358\n",
            "f-measure max:  0.6233062330623306\n",
            "f-measure min:  0.5165165165165165\n",
            "f-measure standard deviation:  0.029471068232307194\n",
            "f-measure standard variance:  0.0008685438627533063\n"
          ]
        }
      ]
    },
    {
      "cell_type": "code",
      "metadata": {
        "colab": {
          "base_uri": "https://localhost:8080/"
        },
        "id": "jfHzaM1rjUwM",
        "outputId": "c0267966-6aac-46df-db61-64d91aad3648"
      },
      "source": [
        "execute_cross_validation(clf, X_text_rating)"
      ],
      "execution_count": null,
      "outputs": [
        {
          "output_type": "stream",
          "name": "stdout",
          "text": [
            "elapsed time:  0:00:10.863111\n",
            "Mean results\n",
            "Precision:  56.00000000000001  recall:  62.0  f-measure:  60.0\n",
            "Mean results\n",
            "Precision:  0.5580817900071926  recall:  0.6220088018050103  f-measure:  0.5961509376409779\n",
            "Precision max:  0.6585365853658537\n",
            "Precision min:  0.49238578680203043\n",
            "recall max:  0.6987179487179487\n",
            "recall min:  0.5231788079470199\n",
            "f-measure max:  0.6369426751592357\n",
            "f-measure min:  0.5540540540540541\n",
            "f-measure standard deviation:  0.027910004205132115\n",
            "f-measure standard variance:  0.0007789683347304922\n"
          ]
        }
      ]
    },
    {
      "cell_type": "code",
      "metadata": {
        "id": "guLR_X6syqh3"
      },
      "source": [],
      "execution_count": null,
      "outputs": []
    },
    {
      "cell_type": "markdown",
      "metadata": {
        "id": "RmFW1L040ppD"
      },
      "source": [
        "# MultLayer Perceptron\n"
      ]
    },
    {
      "cell_type": "code",
      "metadata": {
        "id": "cnVQGEjv0ppF"
      },
      "source": [
        "from sklearn.neural_network import MLPClassifier"
      ],
      "execution_count": null,
      "outputs": []
    },
    {
      "cell_type": "code",
      "metadata": {
        "id": "OAiLBk1N0ppG"
      },
      "source": [
        "mlp = MLPClassifier()"
      ],
      "execution_count": null,
      "outputs": []
    },
    {
      "cell_type": "code",
      "metadata": {
        "colab": {
          "base_uri": "https://localhost:8080/"
        },
        "id": "cgaMWCnk0ppG",
        "outputId": "de0341cf-24d1-4efa-d3ee-02b150eb81a5"
      },
      "source": [
        "execute_cross_validation(mlp, Xnormal)"
      ],
      "execution_count": null,
      "outputs": [
        {
          "output_type": "stream",
          "name": "stdout",
          "text": [
            "elapsed time:  0:00:21.156087\n",
            "Mean results\n",
            "Precision:  53.0  recall:  43.0  f-measure:  34.0\n",
            "Mean results\n",
            "Precision:  0.5293469187661739  recall:  0.4334797575138989  f-measure:  0.34200526449765134\n",
            "Precision max:  0.65\n",
            "Precision min:  0.4\n",
            "recall max:  0.9712230215827338\n",
            "recall min:  0.0\n",
            "f-measure max:  0.6509433962264152\n",
            "f-measure min:  0.07272727272727272\n",
            "f-measure standard deviation:  0.20878513785768657\n",
            "f-measure standard variance:  0.04359123379025319\n"
          ]
        }
      ]
    },
    {
      "cell_type": "code",
      "metadata": {
        "colab": {
          "base_uri": "https://localhost:8080/"
        },
        "id": "eOYS3ySI0ppH",
        "outputId": "7f9ea468-af35-418a-c365-9db76addd6da"
      },
      "source": [
        "execute_cross_validation(mlp, Xreporter_reputation)"
      ],
      "execution_count": null,
      "outputs": [
        {
          "output_type": "stream",
          "name": "stdout",
          "text": [
            "elapsed time:  0:00:18.776265\n",
            "Mean results\n",
            "Precision:  52.0  recall:  53.0  f-measure:  36.0\n",
            "Mean results\n",
            "Precision:  0.5157692365996391  recall:  0.5315482904890851  f-measure:  0.35605534947596346\n",
            "Precision max:  0.628140703517588\n",
            "Precision min:  0.42727272727272725\n",
            "recall max:  0.9851851851851852\n",
            "recall min:  0.024539877300613498\n",
            "f-measure max:  0.6519607843137255\n",
            "f-measure min:  0.012820512820512822\n",
            "f-measure standard deviation:  0.2631894291642675\n",
            "f-measure standard variance:  0.06926867562381299\n"
          ]
        }
      ]
    },
    {
      "cell_type": "code",
      "metadata": {
        "colab": {
          "base_uri": "https://localhost:8080/"
        },
        "id": "Yl63zVRI0ppH",
        "outputId": "bb8a295e-7226-42ea-9e0f-c14e0fb5a3f1"
      },
      "source": [
        "execute_cross_validation(mlp, Xdeveloper_reputation)"
      ],
      "execution_count": null,
      "outputs": [
        {
          "output_type": "stream",
          "name": "stdout",
          "text": [
            "elapsed time:  0:00:19.060938\n",
            "Mean results\n",
            "Precision:  54.0  recall:  61.0  f-measure:  43.0\n",
            "Mean results\n",
            "Precision:  0.5377656998864914  recall:  0.6135321431283784  f-measure:  0.42899278197555224\n",
            "Precision max:  0.75\n",
            "Precision min:  0.45555555555555555\n",
            "recall max:  0.986013986013986\n",
            "recall min:  0.020689655172413793\n",
            "f-measure max:  0.6763285024154589\n",
            "f-measure min:  0.12048192771084336\n",
            "f-measure standard deviation:  0.2070332009589662\n",
            "f-measure standard variance:  0.04286274629931569\n"
          ]
        }
      ]
    },
    {
      "cell_type": "code",
      "metadata": {
        "colab": {
          "base_uri": "https://localhost:8080/"
        },
        "id": "hwahHcSn0ppI",
        "outputId": "77c45d94-e76b-4797-fc27-bc57d5014872"
      },
      "source": [
        "execute_cross_validation(mlp, Xreputation)"
      ],
      "execution_count": null,
      "outputs": [
        {
          "output_type": "stream",
          "name": "stdout",
          "text": [
            "elapsed time:  0:00:19.534825\n",
            "Mean results\n",
            "Precision:  50.0  recall:  43.0  f-measure:  40.0\n",
            "Mean results\n",
            "Precision:  0.5024544221068723  recall:  0.4295871310051248  f-measure:  0.3950198204251264\n",
            "Precision max:  0.5739130434782609\n",
            "Precision min:  0.36363636363636365\n",
            "recall max:  0.9801324503311258\n",
            "recall min:  0.0440251572327044\n",
            "f-measure max:  0.672686230248307\n",
            "f-measure min:  0.12162162162162161\n",
            "f-measure standard deviation:  0.18456567987556508\n",
            "f-measure standard variance:  0.034064490187929564\n"
          ]
        }
      ]
    },
    {
      "cell_type": "code",
      "metadata": {
        "colab": {
          "base_uri": "https://localhost:8080/"
        },
        "id": "LCPlGwXi0ppI",
        "outputId": "7a3b77d8-44a7-4d28-df23-50f027f82eca"
      },
      "source": [
        "execute_cross_validation(mlp, Xreporter_rating)"
      ],
      "execution_count": null,
      "outputs": [
        {
          "output_type": "stream",
          "name": "stdout",
          "text": [
            "elapsed time:  0:00:19.459926\n",
            "Mean results\n",
            "Precision:  56.99999999999999  recall:  45.0  f-measure:  43.0\n",
            "Mean results\n",
            "Precision:  0.5699606779243431  recall:  0.4515286284609183  f-measure:  0.42651548779554416\n",
            "Precision max:  0.6666666666666666\n",
            "Precision min:  0.5098039215686274\n",
            "recall max:  0.9135802469135802\n",
            "recall min:  0.034013605442176874\n",
            "f-measure max:  0.6336088154269973\n",
            "f-measure min:  0.20320855614973263\n",
            "f-measure standard deviation:  0.12865564378633992\n",
            "f-measure standard variance:  0.01655227467807759\n"
          ]
        }
      ]
    },
    {
      "cell_type": "code",
      "metadata": {
        "colab": {
          "base_uri": "https://localhost:8080/"
        },
        "id": "epCAzMv_0ppJ",
        "outputId": "890ddb73-b1c4-4932-c739-fc932226f9cf"
      },
      "source": [
        "execute_cross_validation(mlp, Xdeveloper_rating)"
      ],
      "execution_count": null,
      "outputs": [
        {
          "output_type": "stream",
          "name": "stdout",
          "text": [
            "elapsed time:  0:00:20.560122\n",
            "Mean results\n",
            "Precision:  52.0  recall:  56.99999999999999  f-measure:  53.0\n",
            "Mean results\n",
            "Precision:  0.5195088138020334  recall:  0.5726665030380875  f-measure:  0.5300823525380077\n",
            "Precision max:  0.6666666666666666\n",
            "Precision min:  0.4\n",
            "recall max:  1.0\n",
            "recall min:  0.04666666666666667\n",
            "f-measure max:  0.6768558951965066\n",
            "f-measure min:  0.13664596273291926\n",
            "f-measure standard deviation:  0.14917979219748576\n",
            "f-measure standard variance:  0.02225461040008503\n"
          ]
        }
      ]
    },
    {
      "cell_type": "code",
      "metadata": {
        "colab": {
          "base_uri": "https://localhost:8080/"
        },
        "id": "AxoJzkaQ0ppJ",
        "outputId": "ee318828-aa02-4665-c25d-12602c13ba50"
      },
      "source": [
        "execute_cross_validation(mlp, Xrating)"
      ],
      "execution_count": null,
      "outputs": [
        {
          "output_type": "stream",
          "name": "stdout",
          "text": [
            "elapsed time:  0:00:18.449270\n",
            "Mean results\n",
            "Precision:  54.0  recall:  55.00000000000001  f-measure:  41.0\n",
            "Mean results\n",
            "Precision:  0.5386757180059742  recall:  0.5488596460668126  f-measure:  0.4132106546204053\n",
            "Precision max:  0.8333333333333334\n",
            "Precision min:  0.375\n",
            "recall max:  0.9754601226993865\n",
            "recall min:  0.047619047619047616\n",
            "f-measure max:  0.6812227074235807\n",
            "f-measure min:  0.0\n",
            "f-measure standard deviation:  0.2560971507115257\n",
            "f-measure standard variance:  0.06558575060256192\n"
          ]
        }
      ]
    },
    {
      "cell_type": "code",
      "metadata": {
        "colab": {
          "base_uri": "https://localhost:8080/"
        },
        "id": "XGTKXrWf0ppK",
        "outputId": "4c5ca3cc-b61e-4742-a1fa-f1236cdb2e1b"
      },
      "source": [
        "execute_cross_validation(mlp, XratingAvg)"
      ],
      "execution_count": null,
      "outputs": [
        {
          "output_type": "stream",
          "name": "stdout",
          "text": [
            "elapsed time:  0:00:21.406337\n",
            "Mean results\n",
            "Precision:  56.00000000000001  recall:  55.00000000000001  f-measure:  45.0\n",
            "Mean results\n",
            "Precision:  0.5613083722968188  recall:  0.5474919636143889  f-measure:  0.4510227968155385\n",
            "Precision max:  0.7777777777777778\n",
            "Precision min:  0.3939393939393939\n",
            "recall max:  1.0\n",
            "recall min:  0.012578616352201259\n",
            "f-measure max:  0.6651376146788992\n",
            "f-measure min:  0.022988505747126436\n",
            "f-measure standard deviation:  0.20529539925597132\n",
            "f-measure standard variance:  0.04214620095566867\n"
          ]
        }
      ]
    },
    {
      "cell_type": "code",
      "metadata": {
        "colab": {
          "base_uri": "https://localhost:8080/"
        },
        "id": "EXADcDxz0ppL",
        "outputId": "41609394-eb60-4a59-fca4-0e045c6467d7"
      },
      "source": [
        "execute_cross_validation(mlp, Xtogether)"
      ],
      "execution_count": null,
      "outputs": [
        {
          "output_type": "stream",
          "name": "stdout",
          "text": [
            "elapsed time:  0:00:21.535821\n",
            "Mean results\n",
            "Precision:  52.0  recall:  55.00000000000001  f-measure:  41.0\n",
            "Mean results\n",
            "Precision:  0.5196692089939373  recall:  0.5477288279080202  f-measure:  0.41048355778425305\n",
            "Precision max:  0.6612903225806451\n",
            "Precision min:  0.4460431654676259\n",
            "recall max:  1.0\n",
            "recall min:  0.012738853503184714\n",
            "f-measure max:  0.6742081447963801\n",
            "f-measure min:  0.03773584905660377\n",
            "f-measure standard deviation:  0.22102775623985674\n",
            "f-measure standard variance:  0.04885326902842553\n"
          ]
        }
      ]
    },
    {
      "cell_type": "code",
      "metadata": {
        "colab": {
          "base_uri": "https://localhost:8080/"
        },
        "id": "yQFQJSXp0ppL",
        "outputId": "43d3ba9c-f068-41c7-ec07-14334293aed9"
      },
      "source": [
        "execute_cross_validation(mlp, X_text)"
      ],
      "execution_count": null,
      "outputs": [
        {
          "output_type": "stream",
          "name": "stderr",
          "text": [
            "/usr/local/lib/python3.7/dist-packages/sklearn/neural_network/_multilayer_perceptron.py:696: ConvergenceWarning: Stochastic Optimizer: Maximum iterations (200) reached and the optimization hasn't converged yet.\n",
            "  ConvergenceWarning,\n",
            "/usr/local/lib/python3.7/dist-packages/sklearn/neural_network/_multilayer_perceptron.py:696: ConvergenceWarning: Stochastic Optimizer: Maximum iterations (200) reached and the optimization hasn't converged yet.\n",
            "  ConvergenceWarning,\n",
            "/usr/local/lib/python3.7/dist-packages/sklearn/neural_network/_multilayer_perceptron.py:696: ConvergenceWarning: Stochastic Optimizer: Maximum iterations (200) reached and the optimization hasn't converged yet.\n",
            "  ConvergenceWarning,\n",
            "/usr/local/lib/python3.7/dist-packages/sklearn/neural_network/_multilayer_perceptron.py:696: ConvergenceWarning: Stochastic Optimizer: Maximum iterations (200) reached and the optimization hasn't converged yet.\n",
            "  ConvergenceWarning,\n",
            "/usr/local/lib/python3.7/dist-packages/sklearn/neural_network/_multilayer_perceptron.py:696: ConvergenceWarning: Stochastic Optimizer: Maximum iterations (200) reached and the optimization hasn't converged yet.\n",
            "  ConvergenceWarning,\n",
            "/usr/local/lib/python3.7/dist-packages/sklearn/neural_network/_multilayer_perceptron.py:696: ConvergenceWarning: Stochastic Optimizer: Maximum iterations (200) reached and the optimization hasn't converged yet.\n",
            "  ConvergenceWarning,\n",
            "/usr/local/lib/python3.7/dist-packages/sklearn/neural_network/_multilayer_perceptron.py:696: ConvergenceWarning: Stochastic Optimizer: Maximum iterations (200) reached and the optimization hasn't converged yet.\n",
            "  ConvergenceWarning,\n",
            "/usr/local/lib/python3.7/dist-packages/sklearn/neural_network/_multilayer_perceptron.py:696: ConvergenceWarning: Stochastic Optimizer: Maximum iterations (200) reached and the optimization hasn't converged yet.\n",
            "  ConvergenceWarning,\n",
            "/usr/local/lib/python3.7/dist-packages/sklearn/neural_network/_multilayer_perceptron.py:696: ConvergenceWarning: Stochastic Optimizer: Maximum iterations (200) reached and the optimization hasn't converged yet.\n",
            "  ConvergenceWarning,\n",
            "/usr/local/lib/python3.7/dist-packages/sklearn/neural_network/_multilayer_perceptron.py:696: ConvergenceWarning: Stochastic Optimizer: Maximum iterations (200) reached and the optimization hasn't converged yet.\n",
            "  ConvergenceWarning,\n",
            "/usr/local/lib/python3.7/dist-packages/sklearn/neural_network/_multilayer_perceptron.py:696: ConvergenceWarning: Stochastic Optimizer: Maximum iterations (200) reached and the optimization hasn't converged yet.\n",
            "  ConvergenceWarning,\n",
            "/usr/local/lib/python3.7/dist-packages/sklearn/neural_network/_multilayer_perceptron.py:696: ConvergenceWarning: Stochastic Optimizer: Maximum iterations (200) reached and the optimization hasn't converged yet.\n",
            "  ConvergenceWarning,\n",
            "/usr/local/lib/python3.7/dist-packages/sklearn/neural_network/_multilayer_perceptron.py:696: ConvergenceWarning: Stochastic Optimizer: Maximum iterations (200) reached and the optimization hasn't converged yet.\n",
            "  ConvergenceWarning,\n",
            "/usr/local/lib/python3.7/dist-packages/sklearn/neural_network/_multilayer_perceptron.py:696: ConvergenceWarning: Stochastic Optimizer: Maximum iterations (200) reached and the optimization hasn't converged yet.\n",
            "  ConvergenceWarning,\n",
            "/usr/local/lib/python3.7/dist-packages/sklearn/neural_network/_multilayer_perceptron.py:696: ConvergenceWarning: Stochastic Optimizer: Maximum iterations (200) reached and the optimization hasn't converged yet.\n",
            "  ConvergenceWarning,\n",
            "/usr/local/lib/python3.7/dist-packages/sklearn/neural_network/_multilayer_perceptron.py:696: ConvergenceWarning: Stochastic Optimizer: Maximum iterations (200) reached and the optimization hasn't converged yet.\n",
            "  ConvergenceWarning,\n",
            "/usr/local/lib/python3.7/dist-packages/sklearn/neural_network/_multilayer_perceptron.py:696: ConvergenceWarning: Stochastic Optimizer: Maximum iterations (200) reached and the optimization hasn't converged yet.\n",
            "  ConvergenceWarning,\n",
            "/usr/local/lib/python3.7/dist-packages/sklearn/neural_network/_multilayer_perceptron.py:696: ConvergenceWarning: Stochastic Optimizer: Maximum iterations (200) reached and the optimization hasn't converged yet.\n",
            "  ConvergenceWarning,\n",
            "/usr/local/lib/python3.7/dist-packages/sklearn/neural_network/_multilayer_perceptron.py:696: ConvergenceWarning: Stochastic Optimizer: Maximum iterations (200) reached and the optimization hasn't converged yet.\n",
            "  ConvergenceWarning,\n",
            "/usr/local/lib/python3.7/dist-packages/sklearn/neural_network/_multilayer_perceptron.py:696: ConvergenceWarning: Stochastic Optimizer: Maximum iterations (200) reached and the optimization hasn't converged yet.\n",
            "  ConvergenceWarning,\n",
            "/usr/local/lib/python3.7/dist-packages/sklearn/neural_network/_multilayer_perceptron.py:696: ConvergenceWarning: Stochastic Optimizer: Maximum iterations (200) reached and the optimization hasn't converged yet.\n",
            "  ConvergenceWarning,\n",
            "/usr/local/lib/python3.7/dist-packages/sklearn/neural_network/_multilayer_perceptron.py:696: ConvergenceWarning: Stochastic Optimizer: Maximum iterations (200) reached and the optimization hasn't converged yet.\n",
            "  ConvergenceWarning,\n",
            "/usr/local/lib/python3.7/dist-packages/sklearn/neural_network/_multilayer_perceptron.py:696: ConvergenceWarning: Stochastic Optimizer: Maximum iterations (200) reached and the optimization hasn't converged yet.\n",
            "  ConvergenceWarning,\n",
            "/usr/local/lib/python3.7/dist-packages/sklearn/neural_network/_multilayer_perceptron.py:696: ConvergenceWarning: Stochastic Optimizer: Maximum iterations (200) reached and the optimization hasn't converged yet.\n",
            "  ConvergenceWarning,\n",
            "/usr/local/lib/python3.7/dist-packages/sklearn/neural_network/_multilayer_perceptron.py:696: ConvergenceWarning: Stochastic Optimizer: Maximum iterations (200) reached and the optimization hasn't converged yet.\n",
            "  ConvergenceWarning,\n",
            "/usr/local/lib/python3.7/dist-packages/sklearn/neural_network/_multilayer_perceptron.py:696: ConvergenceWarning: Stochastic Optimizer: Maximum iterations (200) reached and the optimization hasn't converged yet.\n",
            "  ConvergenceWarning,\n",
            "/usr/local/lib/python3.7/dist-packages/sklearn/neural_network/_multilayer_perceptron.py:696: ConvergenceWarning: Stochastic Optimizer: Maximum iterations (200) reached and the optimization hasn't converged yet.\n",
            "  ConvergenceWarning,\n",
            "/usr/local/lib/python3.7/dist-packages/sklearn/neural_network/_multilayer_perceptron.py:696: ConvergenceWarning: Stochastic Optimizer: Maximum iterations (200) reached and the optimization hasn't converged yet.\n",
            "  ConvergenceWarning,\n",
            "/usr/local/lib/python3.7/dist-packages/sklearn/neural_network/_multilayer_perceptron.py:696: ConvergenceWarning: Stochastic Optimizer: Maximum iterations (200) reached and the optimization hasn't converged yet.\n",
            "  ConvergenceWarning,\n"
          ]
        },
        {
          "output_type": "stream",
          "name": "stdout",
          "text": [
            "elapsed time:  0:10:49.789838\n",
            "Mean results\n",
            "Precision:  56.99999999999999  recall:  57.99999999999999  f-measure:  57.99999999999999\n",
            "Mean results\n",
            "Precision:  0.5692739062114816  recall:  0.5783109250154971  f-measure:  0.5753083033141384\n",
            "Precision max:  0.6089743589743589\n",
            "Precision min:  0.5163398692810458\n",
            "recall max:  0.6470588235294118\n",
            "recall min:  0.4966887417218543\n",
            "f-measure max:  0.6585365853658537\n",
            "f-measure min:  0.511326860841424\n",
            "f-measure standard deviation:  0.040950204573397604\n",
            "f-measure standard variance:  0.001676919254603114\n"
          ]
        },
        {
          "output_type": "stream",
          "name": "stderr",
          "text": [
            "/usr/local/lib/python3.7/dist-packages/sklearn/neural_network/_multilayer_perceptron.py:696: ConvergenceWarning: Stochastic Optimizer: Maximum iterations (200) reached and the optimization hasn't converged yet.\n",
            "  ConvergenceWarning,\n"
          ]
        }
      ]
    },
    {
      "cell_type": "code",
      "metadata": {
        "colab": {
          "base_uri": "https://localhost:8080/"
        },
        "id": "SWP9WlFY0ppM",
        "outputId": "e49df384-99b0-4cdf-a13e-eabbf5b9d639"
      },
      "source": [
        "execute_cross_validation(mlp, X_text_reputation)"
      ],
      "execution_count": null,
      "outputs": [
        {
          "output_type": "stream",
          "name": "stdout",
          "text": [
            "elapsed time:  0:01:51.148757\n",
            "Mean results\n",
            "Precision:  54.0  recall:  52.0  f-measure:  51.0\n",
            "Mean results\n",
            "Precision:  0.5360771701856273  recall:  0.5213843525621584  f-measure:  0.511833002723224\n",
            "Precision max:  0.6285714285714286\n",
            "Precision min:  0.4846153846153846\n",
            "recall max:  1.0\n",
            "recall min:  0.16025641025641027\n",
            "f-measure max:  0.7407407407407407\n",
            "f-measure min:  0.1282051282051282\n",
            "f-measure standard deviation:  0.19681970057816622\n",
            "f-measure standard variance:  0.038737994535679006\n"
          ]
        }
      ]
    },
    {
      "cell_type": "code",
      "metadata": {
        "id": "nkbnwfOd0ppM",
        "colab": {
          "base_uri": "https://localhost:8080/"
        },
        "outputId": "db58ba13-9f45-4936-e48e-ddce553b08f4"
      },
      "source": [
        "execute_cross_validation(mlp, X_text_rating)"
      ],
      "execution_count": null,
      "outputs": [
        {
          "output_type": "stream",
          "name": "stderr",
          "text": [
            "/usr/local/lib/python3.7/dist-packages/sklearn/metrics/_classification.py:1308: UndefinedMetricWarning: Precision is ill-defined and being set to 0.0 due to no predicted samples. Use `zero_division` parameter to control this behavior.\n",
            "  _warn_prf(average, modifier, msg_start, len(result))\n"
          ]
        },
        {
          "output_type": "stream",
          "name": "stdout",
          "text": [
            "elapsed time:  0:01:48.979998\n",
            "Mean results\n",
            "Precision:  47.0  recall:  42.0  f-measure:  44.0\n",
            "Mean results\n",
            "Precision:  0.4667618520340442  recall:  0.42186329014470847  f-measure:  0.43753751068475377\n",
            "Precision max:  0.582010582010582\n",
            "Precision min:  0.0\n",
            "recall max:  0.9210526315789473\n",
            "recall min:  0.006711409395973154\n",
            "f-measure max:  0.7040358744394619\n",
            "f-measure min:  0.04848484848484849\n",
            "f-measure standard deviation:  0.22761519966917718\n",
            "f-measure standard variance:  0.05180867912043939\n"
          ]
        }
      ]
    },
    {
      "cell_type": "markdown",
      "metadata": {
        "id": "-h00pRbXyq0Y"
      },
      "source": [
        "#Gradient Boosting"
      ]
    },
    {
      "cell_type": "code",
      "metadata": {
        "id": "UxXS0o0fyq0Z"
      },
      "source": [
        "from sklearn.ensemble import GradientBoostingClassifier"
      ],
      "execution_count": null,
      "outputs": []
    },
    {
      "cell_type": "code",
      "metadata": {
        "id": "hXI-NQNsyq0a"
      },
      "source": [
        "gbc = GradientBoostingClassifier(n_estimators=100, random_state=0)"
      ],
      "execution_count": null,
      "outputs": []
    },
    {
      "cell_type": "code",
      "source": [
        "execute_cross_validation(gbc, X_reporter_rating_ajusted)"
      ],
      "metadata": {
        "colab": {
          "base_uri": "https://localhost:8080/"
        },
        "id": "1W8zSqBdj6nM",
        "outputId": "659b5617-2e30-4e63-a3bb-adb921c0b01b"
      },
      "execution_count": null,
      "outputs": [
        {
          "output_type": "stream",
          "name": "stdout",
          "text": [
            "elapsed time:  0:00:13.282935\n",
            "Mean results\n",
            "Precision:  63.0  recall:  56.00000000000001  f-measure:  60.0\n",
            "Mean results\n",
            "Precision:  0.6284097105653424  recall:  0.5623987253617723  f-measure:  0.6014857911004026\n",
            "Precision max:  0.6762589928057554\n",
            "Precision min:  0.5782312925170068\n",
            "recall max:  0.6381578947368421\n",
            "recall min:  0.4840764331210191\n",
            "f-measure max:  0.6295081967213115\n",
            "f-measure min:  0.5691699604743082\n",
            "f-measure standard deviation:  0.01726897256265883\n",
            "f-measure standard variance:  0.00029821741336986344\n"
          ]
        }
      ]
    },
    {
      "cell_type": "code",
      "metadata": {
        "colab": {
          "base_uri": "https://localhost:8080/"
        },
        "id": "QeeaqZl-yq0a",
        "outputId": "cdbd8ee2-0fb3-4101-e34b-0e40af3505d8"
      },
      "source": [
        "execute_cross_validation(gbc, Xnormal)"
      ],
      "execution_count": null,
      "outputs": [
        {
          "output_type": "stream",
          "name": "stdout",
          "text": [
            "elapsed time:  0:00:09.381980\n",
            "Mean results\n",
            "Precision:  61.0  recall:  56.99999999999999  f-measure:  57.99999999999999\n",
            "Mean results\n",
            "Precision:  0.6061363714880671  recall:  0.5722681950006645  f-measure:  0.5783454918303457\n",
            "Precision max:  0.6470588235294118\n",
            "Precision min:  0.5197368421052632\n",
            "recall max:  0.6339869281045751\n",
            "recall min:  0.5161290322580645\n",
            "f-measure max:  0.6384364820846906\n",
            "f-measure min:  0.5374149659863946\n",
            "f-measure standard deviation:  0.03222422760698091\n",
            "f-measure standard variance:  0.0010384008448665108\n"
          ]
        }
      ]
    },
    {
      "cell_type": "code",
      "metadata": {
        "colab": {
          "base_uri": "https://localhost:8080/"
        },
        "id": "sjb5VwQ9yq0a",
        "outputId": "f236266f-1d9d-4433-fc0e-c18f77974a16"
      },
      "source": [
        "execute_cross_validation(gbc, Xreporter_reputation)"
      ],
      "execution_count": null,
      "outputs": [
        {
          "output_type": "stream",
          "name": "stdout",
          "text": [
            "elapsed time:  0:00:10.599416\n",
            "Mean results\n",
            "Precision:  61.0  recall:  57.99999999999999  f-measure:  60.0\n",
            "Mean results\n",
            "Precision:  0.6095142529213734  recall:  0.5822343357398007  f-measure:  0.5958124727438532\n",
            "Precision max:  0.6962962962962963\n",
            "Precision min:  0.5688622754491018\n",
            "recall max:  0.6358024691358025\n",
            "recall min:  0.4966442953020134\n",
            "f-measure max:  0.6302250803858521\n",
            "f-measure min:  0.5517241379310345\n",
            "f-measure standard deviation:  0.025268525720648503\n",
            "f-measure standard variance:  0.0006384983920950749\n"
          ]
        }
      ]
    },
    {
      "cell_type": "code",
      "metadata": {
        "colab": {
          "base_uri": "https://localhost:8080/"
        },
        "id": "aK6lMJF7yq0b",
        "outputId": "e3d983a0-40ff-4eef-a69c-3df2953ac7a6"
      },
      "source": [
        "execute_cross_validation(gbc, Xdeveloper_reputation)"
      ],
      "execution_count": null,
      "outputs": [
        {
          "output_type": "stream",
          "name": "stdout",
          "text": [
            "elapsed time:  0:00:10.908635\n",
            "Mean results\n",
            "Precision:  60.0  recall:  56.00000000000001  f-measure:  57.99999999999999\n",
            "Mean results\n",
            "Precision:  0.604094761453439  recall:  0.5640333241762518  f-measure:  0.5755718303956059\n",
            "Precision max:  0.6713286713286714\n",
            "Precision min:  0.5460992907801419\n",
            "recall max:  0.60431654676259\n",
            "recall min:  0.47770700636942676\n",
            "f-measure max:  0.6148648648648649\n",
            "f-measure min:  0.5283018867924528\n",
            "f-measure standard deviation:  0.03017194397545538\n",
            "f-measure standard variance:  0.0009103462032580181\n"
          ]
        }
      ]
    },
    {
      "cell_type": "code",
      "metadata": {
        "colab": {
          "base_uri": "https://localhost:8080/"
        },
        "id": "JhVg5kdEyq0b",
        "outputId": "faad07b3-663d-403b-dbb2-a03ca167d7a3"
      },
      "source": [
        "execute_cross_validation(gbc, Xreputation)"
      ],
      "execution_count": null,
      "outputs": [
        {
          "output_type": "stream",
          "name": "stdout",
          "text": [
            "elapsed time:  0:00:12.090966\n",
            "Mean results\n",
            "Precision:  62.0  recall:  57.99999999999999  f-measure:  59.0\n",
            "Mean results\n",
            "Precision:  0.6187697706309749  recall:  0.5750283644855554  f-measure:  0.5901288031623786\n",
            "Precision max:  0.6870748299319728\n",
            "Precision min:  0.55625\n",
            "recall max:  0.6075949367088608\n",
            "recall min:  0.5419354838709678\n",
            "f-measure max:  0.6289308176100629\n",
            "f-measure min:  0.5381818181818183\n",
            "f-measure standard deviation:  0.031690654336941834\n",
            "f-measure standard variance:  0.0010042975723035304\n"
          ]
        }
      ]
    },
    {
      "cell_type": "code",
      "metadata": {
        "colab": {
          "base_uri": "https://localhost:8080/"
        },
        "id": "sG-YzQnOyq0c",
        "outputId": "547e4572-6745-426b-faec-5a26d1e5ce45"
      },
      "source": [
        "execute_cross_validation(gbc, Xreporter_rating)"
      ],
      "execution_count": null,
      "outputs": [
        {
          "output_type": "stream",
          "name": "stdout",
          "text": [
            "elapsed time:  0:00:09.964320\n",
            "Mean results\n",
            "Precision:  65.0  recall:  56.00000000000001  f-measure:  59.0\n",
            "Mean results\n",
            "Precision:  0.6517896361119826  recall:  0.5618827601245584  f-measure:  0.5944695720379193\n",
            "Precision max:  0.704\n",
            "Precision min:  0.6031746031746031\n",
            "recall max:  0.6111111111111112\n",
            "recall min:  0.4859154929577465\n",
            "f-measure max:  0.6418918918918919\n",
            "f-measure min:  0.5223880597014925\n",
            "f-measure standard deviation:  0.03152584827106403\n",
            "f-measure standard variance:  0.0009938791092101507\n"
          ]
        }
      ]
    },
    {
      "cell_type": "code",
      "metadata": {
        "colab": {
          "base_uri": "https://localhost:8080/"
        },
        "id": "iIS3TbGRyq0c",
        "outputId": "42a4c970-ca93-40ab-d7da-7489122c3b2e"
      },
      "source": [
        "execute_cross_validation(gbc, Xdeveloper_rating)"
      ],
      "execution_count": null,
      "outputs": [
        {
          "output_type": "stream",
          "name": "stdout",
          "text": [
            "elapsed time:  0:00:10.068241\n",
            "Mean results\n",
            "Precision:  64.0  recall:  60.0  f-measure:  62.0\n",
            "Mean results\n",
            "Precision:  0.6402118779446846  recall:  0.5971265393995886  f-measure:  0.6163520255865709\n",
            "Precision max:  0.7152777777777778\n",
            "Precision min:  0.5112781954887218\n",
            "recall max:  0.6490066225165563\n",
            "recall min:  0.554140127388535\n",
            "f-measure max:  0.6666666666666666\n",
            "f-measure min:  0.5771812080536913\n",
            "f-measure standard deviation:  0.02769649838638903\n",
            "f-measure standard variance:  0.0007670960228672501\n"
          ]
        }
      ]
    },
    {
      "cell_type": "code",
      "metadata": {
        "colab": {
          "base_uri": "https://localhost:8080/"
        },
        "id": "5TAq1aAcyq0d",
        "outputId": "3799215f-aa64-423b-8b2c-46782bac9667"
      },
      "source": [
        "execute_cross_validation(gbc, Xrating)"
      ],
      "execution_count": null,
      "outputs": [
        {
          "output_type": "stream",
          "name": "stdout",
          "text": [
            "elapsed time:  0:00:10.785249\n",
            "Mean results\n",
            "Precision:  65.0  recall:  61.0  f-measure:  62.0\n",
            "Mean results\n",
            "Precision:  0.6495653120778172  recall:  0.6084715069879244  f-measure:  0.6248268102146324\n",
            "Precision max:  0.7384615384615385\n",
            "Precision min:  0.6125\n",
            "recall max:  0.6875\n",
            "recall min:  0.506578947368421\n",
            "f-measure max:  0.6840390879478827\n",
            "f-measure min:  0.5890909090909091\n",
            "f-measure standard deviation:  0.027713216475117562\n",
            "f-measure standard variance:  0.0007680223673967276\n"
          ]
        }
      ]
    },
    {
      "cell_type": "code",
      "metadata": {
        "colab": {
          "base_uri": "https://localhost:8080/"
        },
        "id": "kf39sAUWyq0e",
        "outputId": "23b0cf26-d857-46d4-d769-c32582fd2cfa"
      },
      "source": [
        "execute_cross_validation(gbc, XratingAvg)"
      ],
      "execution_count": null,
      "outputs": [
        {
          "output_type": "stream",
          "name": "stdout",
          "text": [
            "elapsed time:  0:00:13.417465\n",
            "Mean results\n",
            "Precision:  62.0  recall:  56.00000000000001  f-measure:  57.99999999999999\n",
            "Mean results\n",
            "Precision:  0.6225515065381866  recall:  0.5581405600720423  f-measure:  0.5813522751263502\n",
            "Precision max:  0.6935483870967742\n",
            "Precision min:  0.54375\n",
            "recall max:  0.6197183098591549\n",
            "recall min:  0.44047619047619047\n",
            "f-measure max:  0.6112956810631229\n",
            "f-measure min:  0.508833922261484\n",
            "f-measure standard deviation:  0.029517613081016063\n",
            "f-measure standard variance:  0.0008712894820005707\n"
          ]
        }
      ]
    },
    {
      "cell_type": "code",
      "metadata": {
        "colab": {
          "base_uri": "https://localhost:8080/"
        },
        "id": "dF7G7VdRyq0e",
        "outputId": "56d52414-7a87-4e7a-c164-be8d59a54d52"
      },
      "source": [
        "execute_cross_validation(gbc, Xtogether)"
      ],
      "execution_count": null,
      "outputs": [
        {
          "output_type": "stream",
          "name": "stdout",
          "text": [
            "elapsed time:  0:00:13.592705\n",
            "Mean results\n",
            "Precision:  65.0  recall:  61.0  f-measure:  62.0\n",
            "Mean results\n",
            "Precision:  0.6481205590897872  recall:  0.6104048067896696  f-measure:  0.6239622355204807\n",
            "Precision max:  0.68125\n",
            "Precision min:  0.5972222222222222\n",
            "recall max:  0.6818181818181818\n",
            "recall min:  0.5030674846625767\n",
            "f-measure max:  0.6666666666666666\n",
            "f-measure min:  0.5870307167235495\n",
            "f-measure standard deviation:  0.022830768054817985\n",
            "f-measure standard variance:  0.0005212439699728974\n"
          ]
        }
      ]
    },
    {
      "cell_type": "code",
      "metadata": {
        "colab": {
          "base_uri": "https://localhost:8080/"
        },
        "id": "tGskS82Xyq0f",
        "outputId": "89875c82-1ca7-41c1-8559-83f2b58fdd6e"
      },
      "source": [
        "execute_cross_validation(gbc, X_text)"
      ],
      "execution_count": null,
      "outputs": [
        {
          "output_type": "stream",
          "name": "stdout",
          "text": [
            "elapsed time:  0:05:06.443777\n",
            "Mean results\n",
            "Precision:  61.0  recall:  56.99999999999999  f-measure:  59.0\n",
            "Mean results\n",
            "Precision:  0.6103778058206963  recall:  0.5682169339145791  f-measure:  0.5862997763916491\n",
            "Precision max:  0.6739130434782609\n",
            "Precision min:  0.5192307692307693\n",
            "recall max:  0.6305732484076433\n",
            "recall min:  0.4934210526315789\n",
            "f-measure max:  0.6326530612244898\n",
            "f-measure min:  0.5016949152542373\n",
            "f-measure standard deviation:  0.040292141730535455\n",
            "f-measure standard variance:  0.0016234566852335566\n"
          ]
        }
      ]
    },
    {
      "cell_type": "code",
      "source": [
        "execute_cross_validation(gbc, X_text)"
      ],
      "metadata": {
        "colab": {
          "base_uri": "https://localhost:8080/"
        },
        "id": "O4YFjG0p5-B-",
        "outputId": "1622aaa7-20bf-421a-94c3-e1f0894144db"
      },
      "execution_count": null,
      "outputs": [
        {
          "output_type": "stream",
          "name": "stdout",
          "text": [
            "elapsed time:  0:12:40.713364\n",
            "Mean results\n",
            "Precision:  61.0  recall:  54.0  f-measure:  56.99999999999999\n",
            "Mean results\n",
            "Precision:  0.612582137902688  recall:  0.5361049804510318  f-measure:  0.5704180733542039\n",
            "Precision max:  0.6642857142857143\n",
            "Precision min:  0.5753424657534246\n",
            "recall max:  0.6209150326797386\n",
            "recall min:  0.44966442953020136\n",
            "f-measure max:  0.6148409893992933\n",
            "f-measure min:  0.5089605734767025\n",
            "f-measure standard deviation:  0.0352276528883986\n",
            "f-measure standard variance:  0.0012409875280254984\n"
          ]
        }
      ]
    },
    {
      "cell_type": "code",
      "metadata": {
        "colab": {
          "base_uri": "https://localhost:8080/"
        },
        "id": "R_ED2H7iyq0f",
        "outputId": "0a87bc21-5c3c-4fa6-c097-b2685e2a9946"
      },
      "source": [
        "execute_cross_validation(gbc, X_text_reputation)"
      ],
      "execution_count": null,
      "outputs": [
        {
          "output_type": "stream",
          "name": "stdout",
          "text": [
            "elapsed time:  0:03:56.490234\n",
            "Mean results\n",
            "Precision:  62.0  recall:  59.0  f-measure:  59.0\n",
            "Mean results\n",
            "Precision:  0.6165839019225547  recall:  0.592061339835694  f-measure:  0.5874374784997081\n",
            "Precision max:  0.6923076923076923\n",
            "Precision min:  0.5683453237410072\n",
            "recall max:  0.6643835616438356\n",
            "recall min:  0.5290322580645161\n",
            "f-measure max:  0.6254071661237786\n",
            "f-measure min:  0.5328719723183393\n",
            "f-measure standard deviation:  0.030020947945592263\n",
            "f-measure standard variance:  0.0009012573155519604\n"
          ]
        }
      ]
    },
    {
      "cell_type": "code",
      "metadata": {
        "colab": {
          "base_uri": "https://localhost:8080/"
        },
        "id": "58XbEIDWyq0g",
        "outputId": "50d33c16-335b-4b3d-959f-c39c83e9b03e"
      },
      "source": [
        "execute_cross_validation(gbc, X_text_rating)"
      ],
      "execution_count": null,
      "outputs": [
        {
          "output_type": "stream",
          "name": "stdout",
          "text": [
            "elapsed time:  0:03:55.852582\n",
            "Mean results\n",
            "Precision:  65.0  recall:  63.0  f-measure:  65.0\n",
            "Mean results\n",
            "Precision:  0.6549672351977579  recall:  0.6274950139289077  f-measure:  0.6459291787791497\n",
            "Precision max:  0.7163120567375887\n",
            "Precision min:  0.5714285714285714\n",
            "recall max:  0.6857142857142857\n",
            "recall min:  0.5405405405405406\n",
            "f-measure max:  0.6967741935483871\n",
            "f-measure min:  0.5771812080536912\n",
            "f-measure standard deviation:  0.03356026516263403\n",
            "f-measure standard variance:  0.0011262913977863076\n"
          ]
        }
      ]
    },
    {
      "cell_type": "markdown",
      "metadata": {
        "id": "0ecaScFByq0h"
      },
      "source": []
    },
    {
      "cell_type": "markdown",
      "metadata": {
        "id": "uZ3Wp7Tv7lUI"
      },
      "source": [
        "#Gradient Boosting"
      ]
    },
    {
      "cell_type": "code",
      "metadata": {
        "id": "UWda0ZAy7lUJ"
      },
      "source": [
        "from sklearn.ensemble import GradientBoostingClassifier"
      ],
      "execution_count": null,
      "outputs": []
    },
    {
      "cell_type": "code",
      "metadata": {
        "id": "zp28-SJN7lUK"
      },
      "source": [
        "gbc = GradientBoostingClassifier(n_estimators=100, random_state=0)"
      ],
      "execution_count": null,
      "outputs": []
    },
    {
      "cell_type": "code",
      "metadata": {
        "id": "4JoyvENi7lUK",
        "colab": {
          "base_uri": "https://localhost:8080/"
        },
        "outputId": "8666b23e-c6de-40bf-c5ff-9747cbafaf96"
      },
      "source": [
        "execute_cross_validation(gbc, Xnormal)"
      ],
      "execution_count": null,
      "outputs": [
        {
          "output_type": "stream",
          "name": "stdout",
          "text": [
            "elapsed time:  0:00:09.528304\n",
            "Mean results\n",
            "Precision:  61.0  recall:  56.00000000000001  f-measure:  59.0\n",
            "Mean results\n",
            "Precision:  0.6064666140824284  recall:  0.5587232762334174  f-measure:  0.5875948820660495\n",
            "Precision max:  0.6637931034482759\n",
            "Precision min:  0.5511811023622047\n",
            "recall max:  0.5947712418300654\n",
            "recall min:  0.5\n",
            "f-measure max:  0.6397306397306397\n",
            "f-measure min:  0.5421245421245421\n",
            "f-measure standard deviation:  0.027336698700239286\n",
            "f-measure standard variance:  0.0007472950958276642\n"
          ]
        }
      ]
    },
    {
      "cell_type": "code",
      "metadata": {
        "id": "PytiAypS7lUL",
        "colab": {
          "base_uri": "https://localhost:8080/"
        },
        "outputId": "bea552d1-c938-44c2-f42e-2f6442fc95a7"
      },
      "source": [
        "execute_cross_validation(gbc, Xreporter_reputation)"
      ],
      "execution_count": null,
      "outputs": [
        {
          "output_type": "stream",
          "name": "stdout",
          "text": [
            "elapsed time:  0:00:10.653930\n",
            "Mean results\n",
            "Precision:  61.0  recall:  56.99999999999999  f-measure:  59.0\n",
            "Mean results\n",
            "Precision:  0.6146156759029402  recall:  0.571735120609262  f-measure:  0.5895574715414857\n",
            "Precision max:  0.6879432624113475\n",
            "Precision min:  0.541095890410959\n",
            "recall max:  0.64375\n",
            "recall min:  0.4936708860759494\n",
            "f-measure max:  0.6346153846153846\n",
            "f-measure min:  0.5392491467576791\n",
            "f-measure standard deviation:  0.03066938608406308\n",
            "f-measure standard variance:  0.0009406112427733221\n"
          ]
        }
      ]
    },
    {
      "cell_type": "code",
      "metadata": {
        "id": "SqYhfmjR7lUL",
        "colab": {
          "base_uri": "https://localhost:8080/"
        },
        "outputId": "8a964acf-945c-4328-d654-77deedf2caa6"
      },
      "source": [
        "execute_cross_validation(gbc, Xdeveloper_reputation)"
      ],
      "execution_count": null,
      "outputs": [
        {
          "output_type": "stream",
          "name": "stdout",
          "text": [
            "elapsed time:  0:00:10.935447\n",
            "Mean results\n",
            "Precision:  62.0  recall:  56.99999999999999  f-measure:  57.99999999999999\n",
            "Mean results\n",
            "Precision:  0.6152383590026462  recall:  0.5652205352066445  f-measure:  0.5760542896934081\n",
            "Precision max:  0.7099236641221374\n",
            "Precision min:  0.5257142857142857\n",
            "recall max:  0.6643835616438356\n",
            "recall min:  0.4873417721518987\n",
            "f-measure max:  0.6269592476489028\n",
            "f-measure min:  0.5360824742268042\n",
            "f-measure standard deviation:  0.03011883293488137\n",
            "f-measure standard variance:  0.0009071440973592946\n"
          ]
        }
      ]
    },
    {
      "cell_type": "code",
      "metadata": {
        "id": "yQmOrn8c7lUM",
        "colab": {
          "base_uri": "https://localhost:8080/"
        },
        "outputId": "330cafb7-bbfd-4b31-a9f2-ea7b9646e6fd"
      },
      "source": [
        "execute_cross_validation(gbc, Xreputation)"
      ],
      "execution_count": null,
      "outputs": [
        {
          "output_type": "stream",
          "name": "stdout",
          "text": [
            "elapsed time:  0:00:12.053973\n",
            "Mean results\n",
            "Precision:  61.0  recall:  59.0  f-measure:  59.0\n",
            "Mean results\n",
            "Precision:  0.6119711125647648  recall:  0.5866856782193308  f-measure:  0.5883907172638414\n",
            "Precision max:  0.7101449275362319\n",
            "Precision min:  0.5337837837837838\n",
            "recall max:  0.6712328767123288\n",
            "recall min:  0.5256410256410257\n",
            "f-measure max:  0.6126760563380281\n",
            "f-measure min:  0.5392491467576791\n",
            "f-measure standard deviation:  0.023882531865502432\n",
            "f-measure standard variance:  0.000570375328306739\n"
          ]
        }
      ]
    },
    {
      "cell_type": "code",
      "metadata": {
        "id": "-3kzi-2P7lUM",
        "colab": {
          "base_uri": "https://localhost:8080/"
        },
        "outputId": "c3ac6c27-9b04-48fb-f2a5-0824918543ea"
      },
      "source": [
        "execute_cross_validation(gbc, Xreporter_rating)"
      ],
      "execution_count": null,
      "outputs": [
        {
          "output_type": "stream",
          "name": "stdout",
          "text": [
            "elapsed time:  0:00:09.947124\n",
            "Mean results\n",
            "Precision:  65.0  recall:  56.99999999999999  f-measure:  60.0\n",
            "Mean results\n",
            "Precision:  0.6502604897552056  recall:  0.5664390131598994  f-measure:  0.6010723849797361\n",
            "Precision max:  0.7109375\n",
            "Precision min:  0.6\n",
            "recall max:  0.6369426751592356\n",
            "recall min:  0.4965986394557823\n",
            "f-measure max:  0.6375838926174496\n",
            "f-measure min:  0.5642857142857144\n",
            "f-measure standard deviation:  0.019618421880464778\n",
            "f-measure standard variance:  0.00038488247707989915\n"
          ]
        }
      ]
    },
    {
      "cell_type": "code",
      "metadata": {
        "id": "oOyLc68y7lUM",
        "colab": {
          "base_uri": "https://localhost:8080/"
        },
        "outputId": "be6ee3b2-cd1c-4a2d-b9b9-8d994279c31d"
      },
      "source": [
        "execute_cross_validation(gbc, Xdeveloper_rating)"
      ],
      "execution_count": null,
      "outputs": [
        {
          "output_type": "stream",
          "name": "stdout",
          "text": [
            "elapsed time:  0:00:10.096922\n",
            "Mean results\n",
            "Precision:  65.0  recall:  60.0  f-measure:  62.0\n",
            "Mean results\n",
            "Precision:  0.6499421035568317  recall:  0.5980983979627222  f-measure:  0.6159451485283707\n",
            "Precision max:  0.6896551724137931\n",
            "Precision min:  0.5944055944055944\n",
            "recall max:  0.6688741721854304\n",
            "recall min:  0.5316455696202531\n",
            "f-measure max:  0.6690140845070423\n",
            "f-measure min:  0.5655172413793103\n",
            "f-measure standard deviation:  0.035641542436125336\n",
            "f-measure standard variance:  0.0012703195472261234\n"
          ]
        }
      ]
    },
    {
      "cell_type": "code",
      "metadata": {
        "id": "X2oQQeBl7lUN",
        "colab": {
          "base_uri": "https://localhost:8080/"
        },
        "outputId": "26836151-574a-46dd-f6b3-98b3396fc963"
      },
      "source": [
        "execute_cross_validation(gbc, Xrating)"
      ],
      "execution_count": null,
      "outputs": [
        {
          "output_type": "stream",
          "name": "stdout",
          "text": [
            "elapsed time:  0:00:10.640964\n",
            "Mean results\n",
            "Precision:  65.0  recall:  61.0  f-measure:  63.0\n",
            "Mean results\n",
            "Precision:  0.6478903226239181  recall:  0.6079416743222625  f-measure:  0.6270795739809792\n",
            "Precision max:  0.704225352112676\n",
            "Precision min:  0.60431654676259\n",
            "recall max:  0.6818181818181818\n",
            "recall min:  0.5751633986928104\n",
            "f-measure max:  0.6950819672131147\n",
            "f-measure min:  0.5704697986577181\n",
            "f-measure standard deviation:  0.03581990219855427\n",
            "f-measure standard variance:  0.0012830653935139932\n"
          ]
        }
      ]
    },
    {
      "cell_type": "code",
      "metadata": {
        "id": "bkhQzHga7lUO",
        "colab": {
          "base_uri": "https://localhost:8080/"
        },
        "outputId": "05ab394c-0954-4230-e692-255b406130ef"
      },
      "source": [
        "execute_cross_validation(gbc, XratingAvg)"
      ],
      "execution_count": null,
      "outputs": [
        {
          "output_type": "stream",
          "name": "stdout",
          "text": [
            "elapsed time:  0:00:13.446219\n",
            "Mean results\n",
            "Precision:  63.0  recall:  56.00000000000001  f-measure:  59.0\n",
            "Mean results\n",
            "Precision:  0.629515687874886  recall:  0.5573896856726369  f-measure:  0.5869090046538786\n",
            "Precision max:  0.7037037037037037\n",
            "Precision min:  0.5703703703703704\n",
            "recall max:  0.6688311688311688\n",
            "recall min:  0.5131578947368421\n",
            "f-measure max:  0.6428571428571429\n",
            "f-measure min:  0.5259515570934256\n",
            "f-measure standard deviation:  0.0315062999969534\n",
            "f-measure standard variance:  0.000992646939498026\n"
          ]
        }
      ]
    },
    {
      "cell_type": "code",
      "metadata": {
        "id": "4StpaS187lUO",
        "colab": {
          "base_uri": "https://localhost:8080/"
        },
        "outputId": "907c8ea2-c687-48fb-fab7-896f8f772583"
      },
      "source": [
        "execute_cross_validation(gbc, Xtogether)"
      ],
      "execution_count": null,
      "outputs": [
        {
          "output_type": "stream",
          "name": "stdout",
          "text": [
            "elapsed time:  0:00:14.217625\n",
            "Mean results\n",
            "Precision:  67.0  recall:  63.0  f-measure:  64.0\n",
            "Mean results\n",
            "Precision:  0.6718150373210398  recall:  0.631772823247222  f-measure:  0.6427371559854347\n",
            "Precision max:  0.7238805970149254\n",
            "Precision min:  0.5808823529411765\n",
            "recall max:  0.7006802721088435\n",
            "recall min:  0.5657894736842105\n",
            "f-measure max:  0.6913580246913581\n",
            "f-measure min:  0.6075085324232081\n",
            "f-measure standard deviation:  0.02612761985242128\n",
            "f-measure standard variance:  0.0006826525191526387\n"
          ]
        }
      ]
    },
    {
      "cell_type": "code",
      "metadata": {
        "id": "yOtlVrxt7lUP",
        "colab": {
          "base_uri": "https://localhost:8080/"
        },
        "outputId": "5e307304-d500-45a6-a2b5-d7788b1d539e"
      },
      "source": [
        "execute_cross_validation(gbc, X_text)"
      ],
      "execution_count": null,
      "outputs": [
        {
          "output_type": "stream",
          "name": "stdout",
          "text": [
            "elapsed time:  0:04:45.826167\n",
            "Mean results\n",
            "Precision:  60.0  recall:  56.00000000000001  f-measure:  59.0\n",
            "Mean results\n",
            "Precision:  0.6049625453783993  recall:  0.5591137724422327  f-measure:  0.5881487232792668\n",
            "Precision max:  0.644927536231884\n",
            "Precision min:  0.5548387096774193\n",
            "recall max:  0.6349206349206349\n",
            "recall min:  0.4965986394557823\n",
            "f-measure max:  0.6366559485530547\n",
            "f-measure min:  0.543554006968641\n",
            "f-measure standard deviation:  0.030564774230609333\n",
            "f-measure standard variance:  0.0009342054237681203\n"
          ]
        }
      ]
    },
    {
      "cell_type": "code",
      "metadata": {
        "colab": {
          "base_uri": "https://localhost:8080/"
        },
        "id": "1NQ3sFhf7lUP",
        "outputId": "bc6a6b53-f8ad-4f72-ec38-ec1c0e2f6fb0"
      },
      "source": [
        "execute_cross_validation(gbc, X_text_reputation)"
      ],
      "execution_count": null,
      "outputs": [
        {
          "output_type": "stream",
          "name": "stdout",
          "text": [
            "elapsed time:  0:03:55.970425\n",
            "Mean results\n",
            "Precision:  62.0  recall:  60.0  f-measure:  61.0\n",
            "Mean results\n",
            "Precision:  0.6167926055145571  recall:  0.6016731200340811  f-measure:  0.6097887861941206\n",
            "Precision max:  0.6846153846153846\n",
            "Precision min:  0.541095890410959\n",
            "recall max:  0.6783216783216783\n",
            "recall min:  0.5576923076923077\n",
            "f-measure max:  0.6779661016949152\n",
            "f-measure min:  0.5633802816901409\n",
            "f-measure standard deviation:  0.031987662880163574\n",
            "f-measure standard variance:  0.0010232105765349948\n"
          ]
        }
      ]
    },
    {
      "cell_type": "code",
      "metadata": {
        "id": "6xdAVxG_7lUQ",
        "colab": {
          "base_uri": "https://localhost:8080/"
        },
        "outputId": "51388aea-8d1f-43d5-bd74-600a7ae66ba0"
      },
      "source": [
        "execute_cross_validation(gbc, X_text_rating)"
      ],
      "execution_count": null,
      "outputs": [
        {
          "output_type": "stream",
          "name": "stdout",
          "text": [
            "elapsed time:  0:03:55.008235\n",
            "Mean results\n",
            "Precision:  65.0  recall:  63.0  f-measure:  65.0\n",
            "Mean results\n",
            "Precision:  0.6494423815785375  recall:  0.6291692239028464  f-measure:  0.6476261222666692\n",
            "Precision max:  0.697841726618705\n",
            "Precision min:  0.5897435897435898\n",
            "recall max:  0.6805555555555556\n",
            "recall min:  0.5547945205479452\n",
            "f-measure max:  0.6964856230031949\n",
            "f-measure min:  0.575438596491228\n",
            "f-measure standard deviation:  0.037206807092794884\n",
            "f-measure standard variance:  0.0013843464940404518\n"
          ]
        }
      ]
    }
  ]
}